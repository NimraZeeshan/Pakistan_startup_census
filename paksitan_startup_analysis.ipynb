{
 "cells": [
  {
   "cell_type": "code",
   "execution_count": 531,
   "metadata": {},
   "outputs": [],
   "source": [
    "import pandas as pd\n",
    "import numpy as np\n",
    "import re\n",
    "\n"
   ]
  },
  {
   "cell_type": "code",
   "execution_count": 532,
   "metadata": {},
   "outputs": [
    {
     "data": {
      "text/html": [
       "<div>\n",
       "<style scoped>\n",
       "    .dataframe tbody tr th:only-of-type {\n",
       "        vertical-align: middle;\n",
       "    }\n",
       "\n",
       "    .dataframe tbody tr th {\n",
       "        vertical-align: top;\n",
       "    }\n",
       "\n",
       "    .dataframe thead th {\n",
       "        text-align: right;\n",
       "    }\n",
       "</style>\n",
       "<table border=\"1\" class=\"dataframe\">\n",
       "  <thead>\n",
       "    <tr style=\"text-align: right;\">\n",
       "      <th></th>\n",
       "      <th>Name</th>\n",
       "      <th>Location</th>\n",
       "      <th>Tagline</th>\n",
       "      <th>Category</th>\n",
       "      <th>Website</th>\n",
       "      <th>Founded</th>\n",
       "      <th>Description</th>\n",
       "    </tr>\n",
       "  </thead>\n",
       "  <tbody>\n",
       "    <tr>\n",
       "      <th>0</th>\n",
       "      <td>Outnet</td>\n",
       "      <td>Karachi  Pakistan</td>\n",
       "      <td>Cloud based SaaS platform for planning  procur...</td>\n",
       "      <td>Advertising  OOH  Outdoor Advertising  Data an...</td>\n",
       "      <td>http://www.outnet.com.pk</td>\n",
       "      <td>1st September  2014</td>\n",
       "      <td>24Grey is a T4M (technology for marketing) com...</td>\n",
       "    </tr>\n",
       "    <tr>\n",
       "      <th>1</th>\n",
       "      <td>7Vals</td>\n",
       "      <td>Lahore  Pakistan</td>\n",
       "      <td>Understanding and enabling businesses to impro...</td>\n",
       "      <td>Consulting  Rails  Product Development  UI</td>\n",
       "      <td>http://www.7vals.com</td>\n",
       "      <td>2011</td>\n",
       "      <td>We're changing the way businesses work by maki...</td>\n",
       "    </tr>\n",
       "    <tr>\n",
       "      <th>2</th>\n",
       "      <td>92Solution</td>\n",
       "      <td>Lahore  Pakistan</td>\n",
       "      <td>92 Solution  A Pakistani Company Giving his Pa...</td>\n",
       "      <td>Consulting  Website &amp; Software Development</td>\n",
       "      <td>http://92solution.com</td>\n",
       "      <td>7th January  2015</td>\n",
       "      <td>92 Solution is a Software &amp; Website Developmen...</td>\n",
       "    </tr>\n",
       "    <tr>\n",
       "      <th>3</th>\n",
       "      <td>A2Z Yellow Pages &amp; Info Services</td>\n",
       "      <td>Lahore</td>\n",
       "      <td>Find local Businesses and Services in Pakistan...</td>\n",
       "      <td>Online Business Directory &amp; Portal</td>\n",
       "      <td>https://www.yp-pak.com</td>\n",
       "      <td>30th January  2017</td>\n",
       "      <td>A2Z| Yellow Pages Pakistan will be the innovat...</td>\n",
       "    </tr>\n",
       "    <tr>\n",
       "      <th>4</th>\n",
       "      <td>AALogics</td>\n",
       "      <td>Karachi  Pakistan</td>\n",
       "      <td>NaN</td>\n",
       "      <td>Consulting  Software</td>\n",
       "      <td>http://www.aalogics.com</td>\n",
       "      <td>1st August  2014</td>\n",
       "      <td>IT Consulting  Web development &amp; Designing  Lo...</td>\n",
       "    </tr>\n",
       "    <tr>\n",
       "      <th>...</th>\n",
       "      <td>...</td>\n",
       "      <td>...</td>\n",
       "      <td>...</td>\n",
       "      <td>...</td>\n",
       "      <td>...</td>\n",
       "      <td>...</td>\n",
       "      <td>...</td>\n",
       "    </tr>\n",
       "    <tr>\n",
       "      <th>428</th>\n",
       "      <td>Yum to Yikes</td>\n",
       "      <td>Islamabad  Pakistan</td>\n",
       "      <td>Yum to Yikes aims to inform  entertain and gui...</td>\n",
       "      <td>Media/News</td>\n",
       "      <td>http://yumtoyikes.com</td>\n",
       "      <td>1st May  2015</td>\n",
       "      <td>We are a bunch of enthusiastically-creative fo...</td>\n",
       "    </tr>\n",
       "    <tr>\n",
       "      <th>429</th>\n",
       "      <td>Zambeel</td>\n",
       "      <td>Multan  Pakistan</td>\n",
       "      <td>Online Shopping for Quality Products at lowest...</td>\n",
       "      <td>E-commerce</td>\n",
       "      <td>https://www.zambeel.com</td>\n",
       "      <td>2015</td>\n",
       "      <td>Online Shopping for Quality Products at lowest...</td>\n",
       "    </tr>\n",
       "    <tr>\n",
       "      <th>430</th>\n",
       "      <td>Zameen</td>\n",
       "      <td>Lahore  Pakistan</td>\n",
       "      <td>Zameen.com has single-handedly revolutionized ...</td>\n",
       "      <td>Property Portal</td>\n",
       "      <td>http://www.zameen.com/</td>\n",
       "      <td>2006</td>\n",
       "      <td>NaN</td>\n",
       "    </tr>\n",
       "    <tr>\n",
       "      <th>431</th>\n",
       "      <td>Zest</td>\n",
       "      <td>Islamabad  Pakistan</td>\n",
       "      <td>Zest is the Pakistan's first on-demand massage...</td>\n",
       "      <td>Health</td>\n",
       "      <td>NaN</td>\n",
       "      <td>10th December  2016</td>\n",
       "      <td>Zest is the Massage On Demand company. Availab...</td>\n",
       "    </tr>\n",
       "    <tr>\n",
       "      <th>432</th>\n",
       "      <td>Zindagi - Find a Doctor</td>\n",
       "      <td>Lahore  Pakistan</td>\n",
       "      <td>A fast  simple and secure way to connect docto...</td>\n",
       "      <td>Healthcare</td>\n",
       "      <td>https://www.myzindagi.pk/</td>\n",
       "      <td>12th January  2016</td>\n",
       "      <td>Zindagi is a free service that helps patients ...</td>\n",
       "    </tr>\n",
       "  </tbody>\n",
       "</table>\n",
       "<p>433 rows × 7 columns</p>\n",
       "</div>"
      ],
      "text/plain": [
       "                                 Name             Location  \\\n",
       "0                              Outnet    Karachi  Pakistan   \n",
       "1                              7Vals      Lahore  Pakistan   \n",
       "2                          92Solution     Lahore  Pakistan   \n",
       "3    A2Z Yellow Pages & Info Services               Lahore   \n",
       "4                            AALogics    Karachi  Pakistan   \n",
       "..                                ...                  ...   \n",
       "428                      Yum to Yikes  Islamabad  Pakistan   \n",
       "429                           Zambeel     Multan  Pakistan   \n",
       "430                            Zameen     Lahore  Pakistan   \n",
       "431                              Zest  Islamabad  Pakistan   \n",
       "432           Zindagi - Find a Doctor     Lahore  Pakistan   \n",
       "\n",
       "                                               Tagline  \\\n",
       "0    Cloud based SaaS platform for planning  procur...   \n",
       "1    Understanding and enabling businesses to impro...   \n",
       "2    92 Solution  A Pakistani Company Giving his Pa...   \n",
       "3    Find local Businesses and Services in Pakistan...   \n",
       "4                                                  NaN   \n",
       "..                                                 ...   \n",
       "428  Yum to Yikes aims to inform  entertain and gui...   \n",
       "429  Online Shopping for Quality Products at lowest...   \n",
       "430  Zameen.com has single-handedly revolutionized ...   \n",
       "431  Zest is the Pakistan's first on-demand massage...   \n",
       "432  A fast  simple and secure way to connect docto...   \n",
       "\n",
       "                                              Category  \\\n",
       "0    Advertising  OOH  Outdoor Advertising  Data an...   \n",
       "1           Consulting  Rails  Product Development  UI   \n",
       "2           Consulting  Website & Software Development   \n",
       "3                   Online Business Directory & Portal   \n",
       "4                                 Consulting  Software   \n",
       "..                                                 ...   \n",
       "428                                         Media/News   \n",
       "429                                        E-commerce    \n",
       "430                                    Property Portal   \n",
       "431                                             Health   \n",
       "432                                         Healthcare   \n",
       "\n",
       "                       Website               Founded  \\\n",
       "0     http://www.outnet.com.pk  1st September  2014    \n",
       "1         http://www.7vals.com                  2011   \n",
       "2        http://92solution.com    7th January  2015    \n",
       "3       https://www.yp-pak.com   30th January  2017    \n",
       "4      http://www.aalogics.com     1st August  2014    \n",
       "..                         ...                   ...   \n",
       "428      http://yumtoyikes.com        1st May  2015    \n",
       "429    https://www.zambeel.com                  2015   \n",
       "430     http://www.zameen.com/                  2006   \n",
       "431                        NaN  10th December  2016    \n",
       "432  https://www.myzindagi.pk/   12th January  2016    \n",
       "\n",
       "                                           Description  \n",
       "0    24Grey is a T4M (technology for marketing) com...  \n",
       "1    We're changing the way businesses work by maki...  \n",
       "2    92 Solution is a Software & Website Developmen...  \n",
       "3    A2Z| Yellow Pages Pakistan will be the innovat...  \n",
       "4    IT Consulting  Web development & Designing  Lo...  \n",
       "..                                                 ...  \n",
       "428  We are a bunch of enthusiastically-creative fo...  \n",
       "429  Online Shopping for Quality Products at lowest...  \n",
       "430                                                NaN  \n",
       "431  Zest is the Massage On Demand company. Availab...  \n",
       "432  Zindagi is a free service that helps patients ...  \n",
       "\n",
       "[433 rows x 7 columns]"
      ]
     },
     "execution_count": 532,
     "metadata": {},
     "output_type": "execute_result"
    }
   ],
   "source": [
    "df = pd.read_csv(\"Pakistan Startup Census.csv\")\n",
    "df"
   ]
  },
  {
   "cell_type": "code",
   "execution_count": 533,
   "metadata": {},
   "outputs": [
    {
     "data": {
      "text/plain": [
       "(433, 7)"
      ]
     },
     "execution_count": 533,
     "metadata": {},
     "output_type": "execute_result"
    }
   ],
   "source": [
    "df.shape"
   ]
  },
  {
   "cell_type": "code",
   "execution_count": 534,
   "metadata": {},
   "outputs": [
    {
     "data": {
      "text/plain": [
       "Index(['Name', 'Location', 'Tagline', 'Category', 'Website', 'Founded',\n",
       "       'Description'],\n",
       "      dtype='object')"
      ]
     },
     "execution_count": 534,
     "metadata": {},
     "output_type": "execute_result"
    }
   ],
   "source": [
    "df.columns"
   ]
  },
  {
   "cell_type": "code",
   "execution_count": 535,
   "metadata": {},
   "outputs": [
    {
     "data": {
      "text/plain": [
       "Name            0\n",
       "Location        0\n",
       "Tagline         2\n",
       "Category        0\n",
       "Website        15\n",
       "Founded         0\n",
       "Description    43\n",
       "dtype: int64"
      ]
     },
     "execution_count": 535,
     "metadata": {},
     "output_type": "execute_result"
    }
   ],
   "source": [
    "df.isnull().sum()"
   ]
  },
  {
   "cell_type": "code",
   "execution_count": 536,
   "metadata": {},
   "outputs": [
    {
     "data": {
      "text/plain": [
       "0      False\n",
       "1      False\n",
       "2      False\n",
       "3      False\n",
       "4      False\n",
       "       ...  \n",
       "428    False\n",
       "429    False\n",
       "430    False\n",
       "431    False\n",
       "432    False\n",
       "Length: 433, dtype: bool"
      ]
     },
     "execution_count": 536,
     "metadata": {},
     "output_type": "execute_result"
    }
   ],
   "source": [
    "df.duplicated()\n"
   ]
  },
  {
   "cell_type": "code",
   "execution_count": 537,
   "metadata": {},
   "outputs": [
    {
     "data": {
      "text/html": [
       "<div>\n",
       "<style scoped>\n",
       "    .dataframe tbody tr th:only-of-type {\n",
       "        vertical-align: middle;\n",
       "    }\n",
       "\n",
       "    .dataframe tbody tr th {\n",
       "        vertical-align: top;\n",
       "    }\n",
       "\n",
       "    .dataframe thead th {\n",
       "        text-align: right;\n",
       "    }\n",
       "</style>\n",
       "<table border=\"1\" class=\"dataframe\">\n",
       "  <thead>\n",
       "    <tr style=\"text-align: right;\">\n",
       "      <th></th>\n",
       "      <th>Name</th>\n",
       "      <th>Location</th>\n",
       "      <th>Tagline</th>\n",
       "      <th>Category</th>\n",
       "      <th>Website</th>\n",
       "      <th>Founded</th>\n",
       "      <th>Description</th>\n",
       "    </tr>\n",
       "  </thead>\n",
       "  <tbody>\n",
       "    <tr>\n",
       "      <th>142</th>\n",
       "      <td>Goodshop.pk</td>\n",
       "      <td>Lahore  Pakistan</td>\n",
       "      <td>Goodshop.pk offers Online Shopping in Pakistan...</td>\n",
       "      <td>E-Commerce</td>\n",
       "      <td>https://www.goodshop.pk</td>\n",
       "      <td>1st September  2015</td>\n",
       "      <td>Goodshop.pk offers Online Shopping in Pakistan...</td>\n",
       "    </tr>\n",
       "    <tr>\n",
       "      <th>143</th>\n",
       "      <td>Goodshop.pk</td>\n",
       "      <td>Lahore  Pakistan</td>\n",
       "      <td>Goodshop.pk offers Online Shopping in Pakistan...</td>\n",
       "      <td>E-Commerce</td>\n",
       "      <td>http://www.goodshop.pk</td>\n",
       "      <td>14th August  2016</td>\n",
       "      <td>Goodshop.pk offers Online Shopping in Pakistan...</td>\n",
       "    </tr>\n",
       "  </tbody>\n",
       "</table>\n",
       "</div>"
      ],
      "text/plain": [
       "            Name          Location  \\\n",
       "142  Goodshop.pk  Lahore  Pakistan   \n",
       "143  Goodshop.pk  Lahore  Pakistan   \n",
       "\n",
       "                                               Tagline    Category  \\\n",
       "142  Goodshop.pk offers Online Shopping in Pakistan...  E-Commerce   \n",
       "143  Goodshop.pk offers Online Shopping in Pakistan...  E-Commerce   \n",
       "\n",
       "                     Website               Founded  \\\n",
       "142  https://www.goodshop.pk  1st September  2015    \n",
       "143   http://www.goodshop.pk    14th August  2016    \n",
       "\n",
       "                                           Description  \n",
       "142  Goodshop.pk offers Online Shopping in Pakistan...  \n",
       "143  Goodshop.pk offers Online Shopping in Pakistan...  "
      ]
     },
     "execution_count": 537,
     "metadata": {},
     "output_type": "execute_result"
    }
   ],
   "source": [
    "duplicates_in_column = df[df.duplicated(subset=['Name'], keep=False)]\n",
    "duplicates_in_column"
   ]
  },
  {
   "cell_type": "code",
   "execution_count": 538,
   "metadata": {},
   "outputs": [],
   "source": [
    "# Drop duplicate rows based on the 'Name' column\n",
    "df_cleaned = df.drop_duplicates(subset=['Name'], keep='last')\n",
    " #I am keeping the latest entry that is the last one to consider the correct one"
   ]
  },
  {
   "cell_type": "code",
   "execution_count": 539,
   "metadata": {},
   "outputs": [
    {
     "data": {
      "text/html": [
       "<div>\n",
       "<style scoped>\n",
       "    .dataframe tbody tr th:only-of-type {\n",
       "        vertical-align: middle;\n",
       "    }\n",
       "\n",
       "    .dataframe tbody tr th {\n",
       "        vertical-align: top;\n",
       "    }\n",
       "\n",
       "    .dataframe thead th {\n",
       "        text-align: right;\n",
       "    }\n",
       "</style>\n",
       "<table border=\"1\" class=\"dataframe\">\n",
       "  <thead>\n",
       "    <tr style=\"text-align: right;\">\n",
       "      <th></th>\n",
       "      <th>Name</th>\n",
       "      <th>Location</th>\n",
       "      <th>Tagline</th>\n",
       "      <th>Category</th>\n",
       "      <th>Website</th>\n",
       "      <th>Founded</th>\n",
       "      <th>Description</th>\n",
       "    </tr>\n",
       "  </thead>\n",
       "  <tbody>\n",
       "  </tbody>\n",
       "</table>\n",
       "</div>"
      ],
      "text/plain": [
       "Empty DataFrame\n",
       "Columns: [Name, Location, Tagline, Category, Website, Founded, Description]\n",
       "Index: []"
      ]
     },
     "execution_count": 539,
     "metadata": {},
     "output_type": "execute_result"
    }
   ],
   "source": [
    "duplicates_in_column = df_cleaned[df_cleaned.duplicated(subset=['Name'], keep=False)]\n",
    "duplicates_in_column"
   ]
  },
  {
   "cell_type": "code",
   "execution_count": 540,
   "metadata": {},
   "outputs": [
    {
     "data": {
      "text/plain": [
       "(432, 7)"
      ]
     },
     "execution_count": 540,
     "metadata": {},
     "output_type": "execute_result"
    }
   ],
   "source": [
    "df_cleaned.shape"
   ]
  },
  {
   "cell_type": "code",
   "execution_count": 541,
   "metadata": {},
   "outputs": [
    {
     "data": {
      "text/plain": [
       "Name           object\n",
       "Location       object\n",
       "Tagline        object\n",
       "Category       object\n",
       "Website        object\n",
       "Founded        object\n",
       "Description    object\n",
       "dtype: object"
      ]
     },
     "execution_count": 541,
     "metadata": {},
     "output_type": "execute_result"
    }
   ],
   "source": [
    "df_cleaned.dtypes"
   ]
  },
  {
   "cell_type": "code",
   "execution_count": 542,
   "metadata": {},
   "outputs": [
    {
     "data": {
      "text/html": [
       "<div>\n",
       "<style scoped>\n",
       "    .dataframe tbody tr th:only-of-type {\n",
       "        vertical-align: middle;\n",
       "    }\n",
       "\n",
       "    .dataframe tbody tr th {\n",
       "        vertical-align: top;\n",
       "    }\n",
       "\n",
       "    .dataframe thead th {\n",
       "        text-align: right;\n",
       "    }\n",
       "</style>\n",
       "<table border=\"1\" class=\"dataframe\">\n",
       "  <thead>\n",
       "    <tr style=\"text-align: right;\">\n",
       "      <th></th>\n",
       "      <th>Name</th>\n",
       "      <th>Location</th>\n",
       "      <th>Tagline</th>\n",
       "      <th>Category</th>\n",
       "      <th>Website</th>\n",
       "      <th>Founded</th>\n",
       "      <th>Description</th>\n",
       "    </tr>\n",
       "  </thead>\n",
       "  <tbody>\n",
       "    <tr>\n",
       "      <th>16</th>\n",
       "      <td>Assemblage</td>\n",
       "      <td>214  Block B  13D/2 Gulshan e Iqbal Karachi  P...</td>\n",
       "      <td>Assemblage is an online Parenting Community an...</td>\n",
       "      <td>e-Magazine  Website</td>\n",
       "      <td>www.assemblagekids.com</td>\n",
       "      <td>16th June  2016</td>\n",
       "      <td>Welcome to Assemblage Community Assemblage is ...</td>\n",
       "    </tr>\n",
       "    <tr>\n",
       "      <th>81</th>\n",
       "      <td>Credvestor</td>\n",
       "      <td>3rd Floor Citiview Naheed Supermarket Building...</td>\n",
       "      <td>An innovative peer-to-peer lending bazaar for ...</td>\n",
       "      <td>Software  Finance</td>\n",
       "      <td>http://www.credvestor.com/</td>\n",
       "      <td>1st August  2016</td>\n",
       "      <td>Credvestor is an innovative peer-to-peer lendi...</td>\n",
       "    </tr>\n",
       "    <tr>\n",
       "      <th>187</th>\n",
       "      <td>Kaanjo</td>\n",
       "      <td>Amsterdam</td>\n",
       "      <td>We help our clients give a voice to the silent...</td>\n",
       "      <td>Software</td>\n",
       "      <td>http:// kaanjo.co</td>\n",
       "      <td>16th September  2016</td>\n",
       "      <td>Because we believe all consumers should easily...</td>\n",
       "    </tr>\n",
       "    <tr>\n",
       "      <th>149</th>\n",
       "      <td>HAT incorporation</td>\n",
       "      <td>Block I North Nazimabad Karachi  Pakistan</td>\n",
       "      <td>Hat inco is a software house and a computer in...</td>\n",
       "      <td>Software House  Services</td>\n",
       "      <td>http://www.hatinco.com</td>\n",
       "      <td>1st January  2000</td>\n",
       "      <td>Software House Computer Institute Web developm...</td>\n",
       "    </tr>\n",
       "    <tr>\n",
       "      <th>104</th>\n",
       "      <td>Edev Technologies</td>\n",
       "      <td>Canada</td>\n",
       "      <td>Build great requirements together</td>\n",
       "      <td>Software Product  Software Services  Software ...</td>\n",
       "      <td>http://www.edevtech.com</td>\n",
       "      <td>1999</td>\n",
       "      <td>A requirements lifecycle solutions company ded...</td>\n",
       "    </tr>\n",
       "  </tbody>\n",
       "</table>\n",
       "</div>"
      ],
      "text/plain": [
       "                  Name                                           Location  \\\n",
       "16         Assemblage   214  Block B  13D/2 Gulshan e Iqbal Karachi  P...   \n",
       "81          Credvestor  3rd Floor Citiview Naheed Supermarket Building...   \n",
       "187             Kaanjo                                          Amsterdam   \n",
       "149  HAT incorporation          Block I North Nazimabad Karachi  Pakistan   \n",
       "104  Edev Technologies                                             Canada   \n",
       "\n",
       "                                               Tagline  \\\n",
       "16   Assemblage is an online Parenting Community an...   \n",
       "81   An innovative peer-to-peer lending bazaar for ...   \n",
       "187  We help our clients give a voice to the silent...   \n",
       "149  Hat inco is a software house and a computer in...   \n",
       "104                  Build great requirements together   \n",
       "\n",
       "                                              Category  \\\n",
       "16                                e-Magazine  Website    \n",
       "81                                   Software  Finance   \n",
       "187                                           Software   \n",
       "149                           Software House  Services   \n",
       "104  Software Product  Software Services  Software ...   \n",
       "\n",
       "                        Website                Founded  \\\n",
       "16       www.assemblagekids.com       16th June  2016    \n",
       "81   http://www.credvestor.com/      1st August  2016    \n",
       "187           http:// kaanjo.co  16th September  2016    \n",
       "149      http://www.hatinco.com     1st January  2000    \n",
       "104     http://www.edevtech.com                   1999   \n",
       "\n",
       "                                           Description  \n",
       "16   Welcome to Assemblage Community Assemblage is ...  \n",
       "81   Credvestor is an innovative peer-to-peer lendi...  \n",
       "187  Because we believe all consumers should easily...  \n",
       "149  Software House Computer Institute Web developm...  \n",
       "104  A requirements lifecycle solutions company ded...  "
      ]
     },
     "execution_count": 542,
     "metadata": {},
     "output_type": "execute_result"
    }
   ],
   "source": [
    "df_sorted = df_cleaned.sort_values(by='Location')\n",
    "df_sorted.head(5)"
   ]
  },
  {
   "cell_type": "code",
   "execution_count": 543,
   "metadata": {},
   "outputs": [
    {
     "data": {
      "text/plain": [
       "array(['214  Block B  13D/2 Gulshan e Iqbal Karachi  Pakistan ',\n",
       "       '3rd Floor Citiview Naheed Supermarket Building Shaheed e Millat road Karachi  Pakistan',\n",
       "       'Amsterdam', 'Block I North Nazimabad Karachi  Pakistan', 'Canada',\n",
       "       'Dallas  Texas  United States', 'Dubai', 'Dubai  UAE',\n",
       "       'Dubai  UAE - 1015 Arfa Software Technology Park Lahore Pakistan',\n",
       "       'Faisalabad  Pakistan', 'Faisalabad Pakistan',\n",
       "       'Go Logistics  Ground Floor  Palace Cinema Building  Civil Lines  Karachi',\n",
       "       'Gujranwala  Pakistan', 'Gujrat  Pakistan', 'Gujrat Pakistan',\n",
       "       'Hyderabad  Pakistan',\n",
       "       'IBA Center for Entrepreneurial Development  Karachi  Pakistan',\n",
       "       'Islamabad', 'Islamabad  PAkistan', 'Islamabad  Pakistan',\n",
       "       'Johar Town  Lahore', 'Karachi', 'Karachi  Pakistan',\n",
       "       'Karachi  Pakistan ', 'Karachi  Pakistan.', 'Karachi Pakistan',\n",
       "       'Karachi Pakistan ', 'Karachi Â· Pakistan ', 'Lahore',\n",
       "       'Lahore   Pakistan', 'Lahore  Manchester', 'Lahore  Pakistan',\n",
       "       'Lahore  Pakistan ', 'Lahore  Punjab', 'Lahore  Punjab  Pakistan',\n",
       "       'Lahore Pakistan', 'London  England', 'Los Angeles',\n",
       "       'M-22  Al-Ameen Tower  Nipa Chowrangi  Karachi Pakistan.',\n",
       "       'Main Market Gulberg  Lahore  Pakistan', 'Multan  Pakistan',\n",
       "       'New York', 'Nowshera  Khyber Pakhtunkhwa',\n",
       "       'Nowshera  Khyber Pakhtunkhwa  Pakistan', 'Pakistan',\n",
       "       'Palo Alto  CA', 'Peshawar', 'Peshawar  Pakistan',\n",
       "       'Quetta  Pakistan', 'Raleigh  North Carolina',\n",
       "       'Rawalpindi  Pakistan', 'Rawalpindi/Islamabad',\n",
       "       'Roosevelt Avenue Sunnyvale  CA 94085 United States',\n",
       "       'San Francisco  California', 'Sargodha  Pakistan',\n",
       "       'Seoul  South Korea', 'Sialkot  Pakistan', 'TIC  NUST  Islamabad',\n",
       "       'Toronto  ON Canada', 'United States', 'Wah  Pakistan',\n",
       "       'Wah Cantt  Pakistan', 'White Plains  New York  USA',\n",
       "       'Z43/44 first floor darul aman society block 7/8 near hill park sharah e faisal Karachi  Pakistan',\n",
       "       'http://www.shoplhr.com', 'karachi', 'karachi  Pakistan'],\n",
       "      dtype=object)"
      ]
     },
     "execution_count": 543,
     "metadata": {},
     "output_type": "execute_result"
    }
   ],
   "source": [
    "df_sorted.Location.unique()"
   ]
  },
  {
   "cell_type": "markdown",
   "metadata": {},
   "source": [
    "By looking at the data we can see that We have t some Foreign regsitered startups also listed here, \n",
    "Lets seggerate our data first in Pakistan - regsitersd Startup and Foreign Registered Startups, so we are creating a country column in which we tagging our startups as Foreign and Pakistan"
   ]
  },
  {
   "cell_type": "code",
   "execution_count": 544,
   "metadata": {},
   "outputs": [],
   "source": [
    "# Function to extract the country name\n",
    "def extract_country(location):\n",
    "    if 'Pakistan' in location:\n",
    "        return 'Pakistan'\n",
    "    else:\n",
    "        return 'Foreign'\n",
    "\n",
    "\n",
    "# df_sorted['Country'] = df_sorted['Location'].apply(lambda x: 'Pakistan' if 'Pakistan' in x else 'Foreign')\n"
   ]
  },
  {
   "cell_type": "code",
   "execution_count": 545,
   "metadata": {},
   "outputs": [],
   "source": [
    "df_sorted['Country'] = df_sorted['Location'].apply(extract_country)\n",
    "# Separate Pakistan-based and Foreign-based startups\n",
    "pakistan_based = df_sorted[df_sorted['Country'] == 'Pakistan']\n",
    "foreign_based = df_sorted[df_sorted['Country'] == 'Foreign']\n"
   ]
  },
  {
   "cell_type": "code",
   "execution_count": 546,
   "metadata": {},
   "outputs": [
    {
     "data": {
      "text/html": [
       "<div>\n",
       "<style scoped>\n",
       "    .dataframe tbody tr th:only-of-type {\n",
       "        vertical-align: middle;\n",
       "    }\n",
       "\n",
       "    .dataframe tbody tr th {\n",
       "        vertical-align: top;\n",
       "    }\n",
       "\n",
       "    .dataframe thead th {\n",
       "        text-align: right;\n",
       "    }\n",
       "</style>\n",
       "<table border=\"1\" class=\"dataframe\">\n",
       "  <thead>\n",
       "    <tr style=\"text-align: right;\">\n",
       "      <th></th>\n",
       "      <th>Name</th>\n",
       "      <th>Location</th>\n",
       "      <th>Tagline</th>\n",
       "      <th>Category</th>\n",
       "      <th>Website</th>\n",
       "      <th>Founded</th>\n",
       "      <th>Description</th>\n",
       "      <th>Country</th>\n",
       "    </tr>\n",
       "  </thead>\n",
       "  <tbody>\n",
       "    <tr>\n",
       "      <th>16</th>\n",
       "      <td>Assemblage</td>\n",
       "      <td>214  Block B  13D/2 Gulshan e Iqbal Karachi  P...</td>\n",
       "      <td>Assemblage is an online Parenting Community an...</td>\n",
       "      <td>e-Magazine  Website</td>\n",
       "      <td>www.assemblagekids.com</td>\n",
       "      <td>16th June  2016</td>\n",
       "      <td>Welcome to Assemblage Community Assemblage is ...</td>\n",
       "      <td>Pakistan</td>\n",
       "    </tr>\n",
       "    <tr>\n",
       "      <th>81</th>\n",
       "      <td>Credvestor</td>\n",
       "      <td>3rd Floor Citiview Naheed Supermarket Building...</td>\n",
       "      <td>An innovative peer-to-peer lending bazaar for ...</td>\n",
       "      <td>Software  Finance</td>\n",
       "      <td>http://www.credvestor.com/</td>\n",
       "      <td>1st August  2016</td>\n",
       "      <td>Credvestor is an innovative peer-to-peer lendi...</td>\n",
       "      <td>Pakistan</td>\n",
       "    </tr>\n",
       "    <tr>\n",
       "      <th>149</th>\n",
       "      <td>HAT incorporation</td>\n",
       "      <td>Block I North Nazimabad Karachi  Pakistan</td>\n",
       "      <td>Hat inco is a software house and a computer in...</td>\n",
       "      <td>Software House  Services</td>\n",
       "      <td>http://www.hatinco.com</td>\n",
       "      <td>1st January  2000</td>\n",
       "      <td>Software House Computer Institute Web developm...</td>\n",
       "      <td>Pakistan</td>\n",
       "    </tr>\n",
       "    <tr>\n",
       "      <th>163</th>\n",
       "      <td>ILMASOFT</td>\n",
       "      <td>Dubai  UAE - 1015 Arfa Software Technology Par...</td>\n",
       "      <td>Educational and security products for schools ...</td>\n",
       "      <td>Software</td>\n",
       "      <td>http://www.ilmasoft.com</td>\n",
       "      <td>13th August  2010</td>\n",
       "      <td>We build applications for the vertical sectors...</td>\n",
       "      <td>Pakistan</td>\n",
       "    </tr>\n",
       "    <tr>\n",
       "      <th>47</th>\n",
       "      <td>BrandsEgo.Com</td>\n",
       "      <td>Faisalabad  Pakistan</td>\n",
       "      <td>Buy with confidence. We are Manufacturer and E...</td>\n",
       "      <td>E-Commerce</td>\n",
       "      <td>https://brandsego.com</td>\n",
       "      <td>1st September  2014</td>\n",
       "      <td>Buy with confidence. We are Manufacturer and E...</td>\n",
       "      <td>Pakistan</td>\n",
       "    </tr>\n",
       "    <tr>\n",
       "      <th>...</th>\n",
       "      <td>...</td>\n",
       "      <td>...</td>\n",
       "      <td>...</td>\n",
       "      <td>...</td>\n",
       "      <td>...</td>\n",
       "      <td>...</td>\n",
       "      <td>...</td>\n",
       "      <td>...</td>\n",
       "    </tr>\n",
       "    <tr>\n",
       "      <th>371</th>\n",
       "      <td>The Books Yard</td>\n",
       "      <td>Sialkot  Pakistan</td>\n",
       "      <td>The Books sell Books Online in Pakistan.</td>\n",
       "      <td>Education</td>\n",
       "      <td>https://www.facebook.com/thebooksyard</td>\n",
       "      <td>4th January  2018</td>\n",
       "      <td>This Company sell Books online.</td>\n",
       "      <td>Pakistan</td>\n",
       "    </tr>\n",
       "    <tr>\n",
       "      <th>201</th>\n",
       "      <td>Learn DAE</td>\n",
       "      <td>Wah  Pakistan</td>\n",
       "      <td>Learn DAE is a Non-Profit Technical Educationa...</td>\n",
       "      <td>Technical Education</td>\n",
       "      <td>www.learndae.org.pk</td>\n",
       "      <td>7th December  2016</td>\n",
       "      <td>Learn DAE is a Non-Profit and Non-Government T...</td>\n",
       "      <td>Pakistan</td>\n",
       "    </tr>\n",
       "    <tr>\n",
       "      <th>84</th>\n",
       "      <td>Daastan</td>\n",
       "      <td>Wah Cantt  Pakistan</td>\n",
       "      <td>Daastan is a for-profit company working for re...</td>\n",
       "      <td>Literature  Publishing  Marketplace</td>\n",
       "      <td>http://www.daastan.com</td>\n",
       "      <td>22nd December  2014</td>\n",
       "      <td>Our mission is to connect all stakeholders of ...</td>\n",
       "      <td>Pakistan</td>\n",
       "    </tr>\n",
       "    <tr>\n",
       "      <th>422</th>\n",
       "      <td>Pehnji</td>\n",
       "      <td>Z43/44 first floor darul aman society block 7/...</td>\n",
       "      <td>Online shopping from the Pakistan's best marke...</td>\n",
       "      <td>E-Commerce</td>\n",
       "      <td>http://www.pehnji.com</td>\n",
       "      <td>16th February  2016</td>\n",
       "      <td>pehjni has bigger objective beside becoming Pa...</td>\n",
       "      <td>Pakistan</td>\n",
       "    </tr>\n",
       "    <tr>\n",
       "      <th>239</th>\n",
       "      <td>My Mohalla</td>\n",
       "      <td>karachi  Pakistan</td>\n",
       "      <td>My Mohalla is an organization that is working ...</td>\n",
       "      <td>Software</td>\n",
       "      <td>http://mymohalla.pk/</td>\n",
       "      <td>2nd January  2017</td>\n",
       "      <td>What is My Mohalla? My Mohalla is an organizat...</td>\n",
       "      <td>Pakistan</td>\n",
       "    </tr>\n",
       "  </tbody>\n",
       "</table>\n",
       "<p>378 rows × 8 columns</p>\n",
       "</div>"
      ],
      "text/plain": [
       "                  Name                                           Location  \\\n",
       "16         Assemblage   214  Block B  13D/2 Gulshan e Iqbal Karachi  P...   \n",
       "81          Credvestor  3rd Floor Citiview Naheed Supermarket Building...   \n",
       "149  HAT incorporation          Block I North Nazimabad Karachi  Pakistan   \n",
       "163           ILMASOFT  Dubai  UAE - 1015 Arfa Software Technology Par...   \n",
       "47       BrandsEgo.Com                               Faisalabad  Pakistan   \n",
       "..                 ...                                                ...   \n",
       "371     The Books Yard                                  Sialkot  Pakistan   \n",
       "201          Learn DAE                                      Wah  Pakistan   \n",
       "84             Daastan                                Wah Cantt  Pakistan   \n",
       "422             Pehnji  Z43/44 first floor darul aman society block 7/...   \n",
       "239         My Mohalla                                  karachi  Pakistan   \n",
       "\n",
       "                                               Tagline  \\\n",
       "16   Assemblage is an online Parenting Community an...   \n",
       "81   An innovative peer-to-peer lending bazaar for ...   \n",
       "149  Hat inco is a software house and a computer in...   \n",
       "163  Educational and security products for schools ...   \n",
       "47   Buy with confidence. We are Manufacturer and E...   \n",
       "..                                                 ...   \n",
       "371           The Books sell Books Online in Pakistan.   \n",
       "201  Learn DAE is a Non-Profit Technical Educationa...   \n",
       "84   Daastan is a for-profit company working for re...   \n",
       "422  Online shopping from the Pakistan's best marke...   \n",
       "239  My Mohalla is an organization that is working ...   \n",
       "\n",
       "                                Category  \\\n",
       "16                  e-Magazine  Website    \n",
       "81                     Software  Finance   \n",
       "149             Software House  Services   \n",
       "163                            Software    \n",
       "47                            E-Commerce   \n",
       "..                                   ...   \n",
       "371                            Education   \n",
       "201                  Technical Education   \n",
       "84   Literature  Publishing  Marketplace   \n",
       "422                           E-Commerce   \n",
       "239                             Software   \n",
       "\n",
       "                                   Website               Founded  \\\n",
       "16                  www.assemblagekids.com      16th June  2016    \n",
       "81              http://www.credvestor.com/     1st August  2016    \n",
       "149                 http://www.hatinco.com    1st January  2000    \n",
       "163                http://www.ilmasoft.com    13th August  2010    \n",
       "47                   https://brandsego.com  1st September  2014    \n",
       "..                                     ...                   ...   \n",
       "371  https://www.facebook.com/thebooksyard    4th January  2018    \n",
       "201                    www.learndae.org.pk   7th December  2016    \n",
       "84                  http://www.daastan.com  22nd December  2014    \n",
       "422                  http://www.pehnji.com  16th February  2016    \n",
       "239                   http://mymohalla.pk/    2nd January  2017    \n",
       "\n",
       "                                           Description   Country  \n",
       "16   Welcome to Assemblage Community Assemblage is ...  Pakistan  \n",
       "81   Credvestor is an innovative peer-to-peer lendi...  Pakistan  \n",
       "149  Software House Computer Institute Web developm...  Pakistan  \n",
       "163  We build applications for the vertical sectors...  Pakistan  \n",
       "47   Buy with confidence. We are Manufacturer and E...  Pakistan  \n",
       "..                                                 ...       ...  \n",
       "371                    This Company sell Books online.  Pakistan  \n",
       "201  Learn DAE is a Non-Profit and Non-Government T...  Pakistan  \n",
       "84   Our mission is to connect all stakeholders of ...  Pakistan  \n",
       "422  pehjni has bigger objective beside becoming Pa...  Pakistan  \n",
       "239  What is My Mohalla? My Mohalla is an organizat...  Pakistan  \n",
       "\n",
       "[378 rows x 8 columns]"
      ]
     },
     "execution_count": 546,
     "metadata": {},
     "output_type": "execute_result"
    }
   ],
   "source": [
    "pakistan_based\n",
    "\n"
   ]
  },
  {
   "cell_type": "markdown",
   "metadata": {},
   "source": [
    "We also have found that we have incomplet Locaations in the column, which Only showing the country so we have to drop it because it will cause problem when we will be filltering data for the cities of Pakistan"
   ]
  },
  {
   "cell_type": "markdown",
   "metadata": {},
   "source": [
    "Extracting Cities fromt the pakistan-based startups"
   ]
  },
  {
   "cell_type": "code",
   "execution_count": 547,
   "metadata": {},
   "outputs": [
    {
     "name": "stderr",
     "output_type": "stream",
     "text": [
      "C:\\Users\\NimZee\\AppData\\Local\\Temp\\ipykernel_16192\\113054989.py:25: SettingWithCopyWarning: \n",
      "A value is trying to be set on a copy of a slice from a DataFrame.\n",
      "Try using .loc[row_indexer,col_indexer] = value instead\n",
      "\n",
      "See the caveats in the documentation: https://pandas.pydata.org/pandas-docs/stable/user_guide/indexing.html#returning-a-view-versus-a-copy\n",
      "  pakistan_based['City'] = pakistan_based['Location'].apply(extract_city)\n"
     ]
    },
    {
     "data": {
      "text/html": [
       "<div>\n",
       "<style scoped>\n",
       "    .dataframe tbody tr th:only-of-type {\n",
       "        vertical-align: middle;\n",
       "    }\n",
       "\n",
       "    .dataframe tbody tr th {\n",
       "        vertical-align: top;\n",
       "    }\n",
       "\n",
       "    .dataframe thead th {\n",
       "        text-align: right;\n",
       "    }\n",
       "</style>\n",
       "<table border=\"1\" class=\"dataframe\">\n",
       "  <thead>\n",
       "    <tr style=\"text-align: right;\">\n",
       "      <th></th>\n",
       "      <th>Name</th>\n",
       "      <th>Location</th>\n",
       "      <th>Tagline</th>\n",
       "      <th>Category</th>\n",
       "      <th>Website</th>\n",
       "      <th>Founded</th>\n",
       "      <th>Description</th>\n",
       "      <th>Country</th>\n",
       "      <th>City</th>\n",
       "    </tr>\n",
       "  </thead>\n",
       "  <tbody>\n",
       "    <tr>\n",
       "      <th>16</th>\n",
       "      <td>Assemblage</td>\n",
       "      <td>214  Block B  13D/2 Gulshan e Iqbal Karachi  P...</td>\n",
       "      <td>Assemblage is an online Parenting Community an...</td>\n",
       "      <td>e-Magazine  Website</td>\n",
       "      <td>www.assemblagekids.com</td>\n",
       "      <td>16th June  2016</td>\n",
       "      <td>Welcome to Assemblage Community Assemblage is ...</td>\n",
       "      <td>Pakistan</td>\n",
       "      <td>Karachi</td>\n",
       "    </tr>\n",
       "    <tr>\n",
       "      <th>81</th>\n",
       "      <td>Credvestor</td>\n",
       "      <td>3rd Floor Citiview Naheed Supermarket Building...</td>\n",
       "      <td>An innovative peer-to-peer lending bazaar for ...</td>\n",
       "      <td>Software  Finance</td>\n",
       "      <td>http://www.credvestor.com/</td>\n",
       "      <td>1st August  2016</td>\n",
       "      <td>Credvestor is an innovative peer-to-peer lendi...</td>\n",
       "      <td>Pakistan</td>\n",
       "      <td>Karachi</td>\n",
       "    </tr>\n",
       "    <tr>\n",
       "      <th>149</th>\n",
       "      <td>HAT incorporation</td>\n",
       "      <td>Block I North Nazimabad Karachi  Pakistan</td>\n",
       "      <td>Hat inco is a software house and a computer in...</td>\n",
       "      <td>Software House  Services</td>\n",
       "      <td>http://www.hatinco.com</td>\n",
       "      <td>1st January  2000</td>\n",
       "      <td>Software House Computer Institute Web developm...</td>\n",
       "      <td>Pakistan</td>\n",
       "      <td>Karachi</td>\n",
       "    </tr>\n",
       "    <tr>\n",
       "      <th>163</th>\n",
       "      <td>ILMASOFT</td>\n",
       "      <td>Dubai  UAE - 1015 Arfa Software Technology Par...</td>\n",
       "      <td>Educational and security products for schools ...</td>\n",
       "      <td>Software</td>\n",
       "      <td>http://www.ilmasoft.com</td>\n",
       "      <td>13th August  2010</td>\n",
       "      <td>We build applications for the vertical sectors...</td>\n",
       "      <td>Pakistan</td>\n",
       "      <td>Lahore</td>\n",
       "    </tr>\n",
       "    <tr>\n",
       "      <th>47</th>\n",
       "      <td>BrandsEgo.Com</td>\n",
       "      <td>Faisalabad  Pakistan</td>\n",
       "      <td>Buy with confidence. We are Manufacturer and E...</td>\n",
       "      <td>E-Commerce</td>\n",
       "      <td>https://brandsego.com</td>\n",
       "      <td>1st September  2014</td>\n",
       "      <td>Buy with confidence. We are Manufacturer and E...</td>\n",
       "      <td>Pakistan</td>\n",
       "      <td>Faisalabad</td>\n",
       "    </tr>\n",
       "    <tr>\n",
       "      <th>...</th>\n",
       "      <td>...</td>\n",
       "      <td>...</td>\n",
       "      <td>...</td>\n",
       "      <td>...</td>\n",
       "      <td>...</td>\n",
       "      <td>...</td>\n",
       "      <td>...</td>\n",
       "      <td>...</td>\n",
       "      <td>...</td>\n",
       "    </tr>\n",
       "    <tr>\n",
       "      <th>371</th>\n",
       "      <td>The Books Yard</td>\n",
       "      <td>Sialkot  Pakistan</td>\n",
       "      <td>The Books sell Books Online in Pakistan.</td>\n",
       "      <td>Education</td>\n",
       "      <td>https://www.facebook.com/thebooksyard</td>\n",
       "      <td>4th January  2018</td>\n",
       "      <td>This Company sell Books online.</td>\n",
       "      <td>Pakistan</td>\n",
       "      <td>Sialkot</td>\n",
       "    </tr>\n",
       "    <tr>\n",
       "      <th>201</th>\n",
       "      <td>Learn DAE</td>\n",
       "      <td>Wah  Pakistan</td>\n",
       "      <td>Learn DAE is a Non-Profit Technical Educationa...</td>\n",
       "      <td>Technical Education</td>\n",
       "      <td>www.learndae.org.pk</td>\n",
       "      <td>7th December  2016</td>\n",
       "      <td>Learn DAE is a Non-Profit and Non-Government T...</td>\n",
       "      <td>Pakistan</td>\n",
       "      <td>Wah</td>\n",
       "    </tr>\n",
       "    <tr>\n",
       "      <th>84</th>\n",
       "      <td>Daastan</td>\n",
       "      <td>Wah Cantt  Pakistan</td>\n",
       "      <td>Daastan is a for-profit company working for re...</td>\n",
       "      <td>Literature  Publishing  Marketplace</td>\n",
       "      <td>http://www.daastan.com</td>\n",
       "      <td>22nd December  2014</td>\n",
       "      <td>Our mission is to connect all stakeholders of ...</td>\n",
       "      <td>Pakistan</td>\n",
       "      <td>Cantt</td>\n",
       "    </tr>\n",
       "    <tr>\n",
       "      <th>422</th>\n",
       "      <td>Pehnji</td>\n",
       "      <td>Z43/44 first floor darul aman society block 7/...</td>\n",
       "      <td>Online shopping from the Pakistan's best marke...</td>\n",
       "      <td>E-Commerce</td>\n",
       "      <td>http://www.pehnji.com</td>\n",
       "      <td>16th February  2016</td>\n",
       "      <td>pehjni has bigger objective beside becoming Pa...</td>\n",
       "      <td>Pakistan</td>\n",
       "      <td>Karachi</td>\n",
       "    </tr>\n",
       "    <tr>\n",
       "      <th>239</th>\n",
       "      <td>My Mohalla</td>\n",
       "      <td>karachi  Pakistan</td>\n",
       "      <td>My Mohalla is an organization that is working ...</td>\n",
       "      <td>Software</td>\n",
       "      <td>http://mymohalla.pk/</td>\n",
       "      <td>2nd January  2017</td>\n",
       "      <td>What is My Mohalla? My Mohalla is an organizat...</td>\n",
       "      <td>Pakistan</td>\n",
       "      <td>karachi</td>\n",
       "    </tr>\n",
       "  </tbody>\n",
       "</table>\n",
       "<p>378 rows × 9 columns</p>\n",
       "</div>"
      ],
      "text/plain": [
       "                  Name                                           Location  \\\n",
       "16         Assemblage   214  Block B  13D/2 Gulshan e Iqbal Karachi  P...   \n",
       "81          Credvestor  3rd Floor Citiview Naheed Supermarket Building...   \n",
       "149  HAT incorporation          Block I North Nazimabad Karachi  Pakistan   \n",
       "163           ILMASOFT  Dubai  UAE - 1015 Arfa Software Technology Par...   \n",
       "47       BrandsEgo.Com                               Faisalabad  Pakistan   \n",
       "..                 ...                                                ...   \n",
       "371     The Books Yard                                  Sialkot  Pakistan   \n",
       "201          Learn DAE                                      Wah  Pakistan   \n",
       "84             Daastan                                Wah Cantt  Pakistan   \n",
       "422             Pehnji  Z43/44 first floor darul aman society block 7/...   \n",
       "239         My Mohalla                                  karachi  Pakistan   \n",
       "\n",
       "                                               Tagline  \\\n",
       "16   Assemblage is an online Parenting Community an...   \n",
       "81   An innovative peer-to-peer lending bazaar for ...   \n",
       "149  Hat inco is a software house and a computer in...   \n",
       "163  Educational and security products for schools ...   \n",
       "47   Buy with confidence. We are Manufacturer and E...   \n",
       "..                                                 ...   \n",
       "371           The Books sell Books Online in Pakistan.   \n",
       "201  Learn DAE is a Non-Profit Technical Educationa...   \n",
       "84   Daastan is a for-profit company working for re...   \n",
       "422  Online shopping from the Pakistan's best marke...   \n",
       "239  My Mohalla is an organization that is working ...   \n",
       "\n",
       "                                Category  \\\n",
       "16                  e-Magazine  Website    \n",
       "81                     Software  Finance   \n",
       "149             Software House  Services   \n",
       "163                            Software    \n",
       "47                            E-Commerce   \n",
       "..                                   ...   \n",
       "371                            Education   \n",
       "201                  Technical Education   \n",
       "84   Literature  Publishing  Marketplace   \n",
       "422                           E-Commerce   \n",
       "239                             Software   \n",
       "\n",
       "                                   Website               Founded  \\\n",
       "16                  www.assemblagekids.com      16th June  2016    \n",
       "81              http://www.credvestor.com/     1st August  2016    \n",
       "149                 http://www.hatinco.com    1st January  2000    \n",
       "163                http://www.ilmasoft.com    13th August  2010    \n",
       "47                   https://brandsego.com  1st September  2014    \n",
       "..                                     ...                   ...   \n",
       "371  https://www.facebook.com/thebooksyard    4th January  2018    \n",
       "201                    www.learndae.org.pk   7th December  2016    \n",
       "84                  http://www.daastan.com  22nd December  2014    \n",
       "422                  http://www.pehnji.com  16th February  2016    \n",
       "239                   http://mymohalla.pk/    2nd January  2017    \n",
       "\n",
       "                                           Description   Country        City  \n",
       "16   Welcome to Assemblage Community Assemblage is ...  Pakistan     Karachi  \n",
       "81   Credvestor is an innovative peer-to-peer lendi...  Pakistan     Karachi  \n",
       "149  Software House Computer Institute Web developm...  Pakistan     Karachi  \n",
       "163  We build applications for the vertical sectors...  Pakistan      Lahore  \n",
       "47   Buy with confidence. We are Manufacturer and E...  Pakistan  Faisalabad  \n",
       "..                                                 ...       ...         ...  \n",
       "371                    This Company sell Books online.  Pakistan     Sialkot  \n",
       "201  Learn DAE is a Non-Profit and Non-Government T...  Pakistan         Wah  \n",
       "84   Our mission is to connect all stakeholders of ...  Pakistan       Cantt  \n",
       "422  pehjni has bigger objective beside becoming Pa...  Pakistan     Karachi  \n",
       "239  What is My Mohalla? My Mohalla is an organizat...  Pakistan     karachi  \n",
       "\n",
       "[378 rows x 9 columns]"
      ]
     },
     "execution_count": 547,
     "metadata": {},
     "output_type": "execute_result"
    }
   ],
   "source": [
    "def extract_city(location):\n",
    "    parts = location.split()\n",
    "    if 'Pakistan' in parts or 'Pakistan.' in parts:\n",
    "        idx = parts.index('Pakistan') if 'Pakistan' in parts else parts.index('Pakistan.') #Considering Pakistan. scenaro her too\n",
    "        if idx >= 0:\n",
    "            # Check if the word before 'Pakistan' is a province\n",
    "            if parts[idx - 1] in ['Punjab', 'Sindh', 'Balochistan']:\n",
    "                city = parts[idx - 2]\n",
    "            elif parts[idx - 1] == 'Pakhtunkhwa':\n",
    "                # Check if 'Khyber' is present directly before 'Pakhtunkhwa'\n",
    "                if parts[idx - 2] == 'Khyber':\n",
    "                    # Extract the city name before 'Khyber'\n",
    "                    city = parts[idx - 3]\n",
    "                else:\n",
    "                    city = parts[idx - 2]\n",
    "            else:\n",
    "                city = parts[idx - 1]\n",
    "        else:\n",
    "            city = None\n",
    "    else:\n",
    "        city = None\n",
    "    return city\n",
    "\n",
    "# Apply the function to create a new column 'City'\n",
    "pakistan_based['City'] = pakistan_based['Location'].apply(extract_city)\n",
    "\n",
    "pakistan_based\n"
   ]
  },
  {
   "cell_type": "code",
   "execution_count": 548,
   "metadata": {},
   "outputs": [
    {
     "name": "stderr",
     "output_type": "stream",
     "text": [
      "C:\\Users\\NimZee\\AppData\\Local\\Temp\\ipykernel_16192\\2232085017.py:1: SettingWithCopyWarning: \n",
      "A value is trying to be set on a copy of a slice from a DataFrame.\n",
      "Try using .loc[row_indexer,col_indexer] = value instead\n",
      "\n",
      "See the caveats in the documentation: https://pandas.pydata.org/pandas-docs/stable/user_guide/indexing.html#returning-a-view-versus-a-copy\n",
      "  pakistan_based['City'] = pakistan_based['Location'].apply(extract_city)\n"
     ]
    },
    {
     "data": {
      "text/html": [
       "<div>\n",
       "<style scoped>\n",
       "    .dataframe tbody tr th:only-of-type {\n",
       "        vertical-align: middle;\n",
       "    }\n",
       "\n",
       "    .dataframe tbody tr th {\n",
       "        vertical-align: top;\n",
       "    }\n",
       "\n",
       "    .dataframe thead th {\n",
       "        text-align: right;\n",
       "    }\n",
       "</style>\n",
       "<table border=\"1\" class=\"dataframe\">\n",
       "  <thead>\n",
       "    <tr style=\"text-align: right;\">\n",
       "      <th></th>\n",
       "      <th>Name</th>\n",
       "      <th>Location</th>\n",
       "      <th>Tagline</th>\n",
       "      <th>Category</th>\n",
       "      <th>Website</th>\n",
       "      <th>Founded</th>\n",
       "      <th>Description</th>\n",
       "      <th>Country</th>\n",
       "      <th>City</th>\n",
       "    </tr>\n",
       "  </thead>\n",
       "  <tbody>\n",
       "    <tr>\n",
       "      <th>16</th>\n",
       "      <td>Assemblage</td>\n",
       "      <td>214  Block B  13D/2 Gulshan e Iqbal Karachi  P...</td>\n",
       "      <td>Assemblage is an online Parenting Community an...</td>\n",
       "      <td>e-Magazine  Website</td>\n",
       "      <td>www.assemblagekids.com</td>\n",
       "      <td>16th June  2016</td>\n",
       "      <td>Welcome to Assemblage Community Assemblage is ...</td>\n",
       "      <td>Pakistan</td>\n",
       "      <td>Karachi</td>\n",
       "    </tr>\n",
       "    <tr>\n",
       "      <th>81</th>\n",
       "      <td>Credvestor</td>\n",
       "      <td>3rd Floor Citiview Naheed Supermarket Building...</td>\n",
       "      <td>An innovative peer-to-peer lending bazaar for ...</td>\n",
       "      <td>Software  Finance</td>\n",
       "      <td>http://www.credvestor.com/</td>\n",
       "      <td>1st August  2016</td>\n",
       "      <td>Credvestor is an innovative peer-to-peer lendi...</td>\n",
       "      <td>Pakistan</td>\n",
       "      <td>Karachi</td>\n",
       "    </tr>\n",
       "    <tr>\n",
       "      <th>149</th>\n",
       "      <td>HAT incorporation</td>\n",
       "      <td>Block I North Nazimabad Karachi  Pakistan</td>\n",
       "      <td>Hat inco is a software house and a computer in...</td>\n",
       "      <td>Software House  Services</td>\n",
       "      <td>http://www.hatinco.com</td>\n",
       "      <td>1st January  2000</td>\n",
       "      <td>Software House Computer Institute Web developm...</td>\n",
       "      <td>Pakistan</td>\n",
       "      <td>Karachi</td>\n",
       "    </tr>\n",
       "    <tr>\n",
       "      <th>163</th>\n",
       "      <td>ILMASOFT</td>\n",
       "      <td>Dubai  UAE - 1015 Arfa Software Technology Par...</td>\n",
       "      <td>Educational and security products for schools ...</td>\n",
       "      <td>Software</td>\n",
       "      <td>http://www.ilmasoft.com</td>\n",
       "      <td>13th August  2010</td>\n",
       "      <td>We build applications for the vertical sectors...</td>\n",
       "      <td>Pakistan</td>\n",
       "      <td>Lahore</td>\n",
       "    </tr>\n",
       "    <tr>\n",
       "      <th>47</th>\n",
       "      <td>BrandsEgo.Com</td>\n",
       "      <td>Faisalabad  Pakistan</td>\n",
       "      <td>Buy with confidence. We are Manufacturer and E...</td>\n",
       "      <td>E-Commerce</td>\n",
       "      <td>https://brandsego.com</td>\n",
       "      <td>1st September  2014</td>\n",
       "      <td>Buy with confidence. We are Manufacturer and E...</td>\n",
       "      <td>Pakistan</td>\n",
       "      <td>Faisalabad</td>\n",
       "    </tr>\n",
       "    <tr>\n",
       "      <th>...</th>\n",
       "      <td>...</td>\n",
       "      <td>...</td>\n",
       "      <td>...</td>\n",
       "      <td>...</td>\n",
       "      <td>...</td>\n",
       "      <td>...</td>\n",
       "      <td>...</td>\n",
       "      <td>...</td>\n",
       "      <td>...</td>\n",
       "    </tr>\n",
       "    <tr>\n",
       "      <th>371</th>\n",
       "      <td>The Books Yard</td>\n",
       "      <td>Sialkot  Pakistan</td>\n",
       "      <td>The Books sell Books Online in Pakistan.</td>\n",
       "      <td>Education</td>\n",
       "      <td>https://www.facebook.com/thebooksyard</td>\n",
       "      <td>4th January  2018</td>\n",
       "      <td>This Company sell Books online.</td>\n",
       "      <td>Pakistan</td>\n",
       "      <td>Sialkot</td>\n",
       "    </tr>\n",
       "    <tr>\n",
       "      <th>201</th>\n",
       "      <td>Learn DAE</td>\n",
       "      <td>Wah  Pakistan</td>\n",
       "      <td>Learn DAE is a Non-Profit Technical Educationa...</td>\n",
       "      <td>Technical Education</td>\n",
       "      <td>www.learndae.org.pk</td>\n",
       "      <td>7th December  2016</td>\n",
       "      <td>Learn DAE is a Non-Profit and Non-Government T...</td>\n",
       "      <td>Pakistan</td>\n",
       "      <td>Wah</td>\n",
       "    </tr>\n",
       "    <tr>\n",
       "      <th>84</th>\n",
       "      <td>Daastan</td>\n",
       "      <td>Wah Cantt  Pakistan</td>\n",
       "      <td>Daastan is a for-profit company working for re...</td>\n",
       "      <td>Literature  Publishing  Marketplace</td>\n",
       "      <td>http://www.daastan.com</td>\n",
       "      <td>22nd December  2014</td>\n",
       "      <td>Our mission is to connect all stakeholders of ...</td>\n",
       "      <td>Pakistan</td>\n",
       "      <td>Cantt</td>\n",
       "    </tr>\n",
       "    <tr>\n",
       "      <th>422</th>\n",
       "      <td>Pehnji</td>\n",
       "      <td>Z43/44 first floor darul aman society block 7/...</td>\n",
       "      <td>Online shopping from the Pakistan's best marke...</td>\n",
       "      <td>E-Commerce</td>\n",
       "      <td>http://www.pehnji.com</td>\n",
       "      <td>16th February  2016</td>\n",
       "      <td>pehjni has bigger objective beside becoming Pa...</td>\n",
       "      <td>Pakistan</td>\n",
       "      <td>Karachi</td>\n",
       "    </tr>\n",
       "    <tr>\n",
       "      <th>239</th>\n",
       "      <td>My Mohalla</td>\n",
       "      <td>karachi  Pakistan</td>\n",
       "      <td>My Mohalla is an organization that is working ...</td>\n",
       "      <td>Software</td>\n",
       "      <td>http://mymohalla.pk/</td>\n",
       "      <td>2nd January  2017</td>\n",
       "      <td>What is My Mohalla? My Mohalla is an organizat...</td>\n",
       "      <td>Pakistan</td>\n",
       "      <td>karachi</td>\n",
       "    </tr>\n",
       "  </tbody>\n",
       "</table>\n",
       "<p>378 rows × 9 columns</p>\n",
       "</div>"
      ],
      "text/plain": [
       "                  Name                                           Location  \\\n",
       "16         Assemblage   214  Block B  13D/2 Gulshan e Iqbal Karachi  P...   \n",
       "81          Credvestor  3rd Floor Citiview Naheed Supermarket Building...   \n",
       "149  HAT incorporation          Block I North Nazimabad Karachi  Pakistan   \n",
       "163           ILMASOFT  Dubai  UAE - 1015 Arfa Software Technology Par...   \n",
       "47       BrandsEgo.Com                               Faisalabad  Pakistan   \n",
       "..                 ...                                                ...   \n",
       "371     The Books Yard                                  Sialkot  Pakistan   \n",
       "201          Learn DAE                                      Wah  Pakistan   \n",
       "84             Daastan                                Wah Cantt  Pakistan   \n",
       "422             Pehnji  Z43/44 first floor darul aman society block 7/...   \n",
       "239         My Mohalla                                  karachi  Pakistan   \n",
       "\n",
       "                                               Tagline  \\\n",
       "16   Assemblage is an online Parenting Community an...   \n",
       "81   An innovative peer-to-peer lending bazaar for ...   \n",
       "149  Hat inco is a software house and a computer in...   \n",
       "163  Educational and security products for schools ...   \n",
       "47   Buy with confidence. We are Manufacturer and E...   \n",
       "..                                                 ...   \n",
       "371           The Books sell Books Online in Pakistan.   \n",
       "201  Learn DAE is a Non-Profit Technical Educationa...   \n",
       "84   Daastan is a for-profit company working for re...   \n",
       "422  Online shopping from the Pakistan's best marke...   \n",
       "239  My Mohalla is an organization that is working ...   \n",
       "\n",
       "                                Category  \\\n",
       "16                  e-Magazine  Website    \n",
       "81                     Software  Finance   \n",
       "149             Software House  Services   \n",
       "163                            Software    \n",
       "47                            E-Commerce   \n",
       "..                                   ...   \n",
       "371                            Education   \n",
       "201                  Technical Education   \n",
       "84   Literature  Publishing  Marketplace   \n",
       "422                           E-Commerce   \n",
       "239                             Software   \n",
       "\n",
       "                                   Website               Founded  \\\n",
       "16                  www.assemblagekids.com      16th June  2016    \n",
       "81              http://www.credvestor.com/     1st August  2016    \n",
       "149                 http://www.hatinco.com    1st January  2000    \n",
       "163                http://www.ilmasoft.com    13th August  2010    \n",
       "47                   https://brandsego.com  1st September  2014    \n",
       "..                                     ...                   ...   \n",
       "371  https://www.facebook.com/thebooksyard    4th January  2018    \n",
       "201                    www.learndae.org.pk   7th December  2016    \n",
       "84                  http://www.daastan.com  22nd December  2014    \n",
       "422                  http://www.pehnji.com  16th February  2016    \n",
       "239                   http://mymohalla.pk/    2nd January  2017    \n",
       "\n",
       "                                           Description   Country        City  \n",
       "16   Welcome to Assemblage Community Assemblage is ...  Pakistan     Karachi  \n",
       "81   Credvestor is an innovative peer-to-peer lendi...  Pakistan     Karachi  \n",
       "149  Software House Computer Institute Web developm...  Pakistan     Karachi  \n",
       "163  We build applications for the vertical sectors...  Pakistan      Lahore  \n",
       "47   Buy with confidence. We are Manufacturer and E...  Pakistan  Faisalabad  \n",
       "..                                                 ...       ...         ...  \n",
       "371                    This Company sell Books online.  Pakistan     Sialkot  \n",
       "201  Learn DAE is a Non-Profit and Non-Government T...  Pakistan         Wah  \n",
       "84   Our mission is to connect all stakeholders of ...  Pakistan       Cantt  \n",
       "422  pehjni has bigger objective beside becoming Pa...  Pakistan     Karachi  \n",
       "239  What is My Mohalla? My Mohalla is an organizat...  Pakistan     karachi  \n",
       "\n",
       "[378 rows x 9 columns]"
      ]
     },
     "execution_count": 548,
     "metadata": {},
     "output_type": "execute_result"
    }
   ],
   "source": [
    "pakistan_based['City'] = pakistan_based['Location'].apply(extract_city)\n",
    "pakistan_based"
   ]
  },
  {
   "cell_type": "code",
   "execution_count": 549,
   "metadata": {},
   "outputs": [
    {
     "data": {
      "text/plain": [
       "array(['Karachi', 'Lahore', 'Faisalabad', 'Gujranwala', 'Gujrat',\n",
       "       'Hyderabad', 'Islamabad', 'Â·', 'Multan', 'Nowshera', 'Pakistan',\n",
       "       'Peshawar', 'Quetta', 'Rawalpindi', 'Sargodha', 'Sialkot', 'Wah',\n",
       "       'Cantt', 'karachi'], dtype=object)"
      ]
     },
     "execution_count": 549,
     "metadata": {},
     "output_type": "execute_result"
    }
   ],
   "source": [
    "# Apply the function to create a new column 'City'\n",
    "pakistan_based.City.unique()"
   ]
  },
  {
   "cell_type": "markdown",
   "metadata": {},
   "source": [
    "We still have some issues Like None and repeatation of Karachi  Wah and Wah Cantt so lets just check none first and this A and then will make it proper."
   ]
  },
  {
   "cell_type": "code",
   "execution_count": 550,
   "metadata": {},
   "outputs": [
    {
     "data": {
      "text/html": [
       "<div>\n",
       "<style scoped>\n",
       "    .dataframe tbody tr th:only-of-type {\n",
       "        vertical-align: middle;\n",
       "    }\n",
       "\n",
       "    .dataframe tbody tr th {\n",
       "        vertical-align: top;\n",
       "    }\n",
       "\n",
       "    .dataframe thead th {\n",
       "        text-align: right;\n",
       "    }\n",
       "</style>\n",
       "<table border=\"1\" class=\"dataframe\">\n",
       "  <thead>\n",
       "    <tr style=\"text-align: right;\">\n",
       "      <th></th>\n",
       "      <th>Name</th>\n",
       "      <th>Location</th>\n",
       "      <th>Tagline</th>\n",
       "      <th>Category</th>\n",
       "      <th>Website</th>\n",
       "      <th>Founded</th>\n",
       "      <th>Description</th>\n",
       "      <th>Country</th>\n",
       "      <th>City</th>\n",
       "    </tr>\n",
       "  </thead>\n",
       "  <tbody>\n",
       "  </tbody>\n",
       "</table>\n",
       "</div>"
      ],
      "text/plain": [
       "Empty DataFrame\n",
       "Columns: [Name, Location, Tagline, Category, Website, Founded, Description, Country, City]\n",
       "Index: []"
      ]
     },
     "execution_count": 550,
     "metadata": {},
     "output_type": "execute_result"
    }
   ],
   "source": [
    "# Filter the DataFrame to show rows where 'City' is None\n",
    "none_cities = pakistan_based[pakistan_based['City'].isnull()]\n",
    "# Print the rows with None values in the 'City' column\n",
    "none_cities\n"
   ]
  },
  {
   "cell_type": "code",
   "execution_count": 551,
   "metadata": {},
   "outputs": [
    {
     "data": {
      "text/html": [
       "<div>\n",
       "<style scoped>\n",
       "    .dataframe tbody tr th:only-of-type {\n",
       "        vertical-align: middle;\n",
       "    }\n",
       "\n",
       "    .dataframe tbody tr th {\n",
       "        vertical-align: top;\n",
       "    }\n",
       "\n",
       "    .dataframe thead th {\n",
       "        text-align: right;\n",
       "    }\n",
       "</style>\n",
       "<table border=\"1\" class=\"dataframe\">\n",
       "  <thead>\n",
       "    <tr style=\"text-align: right;\">\n",
       "      <th></th>\n",
       "      <th>Name</th>\n",
       "      <th>Location</th>\n",
       "      <th>Tagline</th>\n",
       "      <th>Category</th>\n",
       "      <th>Website</th>\n",
       "      <th>Founded</th>\n",
       "      <th>Description</th>\n",
       "      <th>Country</th>\n",
       "      <th>City</th>\n",
       "    </tr>\n",
       "  </thead>\n",
       "  <tbody>\n",
       "    <tr>\n",
       "      <th>21</th>\n",
       "      <td>AutoExpert</td>\n",
       "      <td>Karachi Â· Pakistan</td>\n",
       "      <td>Preemptive Car Care At your Door</td>\n",
       "      <td>Mobile Â· E-Commerce Â· Automotive Â· Mobile C...</td>\n",
       "      <td>http://www.autoexpert.pk</td>\n",
       "      <td>2015</td>\n",
       "      <td>Our goal is to exceed your expectations for yo...</td>\n",
       "      <td>Pakistan</td>\n",
       "      <td>Â·</td>\n",
       "    </tr>\n",
       "  </tbody>\n",
       "</table>\n",
       "</div>"
      ],
      "text/plain": [
       "          Name              Location                           Tagline  \\\n",
       "21  AutoExpert  Karachi Â· Pakistan   Preemptive Car Care At your Door   \n",
       "\n",
       "                                             Category  \\\n",
       "21  Mobile Â· E-Commerce Â· Automotive Â· Mobile C...   \n",
       "\n",
       "                     Website Founded  \\\n",
       "21  http://www.autoexpert.pk    2015   \n",
       "\n",
       "                                          Description   Country City  \n",
       "21  Our goal is to exceed your expectations for yo...  Pakistan   Â·  "
      ]
     },
     "execution_count": 551,
     "metadata": {},
     "output_type": "execute_result"
    }
   ],
   "source": [
    "# Assuming you want to filter rows containing the word 'Karachi' in the 'Location' column\n",
    "filtered_rows = pakistan_based[pakistan_based['City'].str.contains('Â·', case=False)]\n",
    "\n",
    "# Print the filtered rows\n",
    "filtered_rows\n"
   ]
  },
  {
   "cell_type": "markdown",
   "metadata": {},
   "source": [
    "Its a data entry error so we know its Karachi so we can directly consider it."
   ]
  },
  {
   "cell_type": "code",
   "execution_count": 552,
   "metadata": {},
   "outputs": [
    {
     "name": "stderr",
     "output_type": "stream",
     "text": [
      "C:\\Users\\NimZee\\AppData\\Local\\Temp\\ipykernel_16192\\1469899815.py:2: SettingWithCopyWarning: \n",
      "A value is trying to be set on a copy of a slice from a DataFrame\n",
      "\n",
      "See the caveats in the documentation: https://pandas.pydata.org/pandas-docs/stable/user_guide/indexing.html#returning-a-view-versus-a-copy\n",
      "  pakistan_based.loc[filtered_rows.index, 'City'] = 'Karachi'\n"
     ]
    },
    {
     "data": {
      "text/plain": [
       "array(['Karachi', 'Lahore', 'Faisalabad', 'Gujranwala', 'Gujrat',\n",
       "       'Hyderabad', 'Islamabad', 'Multan', 'Nowshera', 'Pakistan',\n",
       "       'Peshawar', 'Quetta', 'Rawalpindi', 'Sargodha', 'Sialkot', 'Wah',\n",
       "       'Cantt', 'karachi'], dtype=object)"
      ]
     },
     "execution_count": 552,
     "metadata": {},
     "output_type": "execute_result"
    }
   ],
   "source": [
    "# Replace the 'City' column value with 'Karachi' for the filtered rows\n",
    "pakistan_based.loc[filtered_rows.index, 'City'] = 'Karachi'\n",
    "\n",
    "# Print the DataFrame after the replacement\n",
    "pakistan_based.City.unique()"
   ]
  },
  {
   "cell_type": "markdown",
   "metadata": {},
   "source": [
    "Its looking much better noww but we still have some to sort, Like Drop rows which have  City name as Pakistan since City is not provided., make Wah and cantt as Wah cantt, and  varation of Karchi as small and capital  letter to Karachi."
   ]
  },
  {
   "cell_type": "code",
   "execution_count": 553,
   "metadata": {},
   "outputs": [
    {
     "name": "stderr",
     "output_type": "stream",
     "text": [
      "C:\\Users\\NimZee\\AppData\\Local\\Temp\\ipykernel_16192\\2765083002.py:10: SettingWithCopyWarning: \n",
      "A value is trying to be set on a copy of a slice from a DataFrame.\n",
      "Try using .loc[row_indexer,col_indexer] = value instead\n",
      "\n",
      "See the caveats in the documentation: https://pandas.pydata.org/pandas-docs/stable/user_guide/indexing.html#returning-a-view-versus-a-copy\n",
      "  pakistan_based['City'] = pakistan_based['City'].replace('Wah', 'Wah Cantt')\n",
      "C:\\Users\\NimZee\\AppData\\Local\\Temp\\ipykernel_16192\\2765083002.py:13: SettingWithCopyWarning: \n",
      "A value is trying to be set on a copy of a slice from a DataFrame.\n",
      "Try using .loc[row_indexer,col_indexer] = value instead\n",
      "\n",
      "See the caveats in the documentation: https://pandas.pydata.org/pandas-docs/stable/user_guide/indexing.html#returning-a-view-versus-a-copy\n",
      "  pakistan_based['City'] = pakistan_based['City'].replace('Cantt', 'Wah Cantt')\n",
      "C:\\Users\\NimZee\\AppData\\Local\\Temp\\ipykernel_16192\\2765083002.py:16: SettingWithCopyWarning: \n",
      "A value is trying to be set on a copy of a slice from a DataFrame.\n",
      "Try using .loc[row_indexer,col_indexer] = value instead\n",
      "\n",
      "See the caveats in the documentation: https://pandas.pydata.org/pandas-docs/stable/user_guide/indexing.html#returning-a-view-versus-a-copy\n",
      "  pakistan_based['City'] = pakistan_based['City'].replace(['karachi', 'KARACHI'], 'Karachi')\n"
     ]
    },
    {
     "data": {
      "text/plain": [
       "array(['Karachi', 'Lahore', 'Faisalabad', 'Gujranwala', 'Gujrat',\n",
       "       'Hyderabad', 'Islamabad', 'Multan', 'Nowshera', 'Peshawar',\n",
       "       'Quetta', 'Rawalpindi', 'Sargodha', 'Sialkot', 'Wah Cantt'],\n",
       "      dtype=object)"
      ]
     },
     "execution_count": 553,
     "metadata": {},
     "output_type": "execute_result"
    }
   ],
   "source": [
    "# Drop rows where 'City' is 'Pakistan'\n",
    "\n",
    "#Keeping it for lateruse foreign and Pakistan comaprasion\n",
    "\n",
    "none_city = pakistan_based[pakistan_based['City'] == 'Pakistan']\n",
    "\n",
    "pakistan_based = pakistan_based[pakistan_based['City'] != 'Pakistan']\n",
    "\n",
    "# Replace 'Wah' with 'Wah Cantt'\n",
    "pakistan_based['City'] = pakistan_based['City'].replace('Wah', 'Wah Cantt')\n",
    "\n",
    "# Replace 'Cantt' with 'Wah Cantt'\n",
    "pakistan_based['City'] = pakistan_based['City'].replace('Cantt', 'Wah Cantt')\n",
    "\n",
    "# Replace variations of 'Karachi' with 'Karachi'\n",
    "pakistan_based['City'] = pakistan_based['City'].replace(['karachi', 'KARACHI'], 'Karachi')\n",
    "\n",
    "pakistan_based.City.unique()\n"
   ]
  },
  {
   "cell_type": "markdown",
   "metadata": {},
   "source": []
  },
  {
   "cell_type": "code",
   "execution_count": 554,
   "metadata": {},
   "outputs": [
    {
     "data": {
      "text/html": [
       "<div>\n",
       "<style scoped>\n",
       "    .dataframe tbody tr th:only-of-type {\n",
       "        vertical-align: middle;\n",
       "    }\n",
       "\n",
       "    .dataframe tbody tr th {\n",
       "        vertical-align: top;\n",
       "    }\n",
       "\n",
       "    .dataframe thead th {\n",
       "        text-align: right;\n",
       "    }\n",
       "</style>\n",
       "<table border=\"1\" class=\"dataframe\">\n",
       "  <thead>\n",
       "    <tr style=\"text-align: right;\">\n",
       "      <th></th>\n",
       "      <th>Name</th>\n",
       "      <th>Location</th>\n",
       "      <th>Tagline</th>\n",
       "      <th>Category</th>\n",
       "      <th>Website</th>\n",
       "      <th>Founded</th>\n",
       "      <th>Description</th>\n",
       "      <th>Country</th>\n",
       "    </tr>\n",
       "  </thead>\n",
       "  <tbody>\n",
       "    <tr>\n",
       "      <th>187</th>\n",
       "      <td>Kaanjo</td>\n",
       "      <td>Amsterdam</td>\n",
       "      <td>We help our clients give a voice to the silent...</td>\n",
       "      <td>Software</td>\n",
       "      <td>http:// kaanjo.co</td>\n",
       "      <td>16th September  2016</td>\n",
       "      <td>Because we believe all consumers should easily...</td>\n",
       "      <td>Foreign</td>\n",
       "    </tr>\n",
       "    <tr>\n",
       "      <th>104</th>\n",
       "      <td>Edev Technologies</td>\n",
       "      <td>Canada</td>\n",
       "      <td>Build great requirements together</td>\n",
       "      <td>Software Product  Software Services  Software ...</td>\n",
       "      <td>http://www.edevtech.com</td>\n",
       "      <td>1999</td>\n",
       "      <td>A requirements lifecycle solutions company ded...</td>\n",
       "      <td>Foreign</td>\n",
       "    </tr>\n",
       "    <tr>\n",
       "      <th>95</th>\n",
       "      <td>Dimensional Sys</td>\n",
       "      <td>Dallas  Texas  United States</td>\n",
       "      <td>Dimensional Systems is an IT services provider...</td>\n",
       "      <td>Consulting  Software</td>\n",
       "      <td>http://dimensionalsys.com</td>\n",
       "      <td>1st January  2012</td>\n",
       "      <td>Dimensional Systems is an IT services provider...</td>\n",
       "      <td>Foreign</td>\n",
       "    </tr>\n",
       "    <tr>\n",
       "      <th>183</th>\n",
       "      <td>Jouple FZ LLC</td>\n",
       "      <td>Dubai</td>\n",
       "      <td>Delivering real-world digital solutions in Mob...</td>\n",
       "      <td>Software</td>\n",
       "      <td>http://www.jouple.com</td>\n",
       "      <td>15th February  2015</td>\n",
       "      <td>Delivering real-world digital solutions in Mob...</td>\n",
       "      <td>Foreign</td>\n",
       "    </tr>\n",
       "    <tr>\n",
       "      <th>55</th>\n",
       "      <td>Careem</td>\n",
       "      <td>Dubai</td>\n",
       "      <td>Careem is a chauffeur cab booking service avai...</td>\n",
       "      <td>Sharing Economy</td>\n",
       "      <td>http://careem.com/</td>\n",
       "      <td>15th June  2012</td>\n",
       "      <td>Tired of waiting for a taxi? Book a profession...</td>\n",
       "      <td>Foreign</td>\n",
       "    </tr>\n",
       "  </tbody>\n",
       "</table>\n",
       "</div>"
      ],
      "text/plain": [
       "                  Name                      Location  \\\n",
       "187             Kaanjo                     Amsterdam   \n",
       "104  Edev Technologies                        Canada   \n",
       "95     Dimensional Sys  Dallas  Texas  United States   \n",
       "183      Jouple FZ LLC                         Dubai   \n",
       "55              Careem                         Dubai   \n",
       "\n",
       "                                               Tagline  \\\n",
       "187  We help our clients give a voice to the silent...   \n",
       "104                  Build great requirements together   \n",
       "95   Dimensional Systems is an IT services provider...   \n",
       "183  Delivering real-world digital solutions in Mob...   \n",
       "55   Careem is a chauffeur cab booking service avai...   \n",
       "\n",
       "                                              Category  \\\n",
       "187                                           Software   \n",
       "104  Software Product  Software Services  Software ...   \n",
       "95                                Consulting  Software   \n",
       "183                                           Software   \n",
       "55                                     Sharing Economy   \n",
       "\n",
       "                       Website                Founded  \\\n",
       "187          http:// kaanjo.co  16th September  2016    \n",
       "104    http://www.edevtech.com                   1999   \n",
       "95   http://dimensionalsys.com     1st January  2012    \n",
       "183      http://www.jouple.com   15th February  2015    \n",
       "55          http://careem.com/       15th June  2012    \n",
       "\n",
       "                                           Description  Country  \n",
       "187  Because we believe all consumers should easily...  Foreign  \n",
       "104  A requirements lifecycle solutions company ded...  Foreign  \n",
       "95   Dimensional Systems is an IT services provider...  Foreign  \n",
       "183  Delivering real-world digital solutions in Mob...  Foreign  \n",
       "55   Tired of waiting for a taxi? Book a profession...  Foreign  "
      ]
     },
     "execution_count": 554,
     "metadata": {},
     "output_type": "execute_result"
    }
   ],
   "source": [
    "foreign_based.head()"
   ]
  },
  {
   "cell_type": "markdown",
   "metadata": {},
   "source": [
    "any occurrence of a city name from the 'pakistan_based' DataFrame in the 'Location' column of the 'foreign_based' DataFrame will be captured, regardless of the case. "
   ]
  },
  {
   "cell_type": "code",
   "execution_count": 555,
   "metadata": {},
   "outputs": [
    {
     "data": {
      "text/plain": [
       "array(['Go Logistics  Ground Floor  Palace Cinema Building  Civil Lines  Karachi',\n",
       "       'Islamabad', 'Islamabad  PAkistan', 'Johar Town  Lahore',\n",
       "       'Karachi', 'Lahore', 'Lahore  Manchester', 'Lahore  Punjab',\n",
       "       'Nowshera  Khyber Pakhtunkhwa', 'Peshawar', 'Rawalpindi/Islamabad',\n",
       "       'TIC  NUST  Islamabad', 'karachi'], dtype=object)"
      ]
     },
     "execution_count": 555,
     "metadata": {},
     "output_type": "execute_result"
    }
   ],
   "source": [
    "# Create a regex pattern to match any word from the 'City' column of 'pakistan_based' DataFrame\n",
    "city_pattern = '|'.join(pakistan_based['City'].str.lower())\n",
    "\n",
    "# Filter the 'foreign_based' DataFrame based on the 'Location' containing any word from 'City' column of 'pakistan_based' DataFrame\n",
    "pakistan_based_foreign = foreign_based[foreign_based['Location'].str.lower().str.contains(city_pattern, regex=True)]\n",
    "\n",
    "# Print the DataFrame containing Pakistan-based startups from 'foreign_based'\n",
    "pakistan_based_foreign.Location.unique()"
   ]
  },
  {
   "cell_type": "code",
   "execution_count": 556,
   "metadata": {},
   "outputs": [
    {
     "name": "stderr",
     "output_type": "stream",
     "text": [
      "C:\\Users\\NimZee\\AppData\\Local\\Temp\\ipykernel_16192\\2970353797.py:10: SettingWithCopyWarning: \n",
      "A value is trying to be set on a copy of a slice from a DataFrame.\n",
      "Try using .loc[row_indexer,col_indexer] = value instead\n",
      "\n",
      "See the caveats in the documentation: https://pandas.pydata.org/pandas-docs/stable/user_guide/indexing.html#returning-a-view-versus-a-copy\n",
      "  pakistan_based_foreign['City'] = pakistan_based_foreign['Location'].apply(find_matching_city)\n"
     ]
    },
    {
     "data": {
      "text/plain": [
       "array(['Karachi', 'Islamabad', 'Lahore', 'Nowshera', 'Peshawar'],\n",
       "      dtype=object)"
      ]
     },
     "execution_count": 556,
     "metadata": {},
     "output_type": "execute_result"
    }
   ],
   "source": [
    "# Function to find matching city from pakistan_based['City']\n",
    "def find_matching_city(location):\n",
    "    for city in pakistan_based['City']:\n",
    "        # Check if any word from 'City' matches any word in 'Location'\n",
    "        if any(re.search(r'\\b{}\\b'.format(re.escape(city.lower())), word.lower()) for word in location.split()):\n",
    "            return city\n",
    "    return None\n",
    "\n",
    "# Create 'City' column in pakistan_based_foreign and assign matching city from pakistan_based['City']\n",
    "pakistan_based_foreign['City'] = pakistan_based_foreign['Location'].apply(find_matching_city)\n",
    "\n",
    "# Print the updated DataFrame\n",
    "pakistan_based_foreign.City.unique()\n"
   ]
  },
  {
   "cell_type": "code",
   "execution_count": 557,
   "metadata": {},
   "outputs": [
    {
     "data": {
      "text/html": [
       "<div>\n",
       "<style scoped>\n",
       "    .dataframe tbody tr th:only-of-type {\n",
       "        vertical-align: middle;\n",
       "    }\n",
       "\n",
       "    .dataframe tbody tr th {\n",
       "        vertical-align: top;\n",
       "    }\n",
       "\n",
       "    .dataframe thead th {\n",
       "        text-align: right;\n",
       "    }\n",
       "</style>\n",
       "<table border=\"1\" class=\"dataframe\">\n",
       "  <thead>\n",
       "    <tr style=\"text-align: right;\">\n",
       "      <th></th>\n",
       "      <th>Name</th>\n",
       "      <th>Location</th>\n",
       "      <th>Tagline</th>\n",
       "      <th>Category</th>\n",
       "      <th>Website</th>\n",
       "      <th>Founded</th>\n",
       "      <th>Description</th>\n",
       "      <th>Country</th>\n",
       "      <th>City</th>\n",
       "    </tr>\n",
       "  </thead>\n",
       "  <tbody>\n",
       "    <tr>\n",
       "      <th>0</th>\n",
       "      <td>Go Rickshaw</td>\n",
       "      <td>Go Logistics  Ground Floor  Palace Cinema Buil...</td>\n",
       "      <td>GO Rickshaw redefines the entire idea of on-de...</td>\n",
       "      <td>Transportation</td>\n",
       "      <td>https://gorickshaw.pk/</td>\n",
       "      <td>30th October  2015</td>\n",
       "      <td>NaN</td>\n",
       "      <td>Foreign</td>\n",
       "      <td>Karachi</td>\n",
       "    </tr>\n",
       "    <tr>\n",
       "      <th>1</th>\n",
       "      <td>DexterED</td>\n",
       "      <td>Islamabad</td>\n",
       "      <td>Dextered believes in Creative &amp; Automated Asse...</td>\n",
       "      <td>Education</td>\n",
       "      <td>http://dextered.com</td>\n",
       "      <td>23rd March  2015</td>\n",
       "      <td>At Dextered we are committed to not only revol...</td>\n",
       "      <td>Foreign</td>\n",
       "      <td>Islamabad</td>\n",
       "    </tr>\n",
       "    <tr>\n",
       "      <th>2</th>\n",
       "      <td>TopSchools.pk</td>\n",
       "      <td>Islamabad</td>\n",
       "      <td>Top Schools is a platform for all schools  col...</td>\n",
       "      <td>Web Portal</td>\n",
       "      <td>http://www.topschools.pk</td>\n",
       "      <td>10th January  2014</td>\n",
       "      <td>Top schools is a web portal for all schools  c...</td>\n",
       "      <td>Foreign</td>\n",
       "      <td>Islamabad</td>\n",
       "    </tr>\n",
       "    <tr>\n",
       "      <th>3</th>\n",
       "      <td>Jobz.pk</td>\n",
       "      <td>Islamabad</td>\n",
       "      <td>Latest Jobs in Pakistan where one can find new...</td>\n",
       "      <td>Job Portal</td>\n",
       "      <td>http://jobz.pk</td>\n",
       "      <td>2000</td>\n",
       "      <td>We not only cover Pakistani jobs but also UAE ...</td>\n",
       "      <td>Foreign</td>\n",
       "      <td>Islamabad</td>\n",
       "    </tr>\n",
       "    <tr>\n",
       "      <th>4</th>\n",
       "      <td>ContentStudio</td>\n",
       "      <td>Islamabad</td>\n",
       "      <td>The easiest way to discover  monitor and share...</td>\n",
       "      <td>Software</td>\n",
       "      <td>https://contentstudio.io</td>\n",
       "      <td>2016</td>\n",
       "      <td>NaN</td>\n",
       "      <td>Foreign</td>\n",
       "      <td>Islamabad</td>\n",
       "    </tr>\n",
       "  </tbody>\n",
       "</table>\n",
       "</div>"
      ],
      "text/plain": [
       "            Name                                           Location  \\\n",
       "0    Go Rickshaw  Go Logistics  Ground Floor  Palace Cinema Buil...   \n",
       "1       DexterED                                          Islamabad   \n",
       "2  TopSchools.pk                                          Islamabad   \n",
       "3        Jobz.pk                                          Islamabad   \n",
       "4  ContentStudio                                          Islamabad   \n",
       "\n",
       "                                             Tagline        Category  \\\n",
       "0  GO Rickshaw redefines the entire idea of on-de...  Transportation   \n",
       "1  Dextered believes in Creative & Automated Asse...       Education   \n",
       "2  Top Schools is a platform for all schools  col...      Web Portal   \n",
       "3  Latest Jobs in Pakistan where one can find new...      Job Portal   \n",
       "4  The easiest way to discover  monitor and share...        Software   \n",
       "\n",
       "                    Website              Founded  \\\n",
       "0    https://gorickshaw.pk/  30th October  2015    \n",
       "1       http://dextered.com    23rd March  2015    \n",
       "2  http://www.topschools.pk  10th January  2014    \n",
       "3            http://jobz.pk                 2000   \n",
       "4  https://contentstudio.io                 2016   \n",
       "\n",
       "                                         Description  Country       City  \n",
       "0                                                NaN  Foreign    Karachi  \n",
       "1  At Dextered we are committed to not only revol...  Foreign  Islamabad  \n",
       "2  Top schools is a web portal for all schools  c...  Foreign  Islamabad  \n",
       "3  We not only cover Pakistani jobs but also UAE ...  Foreign  Islamabad  \n",
       "4                                                NaN  Foreign  Islamabad  "
      ]
     },
     "execution_count": 557,
     "metadata": {},
     "output_type": "execute_result"
    }
   ],
   "source": [
    "# Concatenate pakistan_based_foreign and pakistan_based DataFrames\n",
    "Pakistan_startups = pd.concat([pakistan_based_foreign, pakistan_based])\n",
    "\n",
    "# Reset index of the merged DataFrame\n",
    "Pakistan_startups.reset_index(drop=True, inplace=True)\n",
    "\n",
    "# Print the updated DataFrame\n",
    "Pakistan_startups.head()\n"
   ]
  },
  {
   "cell_type": "code",
   "execution_count": 558,
   "metadata": {},
   "outputs": [
    {
     "data": {
      "text/html": [
       "<div>\n",
       "<style scoped>\n",
       "    .dataframe tbody tr th:only-of-type {\n",
       "        vertical-align: middle;\n",
       "    }\n",
       "\n",
       "    .dataframe tbody tr th {\n",
       "        vertical-align: top;\n",
       "    }\n",
       "\n",
       "    .dataframe thead th {\n",
       "        text-align: right;\n",
       "    }\n",
       "</style>\n",
       "<table border=\"1\" class=\"dataframe\">\n",
       "  <thead>\n",
       "    <tr style=\"text-align: right;\">\n",
       "      <th></th>\n",
       "      <th>Name</th>\n",
       "      <th>Location</th>\n",
       "      <th>Tagline</th>\n",
       "      <th>Category</th>\n",
       "      <th>Website</th>\n",
       "      <th>Founded</th>\n",
       "      <th>Description</th>\n",
       "      <th>Country</th>\n",
       "      <th>City</th>\n",
       "    </tr>\n",
       "  </thead>\n",
       "  <tbody>\n",
       "    <tr>\n",
       "      <th>0</th>\n",
       "      <td>Go Rickshaw</td>\n",
       "      <td>Go Logistics  Ground Floor  Palace Cinema Buil...</td>\n",
       "      <td>GO Rickshaw redefines the entire idea of on-de...</td>\n",
       "      <td>Transportation</td>\n",
       "      <td>https://gorickshaw.pk/</td>\n",
       "      <td>30th October  2015</td>\n",
       "      <td>NaN</td>\n",
       "      <td>Pakistan</td>\n",
       "      <td>Karachi</td>\n",
       "    </tr>\n",
       "    <tr>\n",
       "      <th>1</th>\n",
       "      <td>DexterED</td>\n",
       "      <td>Islamabad</td>\n",
       "      <td>Dextered believes in Creative &amp; Automated Asse...</td>\n",
       "      <td>Education</td>\n",
       "      <td>http://dextered.com</td>\n",
       "      <td>23rd March  2015</td>\n",
       "      <td>At Dextered we are committed to not only revol...</td>\n",
       "      <td>Pakistan</td>\n",
       "      <td>Islamabad</td>\n",
       "    </tr>\n",
       "    <tr>\n",
       "      <th>2</th>\n",
       "      <td>TopSchools.pk</td>\n",
       "      <td>Islamabad</td>\n",
       "      <td>Top Schools is a platform for all schools  col...</td>\n",
       "      <td>Web Portal</td>\n",
       "      <td>http://www.topschools.pk</td>\n",
       "      <td>10th January  2014</td>\n",
       "      <td>Top schools is a web portal for all schools  c...</td>\n",
       "      <td>Pakistan</td>\n",
       "      <td>Islamabad</td>\n",
       "    </tr>\n",
       "    <tr>\n",
       "      <th>3</th>\n",
       "      <td>Jobz.pk</td>\n",
       "      <td>Islamabad</td>\n",
       "      <td>Latest Jobs in Pakistan where one can find new...</td>\n",
       "      <td>Job Portal</td>\n",
       "      <td>http://jobz.pk</td>\n",
       "      <td>2000</td>\n",
       "      <td>We not only cover Pakistani jobs but also UAE ...</td>\n",
       "      <td>Pakistan</td>\n",
       "      <td>Islamabad</td>\n",
       "    </tr>\n",
       "    <tr>\n",
       "      <th>4</th>\n",
       "      <td>ContentStudio</td>\n",
       "      <td>Islamabad</td>\n",
       "      <td>The easiest way to discover  monitor and share...</td>\n",
       "      <td>Software</td>\n",
       "      <td>https://contentstudio.io</td>\n",
       "      <td>2016</td>\n",
       "      <td>NaN</td>\n",
       "      <td>Pakistan</td>\n",
       "      <td>Islamabad</td>\n",
       "    </tr>\n",
       "    <tr>\n",
       "      <th>...</th>\n",
       "      <td>...</td>\n",
       "      <td>...</td>\n",
       "      <td>...</td>\n",
       "      <td>...</td>\n",
       "      <td>...</td>\n",
       "      <td>...</td>\n",
       "      <td>...</td>\n",
       "      <td>...</td>\n",
       "      <td>...</td>\n",
       "    </tr>\n",
       "    <tr>\n",
       "      <th>400</th>\n",
       "      <td>The Books Yard</td>\n",
       "      <td>Sialkot  Pakistan</td>\n",
       "      <td>The Books sell Books Online in Pakistan.</td>\n",
       "      <td>Education</td>\n",
       "      <td>https://www.facebook.com/thebooksyard</td>\n",
       "      <td>4th January  2018</td>\n",
       "      <td>This Company sell Books online.</td>\n",
       "      <td>Pakistan</td>\n",
       "      <td>Sialkot</td>\n",
       "    </tr>\n",
       "    <tr>\n",
       "      <th>401</th>\n",
       "      <td>Learn DAE</td>\n",
       "      <td>Wah  Pakistan</td>\n",
       "      <td>Learn DAE is a Non-Profit Technical Educationa...</td>\n",
       "      <td>Technical Education</td>\n",
       "      <td>www.learndae.org.pk</td>\n",
       "      <td>7th December  2016</td>\n",
       "      <td>Learn DAE is a Non-Profit and Non-Government T...</td>\n",
       "      <td>Pakistan</td>\n",
       "      <td>Wah Cantt</td>\n",
       "    </tr>\n",
       "    <tr>\n",
       "      <th>402</th>\n",
       "      <td>Daastan</td>\n",
       "      <td>Wah Cantt  Pakistan</td>\n",
       "      <td>Daastan is a for-profit company working for re...</td>\n",
       "      <td>Literature  Publishing  Marketplace</td>\n",
       "      <td>http://www.daastan.com</td>\n",
       "      <td>22nd December  2014</td>\n",
       "      <td>Our mission is to connect all stakeholders of ...</td>\n",
       "      <td>Pakistan</td>\n",
       "      <td>Wah Cantt</td>\n",
       "    </tr>\n",
       "    <tr>\n",
       "      <th>403</th>\n",
       "      <td>Pehnji</td>\n",
       "      <td>Z43/44 first floor darul aman society block 7/...</td>\n",
       "      <td>Online shopping from the Pakistan's best marke...</td>\n",
       "      <td>E-Commerce</td>\n",
       "      <td>http://www.pehnji.com</td>\n",
       "      <td>16th February  2016</td>\n",
       "      <td>pehjni has bigger objective beside becoming Pa...</td>\n",
       "      <td>Pakistan</td>\n",
       "      <td>Karachi</td>\n",
       "    </tr>\n",
       "    <tr>\n",
       "      <th>404</th>\n",
       "      <td>My Mohalla</td>\n",
       "      <td>karachi  Pakistan</td>\n",
       "      <td>My Mohalla is an organization that is working ...</td>\n",
       "      <td>Software</td>\n",
       "      <td>http://mymohalla.pk/</td>\n",
       "      <td>2nd January  2017</td>\n",
       "      <td>What is My Mohalla? My Mohalla is an organizat...</td>\n",
       "      <td>Pakistan</td>\n",
       "      <td>Karachi</td>\n",
       "    </tr>\n",
       "  </tbody>\n",
       "</table>\n",
       "<p>405 rows × 9 columns</p>\n",
       "</div>"
      ],
      "text/plain": [
       "               Name                                           Location  \\\n",
       "0       Go Rickshaw  Go Logistics  Ground Floor  Palace Cinema Buil...   \n",
       "1          DexterED                                          Islamabad   \n",
       "2     TopSchools.pk                                          Islamabad   \n",
       "3           Jobz.pk                                          Islamabad   \n",
       "4     ContentStudio                                          Islamabad   \n",
       "..              ...                                                ...   \n",
       "400  The Books Yard                                  Sialkot  Pakistan   \n",
       "401       Learn DAE                                      Wah  Pakistan   \n",
       "402         Daastan                                Wah Cantt  Pakistan   \n",
       "403          Pehnji  Z43/44 first floor darul aman society block 7/...   \n",
       "404      My Mohalla                                  karachi  Pakistan   \n",
       "\n",
       "                                               Tagline  \\\n",
       "0    GO Rickshaw redefines the entire idea of on-de...   \n",
       "1    Dextered believes in Creative & Automated Asse...   \n",
       "2    Top Schools is a platform for all schools  col...   \n",
       "3    Latest Jobs in Pakistan where one can find new...   \n",
       "4    The easiest way to discover  monitor and share...   \n",
       "..                                                 ...   \n",
       "400           The Books sell Books Online in Pakistan.   \n",
       "401  Learn DAE is a Non-Profit Technical Educationa...   \n",
       "402  Daastan is a for-profit company working for re...   \n",
       "403  Online shopping from the Pakistan's best marke...   \n",
       "404  My Mohalla is an organization that is working ...   \n",
       "\n",
       "                                Category  \\\n",
       "0                         Transportation   \n",
       "1                              Education   \n",
       "2                             Web Portal   \n",
       "3                             Job Portal   \n",
       "4                               Software   \n",
       "..                                   ...   \n",
       "400                            Education   \n",
       "401                  Technical Education   \n",
       "402  Literature  Publishing  Marketplace   \n",
       "403                           E-Commerce   \n",
       "404                             Software   \n",
       "\n",
       "                                   Website               Founded  \\\n",
       "0                   https://gorickshaw.pk/   30th October  2015    \n",
       "1                      http://dextered.com     23rd March  2015    \n",
       "2                 http://www.topschools.pk   10th January  2014    \n",
       "3                           http://jobz.pk                  2000   \n",
       "4                 https://contentstudio.io                  2016   \n",
       "..                                     ...                   ...   \n",
       "400  https://www.facebook.com/thebooksyard    4th January  2018    \n",
       "401                    www.learndae.org.pk   7th December  2016    \n",
       "402                 http://www.daastan.com  22nd December  2014    \n",
       "403                  http://www.pehnji.com  16th February  2016    \n",
       "404                   http://mymohalla.pk/    2nd January  2017    \n",
       "\n",
       "                                           Description   Country       City  \n",
       "0                                                  NaN  Pakistan    Karachi  \n",
       "1    At Dextered we are committed to not only revol...  Pakistan  Islamabad  \n",
       "2    Top schools is a web portal for all schools  c...  Pakistan  Islamabad  \n",
       "3    We not only cover Pakistani jobs but also UAE ...  Pakistan  Islamabad  \n",
       "4                                                  NaN  Pakistan  Islamabad  \n",
       "..                                                 ...       ...        ...  \n",
       "400                    This Company sell Books online.  Pakistan    Sialkot  \n",
       "401  Learn DAE is a Non-Profit and Non-Government T...  Pakistan  Wah Cantt  \n",
       "402  Our mission is to connect all stakeholders of ...  Pakistan  Wah Cantt  \n",
       "403  pehjni has bigger objective beside becoming Pa...  Pakistan    Karachi  \n",
       "404  What is My Mohalla? My Mohalla is an organizat...  Pakistan    Karachi  \n",
       "\n",
       "[405 rows x 9 columns]"
      ]
     },
     "execution_count": 558,
     "metadata": {},
     "output_type": "execute_result"
    }
   ],
   "source": [
    "# Update all rows in 'Country' column to 'Pakistan'\n",
    "Pakistan_startups['Country'] = 'Pakistan'\n",
    "\n",
    "# Print the updated DataFrame\n",
    "Pakistan_startups"
   ]
  },
  {
   "cell_type": "code",
   "execution_count": 559,
   "metadata": {},
   "outputs": [
    {
     "name": "stderr",
     "output_type": "stream",
     "text": [
      "C:\\Users\\NimZee\\AppData\\Local\\Temp\\ipykernel_16192\\1361341757.py:8: SettingWithCopyWarning: \n",
      "A value is trying to be set on a copy of a slice from a DataFrame\n",
      "\n",
      "See the caveats in the documentation: https://pandas.pydata.org/pandas-docs/stable/user_guide/indexing.html#returning-a-view-versus-a-copy\n",
      "  foreign_startups.drop('_merge', axis=1, inplace=True)\n"
     ]
    },
    {
     "data": {
      "text/html": [
       "<div>\n",
       "<style scoped>\n",
       "    .dataframe tbody tr th:only-of-type {\n",
       "        vertical-align: middle;\n",
       "    }\n",
       "\n",
       "    .dataframe tbody tr th {\n",
       "        vertical-align: top;\n",
       "    }\n",
       "\n",
       "    .dataframe thead th {\n",
       "        text-align: right;\n",
       "    }\n",
       "</style>\n",
       "<table border=\"1\" class=\"dataframe\">\n",
       "  <thead>\n",
       "    <tr style=\"text-align: right;\">\n",
       "      <th></th>\n",
       "      <th>Name</th>\n",
       "      <th>Location</th>\n",
       "      <th>Tagline</th>\n",
       "      <th>Category</th>\n",
       "      <th>Website</th>\n",
       "      <th>Founded</th>\n",
       "      <th>Description</th>\n",
       "      <th>Country</th>\n",
       "    </tr>\n",
       "  </thead>\n",
       "  <tbody>\n",
       "    <tr>\n",
       "      <th>0</th>\n",
       "      <td>Kaanjo</td>\n",
       "      <td>Amsterdam</td>\n",
       "      <td>We help our clients give a voice to the silent...</td>\n",
       "      <td>Software</td>\n",
       "      <td>http:// kaanjo.co</td>\n",
       "      <td>16th September  2016</td>\n",
       "      <td>Because we believe all consumers should easily...</td>\n",
       "      <td>Foreign</td>\n",
       "    </tr>\n",
       "    <tr>\n",
       "      <th>1</th>\n",
       "      <td>Edev Technologies</td>\n",
       "      <td>Canada</td>\n",
       "      <td>Build great requirements together</td>\n",
       "      <td>Software Product  Software Services  Software ...</td>\n",
       "      <td>http://www.edevtech.com</td>\n",
       "      <td>1999</td>\n",
       "      <td>A requirements lifecycle solutions company ded...</td>\n",
       "      <td>Foreign</td>\n",
       "    </tr>\n",
       "    <tr>\n",
       "      <th>2</th>\n",
       "      <td>Dimensional Sys</td>\n",
       "      <td>Dallas  Texas  United States</td>\n",
       "      <td>Dimensional Systems is an IT services provider...</td>\n",
       "      <td>Consulting  Software</td>\n",
       "      <td>http://dimensionalsys.com</td>\n",
       "      <td>1st January  2012</td>\n",
       "      <td>Dimensional Systems is an IT services provider...</td>\n",
       "      <td>Foreign</td>\n",
       "    </tr>\n",
       "    <tr>\n",
       "      <th>3</th>\n",
       "      <td>Jouple FZ LLC</td>\n",
       "      <td>Dubai</td>\n",
       "      <td>Delivering real-world digital solutions in Mob...</td>\n",
       "      <td>Software</td>\n",
       "      <td>http://www.jouple.com</td>\n",
       "      <td>15th February  2015</td>\n",
       "      <td>Delivering real-world digital solutions in Mob...</td>\n",
       "      <td>Foreign</td>\n",
       "    </tr>\n",
       "    <tr>\n",
       "      <th>4</th>\n",
       "      <td>Careem</td>\n",
       "      <td>Dubai</td>\n",
       "      <td>Careem is a chauffeur cab booking service avai...</td>\n",
       "      <td>Sharing Economy</td>\n",
       "      <td>http://careem.com/</td>\n",
       "      <td>15th June  2012</td>\n",
       "      <td>Tired of waiting for a taxi? Book a profession...</td>\n",
       "      <td>Foreign</td>\n",
       "    </tr>\n",
       "  </tbody>\n",
       "</table>\n",
       "</div>"
      ],
      "text/plain": [
       "                Name                      Location  \\\n",
       "0             Kaanjo                     Amsterdam   \n",
       "1  Edev Technologies                        Canada   \n",
       "2    Dimensional Sys  Dallas  Texas  United States   \n",
       "3      Jouple FZ LLC                         Dubai   \n",
       "4             Careem                         Dubai   \n",
       "\n",
       "                                             Tagline  \\\n",
       "0  We help our clients give a voice to the silent...   \n",
       "1                  Build great requirements together   \n",
       "2  Dimensional Systems is an IT services provider...   \n",
       "3  Delivering real-world digital solutions in Mob...   \n",
       "4  Careem is a chauffeur cab booking service avai...   \n",
       "\n",
       "                                            Category  \\\n",
       "0                                           Software   \n",
       "1  Software Product  Software Services  Software ...   \n",
       "2                               Consulting  Software   \n",
       "3                                           Software   \n",
       "4                                    Sharing Economy   \n",
       "\n",
       "                     Website                Founded  \\\n",
       "0          http:// kaanjo.co  16th September  2016    \n",
       "1    http://www.edevtech.com                   1999   \n",
       "2  http://dimensionalsys.com     1st January  2012    \n",
       "3      http://www.jouple.com   15th February  2015    \n",
       "4         http://careem.com/       15th June  2012    \n",
       "\n",
       "                                         Description  Country  \n",
       "0  Because we believe all consumers should easily...  Foreign  \n",
       "1  A requirements lifecycle solutions company ded...  Foreign  \n",
       "2  Dimensional Systems is an IT services provider...  Foreign  \n",
       "3  Delivering real-world digital solutions in Mob...  Foreign  \n",
       "4  Tired of waiting for a taxi? Book a profession...  Foreign  "
      ]
     },
     "execution_count": 559,
     "metadata": {},
     "output_type": "execute_result"
    }
   ],
   "source": [
    "# Merge the two DataFrames on 'Name' and 'Location', using an indicator flag\n",
    "merged = foreign_based.merge(Pakistan_startups[['Name', 'Location']], on=['Name', 'Location'], how='left', indicator=True)\n",
    "\n",
    "# Filter out the rows present in both DataFrames\n",
    "foreign_startups = merged[merged['_merge'] == 'left_only']\n",
    "\n",
    "# Drop the indicator column\n",
    "foreign_startups.drop('_merge', axis=1, inplace=True)\n",
    "\n",
    "# Print the filtered foreign startups DataFrame\n",
    "foreign_startups.head()\n"
   ]
  },
  {
   "cell_type": "code",
   "execution_count": 565,
   "metadata": {},
   "outputs": [
    {
     "name": "stdout",
     "output_type": "stream",
     "text": [
      "Rows containing web addresses:\n"
     ]
    }
   ],
   "source": [
    "# Define a regular expression pattern to match web addresses\n",
    "web_address_pattern = r'http[s]?://(?:[a-zA-Z]|[0-9]|[$-_@.&+]|[!*\\\\(\\\\),]|(?:%[0-9a-fA-F][0-9a-fA-F]))+'\n",
    "\n",
    "# Filter rows where 'Location' column contains a web address\n",
    "rows_with_web_address = foreign_startups[foreign_startups['Location'].str.contains(web_address_pattern, regex=True)]\n",
    "\n",
    "# Print rows containing a web address\n",
    "print(\"Rows containing web addresses:\")\n",
    "for index, row in rows_with_web_address.iterrows():\n",
    "    print(row)\n",
    "\n"
   ]
  },
  {
   "cell_type": "markdown",
   "metadata": {},
   "source": [
    "noww our data is quite clean and contain the city name"
   ]
  },
  {
   "cell_type": "code",
   "execution_count": 561,
   "metadata": {},
   "outputs": [
    {
     "name": "stdout",
     "output_type": "stream",
     "text": [
      "\n",
      "Updated DataFrame after dropping rows with web addresses:\n"
     ]
    },
    {
     "data": {
      "text/html": [
       "<div>\n",
       "<style scoped>\n",
       "    .dataframe tbody tr th:only-of-type {\n",
       "        vertical-align: middle;\n",
       "    }\n",
       "\n",
       "    .dataframe tbody tr th {\n",
       "        vertical-align: top;\n",
       "    }\n",
       "\n",
       "    .dataframe thead th {\n",
       "        text-align: right;\n",
       "    }\n",
       "</style>\n",
       "<table border=\"1\" class=\"dataframe\">\n",
       "  <thead>\n",
       "    <tr style=\"text-align: right;\">\n",
       "      <th></th>\n",
       "      <th>Name</th>\n",
       "      <th>Location</th>\n",
       "      <th>Tagline</th>\n",
       "      <th>Category</th>\n",
       "      <th>Website</th>\n",
       "      <th>Founded</th>\n",
       "      <th>Description</th>\n",
       "      <th>Country</th>\n",
       "    </tr>\n",
       "  </thead>\n",
       "  <tbody>\n",
       "    <tr>\n",
       "      <th>0</th>\n",
       "      <td>Kaanjo</td>\n",
       "      <td>Amsterdam</td>\n",
       "      <td>We help our clients give a voice to the silent...</td>\n",
       "      <td>Software</td>\n",
       "      <td>http:// kaanjo.co</td>\n",
       "      <td>16th September  2016</td>\n",
       "      <td>Because we believe all consumers should easily...</td>\n",
       "      <td>Foreign</td>\n",
       "    </tr>\n",
       "    <tr>\n",
       "      <th>1</th>\n",
       "      <td>Edev Technologies</td>\n",
       "      <td>Canada</td>\n",
       "      <td>Build great requirements together</td>\n",
       "      <td>Software Product  Software Services  Software ...</td>\n",
       "      <td>http://www.edevtech.com</td>\n",
       "      <td>1999</td>\n",
       "      <td>A requirements lifecycle solutions company ded...</td>\n",
       "      <td>Foreign</td>\n",
       "    </tr>\n",
       "    <tr>\n",
       "      <th>2</th>\n",
       "      <td>Dimensional Sys</td>\n",
       "      <td>Dallas  Texas  United States</td>\n",
       "      <td>Dimensional Systems is an IT services provider...</td>\n",
       "      <td>Consulting  Software</td>\n",
       "      <td>http://dimensionalsys.com</td>\n",
       "      <td>1st January  2012</td>\n",
       "      <td>Dimensional Systems is an IT services provider...</td>\n",
       "      <td>Foreign</td>\n",
       "    </tr>\n",
       "    <tr>\n",
       "      <th>3</th>\n",
       "      <td>Jouple FZ LLC</td>\n",
       "      <td>Dubai</td>\n",
       "      <td>Delivering real-world digital solutions in Mob...</td>\n",
       "      <td>Software</td>\n",
       "      <td>http://www.jouple.com</td>\n",
       "      <td>15th February  2015</td>\n",
       "      <td>Delivering real-world digital solutions in Mob...</td>\n",
       "      <td>Foreign</td>\n",
       "    </tr>\n",
       "    <tr>\n",
       "      <th>4</th>\n",
       "      <td>Careem</td>\n",
       "      <td>Dubai</td>\n",
       "      <td>Careem is a chauffeur cab booking service avai...</td>\n",
       "      <td>Sharing Economy</td>\n",
       "      <td>http://careem.com/</td>\n",
       "      <td>15th June  2012</td>\n",
       "      <td>Tired of waiting for a taxi? Book a profession...</td>\n",
       "      <td>Foreign</td>\n",
       "    </tr>\n",
       "  </tbody>\n",
       "</table>\n",
       "</div>"
      ],
      "text/plain": [
       "                Name                      Location  \\\n",
       "0             Kaanjo                     Amsterdam   \n",
       "1  Edev Technologies                        Canada   \n",
       "2    Dimensional Sys  Dallas  Texas  United States   \n",
       "3      Jouple FZ LLC                         Dubai   \n",
       "4             Careem                         Dubai   \n",
       "\n",
       "                                             Tagline  \\\n",
       "0  We help our clients give a voice to the silent...   \n",
       "1                  Build great requirements together   \n",
       "2  Dimensional Systems is an IT services provider...   \n",
       "3  Delivering real-world digital solutions in Mob...   \n",
       "4  Careem is a chauffeur cab booking service avai...   \n",
       "\n",
       "                                            Category  \\\n",
       "0                                           Software   \n",
       "1  Software Product  Software Services  Software ...   \n",
       "2                               Consulting  Software   \n",
       "3                                           Software   \n",
       "4                                    Sharing Economy   \n",
       "\n",
       "                     Website                Founded  \\\n",
       "0          http:// kaanjo.co  16th September  2016    \n",
       "1    http://www.edevtech.com                   1999   \n",
       "2  http://dimensionalsys.com     1st January  2012    \n",
       "3      http://www.jouple.com   15th February  2015    \n",
       "4         http://careem.com/       15th June  2012    \n",
       "\n",
       "                                         Description  Country  \n",
       "0  Because we believe all consumers should easily...  Foreign  \n",
       "1  A requirements lifecycle solutions company ded...  Foreign  \n",
       "2  Dimensional Systems is an IT services provider...  Foreign  \n",
       "3  Delivering real-world digital solutions in Mob...  Foreign  \n",
       "4  Tired of waiting for a taxi? Book a profession...  Foreign  "
      ]
     },
     "execution_count": 561,
     "metadata": {},
     "output_type": "execute_result"
    }
   ],
   "source": [
    "# Drop rows containing a web address\n",
    "foreign_startups = foreign_startups.drop(rows_with_web_address.index)\n",
    "\n",
    "print(\"\\nUpdated DataFrame after dropping rows with web addresses:\")\n",
    "foreign_startups.head()\n"
   ]
  },
  {
   "cell_type": "markdown",
   "metadata": {},
   "source": [
    "Now we have two properly cleaned Datasets Foreign_startups and Pakistan Startups Lets analysze and visuzlie it"
   ]
  },
  {
   "cell_type": "code",
   "execution_count": 562,
   "metadata": {},
   "outputs": [
    {
     "data": {
      "text/plain": [
       "Index(['Name', 'Location', 'Tagline', 'Category', 'Website', 'Founded',\n",
       "       'Description', 'Country', 'City'],\n",
       "      dtype='object')"
      ]
     },
     "execution_count": 562,
     "metadata": {},
     "output_type": "execute_result"
    }
   ],
   "source": [
    "Pakistan_startups.columns"
   ]
  },
  {
   "cell_type": "code",
   "execution_count": 567,
   "metadata": {},
   "outputs": [
    {
     "data": {
      "text/html": [
       "<div>\n",
       "<style scoped>\n",
       "    .dataframe tbody tr th:only-of-type {\n",
       "        vertical-align: middle;\n",
       "    }\n",
       "\n",
       "    .dataframe tbody tr th {\n",
       "        vertical-align: top;\n",
       "    }\n",
       "\n",
       "    .dataframe thead th {\n",
       "        text-align: right;\n",
       "    }\n",
       "</style>\n",
       "<table border=\"1\" class=\"dataframe\">\n",
       "  <thead>\n",
       "    <tr style=\"text-align: right;\">\n",
       "      <th></th>\n",
       "      <th>Name</th>\n",
       "      <th>Location</th>\n",
       "      <th>Tagline</th>\n",
       "      <th>Category</th>\n",
       "      <th>Website</th>\n",
       "      <th>Founded</th>\n",
       "      <th>Description</th>\n",
       "      <th>Country</th>\n",
       "      <th>City</th>\n",
       "    </tr>\n",
       "  </thead>\n",
       "  <tbody>\n",
       "    <tr>\n",
       "      <th>0</th>\n",
       "      <td>Go Rickshaw</td>\n",
       "      <td>Go Logistics  Ground Floor  Palace Cinema Buil...</td>\n",
       "      <td>GO Rickshaw redefines the entire idea of on-de...</td>\n",
       "      <td>Transportation</td>\n",
       "      <td>https://gorickshaw.pk/</td>\n",
       "      <td>30th October  2015</td>\n",
       "      <td>NaN</td>\n",
       "      <td>Pakistan</td>\n",
       "      <td>Karachi</td>\n",
       "    </tr>\n",
       "    <tr>\n",
       "      <th>1</th>\n",
       "      <td>DexterED</td>\n",
       "      <td>Islamabad</td>\n",
       "      <td>Dextered believes in Creative &amp; Automated Asse...</td>\n",
       "      <td>Education</td>\n",
       "      <td>http://dextered.com</td>\n",
       "      <td>23rd March  2015</td>\n",
       "      <td>At Dextered we are committed to not only revol...</td>\n",
       "      <td>Pakistan</td>\n",
       "      <td>Islamabad</td>\n",
       "    </tr>\n",
       "    <tr>\n",
       "      <th>2</th>\n",
       "      <td>TopSchools.pk</td>\n",
       "      <td>Islamabad</td>\n",
       "      <td>Top Schools is a platform for all schools  col...</td>\n",
       "      <td>Web Portal</td>\n",
       "      <td>http://www.topschools.pk</td>\n",
       "      <td>10th January  2014</td>\n",
       "      <td>Top schools is a web portal for all schools  c...</td>\n",
       "      <td>Pakistan</td>\n",
       "      <td>Islamabad</td>\n",
       "    </tr>\n",
       "    <tr>\n",
       "      <th>3</th>\n",
       "      <td>Jobz.pk</td>\n",
       "      <td>Islamabad</td>\n",
       "      <td>Latest Jobs in Pakistan where one can find new...</td>\n",
       "      <td>Job Portal</td>\n",
       "      <td>http://jobz.pk</td>\n",
       "      <td>2000</td>\n",
       "      <td>We not only cover Pakistani jobs but also UAE ...</td>\n",
       "      <td>Pakistan</td>\n",
       "      <td>Islamabad</td>\n",
       "    </tr>\n",
       "    <tr>\n",
       "      <th>4</th>\n",
       "      <td>ContentStudio</td>\n",
       "      <td>Islamabad</td>\n",
       "      <td>The easiest way to discover  monitor and share...</td>\n",
       "      <td>Software</td>\n",
       "      <td>https://contentstudio.io</td>\n",
       "      <td>2016</td>\n",
       "      <td>NaN</td>\n",
       "      <td>Pakistan</td>\n",
       "      <td>Islamabad</td>\n",
       "    </tr>\n",
       "  </tbody>\n",
       "</table>\n",
       "</div>"
      ],
      "text/plain": [
       "            Name                                           Location  \\\n",
       "0    Go Rickshaw  Go Logistics  Ground Floor  Palace Cinema Buil...   \n",
       "1       DexterED                                          Islamabad   \n",
       "2  TopSchools.pk                                          Islamabad   \n",
       "3        Jobz.pk                                          Islamabad   \n",
       "4  ContentStudio                                          Islamabad   \n",
       "\n",
       "                                             Tagline        Category  \\\n",
       "0  GO Rickshaw redefines the entire idea of on-de...  Transportation   \n",
       "1  Dextered believes in Creative & Automated Asse...       Education   \n",
       "2  Top Schools is a platform for all schools  col...      Web Portal   \n",
       "3  Latest Jobs in Pakistan where one can find new...      Job Portal   \n",
       "4  The easiest way to discover  monitor and share...        Software   \n",
       "\n",
       "                    Website              Founded  \\\n",
       "0    https://gorickshaw.pk/  30th October  2015    \n",
       "1       http://dextered.com    23rd March  2015    \n",
       "2  http://www.topschools.pk  10th January  2014    \n",
       "3            http://jobz.pk                 2000   \n",
       "4  https://contentstudio.io                 2016   \n",
       "\n",
       "                                         Description   Country       City  \n",
       "0                                                NaN  Pakistan    Karachi  \n",
       "1  At Dextered we are committed to not only revol...  Pakistan  Islamabad  \n",
       "2  Top schools is a web portal for all schools  c...  Pakistan  Islamabad  \n",
       "3  We not only cover Pakistani jobs but also UAE ...  Pakistan  Islamabad  \n",
       "4                                                NaN  Pakistan  Islamabad  "
      ]
     },
     "execution_count": 567,
     "metadata": {},
     "output_type": "execute_result"
    }
   ],
   "source": [
    "#Merging if requires \n",
    "Startups = pd.concat([Pakistan_startups, foreign_startups])\n",
    "\n",
    "# Reset index of the merged DataFrame\n",
    "Startups.reset_index(drop=True, inplace=True)\n",
    "\n",
    "# Print the updated DataFrame\n",
    "Startups.head()"
   ]
  },
  {
   "cell_type": "code",
   "execution_count": 586,
   "metadata": {},
   "outputs": [
    {
     "data": {
      "text/html": [
       "<div>\n",
       "<style scoped>\n",
       "    .dataframe tbody tr th:only-of-type {\n",
       "        vertical-align: middle;\n",
       "    }\n",
       "\n",
       "    .dataframe tbody tr th {\n",
       "        vertical-align: top;\n",
       "    }\n",
       "\n",
       "    .dataframe thead th {\n",
       "        text-align: right;\n",
       "    }\n",
       "</style>\n",
       "<table border=\"1\" class=\"dataframe\">\n",
       "  <thead>\n",
       "    <tr style=\"text-align: right;\">\n",
       "      <th></th>\n",
       "      <th>Name</th>\n",
       "      <th>Location</th>\n",
       "      <th>Tagline</th>\n",
       "      <th>Category</th>\n",
       "      <th>Website</th>\n",
       "      <th>Founded</th>\n",
       "      <th>Description</th>\n",
       "      <th>Country</th>\n",
       "      <th>City</th>\n",
       "      <th>Founded Year</th>\n",
       "    </tr>\n",
       "  </thead>\n",
       "  <tbody>\n",
       "    <tr>\n",
       "      <th>0</th>\n",
       "      <td>Go Rickshaw</td>\n",
       "      <td>Go Logistics  Ground Floor  Palace Cinema Buil...</td>\n",
       "      <td>GO Rickshaw redefines the entire idea of on-de...</td>\n",
       "      <td>Transportation</td>\n",
       "      <td>https://gorickshaw.pk/</td>\n",
       "      <td>30th October  2015</td>\n",
       "      <td>NaN</td>\n",
       "      <td>Pakistan</td>\n",
       "      <td>Karachi</td>\n",
       "      <td>2015</td>\n",
       "    </tr>\n",
       "    <tr>\n",
       "      <th>1</th>\n",
       "      <td>DexterED</td>\n",
       "      <td>Islamabad</td>\n",
       "      <td>Dextered believes in Creative &amp; Automated Asse...</td>\n",
       "      <td>Education</td>\n",
       "      <td>http://dextered.com</td>\n",
       "      <td>23rd March  2015</td>\n",
       "      <td>At Dextered we are committed to not only revol...</td>\n",
       "      <td>Pakistan</td>\n",
       "      <td>Islamabad</td>\n",
       "      <td>2015</td>\n",
       "    </tr>\n",
       "  </tbody>\n",
       "</table>\n",
       "</div>"
      ],
      "text/plain": [
       "          Name                                           Location  \\\n",
       "0  Go Rickshaw  Go Logistics  Ground Floor  Palace Cinema Buil...   \n",
       "1     DexterED                                          Islamabad   \n",
       "\n",
       "                                             Tagline        Category  \\\n",
       "0  GO Rickshaw redefines the entire idea of on-de...  Transportation   \n",
       "1  Dextered believes in Creative & Automated Asse...       Education   \n",
       "\n",
       "                  Website              Founded  \\\n",
       "0  https://gorickshaw.pk/  30th October  2015    \n",
       "1     http://dextered.com    23rd March  2015    \n",
       "\n",
       "                                         Description   Country       City  \\\n",
       "0                                                NaN  Pakistan    Karachi   \n",
       "1  At Dextered we are committed to not only revol...  Pakistan  Islamabad   \n",
       "\n",
       "  Founded Year  \n",
       "0         2015  \n",
       "1         2015  "
      ]
     },
     "execution_count": 586,
     "metadata": {},
     "output_type": "execute_result"
    }
   ],
   "source": [
    "# Define a regular expression pattern to match years\n",
    "year_pattern = r'(\\b\\d{4}\\b)'\n",
    "\n",
    "# Extract founded years using regular expressions\n",
    "Startups['Founded Year'] = Startups['Founded'].str.extract(year_pattern)\n",
    "Startups.head(2)\n"
   ]
  },
  {
   "cell_type": "markdown",
   "metadata": {},
   "source": [
    "We have issue that we are not provided with the complete year\n",
    "so we are endeed with the null or not provided values"
   ]
  },
  {
   "cell_type": "code",
   "execution_count": 590,
   "metadata": {},
   "outputs": [],
   "source": [
    "# Check if there are no null values in the 'Founded_Year' column\n",
    "no_null_founded_year = not Startups['Founded Year'].isnull().any()\n",
    "\n",
    "# Filter rows where 'Founded_Year' is null\n",
    "null_founded_year_rows = Startups[Startups['Founded Year'].isnull()]\n",
    "\n",
    "# Replace null values in 'Founded_Year' with 'Not Provided'\n",
    "Startups['Founded Year'].fillna('Not Provided', inplace=True)\n",
    "\n",
    "\n"
   ]
  },
  {
   "cell_type": "code",
   "execution_count": 602,
   "metadata": {},
   "outputs": [
    {
     "data": {
      "application/vnd.plotly.v1+json": {
       "config": {
        "plotlyServerURL": "https://plot.ly"
       },
       "data": [
        {
         "alignmentgroup": "True",
         "hovertemplate": "variable=0<br>Category=%{x}<br>value=%{y}<extra></extra>",
         "legendgroup": "0",
         "marker": {
          "color": "#636efa",
          "pattern": {
           "shape": ""
          }
         },
         "name": "0",
         "offsetgroup": "0",
         "orientation": "v",
         "showlegend": true,
         "textposition": "auto",
         "type": "bar",
         "x": [
          "e-commerce",
          "software",
          "education",
          "website",
          "technology",
          "services",
          "healthcare",
          "automotive",
          "fintech",
          "consulting  software",
          "health",
          "electronics",
          "hardware",
          "marketplace",
          "news media",
          "retail",
          "sharing economy",
          "community",
          "consultancy  services",
          "consulting  software house",
          "digital media",
          "e-learning",
          "financial information services",
          "health care",
          "media"
         ],
         "xaxis": "x",
         "y": [
          37,
          33,
          14,
          13,
          12,
          9,
          8,
          6,
          6,
          5,
          5,
          3,
          3,
          3,
          3,
          3,
          3,
          2,
          2,
          2,
          2,
          2,
          2,
          2,
          2
         ],
         "yaxis": "y"
        }
       ],
       "layout": {
        "barmode": "relative",
        "legend": {
         "title": {
          "text": "variable"
         },
         "tracegroupgap": 0
        },
        "template": {
         "data": {
          "bar": [
           {
            "error_x": {
             "color": "#2a3f5f"
            },
            "error_y": {
             "color": "#2a3f5f"
            },
            "marker": {
             "line": {
              "color": "#E5ECF6",
              "width": 0.5
             },
             "pattern": {
              "fillmode": "overlay",
              "size": 10,
              "solidity": 0.2
             }
            },
            "type": "bar"
           }
          ],
          "barpolar": [
           {
            "marker": {
             "line": {
              "color": "#E5ECF6",
              "width": 0.5
             },
             "pattern": {
              "fillmode": "overlay",
              "size": 10,
              "solidity": 0.2
             }
            },
            "type": "barpolar"
           }
          ],
          "carpet": [
           {
            "aaxis": {
             "endlinecolor": "#2a3f5f",
             "gridcolor": "white",
             "linecolor": "white",
             "minorgridcolor": "white",
             "startlinecolor": "#2a3f5f"
            },
            "baxis": {
             "endlinecolor": "#2a3f5f",
             "gridcolor": "white",
             "linecolor": "white",
             "minorgridcolor": "white",
             "startlinecolor": "#2a3f5f"
            },
            "type": "carpet"
           }
          ],
          "choropleth": [
           {
            "colorbar": {
             "outlinewidth": 0,
             "ticks": ""
            },
            "type": "choropleth"
           }
          ],
          "contour": [
           {
            "colorbar": {
             "outlinewidth": 0,
             "ticks": ""
            },
            "colorscale": [
             [
              0,
              "#0d0887"
             ],
             [
              0.1111111111111111,
              "#46039f"
             ],
             [
              0.2222222222222222,
              "#7201a8"
             ],
             [
              0.3333333333333333,
              "#9c179e"
             ],
             [
              0.4444444444444444,
              "#bd3786"
             ],
             [
              0.5555555555555556,
              "#d8576b"
             ],
             [
              0.6666666666666666,
              "#ed7953"
             ],
             [
              0.7777777777777778,
              "#fb9f3a"
             ],
             [
              0.8888888888888888,
              "#fdca26"
             ],
             [
              1,
              "#f0f921"
             ]
            ],
            "type": "contour"
           }
          ],
          "contourcarpet": [
           {
            "colorbar": {
             "outlinewidth": 0,
             "ticks": ""
            },
            "type": "contourcarpet"
           }
          ],
          "heatmap": [
           {
            "colorbar": {
             "outlinewidth": 0,
             "ticks": ""
            },
            "colorscale": [
             [
              0,
              "#0d0887"
             ],
             [
              0.1111111111111111,
              "#46039f"
             ],
             [
              0.2222222222222222,
              "#7201a8"
             ],
             [
              0.3333333333333333,
              "#9c179e"
             ],
             [
              0.4444444444444444,
              "#bd3786"
             ],
             [
              0.5555555555555556,
              "#d8576b"
             ],
             [
              0.6666666666666666,
              "#ed7953"
             ],
             [
              0.7777777777777778,
              "#fb9f3a"
             ],
             [
              0.8888888888888888,
              "#fdca26"
             ],
             [
              1,
              "#f0f921"
             ]
            ],
            "type": "heatmap"
           }
          ],
          "heatmapgl": [
           {
            "colorbar": {
             "outlinewidth": 0,
             "ticks": ""
            },
            "colorscale": [
             [
              0,
              "#0d0887"
             ],
             [
              0.1111111111111111,
              "#46039f"
             ],
             [
              0.2222222222222222,
              "#7201a8"
             ],
             [
              0.3333333333333333,
              "#9c179e"
             ],
             [
              0.4444444444444444,
              "#bd3786"
             ],
             [
              0.5555555555555556,
              "#d8576b"
             ],
             [
              0.6666666666666666,
              "#ed7953"
             ],
             [
              0.7777777777777778,
              "#fb9f3a"
             ],
             [
              0.8888888888888888,
              "#fdca26"
             ],
             [
              1,
              "#f0f921"
             ]
            ],
            "type": "heatmapgl"
           }
          ],
          "histogram": [
           {
            "marker": {
             "pattern": {
              "fillmode": "overlay",
              "size": 10,
              "solidity": 0.2
             }
            },
            "type": "histogram"
           }
          ],
          "histogram2d": [
           {
            "colorbar": {
             "outlinewidth": 0,
             "ticks": ""
            },
            "colorscale": [
             [
              0,
              "#0d0887"
             ],
             [
              0.1111111111111111,
              "#46039f"
             ],
             [
              0.2222222222222222,
              "#7201a8"
             ],
             [
              0.3333333333333333,
              "#9c179e"
             ],
             [
              0.4444444444444444,
              "#bd3786"
             ],
             [
              0.5555555555555556,
              "#d8576b"
             ],
             [
              0.6666666666666666,
              "#ed7953"
             ],
             [
              0.7777777777777778,
              "#fb9f3a"
             ],
             [
              0.8888888888888888,
              "#fdca26"
             ],
             [
              1,
              "#f0f921"
             ]
            ],
            "type": "histogram2d"
           }
          ],
          "histogram2dcontour": [
           {
            "colorbar": {
             "outlinewidth": 0,
             "ticks": ""
            },
            "colorscale": [
             [
              0,
              "#0d0887"
             ],
             [
              0.1111111111111111,
              "#46039f"
             ],
             [
              0.2222222222222222,
              "#7201a8"
             ],
             [
              0.3333333333333333,
              "#9c179e"
             ],
             [
              0.4444444444444444,
              "#bd3786"
             ],
             [
              0.5555555555555556,
              "#d8576b"
             ],
             [
              0.6666666666666666,
              "#ed7953"
             ],
             [
              0.7777777777777778,
              "#fb9f3a"
             ],
             [
              0.8888888888888888,
              "#fdca26"
             ],
             [
              1,
              "#f0f921"
             ]
            ],
            "type": "histogram2dcontour"
           }
          ],
          "mesh3d": [
           {
            "colorbar": {
             "outlinewidth": 0,
             "ticks": ""
            },
            "type": "mesh3d"
           }
          ],
          "parcoords": [
           {
            "line": {
             "colorbar": {
              "outlinewidth": 0,
              "ticks": ""
             }
            },
            "type": "parcoords"
           }
          ],
          "pie": [
           {
            "automargin": true,
            "type": "pie"
           }
          ],
          "scatter": [
           {
            "fillpattern": {
             "fillmode": "overlay",
             "size": 10,
             "solidity": 0.2
            },
            "type": "scatter"
           }
          ],
          "scatter3d": [
           {
            "line": {
             "colorbar": {
              "outlinewidth": 0,
              "ticks": ""
             }
            },
            "marker": {
             "colorbar": {
              "outlinewidth": 0,
              "ticks": ""
             }
            },
            "type": "scatter3d"
           }
          ],
          "scattercarpet": [
           {
            "marker": {
             "colorbar": {
              "outlinewidth": 0,
              "ticks": ""
             }
            },
            "type": "scattercarpet"
           }
          ],
          "scattergeo": [
           {
            "marker": {
             "colorbar": {
              "outlinewidth": 0,
              "ticks": ""
             }
            },
            "type": "scattergeo"
           }
          ],
          "scattergl": [
           {
            "marker": {
             "colorbar": {
              "outlinewidth": 0,
              "ticks": ""
             }
            },
            "type": "scattergl"
           }
          ],
          "scattermapbox": [
           {
            "marker": {
             "colorbar": {
              "outlinewidth": 0,
              "ticks": ""
             }
            },
            "type": "scattermapbox"
           }
          ],
          "scatterpolar": [
           {
            "marker": {
             "colorbar": {
              "outlinewidth": 0,
              "ticks": ""
             }
            },
            "type": "scatterpolar"
           }
          ],
          "scatterpolargl": [
           {
            "marker": {
             "colorbar": {
              "outlinewidth": 0,
              "ticks": ""
             }
            },
            "type": "scatterpolargl"
           }
          ],
          "scatterternary": [
           {
            "marker": {
             "colorbar": {
              "outlinewidth": 0,
              "ticks": ""
             }
            },
            "type": "scatterternary"
           }
          ],
          "surface": [
           {
            "colorbar": {
             "outlinewidth": 0,
             "ticks": ""
            },
            "colorscale": [
             [
              0,
              "#0d0887"
             ],
             [
              0.1111111111111111,
              "#46039f"
             ],
             [
              0.2222222222222222,
              "#7201a8"
             ],
             [
              0.3333333333333333,
              "#9c179e"
             ],
             [
              0.4444444444444444,
              "#bd3786"
             ],
             [
              0.5555555555555556,
              "#d8576b"
             ],
             [
              0.6666666666666666,
              "#ed7953"
             ],
             [
              0.7777777777777778,
              "#fb9f3a"
             ],
             [
              0.8888888888888888,
              "#fdca26"
             ],
             [
              1,
              "#f0f921"
             ]
            ],
            "type": "surface"
           }
          ],
          "table": [
           {
            "cells": {
             "fill": {
              "color": "#EBF0F8"
             },
             "line": {
              "color": "white"
             }
            },
            "header": {
             "fill": {
              "color": "#C8D4E3"
             },
             "line": {
              "color": "white"
             }
            },
            "type": "table"
           }
          ]
         },
         "layout": {
          "annotationdefaults": {
           "arrowcolor": "#2a3f5f",
           "arrowhead": 0,
           "arrowwidth": 1
          },
          "autotypenumbers": "strict",
          "coloraxis": {
           "colorbar": {
            "outlinewidth": 0,
            "ticks": ""
           }
          },
          "colorscale": {
           "diverging": [
            [
             0,
             "#8e0152"
            ],
            [
             0.1,
             "#c51b7d"
            ],
            [
             0.2,
             "#de77ae"
            ],
            [
             0.3,
             "#f1b6da"
            ],
            [
             0.4,
             "#fde0ef"
            ],
            [
             0.5,
             "#f7f7f7"
            ],
            [
             0.6,
             "#e6f5d0"
            ],
            [
             0.7,
             "#b8e186"
            ],
            [
             0.8,
             "#7fbc41"
            ],
            [
             0.9,
             "#4d9221"
            ],
            [
             1,
             "#276419"
            ]
           ],
           "sequential": [
            [
             0,
             "#0d0887"
            ],
            [
             0.1111111111111111,
             "#46039f"
            ],
            [
             0.2222222222222222,
             "#7201a8"
            ],
            [
             0.3333333333333333,
             "#9c179e"
            ],
            [
             0.4444444444444444,
             "#bd3786"
            ],
            [
             0.5555555555555556,
             "#d8576b"
            ],
            [
             0.6666666666666666,
             "#ed7953"
            ],
            [
             0.7777777777777778,
             "#fb9f3a"
            ],
            [
             0.8888888888888888,
             "#fdca26"
            ],
            [
             1,
             "#f0f921"
            ]
           ],
           "sequentialminus": [
            [
             0,
             "#0d0887"
            ],
            [
             0.1111111111111111,
             "#46039f"
            ],
            [
             0.2222222222222222,
             "#7201a8"
            ],
            [
             0.3333333333333333,
             "#9c179e"
            ],
            [
             0.4444444444444444,
             "#bd3786"
            ],
            [
             0.5555555555555556,
             "#d8576b"
            ],
            [
             0.6666666666666666,
             "#ed7953"
            ],
            [
             0.7777777777777778,
             "#fb9f3a"
            ],
            [
             0.8888888888888888,
             "#fdca26"
            ],
            [
             1,
             "#f0f921"
            ]
           ]
          },
          "colorway": [
           "#636efa",
           "#EF553B",
           "#00cc96",
           "#ab63fa",
           "#FFA15A",
           "#19d3f3",
           "#FF6692",
           "#B6E880",
           "#FF97FF",
           "#FECB52"
          ],
          "font": {
           "color": "#2a3f5f"
          },
          "geo": {
           "bgcolor": "white",
           "lakecolor": "white",
           "landcolor": "#E5ECF6",
           "showlakes": true,
           "showland": true,
           "subunitcolor": "white"
          },
          "hoverlabel": {
           "align": "left"
          },
          "hovermode": "closest",
          "mapbox": {
           "style": "light"
          },
          "paper_bgcolor": "white",
          "plot_bgcolor": "#E5ECF6",
          "polar": {
           "angularaxis": {
            "gridcolor": "white",
            "linecolor": "white",
            "ticks": ""
           },
           "bgcolor": "#E5ECF6",
           "radialaxis": {
            "gridcolor": "white",
            "linecolor": "white",
            "ticks": ""
           }
          },
          "scene": {
           "xaxis": {
            "backgroundcolor": "#E5ECF6",
            "gridcolor": "white",
            "gridwidth": 2,
            "linecolor": "white",
            "showbackground": true,
            "ticks": "",
            "zerolinecolor": "white"
           },
           "yaxis": {
            "backgroundcolor": "#E5ECF6",
            "gridcolor": "white",
            "gridwidth": 2,
            "linecolor": "white",
            "showbackground": true,
            "ticks": "",
            "zerolinecolor": "white"
           },
           "zaxis": {
            "backgroundcolor": "#E5ECF6",
            "gridcolor": "white",
            "gridwidth": 2,
            "linecolor": "white",
            "showbackground": true,
            "ticks": "",
            "zerolinecolor": "white"
           }
          },
          "shapedefaults": {
           "line": {
            "color": "#2a3f5f"
           }
          },
          "ternary": {
           "aaxis": {
            "gridcolor": "white",
            "linecolor": "white",
            "ticks": ""
           },
           "baxis": {
            "gridcolor": "white",
            "linecolor": "white",
            "ticks": ""
           },
           "bgcolor": "#E5ECF6",
           "caxis": {
            "gridcolor": "white",
            "linecolor": "white",
            "ticks": ""
           }
          },
          "title": {
           "x": 0.05
          },
          "xaxis": {
           "automargin": true,
           "gridcolor": "white",
           "linecolor": "white",
           "ticks": "",
           "title": {
            "standoff": 15
           },
           "zerolinecolor": "white",
           "zerolinewidth": 2
          },
          "yaxis": {
           "automargin": true,
           "gridcolor": "white",
           "linecolor": "white",
           "ticks": "",
           "title": {
            "standoff": 15
           },
           "zerolinecolor": "white",
           "zerolinewidth": 2
          }
         }
        },
        "title": {
         "text": "Number of Startups by Category"
        },
        "xaxis": {
         "anchor": "y",
         "domain": [
          0,
          1
         ],
         "title": {
          "text": "Category"
         }
        },
        "yaxis": {
         "anchor": "x",
         "domain": [
          0,
          1
         ],
         "title": {
          "text": "value"
         }
        }
       }
      }
     },
     "metadata": {},
     "output_type": "display_data"
    }
   ],
   "source": [
    "import plotly as py\n",
    "import plotly.express as px\n",
    "Startups.Category = Startups.Category.str.lower().str.strip()\n",
    "cat_wise = Startups.groupby(Startups.Category).size().nlargest(25)\n",
    "px.bar(cat_wise,orientation=\"v\",title=\"Number of Startups by Category\")"
   ]
  },
  {
   "cell_type": "code",
   "execution_count": 607,
   "metadata": {},
   "outputs": [
    {
     "data": {
      "text/html": [
       "<div>\n",
       "<style scoped>\n",
       "    .dataframe tbody tr th:only-of-type {\n",
       "        vertical-align: middle;\n",
       "    }\n",
       "\n",
       "    .dataframe tbody tr th {\n",
       "        vertical-align: top;\n",
       "    }\n",
       "\n",
       "    .dataframe thead th {\n",
       "        text-align: right;\n",
       "    }\n",
       "</style>\n",
       "<table border=\"1\" class=\"dataframe\">\n",
       "  <thead>\n",
       "    <tr style=\"text-align: right;\">\n",
       "      <th></th>\n",
       "      <th>Name</th>\n",
       "      <th>Location</th>\n",
       "      <th>Tagline</th>\n",
       "      <th>Category</th>\n",
       "      <th>Website</th>\n",
       "      <th>Founded</th>\n",
       "      <th>Description</th>\n",
       "      <th>Country</th>\n",
       "      <th>City</th>\n",
       "      <th>Founded Year</th>\n",
       "    </tr>\n",
       "  </thead>\n",
       "  <tbody>\n",
       "    <tr>\n",
       "      <th>0</th>\n",
       "      <td>Go Rickshaw</td>\n",
       "      <td>Go Logistics  Ground Floor  Palace Cinema Buil...</td>\n",
       "      <td>GO Rickshaw redefines the entire idea of on-de...</td>\n",
       "      <td>transportation</td>\n",
       "      <td>https://gorickshaw.pk/</td>\n",
       "      <td>30th October  2015</td>\n",
       "      <td>NaN</td>\n",
       "      <td>Pakistan</td>\n",
       "      <td>Karachi</td>\n",
       "      <td>2015</td>\n",
       "    </tr>\n",
       "    <tr>\n",
       "      <th>1</th>\n",
       "      <td>DexterED</td>\n",
       "      <td>Islamabad</td>\n",
       "      <td>Dextered believes in Creative &amp; Automated Asse...</td>\n",
       "      <td>education</td>\n",
       "      <td>http://dextered.com</td>\n",
       "      <td>23rd March  2015</td>\n",
       "      <td>At Dextered we are committed to not only revol...</td>\n",
       "      <td>Pakistan</td>\n",
       "      <td>Islamabad</td>\n",
       "      <td>2015</td>\n",
       "    </tr>\n",
       "    <tr>\n",
       "      <th>2</th>\n",
       "      <td>TopSchools.pk</td>\n",
       "      <td>Islamabad</td>\n",
       "      <td>Top Schools is a platform for all schools  col...</td>\n",
       "      <td>web portal</td>\n",
       "      <td>http://www.topschools.pk</td>\n",
       "      <td>10th January  2014</td>\n",
       "      <td>Top schools is a web portal for all schools  c...</td>\n",
       "      <td>Pakistan</td>\n",
       "      <td>Islamabad</td>\n",
       "      <td>2014</td>\n",
       "    </tr>\n",
       "    <tr>\n",
       "      <th>3</th>\n",
       "      <td>Jobz.pk</td>\n",
       "      <td>Islamabad</td>\n",
       "      <td>Latest Jobs in Pakistan where one can find new...</td>\n",
       "      <td>job portal</td>\n",
       "      <td>http://jobz.pk</td>\n",
       "      <td>2000</td>\n",
       "      <td>We not only cover Pakistani jobs but also UAE ...</td>\n",
       "      <td>Pakistan</td>\n",
       "      <td>Islamabad</td>\n",
       "      <td>2000</td>\n",
       "    </tr>\n",
       "    <tr>\n",
       "      <th>4</th>\n",
       "      <td>ContentStudio</td>\n",
       "      <td>Islamabad</td>\n",
       "      <td>The easiest way to discover  monitor and share...</td>\n",
       "      <td>software</td>\n",
       "      <td>https://contentstudio.io</td>\n",
       "      <td>2016</td>\n",
       "      <td>NaN</td>\n",
       "      <td>Pakistan</td>\n",
       "      <td>Islamabad</td>\n",
       "      <td>2016</td>\n",
       "    </tr>\n",
       "    <tr>\n",
       "      <th>...</th>\n",
       "      <td>...</td>\n",
       "      <td>...</td>\n",
       "      <td>...</td>\n",
       "      <td>...</td>\n",
       "      <td>...</td>\n",
       "      <td>...</td>\n",
       "      <td>...</td>\n",
       "      <td>...</td>\n",
       "      <td>...</td>\n",
       "      <td>...</td>\n",
       "    </tr>\n",
       "    <tr>\n",
       "      <th>422</th>\n",
       "      <td>Branding in Asia</td>\n",
       "      <td>Seoul  South Korea</td>\n",
       "      <td>A digital publication focusing on Asia's adver...</td>\n",
       "      <td>publishing</td>\n",
       "      <td>http://brandinginasia.com/</td>\n",
       "      <td>1st September  2014</td>\n",
       "      <td>A digital publication that shares news  trends...</td>\n",
       "      <td>Foreign</td>\n",
       "      <td>NaN</td>\n",
       "      <td>2014</td>\n",
       "    </tr>\n",
       "    <tr>\n",
       "      <th>423</th>\n",
       "      <td>WebDealer Solutions</td>\n",
       "      <td>Toronto  ON Canada</td>\n",
       "      <td>Maximize web sales.</td>\n",
       "      <td>services  software  customer enagagement. lead...</td>\n",
       "      <td>http://www.webdealersolutions.com</td>\n",
       "      <td>25th June  2015</td>\n",
       "      <td>We help business owners maximize lead generati...</td>\n",
       "      <td>Foreign</td>\n",
       "      <td>NaN</td>\n",
       "      <td>2015</td>\n",
       "    </tr>\n",
       "    <tr>\n",
       "      <th>424</th>\n",
       "      <td>Cooked Today</td>\n",
       "      <td>United States</td>\n",
       "      <td>A PLATFORM TO BUY AND SELL FRESH HOME COOKED M...</td>\n",
       "      <td>website</td>\n",
       "      <td>http://www.cookedtoday.net</td>\n",
       "      <td>2015</td>\n",
       "      <td>â€˜Cooked Todayâ€™ is a platform for buying an...</td>\n",
       "      <td>Foreign</td>\n",
       "      <td>NaN</td>\n",
       "      <td>2015</td>\n",
       "    </tr>\n",
       "    <tr>\n",
       "      <th>425</th>\n",
       "      <td>Folio3</td>\n",
       "      <td>United States</td>\n",
       "      <td>Folio3 is focused on helping #entrepreneurs an...</td>\n",
       "      <td>consulting  application development  business ...</td>\n",
       "      <td>http://www.folio3.com</td>\n",
       "      <td>2005</td>\n",
       "      <td>Folio3 is an offshore software services compan...</td>\n",
       "      <td>Foreign</td>\n",
       "      <td>NaN</td>\n",
       "      <td>2005</td>\n",
       "    </tr>\n",
       "    <tr>\n",
       "      <th>426</th>\n",
       "      <td>CADDWORX</td>\n",
       "      <td>White Plains  New York  USA</td>\n",
       "      <td>We provide off shore CAD and 3D design service...</td>\n",
       "      <td>consulting  computer aided drafting  3d</td>\n",
       "      <td>NaN</td>\n",
       "      <td>1st September  2010</td>\n",
       "      <td>Headed by a graduate Civil Engineer from Virgi...</td>\n",
       "      <td>Foreign</td>\n",
       "      <td>NaN</td>\n",
       "      <td>2010</td>\n",
       "    </tr>\n",
       "  </tbody>\n",
       "</table>\n",
       "<p>427 rows × 10 columns</p>\n",
       "</div>"
      ],
      "text/plain": [
       "                    Name                                           Location  \\\n",
       "0            Go Rickshaw  Go Logistics  Ground Floor  Palace Cinema Buil...   \n",
       "1               DexterED                                          Islamabad   \n",
       "2          TopSchools.pk                                          Islamabad   \n",
       "3                Jobz.pk                                          Islamabad   \n",
       "4          ContentStudio                                          Islamabad   \n",
       "..                   ...                                                ...   \n",
       "422     Branding in Asia                                 Seoul  South Korea   \n",
       "423  WebDealer Solutions                                 Toronto  ON Canada   \n",
       "424         Cooked Today                                      United States   \n",
       "425               Folio3                                      United States   \n",
       "426             CADDWORX                        White Plains  New York  USA   \n",
       "\n",
       "                                               Tagline  \\\n",
       "0    GO Rickshaw redefines the entire idea of on-de...   \n",
       "1    Dextered believes in Creative & Automated Asse...   \n",
       "2    Top Schools is a platform for all schools  col...   \n",
       "3    Latest Jobs in Pakistan where one can find new...   \n",
       "4    The easiest way to discover  monitor and share...   \n",
       "..                                                 ...   \n",
       "422  A digital publication focusing on Asia's adver...   \n",
       "423                                Maximize web sales.   \n",
       "424  A PLATFORM TO BUY AND SELL FRESH HOME COOKED M...   \n",
       "425  Folio3 is focused on helping #entrepreneurs an...   \n",
       "426  We provide off shore CAD and 3D design service...   \n",
       "\n",
       "                                              Category  \\\n",
       "0                                       transportation   \n",
       "1                                            education   \n",
       "2                                           web portal   \n",
       "3                                           job portal   \n",
       "4                                             software   \n",
       "..                                                 ...   \n",
       "422                                         publishing   \n",
       "423  services  software  customer enagagement. lead...   \n",
       "424                                            website   \n",
       "425  consulting  application development  business ...   \n",
       "426            consulting  computer aided drafting  3d   \n",
       "\n",
       "                               Website               Founded  \\\n",
       "0               https://gorickshaw.pk/   30th October  2015    \n",
       "1                  http://dextered.com     23rd March  2015    \n",
       "2             http://www.topschools.pk   10th January  2014    \n",
       "3                       http://jobz.pk                  2000   \n",
       "4             https://contentstudio.io                  2016   \n",
       "..                                 ...                   ...   \n",
       "422         http://brandinginasia.com/  1st September  2014    \n",
       "423  http://www.webdealersolutions.com      25th June  2015    \n",
       "424         http://www.cookedtoday.net                  2015   \n",
       "425              http://www.folio3.com                  2005   \n",
       "426                                NaN  1st September  2010    \n",
       "\n",
       "                                           Description   Country       City  \\\n",
       "0                                                  NaN  Pakistan    Karachi   \n",
       "1    At Dextered we are committed to not only revol...  Pakistan  Islamabad   \n",
       "2    Top schools is a web portal for all schools  c...  Pakistan  Islamabad   \n",
       "3    We not only cover Pakistani jobs but also UAE ...  Pakistan  Islamabad   \n",
       "4                                                  NaN  Pakistan  Islamabad   \n",
       "..                                                 ...       ...        ...   \n",
       "422  A digital publication that shares news  trends...   Foreign        NaN   \n",
       "423  We help business owners maximize lead generati...   Foreign        NaN   \n",
       "424  â€˜Cooked Todayâ€™ is a platform for buying an...   Foreign        NaN   \n",
       "425  Folio3 is an offshore software services compan...   Foreign        NaN   \n",
       "426  Headed by a graduate Civil Engineer from Virgi...   Foreign        NaN   \n",
       "\n",
       "    Founded Year  \n",
       "0           2015  \n",
       "1           2015  \n",
       "2           2014  \n",
       "3           2000  \n",
       "4           2016  \n",
       "..           ...  \n",
       "422         2014  \n",
       "423         2015  \n",
       "424         2015  \n",
       "425         2005  \n",
       "426         2010  \n",
       "\n",
       "[427 rows x 10 columns]"
      ]
     },
     "execution_count": 607,
     "metadata": {},
     "output_type": "execute_result"
    }
   ],
   "source": [
    "Startups"
   ]
  },
  {
   "cell_type": "code",
   "execution_count": 599,
   "metadata": {},
   "outputs": [
    {
     "name": "stdout",
     "output_type": "stream",
     "text": [
      "e-commerce                                 37\n",
      "software                                   33\n",
      "education                                  14\n",
      "website                                    13\n",
      "technology                                 12\n",
      "                                           ..\n",
      "grocery                                     1\n",
      "online grocery store                        1\n",
      "discount store                              1\n",
      "sms interaction  tech                       1\n",
      "consulting  computer aided drafting  3d     1\n",
      "Name: Category, Length: 260, dtype: int64\n"
     ]
    }
   ],
   "source": [
    "# Count the unique categories and their frequencies\n",
    "category_counts = Startups['Category'].value_counts()\n",
    "\n",
    "# Print the unique categories and their frequencies\n",
    "print(category_counts)\n"
   ]
  },
  {
   "cell_type": "code",
   "execution_count": 613,
   "metadata": {},
   "outputs": [
    {
     "data": {
      "text/plain": [
       "array(['Advertising', 'Consulting', 'Online', 'Application',\n",
       "       'collection  microfinance  bills', 'Fashion', 'Software', 'Mobile',\n",
       "       'reservation', 'Web', 'Services', 'E-commerce', 'Website',\n",
       "       'Digital', 'Automotive', '&', 'Healthcare', 'Marketplace',\n",
       "       'Education', 'Property', 'recruitment', 'Fintech', 'Media/news',\n",
       "       'Technology', 'Service', 'Business', 'chatbots', 'Publishing',\n",
       "       'jobs', 'Financial', 'Hardware', 'Sharing', 'Events', 'Home',\n",
       "       'Supply', 'Content', 'Retail', 'Collaboration', 'Marketing',\n",
       "       'Sports', 'And', 'Iot', 'Delivery', 'E-learning', 'Robotics',\n",
       "       'Saas', 'Social', 'Computers', 'Computer', 'Game', 'Travel',\n",
       "       'Fitness', 'non-profit', 'Cloud', 'cosmetics', 'Transportation',\n",
       "       '3d', 'Recruiting', 'Health', 'Community', 'Shopping', 'Real',\n",
       "       'Finance', 'Information', 'Portal', 'footwear', 'cricket', 'News',\n",
       "       'co-working space', 'food  restaurant', 'entertainment',\n",
       "       'children', 'Apps', 'mobilephones', 'e-ticketing', 'Tourism',\n",
       "       'Consultancy', 'Ecommerce', 'Electronics', 'Training', 'music',\n",
       "       'life-style', 'rewards', 'App', 'florist', 'Media', 'hiring',\n",
       "       'Hospitality', 'consultants', 'Store', 'politics', 'advertisement',\n",
       "       'Tech', 'price comparison', 'photography ', 'It', 'Grocery',\n",
       "       'incubators', 'podcast', 'event planner', 'furniture', 'Design',\n",
       "       'Educational', 'Platform', 'Analytics', 'Phones'], dtype=object)"
      ]
     },
     "execution_count": 613,
     "metadata": {},
     "output_type": "execute_result"
    }
   ],
   "source": [
    "import pandas as pd\n",
    "from collections import Counter\n",
    "\n",
    "# Sample DataFrame\n",
    "data = Startups\n",
    "# Function to extract words from categories and count their occurrences\n",
    "def count_words(categories):\n",
    "    words = [word.lower() for category in categories for word in category.split()]\n",
    "    return Counter(words)\n",
    "\n",
    "# Extract words and count occurrences\n",
    "word_counts = count_words(df['Category'])\n",
    "# print(word_counts)\n",
    "\n",
    "\n",
    "\n",
    "# Define mapping based on word occurrences\n",
    "category_mapping = {}\n",
    "for word, count in word_counts.items():\n",
    "    if count > 1:  # Adjust this threshold as needed\n",
    "        category_mapping[word] = word.capitalize()\n",
    "\n",
    "# Function to standardize categories based on the mapping\n",
    "def standardize_category(category):\n",
    "    category = category.lower()\n",
    "    for word in category.split():\n",
    "        if word in category_mapping:\n",
    "            return category_mapping[word]\n",
    "    return category\n",
    "\n",
    "# Apply standardize_category function to create 'Category_final' column\n",
    "df['Category_final'] = df['Category'].apply(standardize_category)\n",
    "\n",
    "df.Category_final.unique()"
   ]
  },
  {
   "cell_type": "code",
   "execution_count": null,
   "metadata": {},
   "outputs": [],
   "source": []
  }
 ],
 "metadata": {
  "kernelspec": {
   "display_name": "Python 3",
   "language": "python",
   "name": "python3"
  },
  "language_info": {
   "codemirror_mode": {
    "name": "ipython",
    "version": 3
   },
   "file_extension": ".py",
   "mimetype": "text/x-python",
   "name": "python",
   "nbconvert_exporter": "python",
   "pygments_lexer": "ipython3",
   "version": "3.10.11"
  }
 },
 "nbformat": 4,
 "nbformat_minor": 2
}
