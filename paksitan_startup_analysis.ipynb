{
 "cells": [
  {
   "cell_type": "code",
   "execution_count": 215,
   "metadata": {},
   "outputs": [],
   "source": [
    "import pandas as pd\n",
    "import numpy as np\n",
    "import re\n",
    "\n"
   ]
  },
  {
   "cell_type": "code",
   "execution_count": 216,
   "metadata": {},
   "outputs": [
    {
     "data": {
      "text/html": [
       "<div>\n",
       "<style scoped>\n",
       "    .dataframe tbody tr th:only-of-type {\n",
       "        vertical-align: middle;\n",
       "    }\n",
       "\n",
       "    .dataframe tbody tr th {\n",
       "        vertical-align: top;\n",
       "    }\n",
       "\n",
       "    .dataframe thead th {\n",
       "        text-align: right;\n",
       "    }\n",
       "</style>\n",
       "<table border=\"1\" class=\"dataframe\">\n",
       "  <thead>\n",
       "    <tr style=\"text-align: right;\">\n",
       "      <th></th>\n",
       "      <th>Name</th>\n",
       "      <th>Location</th>\n",
       "      <th>Tagline</th>\n",
       "      <th>Category</th>\n",
       "      <th>Website</th>\n",
       "      <th>Founded</th>\n",
       "      <th>Description</th>\n",
       "    </tr>\n",
       "  </thead>\n",
       "  <tbody>\n",
       "    <tr>\n",
       "      <th>0</th>\n",
       "      <td>Outnet</td>\n",
       "      <td>Karachi  Pakistan</td>\n",
       "      <td>Cloud based SaaS platform for planning  procur...</td>\n",
       "      <td>Advertising  OOH  Outdoor Advertising  Data an...</td>\n",
       "      <td>http://www.outnet.com.pk</td>\n",
       "      <td>1st September  2014</td>\n",
       "      <td>24Grey is a T4M (technology for marketing) com...</td>\n",
       "    </tr>\n",
       "    <tr>\n",
       "      <th>1</th>\n",
       "      <td>7Vals</td>\n",
       "      <td>Lahore  Pakistan</td>\n",
       "      <td>Understanding and enabling businesses to impro...</td>\n",
       "      <td>Consulting  Rails  Product Development  UI</td>\n",
       "      <td>http://www.7vals.com</td>\n",
       "      <td>2011</td>\n",
       "      <td>We're changing the way businesses work by maki...</td>\n",
       "    </tr>\n",
       "    <tr>\n",
       "      <th>2</th>\n",
       "      <td>92Solution</td>\n",
       "      <td>Lahore  Pakistan</td>\n",
       "      <td>92 Solution  A Pakistani Company Giving his Pa...</td>\n",
       "      <td>Consulting  Website &amp; Software Development</td>\n",
       "      <td>http://92solution.com</td>\n",
       "      <td>7th January  2015</td>\n",
       "      <td>92 Solution is a Software &amp; Website Developmen...</td>\n",
       "    </tr>\n",
       "    <tr>\n",
       "      <th>3</th>\n",
       "      <td>A2Z Yellow Pages &amp; Info Services</td>\n",
       "      <td>Lahore</td>\n",
       "      <td>Find local Businesses and Services in Pakistan...</td>\n",
       "      <td>Online Business Directory &amp; Portal</td>\n",
       "      <td>https://www.yp-pak.com</td>\n",
       "      <td>30th January  2017</td>\n",
       "      <td>A2Z| Yellow Pages Pakistan will be the innovat...</td>\n",
       "    </tr>\n",
       "    <tr>\n",
       "      <th>4</th>\n",
       "      <td>AALogics</td>\n",
       "      <td>Karachi  Pakistan</td>\n",
       "      <td>NaN</td>\n",
       "      <td>Consulting  Software</td>\n",
       "      <td>http://www.aalogics.com</td>\n",
       "      <td>1st August  2014</td>\n",
       "      <td>IT Consulting  Web development &amp; Designing  Lo...</td>\n",
       "    </tr>\n",
       "    <tr>\n",
       "      <th>...</th>\n",
       "      <td>...</td>\n",
       "      <td>...</td>\n",
       "      <td>...</td>\n",
       "      <td>...</td>\n",
       "      <td>...</td>\n",
       "      <td>...</td>\n",
       "      <td>...</td>\n",
       "    </tr>\n",
       "    <tr>\n",
       "      <th>428</th>\n",
       "      <td>Yum to Yikes</td>\n",
       "      <td>Islamabad  Pakistan</td>\n",
       "      <td>Yum to Yikes aims to inform  entertain and gui...</td>\n",
       "      <td>Media/News</td>\n",
       "      <td>http://yumtoyikes.com</td>\n",
       "      <td>1st May  2015</td>\n",
       "      <td>We are a bunch of enthusiastically-creative fo...</td>\n",
       "    </tr>\n",
       "    <tr>\n",
       "      <th>429</th>\n",
       "      <td>Zambeel</td>\n",
       "      <td>Multan  Pakistan</td>\n",
       "      <td>Online Shopping for Quality Products at lowest...</td>\n",
       "      <td>E-commerce</td>\n",
       "      <td>https://www.zambeel.com</td>\n",
       "      <td>2015</td>\n",
       "      <td>Online Shopping for Quality Products at lowest...</td>\n",
       "    </tr>\n",
       "    <tr>\n",
       "      <th>430</th>\n",
       "      <td>Zameen</td>\n",
       "      <td>Lahore  Pakistan</td>\n",
       "      <td>Zameen.com has single-handedly revolutionized ...</td>\n",
       "      <td>Property Portal</td>\n",
       "      <td>http://www.zameen.com/</td>\n",
       "      <td>2006</td>\n",
       "      <td>NaN</td>\n",
       "    </tr>\n",
       "    <tr>\n",
       "      <th>431</th>\n",
       "      <td>Zest</td>\n",
       "      <td>Islamabad  Pakistan</td>\n",
       "      <td>Zest is the Pakistan's first on-demand massage...</td>\n",
       "      <td>Health</td>\n",
       "      <td>NaN</td>\n",
       "      <td>10th December  2016</td>\n",
       "      <td>Zest is the Massage On Demand company. Availab...</td>\n",
       "    </tr>\n",
       "    <tr>\n",
       "      <th>432</th>\n",
       "      <td>Zindagi - Find a Doctor</td>\n",
       "      <td>Lahore  Pakistan</td>\n",
       "      <td>A fast  simple and secure way to connect docto...</td>\n",
       "      <td>Healthcare</td>\n",
       "      <td>https://www.myzindagi.pk/</td>\n",
       "      <td>12th January  2016</td>\n",
       "      <td>Zindagi is a free service that helps patients ...</td>\n",
       "    </tr>\n",
       "  </tbody>\n",
       "</table>\n",
       "<p>433 rows × 7 columns</p>\n",
       "</div>"
      ],
      "text/plain": [
       "                                 Name             Location  \\\n",
       "0                              Outnet    Karachi  Pakistan   \n",
       "1                              7Vals      Lahore  Pakistan   \n",
       "2                          92Solution     Lahore  Pakistan   \n",
       "3    A2Z Yellow Pages & Info Services               Lahore   \n",
       "4                            AALogics    Karachi  Pakistan   \n",
       "..                                ...                  ...   \n",
       "428                      Yum to Yikes  Islamabad  Pakistan   \n",
       "429                           Zambeel     Multan  Pakistan   \n",
       "430                            Zameen     Lahore  Pakistan   \n",
       "431                              Zest  Islamabad  Pakistan   \n",
       "432           Zindagi - Find a Doctor     Lahore  Pakistan   \n",
       "\n",
       "                                               Tagline  \\\n",
       "0    Cloud based SaaS platform for planning  procur...   \n",
       "1    Understanding and enabling businesses to impro...   \n",
       "2    92 Solution  A Pakistani Company Giving his Pa...   \n",
       "3    Find local Businesses and Services in Pakistan...   \n",
       "4                                                  NaN   \n",
       "..                                                 ...   \n",
       "428  Yum to Yikes aims to inform  entertain and gui...   \n",
       "429  Online Shopping for Quality Products at lowest...   \n",
       "430  Zameen.com has single-handedly revolutionized ...   \n",
       "431  Zest is the Pakistan's first on-demand massage...   \n",
       "432  A fast  simple and secure way to connect docto...   \n",
       "\n",
       "                                              Category  \\\n",
       "0    Advertising  OOH  Outdoor Advertising  Data an...   \n",
       "1           Consulting  Rails  Product Development  UI   \n",
       "2           Consulting  Website & Software Development   \n",
       "3                   Online Business Directory & Portal   \n",
       "4                                 Consulting  Software   \n",
       "..                                                 ...   \n",
       "428                                         Media/News   \n",
       "429                                        E-commerce    \n",
       "430                                    Property Portal   \n",
       "431                                             Health   \n",
       "432                                         Healthcare   \n",
       "\n",
       "                       Website               Founded  \\\n",
       "0     http://www.outnet.com.pk  1st September  2014    \n",
       "1         http://www.7vals.com                  2011   \n",
       "2        http://92solution.com    7th January  2015    \n",
       "3       https://www.yp-pak.com   30th January  2017    \n",
       "4      http://www.aalogics.com     1st August  2014    \n",
       "..                         ...                   ...   \n",
       "428      http://yumtoyikes.com        1st May  2015    \n",
       "429    https://www.zambeel.com                  2015   \n",
       "430     http://www.zameen.com/                  2006   \n",
       "431                        NaN  10th December  2016    \n",
       "432  https://www.myzindagi.pk/   12th January  2016    \n",
       "\n",
       "                                           Description  \n",
       "0    24Grey is a T4M (technology for marketing) com...  \n",
       "1    We're changing the way businesses work by maki...  \n",
       "2    92 Solution is a Software & Website Developmen...  \n",
       "3    A2Z| Yellow Pages Pakistan will be the innovat...  \n",
       "4    IT Consulting  Web development & Designing  Lo...  \n",
       "..                                                 ...  \n",
       "428  We are a bunch of enthusiastically-creative fo...  \n",
       "429  Online Shopping for Quality Products at lowest...  \n",
       "430                                                NaN  \n",
       "431  Zest is the Massage On Demand company. Availab...  \n",
       "432  Zindagi is a free service that helps patients ...  \n",
       "\n",
       "[433 rows x 7 columns]"
      ]
     },
     "execution_count": 216,
     "metadata": {},
     "output_type": "execute_result"
    }
   ],
   "source": [
    "df = pd.read_csv(\"Pakistan Startup Census.csv\")\n",
    "df"
   ]
  },
  {
   "cell_type": "code",
   "execution_count": 217,
   "metadata": {},
   "outputs": [
    {
     "data": {
      "text/plain": [
       "(433, 7)"
      ]
     },
     "execution_count": 217,
     "metadata": {},
     "output_type": "execute_result"
    }
   ],
   "source": [
    "df.shape"
   ]
  },
  {
   "cell_type": "code",
   "execution_count": 218,
   "metadata": {},
   "outputs": [
    {
     "data": {
      "text/plain": [
       "Index(['Name', 'Location', 'Tagline', 'Category', 'Website', 'Founded',\n",
       "       'Description'],\n",
       "      dtype='object')"
      ]
     },
     "execution_count": 218,
     "metadata": {},
     "output_type": "execute_result"
    }
   ],
   "source": [
    "df.columns"
   ]
  },
  {
   "cell_type": "code",
   "execution_count": 219,
   "metadata": {},
   "outputs": [
    {
     "data": {
      "text/plain": [
       "Name            0\n",
       "Location        0\n",
       "Tagline         2\n",
       "Category        0\n",
       "Website        15\n",
       "Founded         0\n",
       "Description    43\n",
       "dtype: int64"
      ]
     },
     "execution_count": 219,
     "metadata": {},
     "output_type": "execute_result"
    }
   ],
   "source": [
    "df.isnull().sum()"
   ]
  },
  {
   "cell_type": "code",
   "execution_count": 220,
   "metadata": {},
   "outputs": [
    {
     "data": {
      "text/plain": [
       "0      False\n",
       "1      False\n",
       "2      False\n",
       "3      False\n",
       "4      False\n",
       "       ...  \n",
       "428    False\n",
       "429    False\n",
       "430    False\n",
       "431    False\n",
       "432    False\n",
       "Length: 433, dtype: bool"
      ]
     },
     "execution_count": 220,
     "metadata": {},
     "output_type": "execute_result"
    }
   ],
   "source": [
    "df.duplicated()\n"
   ]
  },
  {
   "cell_type": "code",
   "execution_count": 221,
   "metadata": {},
   "outputs": [
    {
     "data": {
      "text/html": [
       "<div>\n",
       "<style scoped>\n",
       "    .dataframe tbody tr th:only-of-type {\n",
       "        vertical-align: middle;\n",
       "    }\n",
       "\n",
       "    .dataframe tbody tr th {\n",
       "        vertical-align: top;\n",
       "    }\n",
       "\n",
       "    .dataframe thead th {\n",
       "        text-align: right;\n",
       "    }\n",
       "</style>\n",
       "<table border=\"1\" class=\"dataframe\">\n",
       "  <thead>\n",
       "    <tr style=\"text-align: right;\">\n",
       "      <th></th>\n",
       "      <th>Name</th>\n",
       "      <th>Location</th>\n",
       "      <th>Tagline</th>\n",
       "      <th>Category</th>\n",
       "      <th>Website</th>\n",
       "      <th>Founded</th>\n",
       "      <th>Description</th>\n",
       "    </tr>\n",
       "  </thead>\n",
       "  <tbody>\n",
       "    <tr>\n",
       "      <th>142</th>\n",
       "      <td>Goodshop.pk</td>\n",
       "      <td>Lahore  Pakistan</td>\n",
       "      <td>Goodshop.pk offers Online Shopping in Pakistan...</td>\n",
       "      <td>E-Commerce</td>\n",
       "      <td>https://www.goodshop.pk</td>\n",
       "      <td>1st September  2015</td>\n",
       "      <td>Goodshop.pk offers Online Shopping in Pakistan...</td>\n",
       "    </tr>\n",
       "    <tr>\n",
       "      <th>143</th>\n",
       "      <td>Goodshop.pk</td>\n",
       "      <td>Lahore  Pakistan</td>\n",
       "      <td>Goodshop.pk offers Online Shopping in Pakistan...</td>\n",
       "      <td>E-Commerce</td>\n",
       "      <td>http://www.goodshop.pk</td>\n",
       "      <td>14th August  2016</td>\n",
       "      <td>Goodshop.pk offers Online Shopping in Pakistan...</td>\n",
       "    </tr>\n",
       "  </tbody>\n",
       "</table>\n",
       "</div>"
      ],
      "text/plain": [
       "            Name          Location  \\\n",
       "142  Goodshop.pk  Lahore  Pakistan   \n",
       "143  Goodshop.pk  Lahore  Pakistan   \n",
       "\n",
       "                                               Tagline    Category  \\\n",
       "142  Goodshop.pk offers Online Shopping in Pakistan...  E-Commerce   \n",
       "143  Goodshop.pk offers Online Shopping in Pakistan...  E-Commerce   \n",
       "\n",
       "                     Website               Founded  \\\n",
       "142  https://www.goodshop.pk  1st September  2015    \n",
       "143   http://www.goodshop.pk    14th August  2016    \n",
       "\n",
       "                                           Description  \n",
       "142  Goodshop.pk offers Online Shopping in Pakistan...  \n",
       "143  Goodshop.pk offers Online Shopping in Pakistan...  "
      ]
     },
     "execution_count": 221,
     "metadata": {},
     "output_type": "execute_result"
    }
   ],
   "source": [
    "duplicates_in_column = df[df.duplicated(subset=['Name'], keep=False)]\n",
    "duplicates_in_column"
   ]
  },
  {
   "cell_type": "code",
   "execution_count": 222,
   "metadata": {},
   "outputs": [],
   "source": [
    "# Drop duplicate rows based on the 'Name' column\n",
    "df_cleaned = df.drop_duplicates(subset=['Name'], keep='last')\n",
    " #I am keeping the latest entry that is the last one to consider the correct one"
   ]
  },
  {
   "cell_type": "code",
   "execution_count": 223,
   "metadata": {},
   "outputs": [
    {
     "data": {
      "text/html": [
       "<div>\n",
       "<style scoped>\n",
       "    .dataframe tbody tr th:only-of-type {\n",
       "        vertical-align: middle;\n",
       "    }\n",
       "\n",
       "    .dataframe tbody tr th {\n",
       "        vertical-align: top;\n",
       "    }\n",
       "\n",
       "    .dataframe thead th {\n",
       "        text-align: right;\n",
       "    }\n",
       "</style>\n",
       "<table border=\"1\" class=\"dataframe\">\n",
       "  <thead>\n",
       "    <tr style=\"text-align: right;\">\n",
       "      <th></th>\n",
       "      <th>Name</th>\n",
       "      <th>Location</th>\n",
       "      <th>Tagline</th>\n",
       "      <th>Category</th>\n",
       "      <th>Website</th>\n",
       "      <th>Founded</th>\n",
       "      <th>Description</th>\n",
       "    </tr>\n",
       "  </thead>\n",
       "  <tbody>\n",
       "  </tbody>\n",
       "</table>\n",
       "</div>"
      ],
      "text/plain": [
       "Empty DataFrame\n",
       "Columns: [Name, Location, Tagline, Category, Website, Founded, Description]\n",
       "Index: []"
      ]
     },
     "execution_count": 223,
     "metadata": {},
     "output_type": "execute_result"
    }
   ],
   "source": [
    "duplicates_in_column = df_cleaned[df_cleaned.duplicated(subset=['Name'], keep=False)]\n",
    "duplicates_in_column"
   ]
  },
  {
   "cell_type": "code",
   "execution_count": 224,
   "metadata": {},
   "outputs": [
    {
     "data": {
      "text/plain": [
       "(432, 7)"
      ]
     },
     "execution_count": 224,
     "metadata": {},
     "output_type": "execute_result"
    }
   ],
   "source": [
    "df_cleaned.shape"
   ]
  },
  {
   "cell_type": "code",
   "execution_count": 225,
   "metadata": {},
   "outputs": [
    {
     "data": {
      "text/plain": [
       "Name           object\n",
       "Location       object\n",
       "Tagline        object\n",
       "Category       object\n",
       "Website        object\n",
       "Founded        object\n",
       "Description    object\n",
       "dtype: object"
      ]
     },
     "execution_count": 225,
     "metadata": {},
     "output_type": "execute_result"
    }
   ],
   "source": [
    "df_cleaned.dtypes"
   ]
  },
  {
   "cell_type": "code",
   "execution_count": 226,
   "metadata": {},
   "outputs": [
    {
     "data": {
      "text/html": [
       "<div>\n",
       "<style scoped>\n",
       "    .dataframe tbody tr th:only-of-type {\n",
       "        vertical-align: middle;\n",
       "    }\n",
       "\n",
       "    .dataframe tbody tr th {\n",
       "        vertical-align: top;\n",
       "    }\n",
       "\n",
       "    .dataframe thead th {\n",
       "        text-align: right;\n",
       "    }\n",
       "</style>\n",
       "<table border=\"1\" class=\"dataframe\">\n",
       "  <thead>\n",
       "    <tr style=\"text-align: right;\">\n",
       "      <th></th>\n",
       "      <th>Name</th>\n",
       "      <th>Location</th>\n",
       "      <th>Tagline</th>\n",
       "      <th>Category</th>\n",
       "      <th>Website</th>\n",
       "      <th>Founded</th>\n",
       "      <th>Description</th>\n",
       "    </tr>\n",
       "  </thead>\n",
       "  <tbody>\n",
       "    <tr>\n",
       "      <th>16</th>\n",
       "      <td>Assemblage</td>\n",
       "      <td>214  Block B  13D/2 Gulshan e Iqbal Karachi  P...</td>\n",
       "      <td>Assemblage is an online Parenting Community an...</td>\n",
       "      <td>e-Magazine  Website</td>\n",
       "      <td>www.assemblagekids.com</td>\n",
       "      <td>16th June  2016</td>\n",
       "      <td>Welcome to Assemblage Community Assemblage is ...</td>\n",
       "    </tr>\n",
       "    <tr>\n",
       "      <th>81</th>\n",
       "      <td>Credvestor</td>\n",
       "      <td>3rd Floor Citiview Naheed Supermarket Building...</td>\n",
       "      <td>An innovative peer-to-peer lending bazaar for ...</td>\n",
       "      <td>Software  Finance</td>\n",
       "      <td>http://www.credvestor.com/</td>\n",
       "      <td>1st August  2016</td>\n",
       "      <td>Credvestor is an innovative peer-to-peer lendi...</td>\n",
       "    </tr>\n",
       "    <tr>\n",
       "      <th>187</th>\n",
       "      <td>Kaanjo</td>\n",
       "      <td>Amsterdam</td>\n",
       "      <td>We help our clients give a voice to the silent...</td>\n",
       "      <td>Software</td>\n",
       "      <td>http:// kaanjo.co</td>\n",
       "      <td>16th September  2016</td>\n",
       "      <td>Because we believe all consumers should easily...</td>\n",
       "    </tr>\n",
       "    <tr>\n",
       "      <th>149</th>\n",
       "      <td>HAT incorporation</td>\n",
       "      <td>Block I North Nazimabad Karachi  Pakistan</td>\n",
       "      <td>Hat inco is a software house and a computer in...</td>\n",
       "      <td>Software House  Services</td>\n",
       "      <td>http://www.hatinco.com</td>\n",
       "      <td>1st January  2000</td>\n",
       "      <td>Software House Computer Institute Web developm...</td>\n",
       "    </tr>\n",
       "    <tr>\n",
       "      <th>104</th>\n",
       "      <td>Edev Technologies</td>\n",
       "      <td>Canada</td>\n",
       "      <td>Build great requirements together</td>\n",
       "      <td>Software Product  Software Services  Software ...</td>\n",
       "      <td>http://www.edevtech.com</td>\n",
       "      <td>1999</td>\n",
       "      <td>A requirements lifecycle solutions company ded...</td>\n",
       "    </tr>\n",
       "  </tbody>\n",
       "</table>\n",
       "</div>"
      ],
      "text/plain": [
       "                  Name                                           Location  \\\n",
       "16         Assemblage   214  Block B  13D/2 Gulshan e Iqbal Karachi  P...   \n",
       "81          Credvestor  3rd Floor Citiview Naheed Supermarket Building...   \n",
       "187             Kaanjo                                          Amsterdam   \n",
       "149  HAT incorporation          Block I North Nazimabad Karachi  Pakistan   \n",
       "104  Edev Technologies                                             Canada   \n",
       "\n",
       "                                               Tagline  \\\n",
       "16   Assemblage is an online Parenting Community an...   \n",
       "81   An innovative peer-to-peer lending bazaar for ...   \n",
       "187  We help our clients give a voice to the silent...   \n",
       "149  Hat inco is a software house and a computer in...   \n",
       "104                  Build great requirements together   \n",
       "\n",
       "                                              Category  \\\n",
       "16                                e-Magazine  Website    \n",
       "81                                   Software  Finance   \n",
       "187                                           Software   \n",
       "149                           Software House  Services   \n",
       "104  Software Product  Software Services  Software ...   \n",
       "\n",
       "                        Website                Founded  \\\n",
       "16       www.assemblagekids.com       16th June  2016    \n",
       "81   http://www.credvestor.com/      1st August  2016    \n",
       "187           http:// kaanjo.co  16th September  2016    \n",
       "149      http://www.hatinco.com     1st January  2000    \n",
       "104     http://www.edevtech.com                   1999   \n",
       "\n",
       "                                           Description  \n",
       "16   Welcome to Assemblage Community Assemblage is ...  \n",
       "81   Credvestor is an innovative peer-to-peer lendi...  \n",
       "187  Because we believe all consumers should easily...  \n",
       "149  Software House Computer Institute Web developm...  \n",
       "104  A requirements lifecycle solutions company ded...  "
      ]
     },
     "execution_count": 226,
     "metadata": {},
     "output_type": "execute_result"
    }
   ],
   "source": [
    "df_sorted = df_cleaned.sort_values(by='Location')\n",
    "df_sorted.head(5)"
   ]
  },
  {
   "cell_type": "code",
   "execution_count": 227,
   "metadata": {},
   "outputs": [
    {
     "data": {
      "text/plain": [
       "array(['214  Block B  13D/2 Gulshan e Iqbal Karachi  Pakistan ',\n",
       "       '3rd Floor Citiview Naheed Supermarket Building Shaheed e Millat road Karachi  Pakistan',\n",
       "       'Amsterdam', 'Block I North Nazimabad Karachi  Pakistan', 'Canada',\n",
       "       'Dallas  Texas  United States', 'Dubai', 'Dubai  UAE',\n",
       "       'Dubai  UAE - 1015 Arfa Software Technology Park Lahore Pakistan',\n",
       "       'Faisalabad  Pakistan', 'Faisalabad Pakistan',\n",
       "       'Go Logistics  Ground Floor  Palace Cinema Building  Civil Lines  Karachi',\n",
       "       'Gujranwala  Pakistan', 'Gujrat  Pakistan', 'Gujrat Pakistan',\n",
       "       'Hyderabad  Pakistan',\n",
       "       'IBA Center for Entrepreneurial Development  Karachi  Pakistan',\n",
       "       'Islamabad', 'Islamabad  PAkistan', 'Islamabad  Pakistan',\n",
       "       'Johar Town  Lahore', 'Karachi', 'Karachi  Pakistan',\n",
       "       'Karachi  Pakistan ', 'Karachi  Pakistan.', 'Karachi Pakistan',\n",
       "       'Karachi Pakistan ', 'Karachi Â· Pakistan ', 'Lahore',\n",
       "       'Lahore   Pakistan', 'Lahore  Manchester', 'Lahore  Pakistan',\n",
       "       'Lahore  Pakistan ', 'Lahore  Punjab', 'Lahore  Punjab  Pakistan',\n",
       "       'Lahore Pakistan', 'London  England', 'Los Angeles',\n",
       "       'M-22  Al-Ameen Tower  Nipa Chowrangi  Karachi Pakistan.',\n",
       "       'Main Market Gulberg  Lahore  Pakistan', 'Multan  Pakistan',\n",
       "       'New York', 'Nowshera  Khyber Pakhtunkhwa',\n",
       "       'Nowshera  Khyber Pakhtunkhwa  Pakistan', 'Pakistan',\n",
       "       'Palo Alto  CA', 'Peshawar', 'Peshawar  Pakistan',\n",
       "       'Quetta  Pakistan', 'Raleigh  North Carolina',\n",
       "       'Rawalpindi  Pakistan', 'Rawalpindi/Islamabad',\n",
       "       'Roosevelt Avenue Sunnyvale  CA 94085 United States',\n",
       "       'San Francisco  California', 'Sargodha  Pakistan',\n",
       "       'Seoul  South Korea', 'Sialkot  Pakistan', 'TIC  NUST  Islamabad',\n",
       "       'Toronto  ON Canada', 'United States', 'Wah  Pakistan',\n",
       "       'Wah Cantt  Pakistan', 'White Plains  New York  USA',\n",
       "       'Z43/44 first floor darul aman society block 7/8 near hill park sharah e faisal Karachi  Pakistan',\n",
       "       'http://www.shoplhr.com', 'karachi', 'karachi  Pakistan'],\n",
       "      dtype=object)"
      ]
     },
     "execution_count": 227,
     "metadata": {},
     "output_type": "execute_result"
    }
   ],
   "source": [
    "df_sorted.Location.unique()"
   ]
  },
  {
   "cell_type": "markdown",
   "metadata": {},
   "source": [
    "By looking at the data we can see that We have t some Foreign regsitered startups also listed here, \n",
    "Lets seggerate our data first in Pakistan - regsitersd Startup and Foreign Registered Startups, so we are creating a country column in which we tagging our startups as Foreign and Pakistan"
   ]
  },
  {
   "cell_type": "code",
   "execution_count": 228,
   "metadata": {},
   "outputs": [],
   "source": [
    "# Function to extract the country name\n",
    "def extract_country(location):\n",
    "    if 'Pakistan' in location:\n",
    "        return 'Pakistan'\n",
    "    else:\n",
    "        return 'Foreign'\n",
    "\n",
    "\n",
    "# df_sorted['Country'] = df_sorted['Location'].apply(lambda x: 'Pakistan' if 'Pakistan' in x else 'Foreign')\n"
   ]
  },
  {
   "cell_type": "code",
   "execution_count": 229,
   "metadata": {},
   "outputs": [],
   "source": [
    "df_sorted['Country'] = df_sorted['Location'].apply(extract_country)\n",
    "# Separate Pakistan-based and Foreign-based startups\n",
    "pakistan_based = df_sorted[df_sorted['Country'] == 'Pakistan']\n",
    "foreign_based = df_sorted[df_sorted['Country'] == 'Foreign']\n"
   ]
  },
  {
   "cell_type": "code",
   "execution_count": 230,
   "metadata": {},
   "outputs": [
    {
     "data": {
      "text/html": [
       "<div>\n",
       "<style scoped>\n",
       "    .dataframe tbody tr th:only-of-type {\n",
       "        vertical-align: middle;\n",
       "    }\n",
       "\n",
       "    .dataframe tbody tr th {\n",
       "        vertical-align: top;\n",
       "    }\n",
       "\n",
       "    .dataframe thead th {\n",
       "        text-align: right;\n",
       "    }\n",
       "</style>\n",
       "<table border=\"1\" class=\"dataframe\">\n",
       "  <thead>\n",
       "    <tr style=\"text-align: right;\">\n",
       "      <th></th>\n",
       "      <th>Name</th>\n",
       "      <th>Location</th>\n",
       "      <th>Tagline</th>\n",
       "      <th>Category</th>\n",
       "      <th>Website</th>\n",
       "      <th>Founded</th>\n",
       "      <th>Description</th>\n",
       "      <th>Country</th>\n",
       "    </tr>\n",
       "  </thead>\n",
       "  <tbody>\n",
       "    <tr>\n",
       "      <th>16</th>\n",
       "      <td>Assemblage</td>\n",
       "      <td>214  Block B  13D/2 Gulshan e Iqbal Karachi  P...</td>\n",
       "      <td>Assemblage is an online Parenting Community an...</td>\n",
       "      <td>e-Magazine  Website</td>\n",
       "      <td>www.assemblagekids.com</td>\n",
       "      <td>16th June  2016</td>\n",
       "      <td>Welcome to Assemblage Community Assemblage is ...</td>\n",
       "      <td>Pakistan</td>\n",
       "    </tr>\n",
       "    <tr>\n",
       "      <th>81</th>\n",
       "      <td>Credvestor</td>\n",
       "      <td>3rd Floor Citiview Naheed Supermarket Building...</td>\n",
       "      <td>An innovative peer-to-peer lending bazaar for ...</td>\n",
       "      <td>Software  Finance</td>\n",
       "      <td>http://www.credvestor.com/</td>\n",
       "      <td>1st August  2016</td>\n",
       "      <td>Credvestor is an innovative peer-to-peer lendi...</td>\n",
       "      <td>Pakistan</td>\n",
       "    </tr>\n",
       "    <tr>\n",
       "      <th>149</th>\n",
       "      <td>HAT incorporation</td>\n",
       "      <td>Block I North Nazimabad Karachi  Pakistan</td>\n",
       "      <td>Hat inco is a software house and a computer in...</td>\n",
       "      <td>Software House  Services</td>\n",
       "      <td>http://www.hatinco.com</td>\n",
       "      <td>1st January  2000</td>\n",
       "      <td>Software House Computer Institute Web developm...</td>\n",
       "      <td>Pakistan</td>\n",
       "    </tr>\n",
       "    <tr>\n",
       "      <th>163</th>\n",
       "      <td>ILMASOFT</td>\n",
       "      <td>Dubai  UAE - 1015 Arfa Software Technology Par...</td>\n",
       "      <td>Educational and security products for schools ...</td>\n",
       "      <td>Software</td>\n",
       "      <td>http://www.ilmasoft.com</td>\n",
       "      <td>13th August  2010</td>\n",
       "      <td>We build applications for the vertical sectors...</td>\n",
       "      <td>Pakistan</td>\n",
       "    </tr>\n",
       "    <tr>\n",
       "      <th>47</th>\n",
       "      <td>BrandsEgo.Com</td>\n",
       "      <td>Faisalabad  Pakistan</td>\n",
       "      <td>Buy with confidence. We are Manufacturer and E...</td>\n",
       "      <td>E-Commerce</td>\n",
       "      <td>https://brandsego.com</td>\n",
       "      <td>1st September  2014</td>\n",
       "      <td>Buy with confidence. We are Manufacturer and E...</td>\n",
       "      <td>Pakistan</td>\n",
       "    </tr>\n",
       "    <tr>\n",
       "      <th>...</th>\n",
       "      <td>...</td>\n",
       "      <td>...</td>\n",
       "      <td>...</td>\n",
       "      <td>...</td>\n",
       "      <td>...</td>\n",
       "      <td>...</td>\n",
       "      <td>...</td>\n",
       "      <td>...</td>\n",
       "    </tr>\n",
       "    <tr>\n",
       "      <th>371</th>\n",
       "      <td>The Books Yard</td>\n",
       "      <td>Sialkot  Pakistan</td>\n",
       "      <td>The Books sell Books Online in Pakistan.</td>\n",
       "      <td>Education</td>\n",
       "      <td>https://www.facebook.com/thebooksyard</td>\n",
       "      <td>4th January  2018</td>\n",
       "      <td>This Company sell Books online.</td>\n",
       "      <td>Pakistan</td>\n",
       "    </tr>\n",
       "    <tr>\n",
       "      <th>201</th>\n",
       "      <td>Learn DAE</td>\n",
       "      <td>Wah  Pakistan</td>\n",
       "      <td>Learn DAE is a Non-Profit Technical Educationa...</td>\n",
       "      <td>Technical Education</td>\n",
       "      <td>www.learndae.org.pk</td>\n",
       "      <td>7th December  2016</td>\n",
       "      <td>Learn DAE is a Non-Profit and Non-Government T...</td>\n",
       "      <td>Pakistan</td>\n",
       "    </tr>\n",
       "    <tr>\n",
       "      <th>84</th>\n",
       "      <td>Daastan</td>\n",
       "      <td>Wah Cantt  Pakistan</td>\n",
       "      <td>Daastan is a for-profit company working for re...</td>\n",
       "      <td>Literature  Publishing  Marketplace</td>\n",
       "      <td>http://www.daastan.com</td>\n",
       "      <td>22nd December  2014</td>\n",
       "      <td>Our mission is to connect all stakeholders of ...</td>\n",
       "      <td>Pakistan</td>\n",
       "    </tr>\n",
       "    <tr>\n",
       "      <th>422</th>\n",
       "      <td>Pehnji</td>\n",
       "      <td>Z43/44 first floor darul aman society block 7/...</td>\n",
       "      <td>Online shopping from the Pakistan's best marke...</td>\n",
       "      <td>E-Commerce</td>\n",
       "      <td>http://www.pehnji.com</td>\n",
       "      <td>16th February  2016</td>\n",
       "      <td>pehjni has bigger objective beside becoming Pa...</td>\n",
       "      <td>Pakistan</td>\n",
       "    </tr>\n",
       "    <tr>\n",
       "      <th>239</th>\n",
       "      <td>My Mohalla</td>\n",
       "      <td>karachi  Pakistan</td>\n",
       "      <td>My Mohalla is an organization that is working ...</td>\n",
       "      <td>Software</td>\n",
       "      <td>http://mymohalla.pk/</td>\n",
       "      <td>2nd January  2017</td>\n",
       "      <td>What is My Mohalla? My Mohalla is an organizat...</td>\n",
       "      <td>Pakistan</td>\n",
       "    </tr>\n",
       "  </tbody>\n",
       "</table>\n",
       "<p>378 rows × 8 columns</p>\n",
       "</div>"
      ],
      "text/plain": [
       "                  Name                                           Location  \\\n",
       "16         Assemblage   214  Block B  13D/2 Gulshan e Iqbal Karachi  P...   \n",
       "81          Credvestor  3rd Floor Citiview Naheed Supermarket Building...   \n",
       "149  HAT incorporation          Block I North Nazimabad Karachi  Pakistan   \n",
       "163           ILMASOFT  Dubai  UAE - 1015 Arfa Software Technology Par...   \n",
       "47       BrandsEgo.Com                               Faisalabad  Pakistan   \n",
       "..                 ...                                                ...   \n",
       "371     The Books Yard                                  Sialkot  Pakistan   \n",
       "201          Learn DAE                                      Wah  Pakistan   \n",
       "84             Daastan                                Wah Cantt  Pakistan   \n",
       "422             Pehnji  Z43/44 first floor darul aman society block 7/...   \n",
       "239         My Mohalla                                  karachi  Pakistan   \n",
       "\n",
       "                                               Tagline  \\\n",
       "16   Assemblage is an online Parenting Community an...   \n",
       "81   An innovative peer-to-peer lending bazaar for ...   \n",
       "149  Hat inco is a software house and a computer in...   \n",
       "163  Educational and security products for schools ...   \n",
       "47   Buy with confidence. We are Manufacturer and E...   \n",
       "..                                                 ...   \n",
       "371           The Books sell Books Online in Pakistan.   \n",
       "201  Learn DAE is a Non-Profit Technical Educationa...   \n",
       "84   Daastan is a for-profit company working for re...   \n",
       "422  Online shopping from the Pakistan's best marke...   \n",
       "239  My Mohalla is an organization that is working ...   \n",
       "\n",
       "                                Category  \\\n",
       "16                  e-Magazine  Website    \n",
       "81                     Software  Finance   \n",
       "149             Software House  Services   \n",
       "163                            Software    \n",
       "47                            E-Commerce   \n",
       "..                                   ...   \n",
       "371                            Education   \n",
       "201                  Technical Education   \n",
       "84   Literature  Publishing  Marketplace   \n",
       "422                           E-Commerce   \n",
       "239                             Software   \n",
       "\n",
       "                                   Website               Founded  \\\n",
       "16                  www.assemblagekids.com      16th June  2016    \n",
       "81              http://www.credvestor.com/     1st August  2016    \n",
       "149                 http://www.hatinco.com    1st January  2000    \n",
       "163                http://www.ilmasoft.com    13th August  2010    \n",
       "47                   https://brandsego.com  1st September  2014    \n",
       "..                                     ...                   ...   \n",
       "371  https://www.facebook.com/thebooksyard    4th January  2018    \n",
       "201                    www.learndae.org.pk   7th December  2016    \n",
       "84                  http://www.daastan.com  22nd December  2014    \n",
       "422                  http://www.pehnji.com  16th February  2016    \n",
       "239                   http://mymohalla.pk/    2nd January  2017    \n",
       "\n",
       "                                           Description   Country  \n",
       "16   Welcome to Assemblage Community Assemblage is ...  Pakistan  \n",
       "81   Credvestor is an innovative peer-to-peer lendi...  Pakistan  \n",
       "149  Software House Computer Institute Web developm...  Pakistan  \n",
       "163  We build applications for the vertical sectors...  Pakistan  \n",
       "47   Buy with confidence. We are Manufacturer and E...  Pakistan  \n",
       "..                                                 ...       ...  \n",
       "371                    This Company sell Books online.  Pakistan  \n",
       "201  Learn DAE is a Non-Profit and Non-Government T...  Pakistan  \n",
       "84   Our mission is to connect all stakeholders of ...  Pakistan  \n",
       "422  pehjni has bigger objective beside becoming Pa...  Pakistan  \n",
       "239  What is My Mohalla? My Mohalla is an organizat...  Pakistan  \n",
       "\n",
       "[378 rows x 8 columns]"
      ]
     },
     "execution_count": 230,
     "metadata": {},
     "output_type": "execute_result"
    }
   ],
   "source": [
    "pakistan_based\n",
    "\n"
   ]
  },
  {
   "cell_type": "markdown",
   "metadata": {},
   "source": [
    "We also have found that we have incomplet Locaations in the column, which Only showing the country so we have to drop it because it will cause problem when we will be filltering data for the cities of Pakistan"
   ]
  },
  {
   "cell_type": "markdown",
   "metadata": {},
   "source": [
    "Extracting Cities fromt the pakistan-based startups"
   ]
  },
  {
   "cell_type": "code",
   "execution_count": 231,
   "metadata": {},
   "outputs": [
    {
     "name": "stderr",
     "output_type": "stream",
     "text": [
      "C:\\Users\\NimZee\\AppData\\Local\\Temp\\ipykernel_21236\\113054989.py:25: SettingWithCopyWarning:\n",
      "\n",
      "\n",
      "A value is trying to be set on a copy of a slice from a DataFrame.\n",
      "Try using .loc[row_indexer,col_indexer] = value instead\n",
      "\n",
      "See the caveats in the documentation: https://pandas.pydata.org/pandas-docs/stable/user_guide/indexing.html#returning-a-view-versus-a-copy\n",
      "\n"
     ]
    },
    {
     "data": {
      "text/html": [
       "<div>\n",
       "<style scoped>\n",
       "    .dataframe tbody tr th:only-of-type {\n",
       "        vertical-align: middle;\n",
       "    }\n",
       "\n",
       "    .dataframe tbody tr th {\n",
       "        vertical-align: top;\n",
       "    }\n",
       "\n",
       "    .dataframe thead th {\n",
       "        text-align: right;\n",
       "    }\n",
       "</style>\n",
       "<table border=\"1\" class=\"dataframe\">\n",
       "  <thead>\n",
       "    <tr style=\"text-align: right;\">\n",
       "      <th></th>\n",
       "      <th>Name</th>\n",
       "      <th>Location</th>\n",
       "      <th>Tagline</th>\n",
       "      <th>Category</th>\n",
       "      <th>Website</th>\n",
       "      <th>Founded</th>\n",
       "      <th>Description</th>\n",
       "      <th>Country</th>\n",
       "      <th>City</th>\n",
       "    </tr>\n",
       "  </thead>\n",
       "  <tbody>\n",
       "    <tr>\n",
       "      <th>16</th>\n",
       "      <td>Assemblage</td>\n",
       "      <td>214  Block B  13D/2 Gulshan e Iqbal Karachi  P...</td>\n",
       "      <td>Assemblage is an online Parenting Community an...</td>\n",
       "      <td>e-Magazine  Website</td>\n",
       "      <td>www.assemblagekids.com</td>\n",
       "      <td>16th June  2016</td>\n",
       "      <td>Welcome to Assemblage Community Assemblage is ...</td>\n",
       "      <td>Pakistan</td>\n",
       "      <td>Karachi</td>\n",
       "    </tr>\n",
       "    <tr>\n",
       "      <th>81</th>\n",
       "      <td>Credvestor</td>\n",
       "      <td>3rd Floor Citiview Naheed Supermarket Building...</td>\n",
       "      <td>An innovative peer-to-peer lending bazaar for ...</td>\n",
       "      <td>Software  Finance</td>\n",
       "      <td>http://www.credvestor.com/</td>\n",
       "      <td>1st August  2016</td>\n",
       "      <td>Credvestor is an innovative peer-to-peer lendi...</td>\n",
       "      <td>Pakistan</td>\n",
       "      <td>Karachi</td>\n",
       "    </tr>\n",
       "    <tr>\n",
       "      <th>149</th>\n",
       "      <td>HAT incorporation</td>\n",
       "      <td>Block I North Nazimabad Karachi  Pakistan</td>\n",
       "      <td>Hat inco is a software house and a computer in...</td>\n",
       "      <td>Software House  Services</td>\n",
       "      <td>http://www.hatinco.com</td>\n",
       "      <td>1st January  2000</td>\n",
       "      <td>Software House Computer Institute Web developm...</td>\n",
       "      <td>Pakistan</td>\n",
       "      <td>Karachi</td>\n",
       "    </tr>\n",
       "    <tr>\n",
       "      <th>163</th>\n",
       "      <td>ILMASOFT</td>\n",
       "      <td>Dubai  UAE - 1015 Arfa Software Technology Par...</td>\n",
       "      <td>Educational and security products for schools ...</td>\n",
       "      <td>Software</td>\n",
       "      <td>http://www.ilmasoft.com</td>\n",
       "      <td>13th August  2010</td>\n",
       "      <td>We build applications for the vertical sectors...</td>\n",
       "      <td>Pakistan</td>\n",
       "      <td>Lahore</td>\n",
       "    </tr>\n",
       "    <tr>\n",
       "      <th>47</th>\n",
       "      <td>BrandsEgo.Com</td>\n",
       "      <td>Faisalabad  Pakistan</td>\n",
       "      <td>Buy with confidence. We are Manufacturer and E...</td>\n",
       "      <td>E-Commerce</td>\n",
       "      <td>https://brandsego.com</td>\n",
       "      <td>1st September  2014</td>\n",
       "      <td>Buy with confidence. We are Manufacturer and E...</td>\n",
       "      <td>Pakistan</td>\n",
       "      <td>Faisalabad</td>\n",
       "    </tr>\n",
       "    <tr>\n",
       "      <th>...</th>\n",
       "      <td>...</td>\n",
       "      <td>...</td>\n",
       "      <td>...</td>\n",
       "      <td>...</td>\n",
       "      <td>...</td>\n",
       "      <td>...</td>\n",
       "      <td>...</td>\n",
       "      <td>...</td>\n",
       "      <td>...</td>\n",
       "    </tr>\n",
       "    <tr>\n",
       "      <th>371</th>\n",
       "      <td>The Books Yard</td>\n",
       "      <td>Sialkot  Pakistan</td>\n",
       "      <td>The Books sell Books Online in Pakistan.</td>\n",
       "      <td>Education</td>\n",
       "      <td>https://www.facebook.com/thebooksyard</td>\n",
       "      <td>4th January  2018</td>\n",
       "      <td>This Company sell Books online.</td>\n",
       "      <td>Pakistan</td>\n",
       "      <td>Sialkot</td>\n",
       "    </tr>\n",
       "    <tr>\n",
       "      <th>201</th>\n",
       "      <td>Learn DAE</td>\n",
       "      <td>Wah  Pakistan</td>\n",
       "      <td>Learn DAE is a Non-Profit Technical Educationa...</td>\n",
       "      <td>Technical Education</td>\n",
       "      <td>www.learndae.org.pk</td>\n",
       "      <td>7th December  2016</td>\n",
       "      <td>Learn DAE is a Non-Profit and Non-Government T...</td>\n",
       "      <td>Pakistan</td>\n",
       "      <td>Wah</td>\n",
       "    </tr>\n",
       "    <tr>\n",
       "      <th>84</th>\n",
       "      <td>Daastan</td>\n",
       "      <td>Wah Cantt  Pakistan</td>\n",
       "      <td>Daastan is a for-profit company working for re...</td>\n",
       "      <td>Literature  Publishing  Marketplace</td>\n",
       "      <td>http://www.daastan.com</td>\n",
       "      <td>22nd December  2014</td>\n",
       "      <td>Our mission is to connect all stakeholders of ...</td>\n",
       "      <td>Pakistan</td>\n",
       "      <td>Cantt</td>\n",
       "    </tr>\n",
       "    <tr>\n",
       "      <th>422</th>\n",
       "      <td>Pehnji</td>\n",
       "      <td>Z43/44 first floor darul aman society block 7/...</td>\n",
       "      <td>Online shopping from the Pakistan's best marke...</td>\n",
       "      <td>E-Commerce</td>\n",
       "      <td>http://www.pehnji.com</td>\n",
       "      <td>16th February  2016</td>\n",
       "      <td>pehjni has bigger objective beside becoming Pa...</td>\n",
       "      <td>Pakistan</td>\n",
       "      <td>Karachi</td>\n",
       "    </tr>\n",
       "    <tr>\n",
       "      <th>239</th>\n",
       "      <td>My Mohalla</td>\n",
       "      <td>karachi  Pakistan</td>\n",
       "      <td>My Mohalla is an organization that is working ...</td>\n",
       "      <td>Software</td>\n",
       "      <td>http://mymohalla.pk/</td>\n",
       "      <td>2nd January  2017</td>\n",
       "      <td>What is My Mohalla? My Mohalla is an organizat...</td>\n",
       "      <td>Pakistan</td>\n",
       "      <td>karachi</td>\n",
       "    </tr>\n",
       "  </tbody>\n",
       "</table>\n",
       "<p>378 rows × 9 columns</p>\n",
       "</div>"
      ],
      "text/plain": [
       "                  Name                                           Location  \\\n",
       "16         Assemblage   214  Block B  13D/2 Gulshan e Iqbal Karachi  P...   \n",
       "81          Credvestor  3rd Floor Citiview Naheed Supermarket Building...   \n",
       "149  HAT incorporation          Block I North Nazimabad Karachi  Pakistan   \n",
       "163           ILMASOFT  Dubai  UAE - 1015 Arfa Software Technology Par...   \n",
       "47       BrandsEgo.Com                               Faisalabad  Pakistan   \n",
       "..                 ...                                                ...   \n",
       "371     The Books Yard                                  Sialkot  Pakistan   \n",
       "201          Learn DAE                                      Wah  Pakistan   \n",
       "84             Daastan                                Wah Cantt  Pakistan   \n",
       "422             Pehnji  Z43/44 first floor darul aman society block 7/...   \n",
       "239         My Mohalla                                  karachi  Pakistan   \n",
       "\n",
       "                                               Tagline  \\\n",
       "16   Assemblage is an online Parenting Community an...   \n",
       "81   An innovative peer-to-peer lending bazaar for ...   \n",
       "149  Hat inco is a software house and a computer in...   \n",
       "163  Educational and security products for schools ...   \n",
       "47   Buy with confidence. We are Manufacturer and E...   \n",
       "..                                                 ...   \n",
       "371           The Books sell Books Online in Pakistan.   \n",
       "201  Learn DAE is a Non-Profit Technical Educationa...   \n",
       "84   Daastan is a for-profit company working for re...   \n",
       "422  Online shopping from the Pakistan's best marke...   \n",
       "239  My Mohalla is an organization that is working ...   \n",
       "\n",
       "                                Category  \\\n",
       "16                  e-Magazine  Website    \n",
       "81                     Software  Finance   \n",
       "149             Software House  Services   \n",
       "163                            Software    \n",
       "47                            E-Commerce   \n",
       "..                                   ...   \n",
       "371                            Education   \n",
       "201                  Technical Education   \n",
       "84   Literature  Publishing  Marketplace   \n",
       "422                           E-Commerce   \n",
       "239                             Software   \n",
       "\n",
       "                                   Website               Founded  \\\n",
       "16                  www.assemblagekids.com      16th June  2016    \n",
       "81              http://www.credvestor.com/     1st August  2016    \n",
       "149                 http://www.hatinco.com    1st January  2000    \n",
       "163                http://www.ilmasoft.com    13th August  2010    \n",
       "47                   https://brandsego.com  1st September  2014    \n",
       "..                                     ...                   ...   \n",
       "371  https://www.facebook.com/thebooksyard    4th January  2018    \n",
       "201                    www.learndae.org.pk   7th December  2016    \n",
       "84                  http://www.daastan.com  22nd December  2014    \n",
       "422                  http://www.pehnji.com  16th February  2016    \n",
       "239                   http://mymohalla.pk/    2nd January  2017    \n",
       "\n",
       "                                           Description   Country        City  \n",
       "16   Welcome to Assemblage Community Assemblage is ...  Pakistan     Karachi  \n",
       "81   Credvestor is an innovative peer-to-peer lendi...  Pakistan     Karachi  \n",
       "149  Software House Computer Institute Web developm...  Pakistan     Karachi  \n",
       "163  We build applications for the vertical sectors...  Pakistan      Lahore  \n",
       "47   Buy with confidence. We are Manufacturer and E...  Pakistan  Faisalabad  \n",
       "..                                                 ...       ...         ...  \n",
       "371                    This Company sell Books online.  Pakistan     Sialkot  \n",
       "201  Learn DAE is a Non-Profit and Non-Government T...  Pakistan         Wah  \n",
       "84   Our mission is to connect all stakeholders of ...  Pakistan       Cantt  \n",
       "422  pehjni has bigger objective beside becoming Pa...  Pakistan     Karachi  \n",
       "239  What is My Mohalla? My Mohalla is an organizat...  Pakistan     karachi  \n",
       "\n",
       "[378 rows x 9 columns]"
      ]
     },
     "execution_count": 231,
     "metadata": {},
     "output_type": "execute_result"
    }
   ],
   "source": [
    "def extract_city(location):\n",
    "    parts = location.split()\n",
    "    if 'Pakistan' in parts or 'Pakistan.' in parts:\n",
    "        idx = parts.index('Pakistan') if 'Pakistan' in parts else parts.index('Pakistan.') #Considering Pakistan. scenaro her too\n",
    "        if idx >= 0:\n",
    "            # Check if the word before 'Pakistan' is a province\n",
    "            if parts[idx - 1] in ['Punjab', 'Sindh', 'Balochistan']:\n",
    "                city = parts[idx - 2]\n",
    "            elif parts[idx - 1] == 'Pakhtunkhwa':\n",
    "                # Check if 'Khyber' is present directly before 'Pakhtunkhwa'\n",
    "                if parts[idx - 2] == 'Khyber':\n",
    "                    # Extract the city name before 'Khyber'\n",
    "                    city = parts[idx - 3]\n",
    "                else:\n",
    "                    city = parts[idx - 2]\n",
    "            else:\n",
    "                city = parts[idx - 1]\n",
    "        else:\n",
    "            city = None\n",
    "    else:\n",
    "        city = None\n",
    "    return city\n",
    "\n",
    "# Apply the function to create a new column 'City'\n",
    "pakistan_based['City'] = pakistan_based['Location'].apply(extract_city)\n",
    "\n",
    "pakistan_based\n"
   ]
  },
  {
   "cell_type": "code",
   "execution_count": 232,
   "metadata": {},
   "outputs": [
    {
     "name": "stderr",
     "output_type": "stream",
     "text": [
      "C:\\Users\\NimZee\\AppData\\Local\\Temp\\ipykernel_21236\\2232085017.py:1: SettingWithCopyWarning:\n",
      "\n",
      "\n",
      "A value is trying to be set on a copy of a slice from a DataFrame.\n",
      "Try using .loc[row_indexer,col_indexer] = value instead\n",
      "\n",
      "See the caveats in the documentation: https://pandas.pydata.org/pandas-docs/stable/user_guide/indexing.html#returning-a-view-versus-a-copy\n",
      "\n"
     ]
    },
    {
     "data": {
      "text/html": [
       "<div>\n",
       "<style scoped>\n",
       "    .dataframe tbody tr th:only-of-type {\n",
       "        vertical-align: middle;\n",
       "    }\n",
       "\n",
       "    .dataframe tbody tr th {\n",
       "        vertical-align: top;\n",
       "    }\n",
       "\n",
       "    .dataframe thead th {\n",
       "        text-align: right;\n",
       "    }\n",
       "</style>\n",
       "<table border=\"1\" class=\"dataframe\">\n",
       "  <thead>\n",
       "    <tr style=\"text-align: right;\">\n",
       "      <th></th>\n",
       "      <th>Name</th>\n",
       "      <th>Location</th>\n",
       "      <th>Tagline</th>\n",
       "      <th>Category</th>\n",
       "      <th>Website</th>\n",
       "      <th>Founded</th>\n",
       "      <th>Description</th>\n",
       "      <th>Country</th>\n",
       "      <th>City</th>\n",
       "    </tr>\n",
       "  </thead>\n",
       "  <tbody>\n",
       "    <tr>\n",
       "      <th>16</th>\n",
       "      <td>Assemblage</td>\n",
       "      <td>214  Block B  13D/2 Gulshan e Iqbal Karachi  P...</td>\n",
       "      <td>Assemblage is an online Parenting Community an...</td>\n",
       "      <td>e-Magazine  Website</td>\n",
       "      <td>www.assemblagekids.com</td>\n",
       "      <td>16th June  2016</td>\n",
       "      <td>Welcome to Assemblage Community Assemblage is ...</td>\n",
       "      <td>Pakistan</td>\n",
       "      <td>Karachi</td>\n",
       "    </tr>\n",
       "    <tr>\n",
       "      <th>81</th>\n",
       "      <td>Credvestor</td>\n",
       "      <td>3rd Floor Citiview Naheed Supermarket Building...</td>\n",
       "      <td>An innovative peer-to-peer lending bazaar for ...</td>\n",
       "      <td>Software  Finance</td>\n",
       "      <td>http://www.credvestor.com/</td>\n",
       "      <td>1st August  2016</td>\n",
       "      <td>Credvestor is an innovative peer-to-peer lendi...</td>\n",
       "      <td>Pakistan</td>\n",
       "      <td>Karachi</td>\n",
       "    </tr>\n",
       "    <tr>\n",
       "      <th>149</th>\n",
       "      <td>HAT incorporation</td>\n",
       "      <td>Block I North Nazimabad Karachi  Pakistan</td>\n",
       "      <td>Hat inco is a software house and a computer in...</td>\n",
       "      <td>Software House  Services</td>\n",
       "      <td>http://www.hatinco.com</td>\n",
       "      <td>1st January  2000</td>\n",
       "      <td>Software House Computer Institute Web developm...</td>\n",
       "      <td>Pakistan</td>\n",
       "      <td>Karachi</td>\n",
       "    </tr>\n",
       "    <tr>\n",
       "      <th>163</th>\n",
       "      <td>ILMASOFT</td>\n",
       "      <td>Dubai  UAE - 1015 Arfa Software Technology Par...</td>\n",
       "      <td>Educational and security products for schools ...</td>\n",
       "      <td>Software</td>\n",
       "      <td>http://www.ilmasoft.com</td>\n",
       "      <td>13th August  2010</td>\n",
       "      <td>We build applications for the vertical sectors...</td>\n",
       "      <td>Pakistan</td>\n",
       "      <td>Lahore</td>\n",
       "    </tr>\n",
       "    <tr>\n",
       "      <th>47</th>\n",
       "      <td>BrandsEgo.Com</td>\n",
       "      <td>Faisalabad  Pakistan</td>\n",
       "      <td>Buy with confidence. We are Manufacturer and E...</td>\n",
       "      <td>E-Commerce</td>\n",
       "      <td>https://brandsego.com</td>\n",
       "      <td>1st September  2014</td>\n",
       "      <td>Buy with confidence. We are Manufacturer and E...</td>\n",
       "      <td>Pakistan</td>\n",
       "      <td>Faisalabad</td>\n",
       "    </tr>\n",
       "    <tr>\n",
       "      <th>...</th>\n",
       "      <td>...</td>\n",
       "      <td>...</td>\n",
       "      <td>...</td>\n",
       "      <td>...</td>\n",
       "      <td>...</td>\n",
       "      <td>...</td>\n",
       "      <td>...</td>\n",
       "      <td>...</td>\n",
       "      <td>...</td>\n",
       "    </tr>\n",
       "    <tr>\n",
       "      <th>371</th>\n",
       "      <td>The Books Yard</td>\n",
       "      <td>Sialkot  Pakistan</td>\n",
       "      <td>The Books sell Books Online in Pakistan.</td>\n",
       "      <td>Education</td>\n",
       "      <td>https://www.facebook.com/thebooksyard</td>\n",
       "      <td>4th January  2018</td>\n",
       "      <td>This Company sell Books online.</td>\n",
       "      <td>Pakistan</td>\n",
       "      <td>Sialkot</td>\n",
       "    </tr>\n",
       "    <tr>\n",
       "      <th>201</th>\n",
       "      <td>Learn DAE</td>\n",
       "      <td>Wah  Pakistan</td>\n",
       "      <td>Learn DAE is a Non-Profit Technical Educationa...</td>\n",
       "      <td>Technical Education</td>\n",
       "      <td>www.learndae.org.pk</td>\n",
       "      <td>7th December  2016</td>\n",
       "      <td>Learn DAE is a Non-Profit and Non-Government T...</td>\n",
       "      <td>Pakistan</td>\n",
       "      <td>Wah</td>\n",
       "    </tr>\n",
       "    <tr>\n",
       "      <th>84</th>\n",
       "      <td>Daastan</td>\n",
       "      <td>Wah Cantt  Pakistan</td>\n",
       "      <td>Daastan is a for-profit company working for re...</td>\n",
       "      <td>Literature  Publishing  Marketplace</td>\n",
       "      <td>http://www.daastan.com</td>\n",
       "      <td>22nd December  2014</td>\n",
       "      <td>Our mission is to connect all stakeholders of ...</td>\n",
       "      <td>Pakistan</td>\n",
       "      <td>Cantt</td>\n",
       "    </tr>\n",
       "    <tr>\n",
       "      <th>422</th>\n",
       "      <td>Pehnji</td>\n",
       "      <td>Z43/44 first floor darul aman society block 7/...</td>\n",
       "      <td>Online shopping from the Pakistan's best marke...</td>\n",
       "      <td>E-Commerce</td>\n",
       "      <td>http://www.pehnji.com</td>\n",
       "      <td>16th February  2016</td>\n",
       "      <td>pehjni has bigger objective beside becoming Pa...</td>\n",
       "      <td>Pakistan</td>\n",
       "      <td>Karachi</td>\n",
       "    </tr>\n",
       "    <tr>\n",
       "      <th>239</th>\n",
       "      <td>My Mohalla</td>\n",
       "      <td>karachi  Pakistan</td>\n",
       "      <td>My Mohalla is an organization that is working ...</td>\n",
       "      <td>Software</td>\n",
       "      <td>http://mymohalla.pk/</td>\n",
       "      <td>2nd January  2017</td>\n",
       "      <td>What is My Mohalla? My Mohalla is an organizat...</td>\n",
       "      <td>Pakistan</td>\n",
       "      <td>karachi</td>\n",
       "    </tr>\n",
       "  </tbody>\n",
       "</table>\n",
       "<p>378 rows × 9 columns</p>\n",
       "</div>"
      ],
      "text/plain": [
       "                  Name                                           Location  \\\n",
       "16         Assemblage   214  Block B  13D/2 Gulshan e Iqbal Karachi  P...   \n",
       "81          Credvestor  3rd Floor Citiview Naheed Supermarket Building...   \n",
       "149  HAT incorporation          Block I North Nazimabad Karachi  Pakistan   \n",
       "163           ILMASOFT  Dubai  UAE - 1015 Arfa Software Technology Par...   \n",
       "47       BrandsEgo.Com                               Faisalabad  Pakistan   \n",
       "..                 ...                                                ...   \n",
       "371     The Books Yard                                  Sialkot  Pakistan   \n",
       "201          Learn DAE                                      Wah  Pakistan   \n",
       "84             Daastan                                Wah Cantt  Pakistan   \n",
       "422             Pehnji  Z43/44 first floor darul aman society block 7/...   \n",
       "239         My Mohalla                                  karachi  Pakistan   \n",
       "\n",
       "                                               Tagline  \\\n",
       "16   Assemblage is an online Parenting Community an...   \n",
       "81   An innovative peer-to-peer lending bazaar for ...   \n",
       "149  Hat inco is a software house and a computer in...   \n",
       "163  Educational and security products for schools ...   \n",
       "47   Buy with confidence. We are Manufacturer and E...   \n",
       "..                                                 ...   \n",
       "371           The Books sell Books Online in Pakistan.   \n",
       "201  Learn DAE is a Non-Profit Technical Educationa...   \n",
       "84   Daastan is a for-profit company working for re...   \n",
       "422  Online shopping from the Pakistan's best marke...   \n",
       "239  My Mohalla is an organization that is working ...   \n",
       "\n",
       "                                Category  \\\n",
       "16                  e-Magazine  Website    \n",
       "81                     Software  Finance   \n",
       "149             Software House  Services   \n",
       "163                            Software    \n",
       "47                            E-Commerce   \n",
       "..                                   ...   \n",
       "371                            Education   \n",
       "201                  Technical Education   \n",
       "84   Literature  Publishing  Marketplace   \n",
       "422                           E-Commerce   \n",
       "239                             Software   \n",
       "\n",
       "                                   Website               Founded  \\\n",
       "16                  www.assemblagekids.com      16th June  2016    \n",
       "81              http://www.credvestor.com/     1st August  2016    \n",
       "149                 http://www.hatinco.com    1st January  2000    \n",
       "163                http://www.ilmasoft.com    13th August  2010    \n",
       "47                   https://brandsego.com  1st September  2014    \n",
       "..                                     ...                   ...   \n",
       "371  https://www.facebook.com/thebooksyard    4th January  2018    \n",
       "201                    www.learndae.org.pk   7th December  2016    \n",
       "84                  http://www.daastan.com  22nd December  2014    \n",
       "422                  http://www.pehnji.com  16th February  2016    \n",
       "239                   http://mymohalla.pk/    2nd January  2017    \n",
       "\n",
       "                                           Description   Country        City  \n",
       "16   Welcome to Assemblage Community Assemblage is ...  Pakistan     Karachi  \n",
       "81   Credvestor is an innovative peer-to-peer lendi...  Pakistan     Karachi  \n",
       "149  Software House Computer Institute Web developm...  Pakistan     Karachi  \n",
       "163  We build applications for the vertical sectors...  Pakistan      Lahore  \n",
       "47   Buy with confidence. We are Manufacturer and E...  Pakistan  Faisalabad  \n",
       "..                                                 ...       ...         ...  \n",
       "371                    This Company sell Books online.  Pakistan     Sialkot  \n",
       "201  Learn DAE is a Non-Profit and Non-Government T...  Pakistan         Wah  \n",
       "84   Our mission is to connect all stakeholders of ...  Pakistan       Cantt  \n",
       "422  pehjni has bigger objective beside becoming Pa...  Pakistan     Karachi  \n",
       "239  What is My Mohalla? My Mohalla is an organizat...  Pakistan     karachi  \n",
       "\n",
       "[378 rows x 9 columns]"
      ]
     },
     "execution_count": 232,
     "metadata": {},
     "output_type": "execute_result"
    }
   ],
   "source": [
    "pakistan_based['City'] = pakistan_based['Location'].apply(extract_city)\n",
    "pakistan_based"
   ]
  },
  {
   "cell_type": "code",
   "execution_count": 233,
   "metadata": {},
   "outputs": [
    {
     "data": {
      "text/plain": [
       "array(['Karachi', 'Lahore', 'Faisalabad', 'Gujranwala', 'Gujrat',\n",
       "       'Hyderabad', 'Islamabad', 'Â·', 'Multan', 'Nowshera', 'Pakistan',\n",
       "       'Peshawar', 'Quetta', 'Rawalpindi', 'Sargodha', 'Sialkot', 'Wah',\n",
       "       'Cantt', 'karachi'], dtype=object)"
      ]
     },
     "execution_count": 233,
     "metadata": {},
     "output_type": "execute_result"
    }
   ],
   "source": [
    "# Apply the function to create a new column 'City'\n",
    "pakistan_based.City.unique()"
   ]
  },
  {
   "cell_type": "markdown",
   "metadata": {},
   "source": [
    "We still have some issues Like None and repeatation of Karachi  Wah and Wah Cantt so lets just check none first and this A and then will make it proper."
   ]
  },
  {
   "cell_type": "code",
   "execution_count": 234,
   "metadata": {},
   "outputs": [
    {
     "data": {
      "text/html": [
       "<div>\n",
       "<style scoped>\n",
       "    .dataframe tbody tr th:only-of-type {\n",
       "        vertical-align: middle;\n",
       "    }\n",
       "\n",
       "    .dataframe tbody tr th {\n",
       "        vertical-align: top;\n",
       "    }\n",
       "\n",
       "    .dataframe thead th {\n",
       "        text-align: right;\n",
       "    }\n",
       "</style>\n",
       "<table border=\"1\" class=\"dataframe\">\n",
       "  <thead>\n",
       "    <tr style=\"text-align: right;\">\n",
       "      <th></th>\n",
       "      <th>Name</th>\n",
       "      <th>Location</th>\n",
       "      <th>Tagline</th>\n",
       "      <th>Category</th>\n",
       "      <th>Website</th>\n",
       "      <th>Founded</th>\n",
       "      <th>Description</th>\n",
       "      <th>Country</th>\n",
       "      <th>City</th>\n",
       "    </tr>\n",
       "  </thead>\n",
       "  <tbody>\n",
       "  </tbody>\n",
       "</table>\n",
       "</div>"
      ],
      "text/plain": [
       "Empty DataFrame\n",
       "Columns: [Name, Location, Tagline, Category, Website, Founded, Description, Country, City]\n",
       "Index: []"
      ]
     },
     "execution_count": 234,
     "metadata": {},
     "output_type": "execute_result"
    }
   ],
   "source": [
    "# Filter the DataFrame to show rows where 'City' is None\n",
    "none_cities = pakistan_based[pakistan_based['City'].isnull()]\n",
    "# Print the rows with None values in the 'City' column\n",
    "none_cities\n"
   ]
  },
  {
   "cell_type": "code",
   "execution_count": 235,
   "metadata": {},
   "outputs": [
    {
     "data": {
      "text/html": [
       "<div>\n",
       "<style scoped>\n",
       "    .dataframe tbody tr th:only-of-type {\n",
       "        vertical-align: middle;\n",
       "    }\n",
       "\n",
       "    .dataframe tbody tr th {\n",
       "        vertical-align: top;\n",
       "    }\n",
       "\n",
       "    .dataframe thead th {\n",
       "        text-align: right;\n",
       "    }\n",
       "</style>\n",
       "<table border=\"1\" class=\"dataframe\">\n",
       "  <thead>\n",
       "    <tr style=\"text-align: right;\">\n",
       "      <th></th>\n",
       "      <th>Name</th>\n",
       "      <th>Location</th>\n",
       "      <th>Tagline</th>\n",
       "      <th>Category</th>\n",
       "      <th>Website</th>\n",
       "      <th>Founded</th>\n",
       "      <th>Description</th>\n",
       "      <th>Country</th>\n",
       "      <th>City</th>\n",
       "    </tr>\n",
       "  </thead>\n",
       "  <tbody>\n",
       "    <tr>\n",
       "      <th>21</th>\n",
       "      <td>AutoExpert</td>\n",
       "      <td>Karachi Â· Pakistan</td>\n",
       "      <td>Preemptive Car Care At your Door</td>\n",
       "      <td>Mobile Â· E-Commerce Â· Automotive Â· Mobile C...</td>\n",
       "      <td>http://www.autoexpert.pk</td>\n",
       "      <td>2015</td>\n",
       "      <td>Our goal is to exceed your expectations for yo...</td>\n",
       "      <td>Pakistan</td>\n",
       "      <td>Â·</td>\n",
       "    </tr>\n",
       "  </tbody>\n",
       "</table>\n",
       "</div>"
      ],
      "text/plain": [
       "          Name              Location                           Tagline  \\\n",
       "21  AutoExpert  Karachi Â· Pakistan   Preemptive Car Care At your Door   \n",
       "\n",
       "                                             Category  \\\n",
       "21  Mobile Â· E-Commerce Â· Automotive Â· Mobile C...   \n",
       "\n",
       "                     Website Founded  \\\n",
       "21  http://www.autoexpert.pk    2015   \n",
       "\n",
       "                                          Description   Country City  \n",
       "21  Our goal is to exceed your expectations for yo...  Pakistan   Â·  "
      ]
     },
     "execution_count": 235,
     "metadata": {},
     "output_type": "execute_result"
    }
   ],
   "source": [
    "# Assuming you want to filter rows containing the word 'Karachi' in the 'Location' column\n",
    "filtered_rows = pakistan_based[pakistan_based['City'].str.contains('Â·', case=False)]\n",
    "\n",
    "# Print the filtered rows\n",
    "filtered_rows\n"
   ]
  },
  {
   "cell_type": "markdown",
   "metadata": {},
   "source": [
    "Its a data entry error so we know its Karachi so we can directly consider it."
   ]
  },
  {
   "cell_type": "code",
   "execution_count": 236,
   "metadata": {},
   "outputs": [
    {
     "name": "stderr",
     "output_type": "stream",
     "text": [
      "C:\\Users\\NimZee\\AppData\\Local\\Temp\\ipykernel_21236\\1469899815.py:2: SettingWithCopyWarning:\n",
      "\n",
      "\n",
      "A value is trying to be set on a copy of a slice from a DataFrame\n",
      "\n",
      "See the caveats in the documentation: https://pandas.pydata.org/pandas-docs/stable/user_guide/indexing.html#returning-a-view-versus-a-copy\n",
      "\n"
     ]
    },
    {
     "data": {
      "text/plain": [
       "array(['Karachi', 'Lahore', 'Faisalabad', 'Gujranwala', 'Gujrat',\n",
       "       'Hyderabad', 'Islamabad', 'Multan', 'Nowshera', 'Pakistan',\n",
       "       'Peshawar', 'Quetta', 'Rawalpindi', 'Sargodha', 'Sialkot', 'Wah',\n",
       "       'Cantt', 'karachi'], dtype=object)"
      ]
     },
     "execution_count": 236,
     "metadata": {},
     "output_type": "execute_result"
    }
   ],
   "source": [
    "# Replace the 'City' column value with 'Karachi' for the filtered rows\n",
    "pakistan_based.loc[filtered_rows.index, 'City'] = 'Karachi'\n",
    "\n",
    "# Print the DataFrame after the replacement\n",
    "pakistan_based.City.unique()"
   ]
  },
  {
   "cell_type": "markdown",
   "metadata": {},
   "source": [
    "Its looking much better noww but we still have some to sort, Like Drop rows which have  City name as Pakistan since City is not provided., make Wah and cantt as Wah cantt, and  varation of Karchi as small and capital  letter to Karachi."
   ]
  },
  {
   "cell_type": "code",
   "execution_count": 237,
   "metadata": {},
   "outputs": [
    {
     "name": "stderr",
     "output_type": "stream",
     "text": [
      "C:\\Users\\NimZee\\AppData\\Local\\Temp\\ipykernel_21236\\2765083002.py:10: SettingWithCopyWarning:\n",
      "\n",
      "\n",
      "A value is trying to be set on a copy of a slice from a DataFrame.\n",
      "Try using .loc[row_indexer,col_indexer] = value instead\n",
      "\n",
      "See the caveats in the documentation: https://pandas.pydata.org/pandas-docs/stable/user_guide/indexing.html#returning-a-view-versus-a-copy\n",
      "\n",
      "C:\\Users\\NimZee\\AppData\\Local\\Temp\\ipykernel_21236\\2765083002.py:13: SettingWithCopyWarning:\n",
      "\n",
      "\n",
      "A value is trying to be set on a copy of a slice from a DataFrame.\n",
      "Try using .loc[row_indexer,col_indexer] = value instead\n",
      "\n",
      "See the caveats in the documentation: https://pandas.pydata.org/pandas-docs/stable/user_guide/indexing.html#returning-a-view-versus-a-copy\n",
      "\n",
      "C:\\Users\\NimZee\\AppData\\Local\\Temp\\ipykernel_21236\\2765083002.py:16: SettingWithCopyWarning:\n",
      "\n",
      "\n",
      "A value is trying to be set on a copy of a slice from a DataFrame.\n",
      "Try using .loc[row_indexer,col_indexer] = value instead\n",
      "\n",
      "See the caveats in the documentation: https://pandas.pydata.org/pandas-docs/stable/user_guide/indexing.html#returning-a-view-versus-a-copy\n",
      "\n"
     ]
    },
    {
     "data": {
      "text/plain": [
       "array(['Karachi', 'Lahore', 'Faisalabad', 'Gujranwala', 'Gujrat',\n",
       "       'Hyderabad', 'Islamabad', 'Multan', 'Nowshera', 'Peshawar',\n",
       "       'Quetta', 'Rawalpindi', 'Sargodha', 'Sialkot', 'Wah Cantt'],\n",
       "      dtype=object)"
      ]
     },
     "execution_count": 237,
     "metadata": {},
     "output_type": "execute_result"
    }
   ],
   "source": [
    "# Drop rows where 'City' is 'Pakistan'\n",
    "\n",
    "#Keeping it for lateruse foreign and Pakistan comaprasion\n",
    "\n",
    "none_city = pakistan_based[pakistan_based['City'] == 'Pakistan']\n",
    "\n",
    "pakistan_based = pakistan_based[pakistan_based['City'] != 'Pakistan']\n",
    "\n",
    "# Replace 'Wah' with 'Wah Cantt'\n",
    "pakistan_based['City'] = pakistan_based['City'].replace('Wah', 'Wah Cantt')\n",
    "\n",
    "# Replace 'Cantt' with 'Wah Cantt'\n",
    "pakistan_based['City'] = pakistan_based['City'].replace('Cantt', 'Wah Cantt')\n",
    "\n",
    "# Replace variations of 'Karachi' with 'Karachi'\n",
    "pakistan_based['City'] = pakistan_based['City'].replace(['karachi', 'KARACHI'], 'Karachi')\n",
    "\n",
    "pakistan_based.City.unique()\n"
   ]
  },
  {
   "cell_type": "markdown",
   "metadata": {},
   "source": []
  },
  {
   "cell_type": "code",
   "execution_count": 238,
   "metadata": {},
   "outputs": [
    {
     "data": {
      "text/html": [
       "<div>\n",
       "<style scoped>\n",
       "    .dataframe tbody tr th:only-of-type {\n",
       "        vertical-align: middle;\n",
       "    }\n",
       "\n",
       "    .dataframe tbody tr th {\n",
       "        vertical-align: top;\n",
       "    }\n",
       "\n",
       "    .dataframe thead th {\n",
       "        text-align: right;\n",
       "    }\n",
       "</style>\n",
       "<table border=\"1\" class=\"dataframe\">\n",
       "  <thead>\n",
       "    <tr style=\"text-align: right;\">\n",
       "      <th></th>\n",
       "      <th>Name</th>\n",
       "      <th>Location</th>\n",
       "      <th>Tagline</th>\n",
       "      <th>Category</th>\n",
       "      <th>Website</th>\n",
       "      <th>Founded</th>\n",
       "      <th>Description</th>\n",
       "      <th>Country</th>\n",
       "    </tr>\n",
       "  </thead>\n",
       "  <tbody>\n",
       "    <tr>\n",
       "      <th>187</th>\n",
       "      <td>Kaanjo</td>\n",
       "      <td>Amsterdam</td>\n",
       "      <td>We help our clients give a voice to the silent...</td>\n",
       "      <td>Software</td>\n",
       "      <td>http:// kaanjo.co</td>\n",
       "      <td>16th September  2016</td>\n",
       "      <td>Because we believe all consumers should easily...</td>\n",
       "      <td>Foreign</td>\n",
       "    </tr>\n",
       "    <tr>\n",
       "      <th>104</th>\n",
       "      <td>Edev Technologies</td>\n",
       "      <td>Canada</td>\n",
       "      <td>Build great requirements together</td>\n",
       "      <td>Software Product  Software Services  Software ...</td>\n",
       "      <td>http://www.edevtech.com</td>\n",
       "      <td>1999</td>\n",
       "      <td>A requirements lifecycle solutions company ded...</td>\n",
       "      <td>Foreign</td>\n",
       "    </tr>\n",
       "    <tr>\n",
       "      <th>95</th>\n",
       "      <td>Dimensional Sys</td>\n",
       "      <td>Dallas  Texas  United States</td>\n",
       "      <td>Dimensional Systems is an IT services provider...</td>\n",
       "      <td>Consulting  Software</td>\n",
       "      <td>http://dimensionalsys.com</td>\n",
       "      <td>1st January  2012</td>\n",
       "      <td>Dimensional Systems is an IT services provider...</td>\n",
       "      <td>Foreign</td>\n",
       "    </tr>\n",
       "    <tr>\n",
       "      <th>183</th>\n",
       "      <td>Jouple FZ LLC</td>\n",
       "      <td>Dubai</td>\n",
       "      <td>Delivering real-world digital solutions in Mob...</td>\n",
       "      <td>Software</td>\n",
       "      <td>http://www.jouple.com</td>\n",
       "      <td>15th February  2015</td>\n",
       "      <td>Delivering real-world digital solutions in Mob...</td>\n",
       "      <td>Foreign</td>\n",
       "    </tr>\n",
       "    <tr>\n",
       "      <th>55</th>\n",
       "      <td>Careem</td>\n",
       "      <td>Dubai</td>\n",
       "      <td>Careem is a chauffeur cab booking service avai...</td>\n",
       "      <td>Sharing Economy</td>\n",
       "      <td>http://careem.com/</td>\n",
       "      <td>15th June  2012</td>\n",
       "      <td>Tired of waiting for a taxi? Book a profession...</td>\n",
       "      <td>Foreign</td>\n",
       "    </tr>\n",
       "  </tbody>\n",
       "</table>\n",
       "</div>"
      ],
      "text/plain": [
       "                  Name                      Location  \\\n",
       "187             Kaanjo                     Amsterdam   \n",
       "104  Edev Technologies                        Canada   \n",
       "95     Dimensional Sys  Dallas  Texas  United States   \n",
       "183      Jouple FZ LLC                         Dubai   \n",
       "55              Careem                         Dubai   \n",
       "\n",
       "                                               Tagline  \\\n",
       "187  We help our clients give a voice to the silent...   \n",
       "104                  Build great requirements together   \n",
       "95   Dimensional Systems is an IT services provider...   \n",
       "183  Delivering real-world digital solutions in Mob...   \n",
       "55   Careem is a chauffeur cab booking service avai...   \n",
       "\n",
       "                                              Category  \\\n",
       "187                                           Software   \n",
       "104  Software Product  Software Services  Software ...   \n",
       "95                                Consulting  Software   \n",
       "183                                           Software   \n",
       "55                                     Sharing Economy   \n",
       "\n",
       "                       Website                Founded  \\\n",
       "187          http:// kaanjo.co  16th September  2016    \n",
       "104    http://www.edevtech.com                   1999   \n",
       "95   http://dimensionalsys.com     1st January  2012    \n",
       "183      http://www.jouple.com   15th February  2015    \n",
       "55          http://careem.com/       15th June  2012    \n",
       "\n",
       "                                           Description  Country  \n",
       "187  Because we believe all consumers should easily...  Foreign  \n",
       "104  A requirements lifecycle solutions company ded...  Foreign  \n",
       "95   Dimensional Systems is an IT services provider...  Foreign  \n",
       "183  Delivering real-world digital solutions in Mob...  Foreign  \n",
       "55   Tired of waiting for a taxi? Book a profession...  Foreign  "
      ]
     },
     "execution_count": 238,
     "metadata": {},
     "output_type": "execute_result"
    }
   ],
   "source": [
    "foreign_based.head()"
   ]
  },
  {
   "cell_type": "markdown",
   "metadata": {},
   "source": [
    "any occurrence of a city name from the 'pakistan_based' DataFrame in the 'Location' column of the 'foreign_based' DataFrame will be captured, regardless of the case. "
   ]
  },
  {
   "cell_type": "code",
   "execution_count": 239,
   "metadata": {},
   "outputs": [
    {
     "data": {
      "text/plain": [
       "array(['Go Logistics  Ground Floor  Palace Cinema Building  Civil Lines  Karachi',\n",
       "       'Islamabad', 'Islamabad  PAkistan', 'Johar Town  Lahore',\n",
       "       'Karachi', 'Lahore', 'Lahore  Manchester', 'Lahore  Punjab',\n",
       "       'Nowshera  Khyber Pakhtunkhwa', 'Peshawar', 'Rawalpindi/Islamabad',\n",
       "       'TIC  NUST  Islamabad', 'karachi'], dtype=object)"
      ]
     },
     "execution_count": 239,
     "metadata": {},
     "output_type": "execute_result"
    }
   ],
   "source": [
    "# Create a regex pattern to match any word from the 'City' column of 'pakistan_based' DataFrame\n",
    "city_pattern = '|'.join(pakistan_based['City'].str.lower())\n",
    "\n",
    "# Filter the 'foreign_based' DataFrame based on the 'Location' containing any word from 'City' column of 'pakistan_based' DataFrame\n",
    "pakistan_based_foreign = foreign_based[foreign_based['Location'].str.lower().str.contains(city_pattern, regex=True)]\n",
    "\n",
    "# Print the DataFrame containing Pakistan-based startups from 'foreign_based'\n",
    "pakistan_based_foreign.Location.unique()"
   ]
  },
  {
   "cell_type": "code",
   "execution_count": 240,
   "metadata": {},
   "outputs": [
    {
     "name": "stderr",
     "output_type": "stream",
     "text": [
      "C:\\Users\\NimZee\\AppData\\Local\\Temp\\ipykernel_21236\\2970353797.py:10: SettingWithCopyWarning:\n",
      "\n",
      "\n",
      "A value is trying to be set on a copy of a slice from a DataFrame.\n",
      "Try using .loc[row_indexer,col_indexer] = value instead\n",
      "\n",
      "See the caveats in the documentation: https://pandas.pydata.org/pandas-docs/stable/user_guide/indexing.html#returning-a-view-versus-a-copy\n",
      "\n"
     ]
    },
    {
     "data": {
      "text/plain": [
       "array(['Karachi', 'Islamabad', 'Lahore', 'Nowshera', 'Peshawar'],\n",
       "      dtype=object)"
      ]
     },
     "execution_count": 240,
     "metadata": {},
     "output_type": "execute_result"
    }
   ],
   "source": [
    "# Function to find matching city from pakistan_based['City']\n",
    "def find_matching_city(location):\n",
    "    for city in pakistan_based['City']:\n",
    "        # Check if any word from 'City' matches any word in 'Location'\n",
    "        if any(re.search(r'\\b{}\\b'.format(re.escape(city.lower())), word.lower()) for word in location.split()):\n",
    "            return city\n",
    "    return None\n",
    "\n",
    "# Create 'City' column in pakistan_based_foreign and assign matching city from pakistan_based['City']\n",
    "pakistan_based_foreign['City'] = pakistan_based_foreign['Location'].apply(find_matching_city)\n",
    "\n",
    "# Print the updated DataFrame\n",
    "pakistan_based_foreign.City.unique()\n"
   ]
  },
  {
   "cell_type": "code",
   "execution_count": 241,
   "metadata": {},
   "outputs": [
    {
     "data": {
      "text/html": [
       "<div>\n",
       "<style scoped>\n",
       "    .dataframe tbody tr th:only-of-type {\n",
       "        vertical-align: middle;\n",
       "    }\n",
       "\n",
       "    .dataframe tbody tr th {\n",
       "        vertical-align: top;\n",
       "    }\n",
       "\n",
       "    .dataframe thead th {\n",
       "        text-align: right;\n",
       "    }\n",
       "</style>\n",
       "<table border=\"1\" class=\"dataframe\">\n",
       "  <thead>\n",
       "    <tr style=\"text-align: right;\">\n",
       "      <th></th>\n",
       "      <th>Name</th>\n",
       "      <th>Location</th>\n",
       "      <th>Tagline</th>\n",
       "      <th>Category</th>\n",
       "      <th>Website</th>\n",
       "      <th>Founded</th>\n",
       "      <th>Description</th>\n",
       "      <th>Country</th>\n",
       "      <th>City</th>\n",
       "    </tr>\n",
       "  </thead>\n",
       "  <tbody>\n",
       "    <tr>\n",
       "      <th>0</th>\n",
       "      <td>Go Rickshaw</td>\n",
       "      <td>Go Logistics  Ground Floor  Palace Cinema Buil...</td>\n",
       "      <td>GO Rickshaw redefines the entire idea of on-de...</td>\n",
       "      <td>Transportation</td>\n",
       "      <td>https://gorickshaw.pk/</td>\n",
       "      <td>30th October  2015</td>\n",
       "      <td>NaN</td>\n",
       "      <td>Foreign</td>\n",
       "      <td>Karachi</td>\n",
       "    </tr>\n",
       "    <tr>\n",
       "      <th>1</th>\n",
       "      <td>DexterED</td>\n",
       "      <td>Islamabad</td>\n",
       "      <td>Dextered believes in Creative &amp; Automated Asse...</td>\n",
       "      <td>Education</td>\n",
       "      <td>http://dextered.com</td>\n",
       "      <td>23rd March  2015</td>\n",
       "      <td>At Dextered we are committed to not only revol...</td>\n",
       "      <td>Foreign</td>\n",
       "      <td>Islamabad</td>\n",
       "    </tr>\n",
       "    <tr>\n",
       "      <th>2</th>\n",
       "      <td>TopSchools.pk</td>\n",
       "      <td>Islamabad</td>\n",
       "      <td>Top Schools is a platform for all schools  col...</td>\n",
       "      <td>Web Portal</td>\n",
       "      <td>http://www.topschools.pk</td>\n",
       "      <td>10th January  2014</td>\n",
       "      <td>Top schools is a web portal for all schools  c...</td>\n",
       "      <td>Foreign</td>\n",
       "      <td>Islamabad</td>\n",
       "    </tr>\n",
       "    <tr>\n",
       "      <th>3</th>\n",
       "      <td>Jobz.pk</td>\n",
       "      <td>Islamabad</td>\n",
       "      <td>Latest Jobs in Pakistan where one can find new...</td>\n",
       "      <td>Job Portal</td>\n",
       "      <td>http://jobz.pk</td>\n",
       "      <td>2000</td>\n",
       "      <td>We not only cover Pakistani jobs but also UAE ...</td>\n",
       "      <td>Foreign</td>\n",
       "      <td>Islamabad</td>\n",
       "    </tr>\n",
       "    <tr>\n",
       "      <th>4</th>\n",
       "      <td>ContentStudio</td>\n",
       "      <td>Islamabad</td>\n",
       "      <td>The easiest way to discover  monitor and share...</td>\n",
       "      <td>Software</td>\n",
       "      <td>https://contentstudio.io</td>\n",
       "      <td>2016</td>\n",
       "      <td>NaN</td>\n",
       "      <td>Foreign</td>\n",
       "      <td>Islamabad</td>\n",
       "    </tr>\n",
       "  </tbody>\n",
       "</table>\n",
       "</div>"
      ],
      "text/plain": [
       "            Name                                           Location  \\\n",
       "0    Go Rickshaw  Go Logistics  Ground Floor  Palace Cinema Buil...   \n",
       "1       DexterED                                          Islamabad   \n",
       "2  TopSchools.pk                                          Islamabad   \n",
       "3        Jobz.pk                                          Islamabad   \n",
       "4  ContentStudio                                          Islamabad   \n",
       "\n",
       "                                             Tagline        Category  \\\n",
       "0  GO Rickshaw redefines the entire idea of on-de...  Transportation   \n",
       "1  Dextered believes in Creative & Automated Asse...       Education   \n",
       "2  Top Schools is a platform for all schools  col...      Web Portal   \n",
       "3  Latest Jobs in Pakistan where one can find new...      Job Portal   \n",
       "4  The easiest way to discover  monitor and share...        Software   \n",
       "\n",
       "                    Website              Founded  \\\n",
       "0    https://gorickshaw.pk/  30th October  2015    \n",
       "1       http://dextered.com    23rd March  2015    \n",
       "2  http://www.topschools.pk  10th January  2014    \n",
       "3            http://jobz.pk                 2000   \n",
       "4  https://contentstudio.io                 2016   \n",
       "\n",
       "                                         Description  Country       City  \n",
       "0                                                NaN  Foreign    Karachi  \n",
       "1  At Dextered we are committed to not only revol...  Foreign  Islamabad  \n",
       "2  Top schools is a web portal for all schools  c...  Foreign  Islamabad  \n",
       "3  We not only cover Pakistani jobs but also UAE ...  Foreign  Islamabad  \n",
       "4                                                NaN  Foreign  Islamabad  "
      ]
     },
     "execution_count": 241,
     "metadata": {},
     "output_type": "execute_result"
    }
   ],
   "source": [
    "# Concatenate pakistan_based_foreign and pakistan_based DataFrames\n",
    "Pakistan_startups = pd.concat([pakistan_based_foreign, pakistan_based])\n",
    "\n",
    "# Reset index of the merged DataFrame\n",
    "Pakistan_startups.reset_index(drop=True, inplace=True)\n",
    "\n",
    "# Print the updated DataFrame\n",
    "Pakistan_startups.head()\n"
   ]
  },
  {
   "cell_type": "code",
   "execution_count": 242,
   "metadata": {},
   "outputs": [
    {
     "data": {
      "text/html": [
       "<div>\n",
       "<style scoped>\n",
       "    .dataframe tbody tr th:only-of-type {\n",
       "        vertical-align: middle;\n",
       "    }\n",
       "\n",
       "    .dataframe tbody tr th {\n",
       "        vertical-align: top;\n",
       "    }\n",
       "\n",
       "    .dataframe thead th {\n",
       "        text-align: right;\n",
       "    }\n",
       "</style>\n",
       "<table border=\"1\" class=\"dataframe\">\n",
       "  <thead>\n",
       "    <tr style=\"text-align: right;\">\n",
       "      <th></th>\n",
       "      <th>Name</th>\n",
       "      <th>Location</th>\n",
       "      <th>Tagline</th>\n",
       "      <th>Category</th>\n",
       "      <th>Website</th>\n",
       "      <th>Founded</th>\n",
       "      <th>Description</th>\n",
       "      <th>Country</th>\n",
       "      <th>City</th>\n",
       "    </tr>\n",
       "  </thead>\n",
       "  <tbody>\n",
       "    <tr>\n",
       "      <th>0</th>\n",
       "      <td>Go Rickshaw</td>\n",
       "      <td>Go Logistics  Ground Floor  Palace Cinema Buil...</td>\n",
       "      <td>GO Rickshaw redefines the entire idea of on-de...</td>\n",
       "      <td>Transportation</td>\n",
       "      <td>https://gorickshaw.pk/</td>\n",
       "      <td>30th October  2015</td>\n",
       "      <td>NaN</td>\n",
       "      <td>Pakistan</td>\n",
       "      <td>Karachi</td>\n",
       "    </tr>\n",
       "    <tr>\n",
       "      <th>1</th>\n",
       "      <td>DexterED</td>\n",
       "      <td>Islamabad</td>\n",
       "      <td>Dextered believes in Creative &amp; Automated Asse...</td>\n",
       "      <td>Education</td>\n",
       "      <td>http://dextered.com</td>\n",
       "      <td>23rd March  2015</td>\n",
       "      <td>At Dextered we are committed to not only revol...</td>\n",
       "      <td>Pakistan</td>\n",
       "      <td>Islamabad</td>\n",
       "    </tr>\n",
       "    <tr>\n",
       "      <th>2</th>\n",
       "      <td>TopSchools.pk</td>\n",
       "      <td>Islamabad</td>\n",
       "      <td>Top Schools is a platform for all schools  col...</td>\n",
       "      <td>Web Portal</td>\n",
       "      <td>http://www.topschools.pk</td>\n",
       "      <td>10th January  2014</td>\n",
       "      <td>Top schools is a web portal for all schools  c...</td>\n",
       "      <td>Pakistan</td>\n",
       "      <td>Islamabad</td>\n",
       "    </tr>\n",
       "    <tr>\n",
       "      <th>3</th>\n",
       "      <td>Jobz.pk</td>\n",
       "      <td>Islamabad</td>\n",
       "      <td>Latest Jobs in Pakistan where one can find new...</td>\n",
       "      <td>Job Portal</td>\n",
       "      <td>http://jobz.pk</td>\n",
       "      <td>2000</td>\n",
       "      <td>We not only cover Pakistani jobs but also UAE ...</td>\n",
       "      <td>Pakistan</td>\n",
       "      <td>Islamabad</td>\n",
       "    </tr>\n",
       "    <tr>\n",
       "      <th>4</th>\n",
       "      <td>ContentStudio</td>\n",
       "      <td>Islamabad</td>\n",
       "      <td>The easiest way to discover  monitor and share...</td>\n",
       "      <td>Software</td>\n",
       "      <td>https://contentstudio.io</td>\n",
       "      <td>2016</td>\n",
       "      <td>NaN</td>\n",
       "      <td>Pakistan</td>\n",
       "      <td>Islamabad</td>\n",
       "    </tr>\n",
       "    <tr>\n",
       "      <th>...</th>\n",
       "      <td>...</td>\n",
       "      <td>...</td>\n",
       "      <td>...</td>\n",
       "      <td>...</td>\n",
       "      <td>...</td>\n",
       "      <td>...</td>\n",
       "      <td>...</td>\n",
       "      <td>...</td>\n",
       "      <td>...</td>\n",
       "    </tr>\n",
       "    <tr>\n",
       "      <th>400</th>\n",
       "      <td>The Books Yard</td>\n",
       "      <td>Sialkot  Pakistan</td>\n",
       "      <td>The Books sell Books Online in Pakistan.</td>\n",
       "      <td>Education</td>\n",
       "      <td>https://www.facebook.com/thebooksyard</td>\n",
       "      <td>4th January  2018</td>\n",
       "      <td>This Company sell Books online.</td>\n",
       "      <td>Pakistan</td>\n",
       "      <td>Sialkot</td>\n",
       "    </tr>\n",
       "    <tr>\n",
       "      <th>401</th>\n",
       "      <td>Learn DAE</td>\n",
       "      <td>Wah  Pakistan</td>\n",
       "      <td>Learn DAE is a Non-Profit Technical Educationa...</td>\n",
       "      <td>Technical Education</td>\n",
       "      <td>www.learndae.org.pk</td>\n",
       "      <td>7th December  2016</td>\n",
       "      <td>Learn DAE is a Non-Profit and Non-Government T...</td>\n",
       "      <td>Pakistan</td>\n",
       "      <td>Wah Cantt</td>\n",
       "    </tr>\n",
       "    <tr>\n",
       "      <th>402</th>\n",
       "      <td>Daastan</td>\n",
       "      <td>Wah Cantt  Pakistan</td>\n",
       "      <td>Daastan is a for-profit company working for re...</td>\n",
       "      <td>Literature  Publishing  Marketplace</td>\n",
       "      <td>http://www.daastan.com</td>\n",
       "      <td>22nd December  2014</td>\n",
       "      <td>Our mission is to connect all stakeholders of ...</td>\n",
       "      <td>Pakistan</td>\n",
       "      <td>Wah Cantt</td>\n",
       "    </tr>\n",
       "    <tr>\n",
       "      <th>403</th>\n",
       "      <td>Pehnji</td>\n",
       "      <td>Z43/44 first floor darul aman society block 7/...</td>\n",
       "      <td>Online shopping from the Pakistan's best marke...</td>\n",
       "      <td>E-Commerce</td>\n",
       "      <td>http://www.pehnji.com</td>\n",
       "      <td>16th February  2016</td>\n",
       "      <td>pehjni has bigger objective beside becoming Pa...</td>\n",
       "      <td>Pakistan</td>\n",
       "      <td>Karachi</td>\n",
       "    </tr>\n",
       "    <tr>\n",
       "      <th>404</th>\n",
       "      <td>My Mohalla</td>\n",
       "      <td>karachi  Pakistan</td>\n",
       "      <td>My Mohalla is an organization that is working ...</td>\n",
       "      <td>Software</td>\n",
       "      <td>http://mymohalla.pk/</td>\n",
       "      <td>2nd January  2017</td>\n",
       "      <td>What is My Mohalla? My Mohalla is an organizat...</td>\n",
       "      <td>Pakistan</td>\n",
       "      <td>Karachi</td>\n",
       "    </tr>\n",
       "  </tbody>\n",
       "</table>\n",
       "<p>405 rows × 9 columns</p>\n",
       "</div>"
      ],
      "text/plain": [
       "               Name                                           Location  \\\n",
       "0       Go Rickshaw  Go Logistics  Ground Floor  Palace Cinema Buil...   \n",
       "1          DexterED                                          Islamabad   \n",
       "2     TopSchools.pk                                          Islamabad   \n",
       "3           Jobz.pk                                          Islamabad   \n",
       "4     ContentStudio                                          Islamabad   \n",
       "..              ...                                                ...   \n",
       "400  The Books Yard                                  Sialkot  Pakistan   \n",
       "401       Learn DAE                                      Wah  Pakistan   \n",
       "402         Daastan                                Wah Cantt  Pakistan   \n",
       "403          Pehnji  Z43/44 first floor darul aman society block 7/...   \n",
       "404      My Mohalla                                  karachi  Pakistan   \n",
       "\n",
       "                                               Tagline  \\\n",
       "0    GO Rickshaw redefines the entire idea of on-de...   \n",
       "1    Dextered believes in Creative & Automated Asse...   \n",
       "2    Top Schools is a platform for all schools  col...   \n",
       "3    Latest Jobs in Pakistan where one can find new...   \n",
       "4    The easiest way to discover  monitor and share...   \n",
       "..                                                 ...   \n",
       "400           The Books sell Books Online in Pakistan.   \n",
       "401  Learn DAE is a Non-Profit Technical Educationa...   \n",
       "402  Daastan is a for-profit company working for re...   \n",
       "403  Online shopping from the Pakistan's best marke...   \n",
       "404  My Mohalla is an organization that is working ...   \n",
       "\n",
       "                                Category  \\\n",
       "0                         Transportation   \n",
       "1                              Education   \n",
       "2                             Web Portal   \n",
       "3                             Job Portal   \n",
       "4                               Software   \n",
       "..                                   ...   \n",
       "400                            Education   \n",
       "401                  Technical Education   \n",
       "402  Literature  Publishing  Marketplace   \n",
       "403                           E-Commerce   \n",
       "404                             Software   \n",
       "\n",
       "                                   Website               Founded  \\\n",
       "0                   https://gorickshaw.pk/   30th October  2015    \n",
       "1                      http://dextered.com     23rd March  2015    \n",
       "2                 http://www.topschools.pk   10th January  2014    \n",
       "3                           http://jobz.pk                  2000   \n",
       "4                 https://contentstudio.io                  2016   \n",
       "..                                     ...                   ...   \n",
       "400  https://www.facebook.com/thebooksyard    4th January  2018    \n",
       "401                    www.learndae.org.pk   7th December  2016    \n",
       "402                 http://www.daastan.com  22nd December  2014    \n",
       "403                  http://www.pehnji.com  16th February  2016    \n",
       "404                   http://mymohalla.pk/    2nd January  2017    \n",
       "\n",
       "                                           Description   Country       City  \n",
       "0                                                  NaN  Pakistan    Karachi  \n",
       "1    At Dextered we are committed to not only revol...  Pakistan  Islamabad  \n",
       "2    Top schools is a web portal for all schools  c...  Pakistan  Islamabad  \n",
       "3    We not only cover Pakistani jobs but also UAE ...  Pakistan  Islamabad  \n",
       "4                                                  NaN  Pakistan  Islamabad  \n",
       "..                                                 ...       ...        ...  \n",
       "400                    This Company sell Books online.  Pakistan    Sialkot  \n",
       "401  Learn DAE is a Non-Profit and Non-Government T...  Pakistan  Wah Cantt  \n",
       "402  Our mission is to connect all stakeholders of ...  Pakistan  Wah Cantt  \n",
       "403  pehjni has bigger objective beside becoming Pa...  Pakistan    Karachi  \n",
       "404  What is My Mohalla? My Mohalla is an organizat...  Pakistan    Karachi  \n",
       "\n",
       "[405 rows x 9 columns]"
      ]
     },
     "execution_count": 242,
     "metadata": {},
     "output_type": "execute_result"
    }
   ],
   "source": [
    "# Update all rows in 'Country' column to 'Pakistan'\n",
    "Pakistan_startups['Country'] = 'Pakistan'\n",
    "\n",
    "# Print the updated DataFrame\n",
    "Pakistan_startups"
   ]
  },
  {
   "cell_type": "code",
   "execution_count": 243,
   "metadata": {},
   "outputs": [
    {
     "name": "stderr",
     "output_type": "stream",
     "text": [
      "C:\\Users\\NimZee\\AppData\\Local\\Temp\\ipykernel_21236\\1361341757.py:8: SettingWithCopyWarning:\n",
      "\n",
      "\n",
      "A value is trying to be set on a copy of a slice from a DataFrame\n",
      "\n",
      "See the caveats in the documentation: https://pandas.pydata.org/pandas-docs/stable/user_guide/indexing.html#returning-a-view-versus-a-copy\n",
      "\n"
     ]
    },
    {
     "data": {
      "text/html": [
       "<div>\n",
       "<style scoped>\n",
       "    .dataframe tbody tr th:only-of-type {\n",
       "        vertical-align: middle;\n",
       "    }\n",
       "\n",
       "    .dataframe tbody tr th {\n",
       "        vertical-align: top;\n",
       "    }\n",
       "\n",
       "    .dataframe thead th {\n",
       "        text-align: right;\n",
       "    }\n",
       "</style>\n",
       "<table border=\"1\" class=\"dataframe\">\n",
       "  <thead>\n",
       "    <tr style=\"text-align: right;\">\n",
       "      <th></th>\n",
       "      <th>Name</th>\n",
       "      <th>Location</th>\n",
       "      <th>Tagline</th>\n",
       "      <th>Category</th>\n",
       "      <th>Website</th>\n",
       "      <th>Founded</th>\n",
       "      <th>Description</th>\n",
       "      <th>Country</th>\n",
       "    </tr>\n",
       "  </thead>\n",
       "  <tbody>\n",
       "    <tr>\n",
       "      <th>0</th>\n",
       "      <td>Kaanjo</td>\n",
       "      <td>Amsterdam</td>\n",
       "      <td>We help our clients give a voice to the silent...</td>\n",
       "      <td>Software</td>\n",
       "      <td>http:// kaanjo.co</td>\n",
       "      <td>16th September  2016</td>\n",
       "      <td>Because we believe all consumers should easily...</td>\n",
       "      <td>Foreign</td>\n",
       "    </tr>\n",
       "    <tr>\n",
       "      <th>1</th>\n",
       "      <td>Edev Technologies</td>\n",
       "      <td>Canada</td>\n",
       "      <td>Build great requirements together</td>\n",
       "      <td>Software Product  Software Services  Software ...</td>\n",
       "      <td>http://www.edevtech.com</td>\n",
       "      <td>1999</td>\n",
       "      <td>A requirements lifecycle solutions company ded...</td>\n",
       "      <td>Foreign</td>\n",
       "    </tr>\n",
       "    <tr>\n",
       "      <th>2</th>\n",
       "      <td>Dimensional Sys</td>\n",
       "      <td>Dallas  Texas  United States</td>\n",
       "      <td>Dimensional Systems is an IT services provider...</td>\n",
       "      <td>Consulting  Software</td>\n",
       "      <td>http://dimensionalsys.com</td>\n",
       "      <td>1st January  2012</td>\n",
       "      <td>Dimensional Systems is an IT services provider...</td>\n",
       "      <td>Foreign</td>\n",
       "    </tr>\n",
       "    <tr>\n",
       "      <th>3</th>\n",
       "      <td>Jouple FZ LLC</td>\n",
       "      <td>Dubai</td>\n",
       "      <td>Delivering real-world digital solutions in Mob...</td>\n",
       "      <td>Software</td>\n",
       "      <td>http://www.jouple.com</td>\n",
       "      <td>15th February  2015</td>\n",
       "      <td>Delivering real-world digital solutions in Mob...</td>\n",
       "      <td>Foreign</td>\n",
       "    </tr>\n",
       "    <tr>\n",
       "      <th>4</th>\n",
       "      <td>Careem</td>\n",
       "      <td>Dubai</td>\n",
       "      <td>Careem is a chauffeur cab booking service avai...</td>\n",
       "      <td>Sharing Economy</td>\n",
       "      <td>http://careem.com/</td>\n",
       "      <td>15th June  2012</td>\n",
       "      <td>Tired of waiting for a taxi? Book a profession...</td>\n",
       "      <td>Foreign</td>\n",
       "    </tr>\n",
       "  </tbody>\n",
       "</table>\n",
       "</div>"
      ],
      "text/plain": [
       "                Name                      Location  \\\n",
       "0             Kaanjo                     Amsterdam   \n",
       "1  Edev Technologies                        Canada   \n",
       "2    Dimensional Sys  Dallas  Texas  United States   \n",
       "3      Jouple FZ LLC                         Dubai   \n",
       "4             Careem                         Dubai   \n",
       "\n",
       "                                             Tagline  \\\n",
       "0  We help our clients give a voice to the silent...   \n",
       "1                  Build great requirements together   \n",
       "2  Dimensional Systems is an IT services provider...   \n",
       "3  Delivering real-world digital solutions in Mob...   \n",
       "4  Careem is a chauffeur cab booking service avai...   \n",
       "\n",
       "                                            Category  \\\n",
       "0                                           Software   \n",
       "1  Software Product  Software Services  Software ...   \n",
       "2                               Consulting  Software   \n",
       "3                                           Software   \n",
       "4                                    Sharing Economy   \n",
       "\n",
       "                     Website                Founded  \\\n",
       "0          http:// kaanjo.co  16th September  2016    \n",
       "1    http://www.edevtech.com                   1999   \n",
       "2  http://dimensionalsys.com     1st January  2012    \n",
       "3      http://www.jouple.com   15th February  2015    \n",
       "4         http://careem.com/       15th June  2012    \n",
       "\n",
       "                                         Description  Country  \n",
       "0  Because we believe all consumers should easily...  Foreign  \n",
       "1  A requirements lifecycle solutions company ded...  Foreign  \n",
       "2  Dimensional Systems is an IT services provider...  Foreign  \n",
       "3  Delivering real-world digital solutions in Mob...  Foreign  \n",
       "4  Tired of waiting for a taxi? Book a profession...  Foreign  "
      ]
     },
     "execution_count": 243,
     "metadata": {},
     "output_type": "execute_result"
    }
   ],
   "source": [
    "# Merge the two DataFrames on 'Name' and 'Location', using an indicator flag\n",
    "merged = foreign_based.merge(Pakistan_startups[['Name', 'Location']], on=['Name', 'Location'], how='left', indicator=True)\n",
    "\n",
    "# Filter out the rows present in both DataFrames\n",
    "foreign_startups = merged[merged['_merge'] == 'left_only']\n",
    "\n",
    "# Drop the indicator column\n",
    "foreign_startups.drop('_merge', axis=1, inplace=True)\n",
    "\n",
    "# Print the filtered foreign startups DataFrame\n",
    "foreign_startups.head()\n"
   ]
  },
  {
   "cell_type": "code",
   "execution_count": 244,
   "metadata": {},
   "outputs": [
    {
     "name": "stdout",
     "output_type": "stream",
     "text": [
      "Rows containing web addresses:\n",
      "Name                                                     Shoplhr\n",
      "Location                                  http://www.shoplhr.com\n",
      "Tagline        First online grocery and food delivery service...\n",
      "Category                                         Online Shopping\n",
      "Website                                   http://www.shoplhr.com\n",
      "Founded                                         1st April  2017 \n",
      "Description    If jewellery  clothing  beauty products and ap...\n",
      "Country                                                  Foreign\n",
      "Name: 52, dtype: object\n"
     ]
    }
   ],
   "source": [
    "# Define a regular expression pattern to match web addresses\n",
    "web_address_pattern = r'http[s]?://(?:[a-zA-Z]|[0-9]|[$-_@.&+]|[!*\\\\(\\\\),]|(?:%[0-9a-fA-F][0-9a-fA-F]))+'\n",
    "\n",
    "# Filter rows where 'Location' column contains a web address\n",
    "rows_with_web_address = foreign_startups[foreign_startups['Location'].str.contains(web_address_pattern, regex=True)]\n",
    "\n",
    "# Print rows containing a web address\n",
    "print(\"Rows containing web addresses:\")\n",
    "for index, row in rows_with_web_address.iterrows():\n",
    "    print(row)\n",
    "\n"
   ]
  },
  {
   "cell_type": "markdown",
   "metadata": {},
   "source": [
    "noww our data is quite clean and contain the city name"
   ]
  },
  {
   "cell_type": "code",
   "execution_count": 245,
   "metadata": {},
   "outputs": [
    {
     "name": "stdout",
     "output_type": "stream",
     "text": [
      "\n",
      "Updated DataFrame after dropping rows with web addresses:\n"
     ]
    },
    {
     "data": {
      "text/html": [
       "<div>\n",
       "<style scoped>\n",
       "    .dataframe tbody tr th:only-of-type {\n",
       "        vertical-align: middle;\n",
       "    }\n",
       "\n",
       "    .dataframe tbody tr th {\n",
       "        vertical-align: top;\n",
       "    }\n",
       "\n",
       "    .dataframe thead th {\n",
       "        text-align: right;\n",
       "    }\n",
       "</style>\n",
       "<table border=\"1\" class=\"dataframe\">\n",
       "  <thead>\n",
       "    <tr style=\"text-align: right;\">\n",
       "      <th></th>\n",
       "      <th>Name</th>\n",
       "      <th>Location</th>\n",
       "      <th>Tagline</th>\n",
       "      <th>Category</th>\n",
       "      <th>Website</th>\n",
       "      <th>Founded</th>\n",
       "      <th>Description</th>\n",
       "      <th>Country</th>\n",
       "    </tr>\n",
       "  </thead>\n",
       "  <tbody>\n",
       "    <tr>\n",
       "      <th>0</th>\n",
       "      <td>Kaanjo</td>\n",
       "      <td>Amsterdam</td>\n",
       "      <td>We help our clients give a voice to the silent...</td>\n",
       "      <td>Software</td>\n",
       "      <td>http:// kaanjo.co</td>\n",
       "      <td>16th September  2016</td>\n",
       "      <td>Because we believe all consumers should easily...</td>\n",
       "      <td>Foreign</td>\n",
       "    </tr>\n",
       "    <tr>\n",
       "      <th>1</th>\n",
       "      <td>Edev Technologies</td>\n",
       "      <td>Canada</td>\n",
       "      <td>Build great requirements together</td>\n",
       "      <td>Software Product  Software Services  Software ...</td>\n",
       "      <td>http://www.edevtech.com</td>\n",
       "      <td>1999</td>\n",
       "      <td>A requirements lifecycle solutions company ded...</td>\n",
       "      <td>Foreign</td>\n",
       "    </tr>\n",
       "    <tr>\n",
       "      <th>2</th>\n",
       "      <td>Dimensional Sys</td>\n",
       "      <td>Dallas  Texas  United States</td>\n",
       "      <td>Dimensional Systems is an IT services provider...</td>\n",
       "      <td>Consulting  Software</td>\n",
       "      <td>http://dimensionalsys.com</td>\n",
       "      <td>1st January  2012</td>\n",
       "      <td>Dimensional Systems is an IT services provider...</td>\n",
       "      <td>Foreign</td>\n",
       "    </tr>\n",
       "    <tr>\n",
       "      <th>3</th>\n",
       "      <td>Jouple FZ LLC</td>\n",
       "      <td>Dubai</td>\n",
       "      <td>Delivering real-world digital solutions in Mob...</td>\n",
       "      <td>Software</td>\n",
       "      <td>http://www.jouple.com</td>\n",
       "      <td>15th February  2015</td>\n",
       "      <td>Delivering real-world digital solutions in Mob...</td>\n",
       "      <td>Foreign</td>\n",
       "    </tr>\n",
       "    <tr>\n",
       "      <th>4</th>\n",
       "      <td>Careem</td>\n",
       "      <td>Dubai</td>\n",
       "      <td>Careem is a chauffeur cab booking service avai...</td>\n",
       "      <td>Sharing Economy</td>\n",
       "      <td>http://careem.com/</td>\n",
       "      <td>15th June  2012</td>\n",
       "      <td>Tired of waiting for a taxi? Book a profession...</td>\n",
       "      <td>Foreign</td>\n",
       "    </tr>\n",
       "  </tbody>\n",
       "</table>\n",
       "</div>"
      ],
      "text/plain": [
       "                Name                      Location  \\\n",
       "0             Kaanjo                     Amsterdam   \n",
       "1  Edev Technologies                        Canada   \n",
       "2    Dimensional Sys  Dallas  Texas  United States   \n",
       "3      Jouple FZ LLC                         Dubai   \n",
       "4             Careem                         Dubai   \n",
       "\n",
       "                                             Tagline  \\\n",
       "0  We help our clients give a voice to the silent...   \n",
       "1                  Build great requirements together   \n",
       "2  Dimensional Systems is an IT services provider...   \n",
       "3  Delivering real-world digital solutions in Mob...   \n",
       "4  Careem is a chauffeur cab booking service avai...   \n",
       "\n",
       "                                            Category  \\\n",
       "0                                           Software   \n",
       "1  Software Product  Software Services  Software ...   \n",
       "2                               Consulting  Software   \n",
       "3                                           Software   \n",
       "4                                    Sharing Economy   \n",
       "\n",
       "                     Website                Founded  \\\n",
       "0          http:// kaanjo.co  16th September  2016    \n",
       "1    http://www.edevtech.com                   1999   \n",
       "2  http://dimensionalsys.com     1st January  2012    \n",
       "3      http://www.jouple.com   15th February  2015    \n",
       "4         http://careem.com/       15th June  2012    \n",
       "\n",
       "                                         Description  Country  \n",
       "0  Because we believe all consumers should easily...  Foreign  \n",
       "1  A requirements lifecycle solutions company ded...  Foreign  \n",
       "2  Dimensional Systems is an IT services provider...  Foreign  \n",
       "3  Delivering real-world digital solutions in Mob...  Foreign  \n",
       "4  Tired of waiting for a taxi? Book a profession...  Foreign  "
      ]
     },
     "execution_count": 245,
     "metadata": {},
     "output_type": "execute_result"
    }
   ],
   "source": [
    "# Drop rows containing a web address\n",
    "foreign_startups = foreign_startups.drop(rows_with_web_address.index)\n",
    "\n",
    "print(\"\\nUpdated DataFrame after dropping rows with web addresses:\")\n",
    "foreign_startups.head()\n"
   ]
  },
  {
   "cell_type": "markdown",
   "metadata": {},
   "source": [
    "Now we have two properly cleaned Datasets Foreign_startups and Pakistan Startups Lets analysze and visuzlie it"
   ]
  },
  {
   "cell_type": "code",
   "execution_count": 246,
   "metadata": {},
   "outputs": [
    {
     "data": {
      "text/plain": [
       "Index(['Name', 'Location', 'Tagline', 'Category', 'Website', 'Founded',\n",
       "       'Description', 'Country', 'City'],\n",
       "      dtype='object')"
      ]
     },
     "execution_count": 246,
     "metadata": {},
     "output_type": "execute_result"
    }
   ],
   "source": [
    "Pakistan_startups.columns"
   ]
  },
  {
   "cell_type": "code",
   "execution_count": 247,
   "metadata": {},
   "outputs": [
    {
     "data": {
      "text/html": [
       "<div>\n",
       "<style scoped>\n",
       "    .dataframe tbody tr th:only-of-type {\n",
       "        vertical-align: middle;\n",
       "    }\n",
       "\n",
       "    .dataframe tbody tr th {\n",
       "        vertical-align: top;\n",
       "    }\n",
       "\n",
       "    .dataframe thead th {\n",
       "        text-align: right;\n",
       "    }\n",
       "</style>\n",
       "<table border=\"1\" class=\"dataframe\">\n",
       "  <thead>\n",
       "    <tr style=\"text-align: right;\">\n",
       "      <th></th>\n",
       "      <th>Name</th>\n",
       "      <th>Location</th>\n",
       "      <th>Tagline</th>\n",
       "      <th>Category</th>\n",
       "      <th>Website</th>\n",
       "      <th>Founded</th>\n",
       "      <th>Description</th>\n",
       "      <th>Country</th>\n",
       "      <th>City</th>\n",
       "    </tr>\n",
       "  </thead>\n",
       "  <tbody>\n",
       "    <tr>\n",
       "      <th>0</th>\n",
       "      <td>Go Rickshaw</td>\n",
       "      <td>Go Logistics  Ground Floor  Palace Cinema Buil...</td>\n",
       "      <td>GO Rickshaw redefines the entire idea of on-de...</td>\n",
       "      <td>Transportation</td>\n",
       "      <td>https://gorickshaw.pk/</td>\n",
       "      <td>30th October  2015</td>\n",
       "      <td>NaN</td>\n",
       "      <td>Pakistan</td>\n",
       "      <td>Karachi</td>\n",
       "    </tr>\n",
       "    <tr>\n",
       "      <th>1</th>\n",
       "      <td>DexterED</td>\n",
       "      <td>Islamabad</td>\n",
       "      <td>Dextered believes in Creative &amp; Automated Asse...</td>\n",
       "      <td>Education</td>\n",
       "      <td>http://dextered.com</td>\n",
       "      <td>23rd March  2015</td>\n",
       "      <td>At Dextered we are committed to not only revol...</td>\n",
       "      <td>Pakistan</td>\n",
       "      <td>Islamabad</td>\n",
       "    </tr>\n",
       "    <tr>\n",
       "      <th>2</th>\n",
       "      <td>TopSchools.pk</td>\n",
       "      <td>Islamabad</td>\n",
       "      <td>Top Schools is a platform for all schools  col...</td>\n",
       "      <td>Web Portal</td>\n",
       "      <td>http://www.topschools.pk</td>\n",
       "      <td>10th January  2014</td>\n",
       "      <td>Top schools is a web portal for all schools  c...</td>\n",
       "      <td>Pakistan</td>\n",
       "      <td>Islamabad</td>\n",
       "    </tr>\n",
       "    <tr>\n",
       "      <th>3</th>\n",
       "      <td>Jobz.pk</td>\n",
       "      <td>Islamabad</td>\n",
       "      <td>Latest Jobs in Pakistan where one can find new...</td>\n",
       "      <td>Job Portal</td>\n",
       "      <td>http://jobz.pk</td>\n",
       "      <td>2000</td>\n",
       "      <td>We not only cover Pakistani jobs but also UAE ...</td>\n",
       "      <td>Pakistan</td>\n",
       "      <td>Islamabad</td>\n",
       "    </tr>\n",
       "    <tr>\n",
       "      <th>4</th>\n",
       "      <td>ContentStudio</td>\n",
       "      <td>Islamabad</td>\n",
       "      <td>The easiest way to discover  monitor and share...</td>\n",
       "      <td>Software</td>\n",
       "      <td>https://contentstudio.io</td>\n",
       "      <td>2016</td>\n",
       "      <td>NaN</td>\n",
       "      <td>Pakistan</td>\n",
       "      <td>Islamabad</td>\n",
       "    </tr>\n",
       "  </tbody>\n",
       "</table>\n",
       "</div>"
      ],
      "text/plain": [
       "            Name                                           Location  \\\n",
       "0    Go Rickshaw  Go Logistics  Ground Floor  Palace Cinema Buil...   \n",
       "1       DexterED                                          Islamabad   \n",
       "2  TopSchools.pk                                          Islamabad   \n",
       "3        Jobz.pk                                          Islamabad   \n",
       "4  ContentStudio                                          Islamabad   \n",
       "\n",
       "                                             Tagline        Category  \\\n",
       "0  GO Rickshaw redefines the entire idea of on-de...  Transportation   \n",
       "1  Dextered believes in Creative & Automated Asse...       Education   \n",
       "2  Top Schools is a platform for all schools  col...      Web Portal   \n",
       "3  Latest Jobs in Pakistan where one can find new...      Job Portal   \n",
       "4  The easiest way to discover  monitor and share...        Software   \n",
       "\n",
       "                    Website              Founded  \\\n",
       "0    https://gorickshaw.pk/  30th October  2015    \n",
       "1       http://dextered.com    23rd March  2015    \n",
       "2  http://www.topschools.pk  10th January  2014    \n",
       "3            http://jobz.pk                 2000   \n",
       "4  https://contentstudio.io                 2016   \n",
       "\n",
       "                                         Description   Country       City  \n",
       "0                                                NaN  Pakistan    Karachi  \n",
       "1  At Dextered we are committed to not only revol...  Pakistan  Islamabad  \n",
       "2  Top schools is a web portal for all schools  c...  Pakistan  Islamabad  \n",
       "3  We not only cover Pakistani jobs but also UAE ...  Pakistan  Islamabad  \n",
       "4                                                NaN  Pakistan  Islamabad  "
      ]
     },
     "execution_count": 247,
     "metadata": {},
     "output_type": "execute_result"
    }
   ],
   "source": [
    "#Merging if requires \n",
    "Startups = pd.concat([Pakistan_startups, foreign_startups])\n",
    "\n",
    "# Reset index of the merged DataFrame\n",
    "Startups.reset_index(drop=True, inplace=True)\n",
    "\n",
    "# Print the updated DataFrame\n",
    "Startups.head()"
   ]
  },
  {
   "cell_type": "code",
   "execution_count": 248,
   "metadata": {},
   "outputs": [
    {
     "data": {
      "text/html": [
       "<div>\n",
       "<style scoped>\n",
       "    .dataframe tbody tr th:only-of-type {\n",
       "        vertical-align: middle;\n",
       "    }\n",
       "\n",
       "    .dataframe tbody tr th {\n",
       "        vertical-align: top;\n",
       "    }\n",
       "\n",
       "    .dataframe thead th {\n",
       "        text-align: right;\n",
       "    }\n",
       "</style>\n",
       "<table border=\"1\" class=\"dataframe\">\n",
       "  <thead>\n",
       "    <tr style=\"text-align: right;\">\n",
       "      <th></th>\n",
       "      <th>Name</th>\n",
       "      <th>Location</th>\n",
       "      <th>Tagline</th>\n",
       "      <th>Category</th>\n",
       "      <th>Website</th>\n",
       "      <th>Founded</th>\n",
       "      <th>Description</th>\n",
       "      <th>Country</th>\n",
       "      <th>City</th>\n",
       "      <th>Founded Year</th>\n",
       "    </tr>\n",
       "  </thead>\n",
       "  <tbody>\n",
       "    <tr>\n",
       "      <th>0</th>\n",
       "      <td>Go Rickshaw</td>\n",
       "      <td>Go Logistics  Ground Floor  Palace Cinema Buil...</td>\n",
       "      <td>GO Rickshaw redefines the entire idea of on-de...</td>\n",
       "      <td>Transportation</td>\n",
       "      <td>https://gorickshaw.pk/</td>\n",
       "      <td>30th October  2015</td>\n",
       "      <td>NaN</td>\n",
       "      <td>Pakistan</td>\n",
       "      <td>Karachi</td>\n",
       "      <td>2015</td>\n",
       "    </tr>\n",
       "    <tr>\n",
       "      <th>1</th>\n",
       "      <td>DexterED</td>\n",
       "      <td>Islamabad</td>\n",
       "      <td>Dextered believes in Creative &amp; Automated Asse...</td>\n",
       "      <td>Education</td>\n",
       "      <td>http://dextered.com</td>\n",
       "      <td>23rd March  2015</td>\n",
       "      <td>At Dextered we are committed to not only revol...</td>\n",
       "      <td>Pakistan</td>\n",
       "      <td>Islamabad</td>\n",
       "      <td>2015</td>\n",
       "    </tr>\n",
       "  </tbody>\n",
       "</table>\n",
       "</div>"
      ],
      "text/plain": [
       "          Name                                           Location  \\\n",
       "0  Go Rickshaw  Go Logistics  Ground Floor  Palace Cinema Buil...   \n",
       "1     DexterED                                          Islamabad   \n",
       "\n",
       "                                             Tagline        Category  \\\n",
       "0  GO Rickshaw redefines the entire idea of on-de...  Transportation   \n",
       "1  Dextered believes in Creative & Automated Asse...       Education   \n",
       "\n",
       "                  Website              Founded  \\\n",
       "0  https://gorickshaw.pk/  30th October  2015    \n",
       "1     http://dextered.com    23rd March  2015    \n",
       "\n",
       "                                         Description   Country       City  \\\n",
       "0                                                NaN  Pakistan    Karachi   \n",
       "1  At Dextered we are committed to not only revol...  Pakistan  Islamabad   \n",
       "\n",
       "  Founded Year  \n",
       "0         2015  \n",
       "1         2015  "
      ]
     },
     "execution_count": 248,
     "metadata": {},
     "output_type": "execute_result"
    }
   ],
   "source": [
    "# Define a regular expression pattern to match years\n",
    "year_pattern = r'(\\b\\d{4}\\b)'\n",
    "\n",
    "# Extract founded years using regular expressions\n",
    "Startups['Founded Year'] = Startups['Founded'].str.extract(year_pattern)\n",
    "Startups.head(2)\n"
   ]
  },
  {
   "cell_type": "markdown",
   "metadata": {},
   "source": [
    "We have issue that we are not provided with the complete year\n",
    "so we are endeed with the null or not provided values"
   ]
  },
  {
   "cell_type": "code",
   "execution_count": 249,
   "metadata": {},
   "outputs": [],
   "source": [
    "# Check if there are no null values in the 'Founded_Year' column\n",
    "no_null_founded_year = not Startups['Founded Year'].isnull().any()\n",
    "\n",
    "# Filter rows where 'Founded_Year' is null\n",
    "null_founded_year_rows = Startups[Startups['Founded Year'].isnull()]\n",
    "\n",
    "# Replace null values in 'Founded_Year' with 'Not Provided'\n",
    "Startups['Founded Year'].fillna('Not Provided', inplace=True)\n",
    "\n",
    "\n"
   ]
  },
  {
   "cell_type": "code",
   "execution_count": null,
   "metadata": {},
   "outputs": [],
   "source": []
  },
  {
   "cell_type": "code",
   "execution_count": 250,
   "metadata": {},
   "outputs": [
    {
     "data": {
      "text/html": [
       "<div>\n",
       "<style scoped>\n",
       "    .dataframe tbody tr th:only-of-type {\n",
       "        vertical-align: middle;\n",
       "    }\n",
       "\n",
       "    .dataframe tbody tr th {\n",
       "        vertical-align: top;\n",
       "    }\n",
       "\n",
       "    .dataframe thead th {\n",
       "        text-align: right;\n",
       "    }\n",
       "</style>\n",
       "<table border=\"1\" class=\"dataframe\">\n",
       "  <thead>\n",
       "    <tr style=\"text-align: right;\">\n",
       "      <th></th>\n",
       "      <th>Name</th>\n",
       "      <th>Location</th>\n",
       "      <th>Tagline</th>\n",
       "      <th>Category</th>\n",
       "      <th>Website</th>\n",
       "      <th>Founded</th>\n",
       "      <th>Description</th>\n",
       "      <th>Country</th>\n",
       "      <th>City</th>\n",
       "      <th>Founded Year</th>\n",
       "    </tr>\n",
       "  </thead>\n",
       "  <tbody>\n",
       "    <tr>\n",
       "      <th>0</th>\n",
       "      <td>Go Rickshaw</td>\n",
       "      <td>Go Logistics  Ground Floor  Palace Cinema Buil...</td>\n",
       "      <td>GO Rickshaw redefines the entire idea of on-de...</td>\n",
       "      <td>Transportation</td>\n",
       "      <td>https://gorickshaw.pk/</td>\n",
       "      <td>30th October  2015</td>\n",
       "      <td>NaN</td>\n",
       "      <td>Pakistan</td>\n",
       "      <td>Karachi</td>\n",
       "      <td>2015</td>\n",
       "    </tr>\n",
       "    <tr>\n",
       "      <th>1</th>\n",
       "      <td>DexterED</td>\n",
       "      <td>Islamabad</td>\n",
       "      <td>Dextered believes in Creative &amp; Automated Asse...</td>\n",
       "      <td>Education</td>\n",
       "      <td>http://dextered.com</td>\n",
       "      <td>23rd March  2015</td>\n",
       "      <td>At Dextered we are committed to not only revol...</td>\n",
       "      <td>Pakistan</td>\n",
       "      <td>Islamabad</td>\n",
       "      <td>2015</td>\n",
       "    </tr>\n",
       "    <tr>\n",
       "      <th>2</th>\n",
       "      <td>TopSchools.pk</td>\n",
       "      <td>Islamabad</td>\n",
       "      <td>Top Schools is a platform for all schools  col...</td>\n",
       "      <td>Web Portal</td>\n",
       "      <td>http://www.topschools.pk</td>\n",
       "      <td>10th January  2014</td>\n",
       "      <td>Top schools is a web portal for all schools  c...</td>\n",
       "      <td>Pakistan</td>\n",
       "      <td>Islamabad</td>\n",
       "      <td>2014</td>\n",
       "    </tr>\n",
       "    <tr>\n",
       "      <th>3</th>\n",
       "      <td>Jobz.pk</td>\n",
       "      <td>Islamabad</td>\n",
       "      <td>Latest Jobs in Pakistan where one can find new...</td>\n",
       "      <td>Job Portal</td>\n",
       "      <td>http://jobz.pk</td>\n",
       "      <td>2000</td>\n",
       "      <td>We not only cover Pakistani jobs but also UAE ...</td>\n",
       "      <td>Pakistan</td>\n",
       "      <td>Islamabad</td>\n",
       "      <td>2000</td>\n",
       "    </tr>\n",
       "    <tr>\n",
       "      <th>4</th>\n",
       "      <td>ContentStudio</td>\n",
       "      <td>Islamabad</td>\n",
       "      <td>The easiest way to discover  monitor and share...</td>\n",
       "      <td>Software</td>\n",
       "      <td>https://contentstudio.io</td>\n",
       "      <td>2016</td>\n",
       "      <td>NaN</td>\n",
       "      <td>Pakistan</td>\n",
       "      <td>Islamabad</td>\n",
       "      <td>2016</td>\n",
       "    </tr>\n",
       "    <tr>\n",
       "      <th>...</th>\n",
       "      <td>...</td>\n",
       "      <td>...</td>\n",
       "      <td>...</td>\n",
       "      <td>...</td>\n",
       "      <td>...</td>\n",
       "      <td>...</td>\n",
       "      <td>...</td>\n",
       "      <td>...</td>\n",
       "      <td>...</td>\n",
       "      <td>...</td>\n",
       "    </tr>\n",
       "    <tr>\n",
       "      <th>422</th>\n",
       "      <td>Branding in Asia</td>\n",
       "      <td>Seoul  South Korea</td>\n",
       "      <td>A digital publication focusing on Asia's adver...</td>\n",
       "      <td>Publishing</td>\n",
       "      <td>http://brandinginasia.com/</td>\n",
       "      <td>1st September  2014</td>\n",
       "      <td>A digital publication that shares news  trends...</td>\n",
       "      <td>Foreign</td>\n",
       "      <td>NaN</td>\n",
       "      <td>2014</td>\n",
       "    </tr>\n",
       "    <tr>\n",
       "      <th>423</th>\n",
       "      <td>WebDealer Solutions</td>\n",
       "      <td>Toronto  ON Canada</td>\n",
       "      <td>Maximize web sales.</td>\n",
       "      <td>Services  Software  Customer Enagagement. Lead...</td>\n",
       "      <td>http://www.webdealersolutions.com</td>\n",
       "      <td>25th June  2015</td>\n",
       "      <td>We help business owners maximize lead generati...</td>\n",
       "      <td>Foreign</td>\n",
       "      <td>NaN</td>\n",
       "      <td>2015</td>\n",
       "    </tr>\n",
       "    <tr>\n",
       "      <th>424</th>\n",
       "      <td>Cooked Today</td>\n",
       "      <td>United States</td>\n",
       "      <td>A PLATFORM TO BUY AND SELL FRESH HOME COOKED M...</td>\n",
       "      <td>Website</td>\n",
       "      <td>http://www.cookedtoday.net</td>\n",
       "      <td>2015</td>\n",
       "      <td>â€˜Cooked Todayâ€™ is a platform for buying an...</td>\n",
       "      <td>Foreign</td>\n",
       "      <td>NaN</td>\n",
       "      <td>2015</td>\n",
       "    </tr>\n",
       "    <tr>\n",
       "      <th>425</th>\n",
       "      <td>Folio3</td>\n",
       "      <td>United States</td>\n",
       "      <td>Folio3 is focused on helping #entrepreneurs an...</td>\n",
       "      <td>Consulting  Application Development  Business ...</td>\n",
       "      <td>http://www.folio3.com</td>\n",
       "      <td>2005</td>\n",
       "      <td>Folio3 is an offshore software services compan...</td>\n",
       "      <td>Foreign</td>\n",
       "      <td>NaN</td>\n",
       "      <td>2005</td>\n",
       "    </tr>\n",
       "    <tr>\n",
       "      <th>426</th>\n",
       "      <td>CADDWORX</td>\n",
       "      <td>White Plains  New York  USA</td>\n",
       "      <td>We provide off shore CAD and 3D design service...</td>\n",
       "      <td>Consulting  Computer Aided Drafting  3D</td>\n",
       "      <td>NaN</td>\n",
       "      <td>1st September  2010</td>\n",
       "      <td>Headed by a graduate Civil Engineer from Virgi...</td>\n",
       "      <td>Foreign</td>\n",
       "      <td>NaN</td>\n",
       "      <td>2010</td>\n",
       "    </tr>\n",
       "  </tbody>\n",
       "</table>\n",
       "<p>427 rows × 10 columns</p>\n",
       "</div>"
      ],
      "text/plain": [
       "                    Name                                           Location  \\\n",
       "0            Go Rickshaw  Go Logistics  Ground Floor  Palace Cinema Buil...   \n",
       "1               DexterED                                          Islamabad   \n",
       "2          TopSchools.pk                                          Islamabad   \n",
       "3                Jobz.pk                                          Islamabad   \n",
       "4          ContentStudio                                          Islamabad   \n",
       "..                   ...                                                ...   \n",
       "422     Branding in Asia                                 Seoul  South Korea   \n",
       "423  WebDealer Solutions                                 Toronto  ON Canada   \n",
       "424         Cooked Today                                      United States   \n",
       "425               Folio3                                      United States   \n",
       "426             CADDWORX                        White Plains  New York  USA   \n",
       "\n",
       "                                               Tagline  \\\n",
       "0    GO Rickshaw redefines the entire idea of on-de...   \n",
       "1    Dextered believes in Creative & Automated Asse...   \n",
       "2    Top Schools is a platform for all schools  col...   \n",
       "3    Latest Jobs in Pakistan where one can find new...   \n",
       "4    The easiest way to discover  monitor and share...   \n",
       "..                                                 ...   \n",
       "422  A digital publication focusing on Asia's adver...   \n",
       "423                                Maximize web sales.   \n",
       "424  A PLATFORM TO BUY AND SELL FRESH HOME COOKED M...   \n",
       "425  Folio3 is focused on helping #entrepreneurs an...   \n",
       "426  We provide off shore CAD and 3D design service...   \n",
       "\n",
       "                                              Category  \\\n",
       "0                                       Transportation   \n",
       "1                                            Education   \n",
       "2                                           Web Portal   \n",
       "3                                           Job Portal   \n",
       "4                                             Software   \n",
       "..                                                 ...   \n",
       "422                                         Publishing   \n",
       "423  Services  Software  Customer Enagagement. Lead...   \n",
       "424                                            Website   \n",
       "425  Consulting  Application Development  Business ...   \n",
       "426            Consulting  Computer Aided Drafting  3D   \n",
       "\n",
       "                               Website               Founded  \\\n",
       "0               https://gorickshaw.pk/   30th October  2015    \n",
       "1                  http://dextered.com     23rd March  2015    \n",
       "2             http://www.topschools.pk   10th January  2014    \n",
       "3                       http://jobz.pk                  2000   \n",
       "4             https://contentstudio.io                  2016   \n",
       "..                                 ...                   ...   \n",
       "422         http://brandinginasia.com/  1st September  2014    \n",
       "423  http://www.webdealersolutions.com      25th June  2015    \n",
       "424         http://www.cookedtoday.net                  2015   \n",
       "425              http://www.folio3.com                  2005   \n",
       "426                                NaN  1st September  2010    \n",
       "\n",
       "                                           Description   Country       City  \\\n",
       "0                                                  NaN  Pakistan    Karachi   \n",
       "1    At Dextered we are committed to not only revol...  Pakistan  Islamabad   \n",
       "2    Top schools is a web portal for all schools  c...  Pakistan  Islamabad   \n",
       "3    We not only cover Pakistani jobs but also UAE ...  Pakistan  Islamabad   \n",
       "4                                                  NaN  Pakistan  Islamabad   \n",
       "..                                                 ...       ...        ...   \n",
       "422  A digital publication that shares news  trends...   Foreign        NaN   \n",
       "423  We help business owners maximize lead generati...   Foreign        NaN   \n",
       "424  â€˜Cooked Todayâ€™ is a platform for buying an...   Foreign        NaN   \n",
       "425  Folio3 is an offshore software services compan...   Foreign        NaN   \n",
       "426  Headed by a graduate Civil Engineer from Virgi...   Foreign        NaN   \n",
       "\n",
       "    Founded Year  \n",
       "0           2015  \n",
       "1           2015  \n",
       "2           2014  \n",
       "3           2000  \n",
       "4           2016  \n",
       "..           ...  \n",
       "422         2014  \n",
       "423         2015  \n",
       "424         2015  \n",
       "425         2005  \n",
       "426         2010  \n",
       "\n",
       "[427 rows x 10 columns]"
      ]
     },
     "execution_count": 250,
     "metadata": {},
     "output_type": "execute_result"
    }
   ],
   "source": [
    "Startups"
   ]
  },
  {
   "cell_type": "code",
   "execution_count": 251,
   "metadata": {},
   "outputs": [
    {
     "name": "stdout",
     "output_type": "stream",
     "text": [
      "Software                                                                31\n",
      "E-Commerce                                                              28\n",
      "Education                                                               14\n",
      "Technology                                                              12\n",
      "Website                                                                 12\n",
      "                                                                        ..\n",
      "Discount Store                                                           1\n",
      "SMS Interaction  Tech                                                    1\n",
      "Consulting  Software  Application Development  Branding  Web Hosting     1\n",
      "E-commerce  Online Shopping                                              1\n",
      "Consulting  Computer Aided Drafting  3D                                  1\n",
      "Name: Category, Length: 276, dtype: int64\n"
     ]
    }
   ],
   "source": [
    "# Count the unique categories and their frequencies\n",
    "category_counts = Startups['Category'].value_counts()\n",
    "\n",
    "# Print the unique categories and their frequencies\n",
    "print(category_counts)\n"
   ]
  },
  {
   "cell_type": "code",
   "execution_count": 252,
   "metadata": {},
   "outputs": [],
   "source": [
    "# import pandas as pd\n",
    "# from collections import Counter\n",
    "\n",
    "# # Sample DataFrame\n",
    "# data = Startups\n",
    "# # Function to extract words from categories and count their occurrences\n",
    "# def count_words(categories):\n",
    "#     words = [word.lower() for category in categories for word in category.split()]\n",
    "#     return Counter(words)\n",
    "\n",
    "# # Extract words and count occurrences\n",
    "# word_counts = count_words(df['Category'])\n",
    "# # print(word_counts)\n",
    "\n",
    "\n",
    "\n",
    "# # Define mapping based on word occurrences\n",
    "# category_mapping = {}\n",
    "# for word, count in word_counts.items():\n",
    "#     if count > 1:  # Adjust this threshold as needed\n",
    "#         category_mapping[word] = word.capitalize()\n",
    "\n",
    "# # Function to standardize categories based on the mapping\n",
    "# def standardize_category(category):\n",
    "#     category = category.lower()\n",
    "#     for word in category.split():\n",
    "#         if word in category_mapping:\n",
    "#             return category_mapping[word]\n",
    "#     return category\n",
    "\n",
    "# # Apply standardize_category function to create 'Category_final' column\n",
    "# df['Category_final'] = df['Category'].apply(standardize_category)\n",
    "\n",
    "# df.Category_final.unique()"
   ]
  },
  {
   "cell_type": "code",
   "execution_count": 253,
   "metadata": {},
   "outputs": [
    {
     "data": {
      "text/html": [
       "<div>\n",
       "<style scoped>\n",
       "    .dataframe tbody tr th:only-of-type {\n",
       "        vertical-align: middle;\n",
       "    }\n",
       "\n",
       "    .dataframe tbody tr th {\n",
       "        vertical-align: top;\n",
       "    }\n",
       "\n",
       "    .dataframe thead th {\n",
       "        text-align: right;\n",
       "    }\n",
       "</style>\n",
       "<table border=\"1\" class=\"dataframe\">\n",
       "  <thead>\n",
       "    <tr style=\"text-align: right;\">\n",
       "      <th></th>\n",
       "      <th>Name</th>\n",
       "      <th>Location</th>\n",
       "      <th>Tagline</th>\n",
       "      <th>Category</th>\n",
       "      <th>Website</th>\n",
       "      <th>Founded</th>\n",
       "      <th>Description</th>\n",
       "      <th>Country</th>\n",
       "      <th>City</th>\n",
       "      <th>Founded Year</th>\n",
       "    </tr>\n",
       "  </thead>\n",
       "  <tbody>\n",
       "    <tr>\n",
       "      <th>0</th>\n",
       "      <td>Go Rickshaw</td>\n",
       "      <td>Go Logistics  Ground Floor  Palace Cinema Buil...</td>\n",
       "      <td>GO Rickshaw redefines the entire idea of on-de...</td>\n",
       "      <td>Transportation</td>\n",
       "      <td>https://gorickshaw.pk/</td>\n",
       "      <td>30th October  2015</td>\n",
       "      <td>NaN</td>\n",
       "      <td>Pakistan</td>\n",
       "      <td>Karachi</td>\n",
       "      <td>2015</td>\n",
       "    </tr>\n",
       "    <tr>\n",
       "      <th>1</th>\n",
       "      <td>DexterED</td>\n",
       "      <td>Islamabad</td>\n",
       "      <td>Dextered believes in Creative &amp; Automated Asse...</td>\n",
       "      <td>Education</td>\n",
       "      <td>http://dextered.com</td>\n",
       "      <td>23rd March  2015</td>\n",
       "      <td>At Dextered we are committed to not only revol...</td>\n",
       "      <td>Pakistan</td>\n",
       "      <td>Islamabad</td>\n",
       "      <td>2015</td>\n",
       "    </tr>\n",
       "    <tr>\n",
       "      <th>2</th>\n",
       "      <td>TopSchools.pk</td>\n",
       "      <td>Islamabad</td>\n",
       "      <td>Top Schools is a platform for all schools  col...</td>\n",
       "      <td>Web Portal</td>\n",
       "      <td>http://www.topschools.pk</td>\n",
       "      <td>10th January  2014</td>\n",
       "      <td>Top schools is a web portal for all schools  c...</td>\n",
       "      <td>Pakistan</td>\n",
       "      <td>Islamabad</td>\n",
       "      <td>2014</td>\n",
       "    </tr>\n",
       "    <tr>\n",
       "      <th>3</th>\n",
       "      <td>Jobz.pk</td>\n",
       "      <td>Islamabad</td>\n",
       "      <td>Latest Jobs in Pakistan where one can find new...</td>\n",
       "      <td>Job Portal</td>\n",
       "      <td>http://jobz.pk</td>\n",
       "      <td>2000</td>\n",
       "      <td>We not only cover Pakistani jobs but also UAE ...</td>\n",
       "      <td>Pakistan</td>\n",
       "      <td>Islamabad</td>\n",
       "      <td>2000</td>\n",
       "    </tr>\n",
       "    <tr>\n",
       "      <th>4</th>\n",
       "      <td>ContentStudio</td>\n",
       "      <td>Islamabad</td>\n",
       "      <td>The easiest way to discover  monitor and share...</td>\n",
       "      <td>Software</td>\n",
       "      <td>https://contentstudio.io</td>\n",
       "      <td>2016</td>\n",
       "      <td>NaN</td>\n",
       "      <td>Pakistan</td>\n",
       "      <td>Islamabad</td>\n",
       "      <td>2016</td>\n",
       "    </tr>\n",
       "  </tbody>\n",
       "</table>\n",
       "</div>"
      ],
      "text/plain": [
       "            Name                                           Location  \\\n",
       "0    Go Rickshaw  Go Logistics  Ground Floor  Palace Cinema Buil...   \n",
       "1       DexterED                                          Islamabad   \n",
       "2  TopSchools.pk                                          Islamabad   \n",
       "3        Jobz.pk                                          Islamabad   \n",
       "4  ContentStudio                                          Islamabad   \n",
       "\n",
       "                                             Tagline        Category  \\\n",
       "0  GO Rickshaw redefines the entire idea of on-de...  Transportation   \n",
       "1  Dextered believes in Creative & Automated Asse...       Education   \n",
       "2  Top Schools is a platform for all schools  col...      Web Portal   \n",
       "3  Latest Jobs in Pakistan where one can find new...      Job Portal   \n",
       "4  The easiest way to discover  monitor and share...        Software   \n",
       "\n",
       "                    Website              Founded  \\\n",
       "0    https://gorickshaw.pk/  30th October  2015    \n",
       "1       http://dextered.com    23rd March  2015    \n",
       "2  http://www.topschools.pk  10th January  2014    \n",
       "3            http://jobz.pk                 2000   \n",
       "4  https://contentstudio.io                 2016   \n",
       "\n",
       "                                         Description   Country       City  \\\n",
       "0                                                NaN  Pakistan    Karachi   \n",
       "1  At Dextered we are committed to not only revol...  Pakistan  Islamabad   \n",
       "2  Top schools is a web portal for all schools  c...  Pakistan  Islamabad   \n",
       "3  We not only cover Pakistani jobs but also UAE ...  Pakistan  Islamabad   \n",
       "4                                                NaN  Pakistan  Islamabad   \n",
       "\n",
       "  Founded Year  \n",
       "0         2015  \n",
       "1         2015  \n",
       "2         2014  \n",
       "3         2000  \n",
       "4         2016  "
      ]
     },
     "execution_count": 253,
     "metadata": {},
     "output_type": "execute_result"
    }
   ],
   "source": [
    "Startups.head()"
   ]
  },
  {
   "cell_type": "code",
   "execution_count": 254,
   "metadata": {},
   "outputs": [
    {
     "data": {
      "application/vnd.plotly.v1+json": {
       "config": {
        "plotlyServerURL": "https://plot.ly"
       },
       "data": [
        {
         "alignmentgroup": "True",
         "hovertemplate": "variable=0<br>Category=%{x}<br>value=%{y}<extra></extra>",
         "legendgroup": "0",
         "marker": {
          "color": "#636efa",
          "pattern": {
           "shape": ""
          }
         },
         "name": "0",
         "offsetgroup": "0",
         "orientation": "v",
         "showlegend": true,
         "textposition": "auto",
         "type": "bar",
         "x": [
          "e-commerce",
          "software",
          "education",
          "website",
          "technology",
          "services",
          "healthcare",
          "automotive",
          "fintech",
          "consulting  software",
          "health",
          "electronics",
          "hardware",
          "marketplace",
          "news media",
          "retail",
          "sharing economy",
          "community",
          "consultancy  services",
          "consulting  software house",
          "digital media",
          "e-learning",
          "financial information services",
          "health care",
          "media",
          "media/news",
          "saas",
          "service",
          "software  education",
          "sports"
         ],
         "xaxis": "x",
         "y": [
          37,
          33,
          14,
          13,
          12,
          9,
          8,
          6,
          6,
          5,
          5,
          3,
          3,
          3,
          3,
          3,
          3,
          2,
          2,
          2,
          2,
          2,
          2,
          2,
          2,
          2,
          2,
          2,
          2,
          2
         ],
         "yaxis": "y"
        }
       ],
       "layout": {
        "barmode": "relative",
        "legend": {
         "title": {
          "text": "variable"
         },
         "tracegroupgap": 0
        },
        "template": {
         "data": {
          "bar": [
           {
            "error_x": {
             "color": "#2a3f5f"
            },
            "error_y": {
             "color": "#2a3f5f"
            },
            "marker": {
             "line": {
              "color": "#E5ECF6",
              "width": 0.5
             },
             "pattern": {
              "fillmode": "overlay",
              "size": 10,
              "solidity": 0.2
             }
            },
            "type": "bar"
           }
          ],
          "barpolar": [
           {
            "marker": {
             "line": {
              "color": "#E5ECF6",
              "width": 0.5
             },
             "pattern": {
              "fillmode": "overlay",
              "size": 10,
              "solidity": 0.2
             }
            },
            "type": "barpolar"
           }
          ],
          "carpet": [
           {
            "aaxis": {
             "endlinecolor": "#2a3f5f",
             "gridcolor": "white",
             "linecolor": "white",
             "minorgridcolor": "white",
             "startlinecolor": "#2a3f5f"
            },
            "baxis": {
             "endlinecolor": "#2a3f5f",
             "gridcolor": "white",
             "linecolor": "white",
             "minorgridcolor": "white",
             "startlinecolor": "#2a3f5f"
            },
            "type": "carpet"
           }
          ],
          "choropleth": [
           {
            "colorbar": {
             "outlinewidth": 0,
             "ticks": ""
            },
            "type": "choropleth"
           }
          ],
          "contour": [
           {
            "colorbar": {
             "outlinewidth": 0,
             "ticks": ""
            },
            "colorscale": [
             [
              0,
              "#0d0887"
             ],
             [
              0.1111111111111111,
              "#46039f"
             ],
             [
              0.2222222222222222,
              "#7201a8"
             ],
             [
              0.3333333333333333,
              "#9c179e"
             ],
             [
              0.4444444444444444,
              "#bd3786"
             ],
             [
              0.5555555555555556,
              "#d8576b"
             ],
             [
              0.6666666666666666,
              "#ed7953"
             ],
             [
              0.7777777777777778,
              "#fb9f3a"
             ],
             [
              0.8888888888888888,
              "#fdca26"
             ],
             [
              1,
              "#f0f921"
             ]
            ],
            "type": "contour"
           }
          ],
          "contourcarpet": [
           {
            "colorbar": {
             "outlinewidth": 0,
             "ticks": ""
            },
            "type": "contourcarpet"
           }
          ],
          "heatmap": [
           {
            "colorbar": {
             "outlinewidth": 0,
             "ticks": ""
            },
            "colorscale": [
             [
              0,
              "#0d0887"
             ],
             [
              0.1111111111111111,
              "#46039f"
             ],
             [
              0.2222222222222222,
              "#7201a8"
             ],
             [
              0.3333333333333333,
              "#9c179e"
             ],
             [
              0.4444444444444444,
              "#bd3786"
             ],
             [
              0.5555555555555556,
              "#d8576b"
             ],
             [
              0.6666666666666666,
              "#ed7953"
             ],
             [
              0.7777777777777778,
              "#fb9f3a"
             ],
             [
              0.8888888888888888,
              "#fdca26"
             ],
             [
              1,
              "#f0f921"
             ]
            ],
            "type": "heatmap"
           }
          ],
          "heatmapgl": [
           {
            "colorbar": {
             "outlinewidth": 0,
             "ticks": ""
            },
            "colorscale": [
             [
              0,
              "#0d0887"
             ],
             [
              0.1111111111111111,
              "#46039f"
             ],
             [
              0.2222222222222222,
              "#7201a8"
             ],
             [
              0.3333333333333333,
              "#9c179e"
             ],
             [
              0.4444444444444444,
              "#bd3786"
             ],
             [
              0.5555555555555556,
              "#d8576b"
             ],
             [
              0.6666666666666666,
              "#ed7953"
             ],
             [
              0.7777777777777778,
              "#fb9f3a"
             ],
             [
              0.8888888888888888,
              "#fdca26"
             ],
             [
              1,
              "#f0f921"
             ]
            ],
            "type": "heatmapgl"
           }
          ],
          "histogram": [
           {
            "marker": {
             "pattern": {
              "fillmode": "overlay",
              "size": 10,
              "solidity": 0.2
             }
            },
            "type": "histogram"
           }
          ],
          "histogram2d": [
           {
            "colorbar": {
             "outlinewidth": 0,
             "ticks": ""
            },
            "colorscale": [
             [
              0,
              "#0d0887"
             ],
             [
              0.1111111111111111,
              "#46039f"
             ],
             [
              0.2222222222222222,
              "#7201a8"
             ],
             [
              0.3333333333333333,
              "#9c179e"
             ],
             [
              0.4444444444444444,
              "#bd3786"
             ],
             [
              0.5555555555555556,
              "#d8576b"
             ],
             [
              0.6666666666666666,
              "#ed7953"
             ],
             [
              0.7777777777777778,
              "#fb9f3a"
             ],
             [
              0.8888888888888888,
              "#fdca26"
             ],
             [
              1,
              "#f0f921"
             ]
            ],
            "type": "histogram2d"
           }
          ],
          "histogram2dcontour": [
           {
            "colorbar": {
             "outlinewidth": 0,
             "ticks": ""
            },
            "colorscale": [
             [
              0,
              "#0d0887"
             ],
             [
              0.1111111111111111,
              "#46039f"
             ],
             [
              0.2222222222222222,
              "#7201a8"
             ],
             [
              0.3333333333333333,
              "#9c179e"
             ],
             [
              0.4444444444444444,
              "#bd3786"
             ],
             [
              0.5555555555555556,
              "#d8576b"
             ],
             [
              0.6666666666666666,
              "#ed7953"
             ],
             [
              0.7777777777777778,
              "#fb9f3a"
             ],
             [
              0.8888888888888888,
              "#fdca26"
             ],
             [
              1,
              "#f0f921"
             ]
            ],
            "type": "histogram2dcontour"
           }
          ],
          "mesh3d": [
           {
            "colorbar": {
             "outlinewidth": 0,
             "ticks": ""
            },
            "type": "mesh3d"
           }
          ],
          "parcoords": [
           {
            "line": {
             "colorbar": {
              "outlinewidth": 0,
              "ticks": ""
             }
            },
            "type": "parcoords"
           }
          ],
          "pie": [
           {
            "automargin": true,
            "type": "pie"
           }
          ],
          "scatter": [
           {
            "fillpattern": {
             "fillmode": "overlay",
             "size": 10,
             "solidity": 0.2
            },
            "type": "scatter"
           }
          ],
          "scatter3d": [
           {
            "line": {
             "colorbar": {
              "outlinewidth": 0,
              "ticks": ""
             }
            },
            "marker": {
             "colorbar": {
              "outlinewidth": 0,
              "ticks": ""
             }
            },
            "type": "scatter3d"
           }
          ],
          "scattercarpet": [
           {
            "marker": {
             "colorbar": {
              "outlinewidth": 0,
              "ticks": ""
             }
            },
            "type": "scattercarpet"
           }
          ],
          "scattergeo": [
           {
            "marker": {
             "colorbar": {
              "outlinewidth": 0,
              "ticks": ""
             }
            },
            "type": "scattergeo"
           }
          ],
          "scattergl": [
           {
            "marker": {
             "colorbar": {
              "outlinewidth": 0,
              "ticks": ""
             }
            },
            "type": "scattergl"
           }
          ],
          "scattermapbox": [
           {
            "marker": {
             "colorbar": {
              "outlinewidth": 0,
              "ticks": ""
             }
            },
            "type": "scattermapbox"
           }
          ],
          "scatterpolar": [
           {
            "marker": {
             "colorbar": {
              "outlinewidth": 0,
              "ticks": ""
             }
            },
            "type": "scatterpolar"
           }
          ],
          "scatterpolargl": [
           {
            "marker": {
             "colorbar": {
              "outlinewidth": 0,
              "ticks": ""
             }
            },
            "type": "scatterpolargl"
           }
          ],
          "scatterternary": [
           {
            "marker": {
             "colorbar": {
              "outlinewidth": 0,
              "ticks": ""
             }
            },
            "type": "scatterternary"
           }
          ],
          "surface": [
           {
            "colorbar": {
             "outlinewidth": 0,
             "ticks": ""
            },
            "colorscale": [
             [
              0,
              "#0d0887"
             ],
             [
              0.1111111111111111,
              "#46039f"
             ],
             [
              0.2222222222222222,
              "#7201a8"
             ],
             [
              0.3333333333333333,
              "#9c179e"
             ],
             [
              0.4444444444444444,
              "#bd3786"
             ],
             [
              0.5555555555555556,
              "#d8576b"
             ],
             [
              0.6666666666666666,
              "#ed7953"
             ],
             [
              0.7777777777777778,
              "#fb9f3a"
             ],
             [
              0.8888888888888888,
              "#fdca26"
             ],
             [
              1,
              "#f0f921"
             ]
            ],
            "type": "surface"
           }
          ],
          "table": [
           {
            "cells": {
             "fill": {
              "color": "#EBF0F8"
             },
             "line": {
              "color": "white"
             }
            },
            "header": {
             "fill": {
              "color": "#C8D4E3"
             },
             "line": {
              "color": "white"
             }
            },
            "type": "table"
           }
          ]
         },
         "layout": {
          "annotationdefaults": {
           "arrowcolor": "#2a3f5f",
           "arrowhead": 0,
           "arrowwidth": 1
          },
          "autotypenumbers": "strict",
          "coloraxis": {
           "colorbar": {
            "outlinewidth": 0,
            "ticks": ""
           }
          },
          "colorscale": {
           "diverging": [
            [
             0,
             "#8e0152"
            ],
            [
             0.1,
             "#c51b7d"
            ],
            [
             0.2,
             "#de77ae"
            ],
            [
             0.3,
             "#f1b6da"
            ],
            [
             0.4,
             "#fde0ef"
            ],
            [
             0.5,
             "#f7f7f7"
            ],
            [
             0.6,
             "#e6f5d0"
            ],
            [
             0.7,
             "#b8e186"
            ],
            [
             0.8,
             "#7fbc41"
            ],
            [
             0.9,
             "#4d9221"
            ],
            [
             1,
             "#276419"
            ]
           ],
           "sequential": [
            [
             0,
             "#0d0887"
            ],
            [
             0.1111111111111111,
             "#46039f"
            ],
            [
             0.2222222222222222,
             "#7201a8"
            ],
            [
             0.3333333333333333,
             "#9c179e"
            ],
            [
             0.4444444444444444,
             "#bd3786"
            ],
            [
             0.5555555555555556,
             "#d8576b"
            ],
            [
             0.6666666666666666,
             "#ed7953"
            ],
            [
             0.7777777777777778,
             "#fb9f3a"
            ],
            [
             0.8888888888888888,
             "#fdca26"
            ],
            [
             1,
             "#f0f921"
            ]
           ],
           "sequentialminus": [
            [
             0,
             "#0d0887"
            ],
            [
             0.1111111111111111,
             "#46039f"
            ],
            [
             0.2222222222222222,
             "#7201a8"
            ],
            [
             0.3333333333333333,
             "#9c179e"
            ],
            [
             0.4444444444444444,
             "#bd3786"
            ],
            [
             0.5555555555555556,
             "#d8576b"
            ],
            [
             0.6666666666666666,
             "#ed7953"
            ],
            [
             0.7777777777777778,
             "#fb9f3a"
            ],
            [
             0.8888888888888888,
             "#fdca26"
            ],
            [
             1,
             "#f0f921"
            ]
           ]
          },
          "colorway": [
           "#636efa",
           "#EF553B",
           "#00cc96",
           "#ab63fa",
           "#FFA15A",
           "#19d3f3",
           "#FF6692",
           "#B6E880",
           "#FF97FF",
           "#FECB52"
          ],
          "font": {
           "color": "#2a3f5f"
          },
          "geo": {
           "bgcolor": "white",
           "lakecolor": "white",
           "landcolor": "#E5ECF6",
           "showlakes": true,
           "showland": true,
           "subunitcolor": "white"
          },
          "hoverlabel": {
           "align": "left"
          },
          "hovermode": "closest",
          "mapbox": {
           "style": "light"
          },
          "paper_bgcolor": "white",
          "plot_bgcolor": "#E5ECF6",
          "polar": {
           "angularaxis": {
            "gridcolor": "white",
            "linecolor": "white",
            "ticks": ""
           },
           "bgcolor": "#E5ECF6",
           "radialaxis": {
            "gridcolor": "white",
            "linecolor": "white",
            "ticks": ""
           }
          },
          "scene": {
           "xaxis": {
            "backgroundcolor": "#E5ECF6",
            "gridcolor": "white",
            "gridwidth": 2,
            "linecolor": "white",
            "showbackground": true,
            "ticks": "",
            "zerolinecolor": "white"
           },
           "yaxis": {
            "backgroundcolor": "#E5ECF6",
            "gridcolor": "white",
            "gridwidth": 2,
            "linecolor": "white",
            "showbackground": true,
            "ticks": "",
            "zerolinecolor": "white"
           },
           "zaxis": {
            "backgroundcolor": "#E5ECF6",
            "gridcolor": "white",
            "gridwidth": 2,
            "linecolor": "white",
            "showbackground": true,
            "ticks": "",
            "zerolinecolor": "white"
           }
          },
          "shapedefaults": {
           "line": {
            "color": "#2a3f5f"
           }
          },
          "ternary": {
           "aaxis": {
            "gridcolor": "white",
            "linecolor": "white",
            "ticks": ""
           },
           "baxis": {
            "gridcolor": "white",
            "linecolor": "white",
            "ticks": ""
           },
           "bgcolor": "#E5ECF6",
           "caxis": {
            "gridcolor": "white",
            "linecolor": "white",
            "ticks": ""
           }
          },
          "title": {
           "x": 0.05
          },
          "xaxis": {
           "automargin": true,
           "gridcolor": "white",
           "linecolor": "white",
           "ticks": "",
           "title": {
            "standoff": 15
           },
           "zerolinecolor": "white",
           "zerolinewidth": 2
          },
          "yaxis": {
           "automargin": true,
           "gridcolor": "white",
           "linecolor": "white",
           "ticks": "",
           "title": {
            "standoff": 15
           },
           "zerolinecolor": "white",
           "zerolinewidth": 2
          }
         }
        },
        "title": {
         "text": "Number of Startups by Category"
        },
        "xaxis": {
         "anchor": "y",
         "domain": [
          0,
          1
         ],
         "title": {
          "text": "Category"
         }
        },
        "yaxis": {
         "anchor": "x",
         "domain": [
          0,
          1
         ],
         "title": {
          "text": "value"
         }
        }
       }
      }
     },
     "metadata": {},
     "output_type": "display_data"
    }
   ],
   "source": [
    "import plotly as py\n",
    "import plotly.express as px\n",
    "Startups.Category = Startups.Category.str.lower().str.strip()\n",
    "cat_wise = Startups.groupby(Startups.Category).size().nlargest(30)\n",
    "px.bar(cat_wise,orientation=\"v\",title=\"Number of Startups by Category\")"
   ]
  },
  {
   "cell_type": "code",
   "execution_count": 255,
   "metadata": {},
   "outputs": [
    {
     "name": "stderr",
     "output_type": "stream",
     "text": [
      "C:\\Users\\NimZee\\AppData\\Local\\Temp\\ipykernel_21236\\800696353.py:13: FutureWarning:\n",
      "\n",
      "\n",
      "\n",
      "Passing `palette` without assigning `hue` is deprecated and will be removed in v0.14.0. Assign the `y` variable to `hue` and set `legend=False` for the same effect.\n",
      "\n",
      "\n"
     ]
    },
    {
     "data": {
      "image/png": "[encoded data removed]",
      "text/plain": [
       "<Figure size 1200x800 with 1 Axes>"
      ]
     },
     "metadata": {},
     "output_type": "display_data"
    }
   ],
   "source": [
    "import seaborn as sns\n",
    "import matplotlib.pyplot as plt\n",
    "\n",
    "# Convert cat_wise to a DataFrame for plotting\n",
    "cat_wise_df = cat_wise.reset_index()\n",
    "cat_wise_df.columns = ['Category', 'Count']\n",
    "\n",
    "# Set the style\n",
    "sns.set(style=\"whitegrid\")\n",
    "\n",
    "# Create the bar plot\n",
    "plt.figure(figsize=(12, 8))\n",
    "sns.barplot(x='Count', y='Category', data=cat_wise_df, palette='viridis')\n",
    "\n",
    "# Set labels and title\n",
    "plt.xlabel('Count', fontsize=14)\n",
    "plt.ylabel('Category', fontsize=14)\n",
    "plt.title('Top 30 Startup Categories', fontsize=16)\n",
    "\n",
    "# Show the plot\n",
    "plt.show()\n"
   ]
  },
  {
   "cell_type": "code",
   "execution_count": 256,
   "metadata": {},
   "outputs": [
    {
     "data": {
      "application/vnd.plotly.v1+json": {
       "config": {
        "plotlyServerURL": "https://plot.ly"
       },
       "data": [
        {
         "alignmentgroup": "True",
         "hovertemplate": "Category=%{y}<br>Count=%{x}<extra></extra>",
         "legendgroup": "e-commerce",
         "marker": {
          "color": "#440154",
          "pattern": {
           "shape": ""
          }
         },
         "name": "e-commerce",
         "offsetgroup": "e-commerce",
         "orientation": "h",
         "showlegend": true,
         "textposition": "auto",
         "type": "bar",
         "x": [
          37
         ],
         "xaxis": "x",
         "y": [
          "e-commerce"
         ],
         "yaxis": "y"
        },
        {
         "alignmentgroup": "True",
         "hovertemplate": "Category=%{y}<br>Count=%{x}<extra></extra>",
         "legendgroup": "software",
         "marker": {
          "color": "#482878",
          "pattern": {
           "shape": ""
          }
         },
         "name": "software",
         "offsetgroup": "software",
         "orientation": "h",
         "showlegend": true,
         "textposition": "auto",
         "type": "bar",
         "x": [
          33
         ],
         "xaxis": "x",
         "y": [
          "software"
         ],
         "yaxis": "y"
        },
        {
         "alignmentgroup": "True",
         "hovertemplate": "Category=%{y}<br>Count=%{x}<extra></extra>",
         "legendgroup": "education",
         "marker": {
          "color": "#3e4989",
          "pattern": {
           "shape": ""
          }
         },
         "name": "education",
         "offsetgroup": "education",
         "orientation": "h",
         "showlegend": true,
         "textposition": "auto",
         "type": "bar",
         "x": [
          14
         ],
         "xaxis": "x",
         "y": [
          "education"
         ],
         "yaxis": "y"
        },
        {
         "alignmentgroup": "True",
         "hovertemplate": "Category=%{y}<br>Count=%{x}<extra></extra>",
         "legendgroup": "website",
         "marker": {
          "color": "#31688e",
          "pattern": {
           "shape": ""
          }
         },
         "name": "website",
         "offsetgroup": "website",
         "orientation": "h",
         "showlegend": true,
         "textposition": "auto",
         "type": "bar",
         "x": [
          13
         ],
         "xaxis": "x",
         "y": [
          "website"
         ],
         "yaxis": "y"
        },
        {
         "alignmentgroup": "True",
         "hovertemplate": "Category=%{y}<br>Count=%{x}<extra></extra>",
         "legendgroup": "technology",
         "marker": {
          "color": "#26828e",
          "pattern": {
           "shape": ""
          }
         },
         "name": "technology",
         "offsetgroup": "technology",
         "orientation": "h",
         "showlegend": true,
         "textposition": "auto",
         "type": "bar",
         "x": [
          12
         ],
         "xaxis": "x",
         "y": [
          "technology"
         ],
         "yaxis": "y"
        },
        {
         "alignmentgroup": "True",
         "hovertemplate": "Category=%{y}<br>Count=%{x}<extra></extra>",
         "legendgroup": "services",
         "marker": {
          "color": "#1f9e89",
          "pattern": {
           "shape": ""
          }
         },
         "name": "services",
         "offsetgroup": "services",
         "orientation": "h",
         "showlegend": true,
         "textposition": "auto",
         "type": "bar",
         "x": [
          9
         ],
         "xaxis": "x",
         "y": [
          "services"
         ],
         "yaxis": "y"
        },
        {
         "alignmentgroup": "True",
         "hovertemplate": "Category=%{y}<br>Count=%{x}<extra></extra>",
         "legendgroup": "healthcare",
         "marker": {
          "color": "#35b779",
          "pattern": {
           "shape": ""
          }
         },
         "name": "healthcare",
         "offsetgroup": "healthcare",
         "orientation": "h",
         "showlegend": true,
         "textposition": "auto",
         "type": "bar",
         "x": [
          8
         ],
         "xaxis": "x",
         "y": [
          "healthcare"
         ],
         "yaxis": "y"
        },
        {
         "alignmentgroup": "True",
         "hovertemplate": "Category=%{y}<br>Count=%{x}<extra></extra>",
         "legendgroup": "automotive",
         "marker": {
          "color": "#6ece58",
          "pattern": {
           "shape": ""
          }
         },
         "name": "automotive",
         "offsetgroup": "automotive",
         "orientation": "h",
         "showlegend": true,
         "textposition": "auto",
         "type": "bar",
         "x": [
          6
         ],
         "xaxis": "x",
         "y": [
          "automotive"
         ],
         "yaxis": "y"
        },
        {
         "alignmentgroup": "True",
         "hovertemplate": "Category=%{y}<br>Count=%{x}<extra></extra>",
         "legendgroup": "fintech",
         "marker": {
          "color": "#b5de2b",
          "pattern": {
           "shape": ""
          }
         },
         "name": "fintech",
         "offsetgroup": "fintech",
         "orientation": "h",
         "showlegend": true,
         "textposition": "auto",
         "type": "bar",
         "x": [
          6
         ],
         "xaxis": "x",
         "y": [
          "fintech"
         ],
         "yaxis": "y"
        },
        {
         "alignmentgroup": "True",
         "hovertemplate": "Category=%{y}<br>Count=%{x}<extra></extra>",
         "legendgroup": "consulting  software",
         "marker": {
          "color": "#fde725",
          "pattern": {
           "shape": ""
          }
         },
         "name": "consulting  software",
         "offsetgroup": "consulting  software",
         "orientation": "h",
         "showlegend": true,
         "textposition": "auto",
         "type": "bar",
         "x": [
          5
         ],
         "xaxis": "x",
         "y": [
          "consulting  software"
         ],
         "yaxis": "y"
        },
        {
         "alignmentgroup": "True",
         "hovertemplate": "Category=%{y}<br>Count=%{x}<extra></extra>",
         "legendgroup": "health",
         "marker": {
          "color": "#440154",
          "pattern": {
           "shape": ""
          }
         },
         "name": "health",
         "offsetgroup": "health",
         "orientation": "h",
         "showlegend": true,
         "textposition": "auto",
         "type": "bar",
         "x": [
          5
         ],
         "xaxis": "x",
         "y": [
          "health"
         ],
         "yaxis": "y"
        },
        {
         "alignmentgroup": "True",
         "hovertemplate": "Category=%{y}<br>Count=%{x}<extra></extra>",
         "legendgroup": "electronics",
         "marker": {
          "color": "#482878",
          "pattern": {
           "shape": ""
          }
         },
         "name": "electronics",
         "offsetgroup": "electronics",
         "orientation": "h",
         "showlegend": true,
         "textposition": "auto",
         "type": "bar",
         "x": [
          3
         ],
         "xaxis": "x",
         "y": [
          "electronics"
         ],
         "yaxis": "y"
        },
        {
         "alignmentgroup": "True",
         "hovertemplate": "Category=%{y}<br>Count=%{x}<extra></extra>",
         "legendgroup": "hardware",
         "marker": {
          "color": "#3e4989",
          "pattern": {
           "shape": ""
          }
         },
         "name": "hardware",
         "offsetgroup": "hardware",
         "orientation": "h",
         "showlegend": true,
         "textposition": "auto",
         "type": "bar",
         "x": [
          3
         ],
         "xaxis": "x",
         "y": [
          "hardware"
         ],
         "yaxis": "y"
        },
        {
         "alignmentgroup": "True",
         "hovertemplate": "Category=%{y}<br>Count=%{x}<extra></extra>",
         "legendgroup": "marketplace",
         "marker": {
          "color": "#31688e",
          "pattern": {
           "shape": ""
          }
         },
         "name": "marketplace",
         "offsetgroup": "marketplace",
         "orientation": "h",
         "showlegend": true,
         "textposition": "auto",
         "type": "bar",
         "x": [
          3
         ],
         "xaxis": "x",
         "y": [
          "marketplace"
         ],
         "yaxis": "y"
        },
        {
         "alignmentgroup": "True",
         "hovertemplate": "Category=%{y}<br>Count=%{x}<extra></extra>",
         "legendgroup": "news media",
         "marker": {
          "color": "#26828e",
          "pattern": {
           "shape": ""
          }
         },
         "name": "news media",
         "offsetgroup": "news media",
         "orientation": "h",
         "showlegend": true,
         "textposition": "auto",
         "type": "bar",
         "x": [
          3
         ],
         "xaxis": "x",
         "y": [
          "news media"
         ],
         "yaxis": "y"
        },
        {
         "alignmentgroup": "True",
         "hovertemplate": "Category=%{y}<br>Count=%{x}<extra></extra>",
         "legendgroup": "retail",
         "marker": {
          "color": "#1f9e89",
          "pattern": {
           "shape": ""
          }
         },
         "name": "retail",
         "offsetgroup": "retail",
         "orientation": "h",
         "showlegend": true,
         "textposition": "auto",
         "type": "bar",
         "x": [
          3
         ],
         "xaxis": "x",
         "y": [
          "retail"
         ],
         "yaxis": "y"
        },
        {
         "alignmentgroup": "True",
         "hovertemplate": "Category=%{y}<br>Count=%{x}<extra></extra>",
         "legendgroup": "sharing economy",
         "marker": {
          "color": "#35b779",
          "pattern": {
           "shape": ""
          }
         },
         "name": "sharing economy",
         "offsetgroup": "sharing economy",
         "orientation": "h",
         "showlegend": true,
         "textposition": "auto",
         "type": "bar",
         "x": [
          3
         ],
         "xaxis": "x",
         "y": [
          "sharing economy"
         ],
         "yaxis": "y"
        },
        {
         "alignmentgroup": "True",
         "hovertemplate": "Category=%{y}<br>Count=%{x}<extra></extra>",
         "legendgroup": "community",
         "marker": {
          "color": "#6ece58",
          "pattern": {
           "shape": ""
          }
         },
         "name": "community",
         "offsetgroup": "community",
         "orientation": "h",
         "showlegend": true,
         "textposition": "auto",
         "type": "bar",
         "x": [
          2
         ],
         "xaxis": "x",
         "y": [
          "community"
         ],
         "yaxis": "y"
        },
        {
         "alignmentgroup": "True",
         "hovertemplate": "Category=%{y}<br>Count=%{x}<extra></extra>",
         "legendgroup": "consultancy  services",
         "marker": {
          "color": "#b5de2b",
          "pattern": {
           "shape": ""
          }
         },
         "name": "consultancy  services",
         "offsetgroup": "consultancy  services",
         "orientation": "h",
         "showlegend": true,
         "textposition": "auto",
         "type": "bar",
         "x": [
          2
         ],
         "xaxis": "x",
         "y": [
          "consultancy  services"
         ],
         "yaxis": "y"
        },
        {
         "alignmentgroup": "True",
         "hovertemplate": "Category=%{y}<br>Count=%{x}<extra></extra>",
         "legendgroup": "consulting  software house",
         "marker": {
          "color": "#fde725",
          "pattern": {
           "shape": ""
          }
         },
         "name": "consulting  software house",
         "offsetgroup": "consulting  software house",
         "orientation": "h",
         "showlegend": true,
         "textposition": "auto",
         "type": "bar",
         "x": [
          2
         ],
         "xaxis": "x",
         "y": [
          "consulting  software house"
         ],
         "yaxis": "y"
        },
        {
         "alignmentgroup": "True",
         "hovertemplate": "Category=%{y}<br>Count=%{x}<extra></extra>",
         "legendgroup": "digital media",
         "marker": {
          "color": "#440154",
          "pattern": {
           "shape": ""
          }
         },
         "name": "digital media",
         "offsetgroup": "digital media",
         "orientation": "h",
         "showlegend": true,
         "textposition": "auto",
         "type": "bar",
         "x": [
          2
         ],
         "xaxis": "x",
         "y": [
          "digital media"
         ],
         "yaxis": "y"
        },
        {
         "alignmentgroup": "True",
         "hovertemplate": "Category=%{y}<br>Count=%{x}<extra></extra>",
         "legendgroup": "e-learning",
         "marker": {
          "color": "#482878",
          "pattern": {
           "shape": ""
          }
         },
         "name": "e-learning",
         "offsetgroup": "e-learning",
         "orientation": "h",
         "showlegend": true,
         "textposition": "auto",
         "type": "bar",
         "x": [
          2
         ],
         "xaxis": "x",
         "y": [
          "e-learning"
         ],
         "yaxis": "y"
        },
        {
         "alignmentgroup": "True",
         "hovertemplate": "Category=%{y}<br>Count=%{x}<extra></extra>",
         "legendgroup": "financial information services",
         "marker": {
          "color": "#3e4989",
          "pattern": {
           "shape": ""
          }
         },
         "name": "financial information services",
         "offsetgroup": "financial information services",
         "orientation": "h",
         "showlegend": true,
         "textposition": "auto",
         "type": "bar",
         "x": [
          2
         ],
         "xaxis": "x",
         "y": [
          "financial information services"
         ],
         "yaxis": "y"
        },
        {
         "alignmentgroup": "True",
         "hovertemplate": "Category=%{y}<br>Count=%{x}<extra></extra>",
         "legendgroup": "health care",
         "marker": {
          "color": "#31688e",
          "pattern": {
           "shape": ""
          }
         },
         "name": "health care",
         "offsetgroup": "health care",
         "orientation": "h",
         "showlegend": true,
         "textposition": "auto",
         "type": "bar",
         "x": [
          2
         ],
         "xaxis": "x",
         "y": [
          "health care"
         ],
         "yaxis": "y"
        },
        {
         "alignmentgroup": "True",
         "hovertemplate": "Category=%{y}<br>Count=%{x}<extra></extra>",
         "legendgroup": "media",
         "marker": {
          "color": "#26828e",
          "pattern": {
           "shape": ""
          }
         },
         "name": "media",
         "offsetgroup": "media",
         "orientation": "h",
         "showlegend": true,
         "textposition": "auto",
         "type": "bar",
         "x": [
          2
         ],
         "xaxis": "x",
         "y": [
          "media"
         ],
         "yaxis": "y"
        },
        {
         "alignmentgroup": "True",
         "hovertemplate": "Category=%{y}<br>Count=%{x}<extra></extra>",
         "legendgroup": "media/news",
         "marker": {
          "color": "#1f9e89",
          "pattern": {
           "shape": ""
          }
         },
         "name": "media/news",
         "offsetgroup": "media/news",
         "orientation": "h",
         "showlegend": true,
         "textposition": "auto",
         "type": "bar",
         "x": [
          2
         ],
         "xaxis": "x",
         "y": [
          "media/news"
         ],
         "yaxis": "y"
        },
        {
         "alignmentgroup": "True",
         "hovertemplate": "Category=%{y}<br>Count=%{x}<extra></extra>",
         "legendgroup": "saas",
         "marker": {
          "color": "#35b779",
          "pattern": {
           "shape": ""
          }
         },
         "name": "saas",
         "offsetgroup": "saas",
         "orientation": "h",
         "showlegend": true,
         "textposition": "auto",
         "type": "bar",
         "x": [
          2
         ],
         "xaxis": "x",
         "y": [
          "saas"
         ],
         "yaxis": "y"
        },
        {
         "alignmentgroup": "True",
         "hovertemplate": "Category=%{y}<br>Count=%{x}<extra></extra>",
         "legendgroup": "service",
         "marker": {
          "color": "#6ece58",
          "pattern": {
           "shape": ""
          }
         },
         "name": "service",
         "offsetgroup": "service",
         "orientation": "h",
         "showlegend": true,
         "textposition": "auto",
         "type": "bar",
         "x": [
          2
         ],
         "xaxis": "x",
         "y": [
          "service"
         ],
         "yaxis": "y"
        },
        {
         "alignmentgroup": "True",
         "hovertemplate": "Category=%{y}<br>Count=%{x}<extra></extra>",
         "legendgroup": "software  education",
         "marker": {
          "color": "#b5de2b",
          "pattern": {
           "shape": ""
          }
         },
         "name": "software  education",
         "offsetgroup": "software  education",
         "orientation": "h",
         "showlegend": true,
         "textposition": "auto",
         "type": "bar",
         "x": [
          2
         ],
         "xaxis": "x",
         "y": [
          "software  education"
         ],
         "yaxis": "y"
        },
        {
         "alignmentgroup": "True",
         "hovertemplate": "Category=%{y}<br>Count=%{x}<extra></extra>",
         "legendgroup": "sports",
         "marker": {
          "color": "#fde725",
          "pattern": {
           "shape": ""
          }
         },
         "name": "sports",
         "offsetgroup": "sports",
         "orientation": "h",
         "showlegend": true,
         "textposition": "auto",
         "type": "bar",
         "x": [
          2
         ],
         "xaxis": "x",
         "y": [
          "sports"
         ],
         "yaxis": "y"
        }
       ],
       "layout": {
        "barmode": "relative",
        "legend": {
         "title": {
          "text": "Category"
         },
         "tracegroupgap": 0
        },
        "template": {
         "data": {
          "bar": [
           {
            "error_x": {
             "color": "#2a3f5f"
            },
            "error_y": {
             "color": "#2a3f5f"
            },
            "marker": {
             "line": {
              "color": "#E5ECF6",
              "width": 0.5
             },
             "pattern": {
              "fillmode": "overlay",
              "size": 10,
              "solidity": 0.2
             }
            },
            "type": "bar"
           }
          ],
          "barpolar": [
           {
            "marker": {
             "line": {
              "color": "#E5ECF6",
              "width": 0.5
             },
             "pattern": {
              "fillmode": "overlay",
              "size": 10,
              "solidity": 0.2
             }
            },
            "type": "barpolar"
           }
          ],
          "carpet": [
           {
            "aaxis": {
             "endlinecolor": "#2a3f5f",
             "gridcolor": "white",
             "linecolor": "white",
             "minorgridcolor": "white",
             "startlinecolor": "#2a3f5f"
            },
            "baxis": {
             "endlinecolor": "#2a3f5f",
             "gridcolor": "white",
             "linecolor": "white",
             "minorgridcolor": "white",
             "startlinecolor": "#2a3f5f"
            },
            "type": "carpet"
           }
          ],
          "choropleth": [
           {
            "colorbar": {
             "outlinewidth": 0,
             "ticks": ""
            },
            "type": "choropleth"
           }
          ],
          "contour": [
           {
            "colorbar": {
             "outlinewidth": 0,
             "ticks": ""
            },
            "colorscale": [
             [
              0,
              "#0d0887"
             ],
             [
              0.1111111111111111,
              "#46039f"
             ],
             [
              0.2222222222222222,
              "#7201a8"
             ],
             [
              0.3333333333333333,
              "#9c179e"
             ],
             [
              0.4444444444444444,
              "#bd3786"
             ],
             [
              0.5555555555555556,
              "#d8576b"
             ],
             [
              0.6666666666666666,
              "#ed7953"
             ],
             [
              0.7777777777777778,
              "#fb9f3a"
             ],
             [
              0.8888888888888888,
              "#fdca26"
             ],
             [
              1,
              "#f0f921"
             ]
            ],
            "type": "contour"
           }
          ],
          "contourcarpet": [
           {
            "colorbar": {
             "outlinewidth": 0,
             "ticks": ""
            },
            "type": "contourcarpet"
           }
          ],
          "heatmap": [
           {
            "colorbar": {
             "outlinewidth": 0,
             "ticks": ""
            },
            "colorscale": [
             [
              0,
              "#0d0887"
             ],
             [
              0.1111111111111111,
              "#46039f"
             ],
             [
              0.2222222222222222,
              "#7201a8"
             ],
             [
              0.3333333333333333,
              "#9c179e"
             ],
             [
              0.4444444444444444,
              "#bd3786"
             ],
             [
              0.5555555555555556,
              "#d8576b"
             ],
             [
              0.6666666666666666,
              "#ed7953"
             ],
             [
              0.7777777777777778,
              "#fb9f3a"
             ],
             [
              0.8888888888888888,
              "#fdca26"
             ],
             [
              1,
              "#f0f921"
             ]
            ],
            "type": "heatmap"
           }
          ],
          "heatmapgl": [
           {
            "colorbar": {
             "outlinewidth": 0,
             "ticks": ""
            },
            "colorscale": [
             [
              0,
              "#0d0887"
             ],
             [
              0.1111111111111111,
              "#46039f"
             ],
             [
              0.2222222222222222,
              "#7201a8"
             ],
             [
              0.3333333333333333,
              "#9c179e"
             ],
             [
              0.4444444444444444,
              "#bd3786"
             ],
             [
              0.5555555555555556,
              "#d8576b"
             ],
             [
              0.6666666666666666,
              "#ed7953"
             ],
             [
              0.7777777777777778,
              "#fb9f3a"
             ],
             [
              0.8888888888888888,
              "#fdca26"
             ],
             [
              1,
              "#f0f921"
             ]
            ],
            "type": "heatmapgl"
           }
          ],
          "histogram": [
           {
            "marker": {
             "pattern": {
              "fillmode": "overlay",
              "size": 10,
              "solidity": 0.2
             }
            },
            "type": "histogram"
           }
          ],
          "histogram2d": [
           {
            "colorbar": {
             "outlinewidth": 0,
             "ticks": ""
            },
            "colorscale": [
             [
              0,
              "#0d0887"
             ],
             [
              0.1111111111111111,
              "#46039f"
             ],
             [
              0.2222222222222222,
              "#7201a8"
             ],
             [
              0.3333333333333333,
              "#9c179e"
             ],
             [
              0.4444444444444444,
              "#bd3786"
             ],
             [
              0.5555555555555556,
              "#d8576b"
             ],
             [
              0.6666666666666666,
              "#ed7953"
             ],
             [
              0.7777777777777778,
              "#fb9f3a"
             ],
             [
              0.8888888888888888,
              "#fdca26"
             ],
             [
              1,
              "#f0f921"
             ]
            ],
            "type": "histogram2d"
           }
          ],
          "histogram2dcontour": [
           {
            "colorbar": {
             "outlinewidth": 0,
             "ticks": ""
            },
            "colorscale": [
             [
              0,
              "#0d0887"
             ],
             [
              0.1111111111111111,
              "#46039f"
             ],
             [
              0.2222222222222222,
              "#7201a8"
             ],
             [
              0.3333333333333333,
              "#9c179e"
             ],
             [
              0.4444444444444444,
              "#bd3786"
             ],
             [
              0.5555555555555556,
              "#d8576b"
             ],
             [
              0.6666666666666666,
              "#ed7953"
             ],
             [
              0.7777777777777778,
              "#fb9f3a"
             ],
             [
              0.8888888888888888,
              "#fdca26"
             ],
             [
              1,
              "#f0f921"
             ]
            ],
            "type": "histogram2dcontour"
           }
          ],
          "mesh3d": [
           {
            "colorbar": {
             "outlinewidth": 0,
             "ticks": ""
            },
            "type": "mesh3d"
           }
          ],
          "parcoords": [
           {
            "line": {
             "colorbar": {
              "outlinewidth": 0,
              "ticks": ""
             }
            },
            "type": "parcoords"
           }
          ],
          "pie": [
           {
            "automargin": true,
            "type": "pie"
           }
          ],
          "scatter": [
           {
            "fillpattern": {
             "fillmode": "overlay",
             "size": 10,
             "solidity": 0.2
            },
            "type": "scatter"
           }
          ],
          "scatter3d": [
           {
            "line": {
             "colorbar": {
              "outlinewidth": 0,
              "ticks": ""
             }
            },
            "marker": {
             "colorbar": {
              "outlinewidth": 0,
              "ticks": ""
             }
            },
            "type": "scatter3d"
           }
          ],
          "scattercarpet": [
           {
            "marker": {
             "colorbar": {
              "outlinewidth": 0,
              "ticks": ""
             }
            },
            "type": "scattercarpet"
           }
          ],
          "scattergeo": [
           {
            "marker": {
             "colorbar": {
              "outlinewidth": 0,
              "ticks": ""
             }
            },
            "type": "scattergeo"
           }
          ],
          "scattergl": [
           {
            "marker": {
             "colorbar": {
              "outlinewidth": 0,
              "ticks": ""
             }
            },
            "type": "scattergl"
           }
          ],
          "scattermapbox": [
           {
            "marker": {
             "colorbar": {
              "outlinewidth": 0,
              "ticks": ""
             }
            },
            "type": "scattermapbox"
           }
          ],
          "scatterpolar": [
           {
            "marker": {
             "colorbar": {
              "outlinewidth": 0,
              "ticks": ""
             }
            },
            "type": "scatterpolar"
           }
          ],
          "scatterpolargl": [
           {
            "marker": {
             "colorbar": {
              "outlinewidth": 0,
              "ticks": ""
             }
            },
            "type": "scatterpolargl"
           }
          ],
          "scatterternary": [
           {
            "marker": {
             "colorbar": {
              "outlinewidth": 0,
              "ticks": ""
             }
            },
            "type": "scatterternary"
           }
          ],
          "surface": [
           {
            "colorbar": {
             "outlinewidth": 0,
             "ticks": ""
            },
            "colorscale": [
             [
              0,
              "#0d0887"
             ],
             [
              0.1111111111111111,
              "#46039f"
             ],
             [
              0.2222222222222222,
              "#7201a8"
             ],
             [
              0.3333333333333333,
              "#9c179e"
             ],
             [
              0.4444444444444444,
              "#bd3786"
             ],
             [
              0.5555555555555556,
              "#d8576b"
             ],
             [
              0.6666666666666666,
              "#ed7953"
             ],
             [
              0.7777777777777778,
              "#fb9f3a"
             ],
             [
              0.8888888888888888,
              "#fdca26"
             ],
             [
              1,
              "#f0f921"
             ]
            ],
            "type": "surface"
           }
          ],
          "table": [
           {
            "cells": {
             "fill": {
              "color": "#EBF0F8"
             },
             "line": {
              "color": "white"
             }
            },
            "header": {
             "fill": {
              "color": "#C8D4E3"
             },
             "line": {
              "color": "white"
             }
            },
            "type": "table"
           }
          ]
         },
         "layout": {
          "annotationdefaults": {
           "arrowcolor": "#2a3f5f",
           "arrowhead": 0,
           "arrowwidth": 1
          },
          "autotypenumbers": "strict",
          "coloraxis": {
           "colorbar": {
            "outlinewidth": 0,
            "ticks": ""
           }
          },
          "colorscale": {
           "diverging": [
            [
             0,
             "#8e0152"
            ],
            [
             0.1,
             "#c51b7d"
            ],
            [
             0.2,
             "#de77ae"
            ],
            [
             0.3,
             "#f1b6da"
            ],
            [
             0.4,
             "#fde0ef"
            ],
            [
             0.5,
             "#f7f7f7"
            ],
            [
             0.6,
             "#e6f5d0"
            ],
            [
             0.7,
             "#b8e186"
            ],
            [
             0.8,
             "#7fbc41"
            ],
            [
             0.9,
             "#4d9221"
            ],
            [
             1,
             "#276419"
            ]
           ],
           "sequential": [
            [
             0,
             "#0d0887"
            ],
            [
             0.1111111111111111,
             "#46039f"
            ],
            [
             0.2222222222222222,
             "#7201a8"
            ],
            [
             0.3333333333333333,
             "#9c179e"
            ],
            [
             0.4444444444444444,
             "#bd3786"
            ],
            [
             0.5555555555555556,
             "#d8576b"
            ],
            [
             0.6666666666666666,
             "#ed7953"
            ],
            [
             0.7777777777777778,
             "#fb9f3a"
            ],
            [
             0.8888888888888888,
             "#fdca26"
            ],
            [
             1,
             "#f0f921"
            ]
           ],
           "sequentialminus": [
            [
             0,
             "#0d0887"
            ],
            [
             0.1111111111111111,
             "#46039f"
            ],
            [
             0.2222222222222222,
             "#7201a8"
            ],
            [
             0.3333333333333333,
             "#9c179e"
            ],
            [
             0.4444444444444444,
             "#bd3786"
            ],
            [
             0.5555555555555556,
             "#d8576b"
            ],
            [
             0.6666666666666666,
             "#ed7953"
            ],
            [
             0.7777777777777778,
             "#fb9f3a"
            ],
            [
             0.8888888888888888,
             "#fdca26"
            ],
            [
             1,
             "#f0f921"
            ]
           ]
          },
          "colorway": [
           "#636efa",
           "#EF553B",
           "#00cc96",
           "#ab63fa",
           "#FFA15A",
           "#19d3f3",
           "#FF6692",
           "#B6E880",
           "#FF97FF",
           "#FECB52"
          ],
          "font": {
           "color": "#2a3f5f"
          },
          "geo": {
           "bgcolor": "white",
           "lakecolor": "white",
           "landcolor": "#E5ECF6",
           "showlakes": true,
           "showland": true,
           "subunitcolor": "white"
          },
          "hoverlabel": {
           "align": "left"
          },
          "hovermode": "closest",
          "mapbox": {
           "style": "light"
          },
          "paper_bgcolor": "white",
          "plot_bgcolor": "#E5ECF6",
          "polar": {
           "angularaxis": {
            "gridcolor": "white",
            "linecolor": "white",
            "ticks": ""
           },
           "bgcolor": "#E5ECF6",
           "radialaxis": {
            "gridcolor": "white",
            "linecolor": "white",
            "ticks": ""
           }
          },
          "scene": {
           "xaxis": {
            "backgroundcolor": "#E5ECF6",
            "gridcolor": "white",
            "gridwidth": 2,
            "linecolor": "white",
            "showbackground": true,
            "ticks": "",
            "zerolinecolor": "white"
           },
           "yaxis": {
            "backgroundcolor": "#E5ECF6",
            "gridcolor": "white",
            "gridwidth": 2,
            "linecolor": "white",
            "showbackground": true,
            "ticks": "",
            "zerolinecolor": "white"
           },
           "zaxis": {
            "backgroundcolor": "#E5ECF6",
            "gridcolor": "white",
            "gridwidth": 2,
            "linecolor": "white",
            "showbackground": true,
            "ticks": "",
            "zerolinecolor": "white"
           }
          },
          "shapedefaults": {
           "line": {
            "color": "#2a3f5f"
           }
          },
          "ternary": {
           "aaxis": {
            "gridcolor": "white",
            "linecolor": "white",
            "ticks": ""
           },
           "baxis": {
            "gridcolor": "white",
            "linecolor": "white",
            "ticks": ""
           },
           "bgcolor": "#E5ECF6",
           "caxis": {
            "gridcolor": "white",
            "linecolor": "white",
            "ticks": ""
           }
          },
          "title": {
           "x": 0.05
          },
          "xaxis": {
           "automargin": true,
           "gridcolor": "white",
           "linecolor": "white",
           "ticks": "",
           "title": {
            "standoff": 15
           },
           "zerolinecolor": "white",
           "zerolinewidth": 2
          },
          "yaxis": {
           "automargin": true,
           "gridcolor": "white",
           "linecolor": "white",
           "ticks": "",
           "title": {
            "standoff": 15
           },
           "zerolinecolor": "white",
           "zerolinewidth": 2
          }
         }
        },
        "title": {
         "text": "Top 30 Startup Categories"
        },
        "xaxis": {
         "anchor": "y",
         "domain": [
          0,
          1
         ],
         "title": {
          "text": "Count"
         }
        },
        "yaxis": {
         "anchor": "x",
         "categoryarray": [
          "sports",
          "software  education",
          "service",
          "saas",
          "media/news",
          "media",
          "health care",
          "financial information services",
          "e-learning",
          "digital media",
          "consulting  software house",
          "consultancy  services",
          "community",
          "sharing economy",
          "retail",
          "news media",
          "marketplace",
          "hardware",
          "electronics",
          "health",
          "consulting  software",
          "fintech",
          "automotive",
          "healthcare",
          "services",
          "technology",
          "website",
          "education",
          "software",
          "e-commerce"
         ],
         "categoryorder": "array",
         "domain": [
          0,
          1
         ],
         "title": {
          "text": "Category"
         }
        }
       }
      }
     },
     "metadata": {},
     "output_type": "display_data"
    }
   ],
   "source": [
    "import plotly.express as px\n",
    "\n",
    "# Reset index and rename columns for better readability\n",
    "cat_wise_df = cat_wise.reset_index()\n",
    "cat_wise_df.columns = ['Category', 'Count']\n",
    "\n",
    "# Plot using Plotly Express\n",
    "fig = px.bar(cat_wise_df, x='Count', y='Category', title='Top 30 Startup Categories', orientation='h',\n",
    "             color='Category', color_discrete_sequence=px.colors.sequential.Viridis)\n",
    "\n",
    "# Show the plot\n",
    "fig.show()\n"
   ]
  },
  {
   "cell_type": "code",
   "execution_count": null,
   "metadata": {},
   "outputs": [],
   "source": []
  },
  {
   "cell_type": "code",
   "execution_count": 257,
   "metadata": {},
   "outputs": [
    {
     "name": "stdout",
     "output_type": "stream",
     "text": [
      "                    Name                                           Location  \\\n",
      "0            Go Rickshaw  Go Logistics  Ground Floor  Palace Cinema Buil...   \n",
      "1               DexterED                                          Islamabad   \n",
      "2          TopSchools.pk                                          Islamabad   \n",
      "3                Jobz.pk                                          Islamabad   \n",
      "4          ContentStudio                                          Islamabad   \n",
      "..                   ...                                                ...   \n",
      "422     Branding in Asia                                 Seoul  South Korea   \n",
      "423  WebDealer Solutions                                 Toronto  ON Canada   \n",
      "424         Cooked Today                                      United States   \n",
      "425               Folio3                                      United States   \n",
      "426             CADDWORX                        White Plains  New York  USA   \n",
      "\n",
      "                                               Tagline  \\\n",
      "0    GO Rickshaw redefines the entire idea of on-de...   \n",
      "1    Dextered believes in Creative & Automated Asse...   \n",
      "2    Top Schools is a platform for all schools  col...   \n",
      "3    Latest Jobs in Pakistan where one can find new...   \n",
      "4    The easiest way to discover  monitor and share...   \n",
      "..                                                 ...   \n",
      "422  A digital publication focusing on Asia's adver...   \n",
      "423                                Maximize web sales.   \n",
      "424  A PLATFORM TO BUY AND SELL FRESH HOME COOKED M...   \n",
      "425  Folio3 is focused on helping #entrepreneurs an...   \n",
      "426  We provide off shore CAD and 3D design service...   \n",
      "\n",
      "                                              Category  \\\n",
      "0                                       transportation   \n",
      "1                                            education   \n",
      "2                                           web portal   \n",
      "3                                           job portal   \n",
      "4                                             software   \n",
      "..                                                 ...   \n",
      "422                                         publishing   \n",
      "423  services  software  customer enagagement. lead...   \n",
      "424                                            website   \n",
      "425  consulting  application development  business ...   \n",
      "426            consulting  computer aided drafting  3d   \n",
      "\n",
      "                               Website               Founded  \\\n",
      "0               https://gorickshaw.pk/   30th October  2015    \n",
      "1                  http://dextered.com     23rd March  2015    \n",
      "2             http://www.topschools.pk   10th January  2014    \n",
      "3                       http://jobz.pk                  2000   \n",
      "4             https://contentstudio.io                  2016   \n",
      "..                                 ...                   ...   \n",
      "422         http://brandinginasia.com/  1st September  2014    \n",
      "423  http://www.webdealersolutions.com      25th June  2015    \n",
      "424         http://www.cookedtoday.net                  2015   \n",
      "425              http://www.folio3.com                  2005   \n",
      "426                                NaN  1st September  2010    \n",
      "\n",
      "                                           Description   Country       City  \\\n",
      "0                                                  NaN  Pakistan    Karachi   \n",
      "1    At Dextered we are committed to not only revol...  Pakistan  Islamabad   \n",
      "2    Top schools is a web portal for all schools  c...  Pakistan  Islamabad   \n",
      "3    We not only cover Pakistani jobs but also UAE ...  Pakistan  Islamabad   \n",
      "4                                                  NaN  Pakistan  Islamabad   \n",
      "..                                                 ...       ...        ...   \n",
      "422  A digital publication that shares news  trends...   Foreign        NaN   \n",
      "423  We help business owners maximize lead generati...   Foreign        NaN   \n",
      "424  â€˜Cooked Todayâ€™ is a platform for buying an...   Foreign        NaN   \n",
      "425  Folio3 is an offshore software services compan...   Foreign        NaN   \n",
      "426  Headed by a graduate Civil Engineer from Virgi...   Foreign        NaN   \n",
      "\n",
      "    Founded Year   Latitude  Longitude  \n",
      "0           2015  24.854684  67.020706  \n",
      "1           2015  33.617104  73.073653  \n",
      "2           2014  33.617104  73.073653  \n",
      "3           2000  33.617104  73.073653  \n",
      "4           2016  33.617104  73.073653  \n",
      "..           ...        ...        ...  \n",
      "422         2014  46.314475  11.048029  \n",
      "423         2015  46.314475  11.048029  \n",
      "424         2015  46.314475  11.048029  \n",
      "425         2005  46.314475  11.048029  \n",
      "426         2010  46.314475  11.048029  \n",
      "\n",
      "[427 rows x 12 columns]\n"
     ]
    }
   ],
   "source": [
    "import requests\n",
    "\n",
    "# Define a DataFrame to store city coordinates\n",
    "city_coordinates_df = pd.DataFrame(columns=['City', 'Latitude', 'Longitude'])\n",
    "\n",
    "\n",
    "# Function to get latitude and longitude coordinates using OpenStreetMap Nominatim API\n",
    "def get_coordinates(city):\n",
    "    # Check if coordinates for the city are already available in the DataFrame\n",
    "    if city in city_coordinates_df['City'].values:\n",
    "        return city_coordinates_df.loc[city_coordinates_df['City'] == city, ['Latitude', 'Longitude']].values[0]\n",
    "    else:\n",
    "        # Fetch coordinates from the API\n",
    "        url = f'https://nominatim.openstreetmap.org/search?city={city}&format=json'\n",
    "        response = requests.get(url).json()\n",
    "        if response:\n",
    "            # Extract latitude and longitude from the response\n",
    "            latitude = float(response[0]['lat'])\n",
    "            longitude = float(response[0]['lon'])\n",
    "            # Add coordinates to the DataFrame\n",
    "            city_coordinates_df.loc[len(city_coordinates_df)] = [city, latitude, longitude]\n",
    "            return latitude, longitude\n",
    "        else:\n",
    "            return None, None\n",
    "\n",
    "# Apply the function to create new columns\n",
    "# \n",
    "# \n",
    "# for latitude and longitude in the Startups DataFrame\n",
    "Startups['Latitude'], Startups['Longitude'] = zip(*Startups['City'].apply(get_coordinates))\n",
    "\n",
    "# Display the updated DataFrame\n",
    "print(Startups)\n"
   ]
  },
  {
   "cell_type": "code",
   "execution_count": 258,
   "metadata": {},
   "outputs": [
    {
     "data": {
      "text/html": [
       "<div>\n",
       "<style scoped>\n",
       "    .dataframe tbody tr th:only-of-type {\n",
       "        vertical-align: middle;\n",
       "    }\n",
       "\n",
       "    .dataframe tbody tr th {\n",
       "        vertical-align: top;\n",
       "    }\n",
       "\n",
       "    .dataframe thead th {\n",
       "        text-align: right;\n",
       "    }\n",
       "</style>\n",
       "<table border=\"1\" class=\"dataframe\">\n",
       "  <thead>\n",
       "    <tr style=\"text-align: right;\">\n",
       "      <th></th>\n",
       "      <th>Name</th>\n",
       "      <th>Location</th>\n",
       "      <th>Tagline</th>\n",
       "      <th>Category</th>\n",
       "      <th>Website</th>\n",
       "      <th>Founded</th>\n",
       "      <th>Description</th>\n",
       "      <th>Country</th>\n",
       "      <th>City</th>\n",
       "      <th>Founded Year</th>\n",
       "      <th>Latitude</th>\n",
       "      <th>Longitude</th>\n",
       "    </tr>\n",
       "  </thead>\n",
       "  <tbody>\n",
       "    <tr>\n",
       "      <th>0</th>\n",
       "      <td>Go Rickshaw</td>\n",
       "      <td>Go Logistics  Ground Floor  Palace Cinema Buil...</td>\n",
       "      <td>GO Rickshaw redefines the entire idea of on-de...</td>\n",
       "      <td>transportation</td>\n",
       "      <td>https://gorickshaw.pk/</td>\n",
       "      <td>30th October  2015</td>\n",
       "      <td>NaN</td>\n",
       "      <td>Pakistan</td>\n",
       "      <td>Karachi</td>\n",
       "      <td>2015</td>\n",
       "      <td>24.854684</td>\n",
       "      <td>67.020706</td>\n",
       "    </tr>\n",
       "    <tr>\n",
       "      <th>1</th>\n",
       "      <td>DexterED</td>\n",
       "      <td>Islamabad</td>\n",
       "      <td>Dextered believes in Creative &amp; Automated Asse...</td>\n",
       "      <td>education</td>\n",
       "      <td>http://dextered.com</td>\n",
       "      <td>23rd March  2015</td>\n",
       "      <td>At Dextered we are committed to not only revol...</td>\n",
       "      <td>Pakistan</td>\n",
       "      <td>Islamabad</td>\n",
       "      <td>2015</td>\n",
       "      <td>33.617104</td>\n",
       "      <td>73.073653</td>\n",
       "    </tr>\n",
       "    <tr>\n",
       "      <th>2</th>\n",
       "      <td>TopSchools.pk</td>\n",
       "      <td>Islamabad</td>\n",
       "      <td>Top Schools is a platform for all schools  col...</td>\n",
       "      <td>web portal</td>\n",
       "      <td>http://www.topschools.pk</td>\n",
       "      <td>10th January  2014</td>\n",
       "      <td>Top schools is a web portal for all schools  c...</td>\n",
       "      <td>Pakistan</td>\n",
       "      <td>Islamabad</td>\n",
       "      <td>2014</td>\n",
       "      <td>33.617104</td>\n",
       "      <td>73.073653</td>\n",
       "    </tr>\n",
       "  </tbody>\n",
       "</table>\n",
       "</div>"
      ],
      "text/plain": [
       "            Name                                           Location  \\\n",
       "0    Go Rickshaw  Go Logistics  Ground Floor  Palace Cinema Buil...   \n",
       "1       DexterED                                          Islamabad   \n",
       "2  TopSchools.pk                                          Islamabad   \n",
       "\n",
       "                                             Tagline        Category  \\\n",
       "0  GO Rickshaw redefines the entire idea of on-de...  transportation   \n",
       "1  Dextered believes in Creative & Automated Asse...       education   \n",
       "2  Top Schools is a platform for all schools  col...      web portal   \n",
       "\n",
       "                    Website              Founded  \\\n",
       "0    https://gorickshaw.pk/  30th October  2015    \n",
       "1       http://dextered.com    23rd March  2015    \n",
       "2  http://www.topschools.pk  10th January  2014    \n",
       "\n",
       "                                         Description   Country       City  \\\n",
       "0                                                NaN  Pakistan    Karachi   \n",
       "1  At Dextered we are committed to not only revol...  Pakistan  Islamabad   \n",
       "2  Top schools is a web portal for all schools  c...  Pakistan  Islamabad   \n",
       "\n",
       "  Founded Year   Latitude  Longitude  \n",
       "0         2015  24.854684  67.020706  \n",
       "1         2015  33.617104  73.073653  \n",
       "2         2014  33.617104  73.073653  "
      ]
     },
     "execution_count": 258,
     "metadata": {},
     "output_type": "execute_result"
    }
   ],
   "source": [
    "Startups.head(3)"
   ]
  },
  {
   "cell_type": "code",
   "execution_count": 259,
   "metadata": {},
   "outputs": [
    {
     "data": {
      "text/html": [
       "<div style=\"width:100%;\"><div style=\"position:relative;width:100%;height:0;padding-bottom:60%;\"><span style=\"color:#565656\">Make this Notebook Trusted to load map: File -> Trust Notebook</span><iframe srcdoc=\"&lt;!DOCTYPE html&gt;\n",
       "&lt;html&gt;\n",
       "&lt;head&gt;\n",
       "    \n",
       "    &lt;meta http-equiv=&quot;content-type&quot; content=&quot;text/html; charset=UTF-8&quot; /&gt;\n",
       "    \n",
       "        &lt;script&gt;\n",
       "            L_NO_TOUCH = false;\n",
       "            L_DISABLE_3D = false;\n",
       "        &lt;/script&gt;\n",
       "    \n",
       "    &lt;style&gt;html, body {width: 100%;height: 100%;margin: 0;padding: 0;}&lt;/style&gt;\n",
       "    &lt;style&gt;#map {position:absolute;top:0;bottom:0;right:0;left:0;}&lt;/style&gt;\n",
       "    &lt;script src=&quot;https://cdn.jsdelivr.net/npm/leaflet@1.9.3/dist/leaflet.js&quot;&gt;&lt;/script&gt;\n",
       "    &lt;script src=&quot;https://code.jquery.com/jquery-3.7.1.min.js&quot;&gt;&lt;/script&gt;\n",
       "    &lt;script src=&quot;https://cdn.jsdelivr.net/npm/bootstrap@5.2.2/dist/js/bootstrap.bundle.min.js&quot;&gt;&lt;/script&gt;\n",
       "    &lt;script src=&quot;https://cdnjs.cloudflare.com/ajax/libs/Leaflet.awesome-markers/2.0.2/leaflet.awesome-markers.js&quot;&gt;&lt;/script&gt;\n",
       "    &lt;link rel=&quot;stylesheet&quot; href=&quot;https://cdn.jsdelivr.net/npm/leaflet@1.9.3/dist/leaflet.css&quot;/&gt;\n",
       "    &lt;link rel=&quot;stylesheet&quot; href=&quot;https://cdn.jsdelivr.net/npm/bootstrap@5.2.2/dist/css/bootstrap.min.css&quot;/&gt;\n",
       "    &lt;link rel=&quot;stylesheet&quot; href=&quot;https://netdna.bootstrapcdn.com/bootstrap/3.0.0/css/bootstrap.min.css&quot;/&gt;\n",
       "    &lt;link rel=&quot;stylesheet&quot; href=&quot;https://cdn.jsdelivr.net/npm/@fortawesome/fontawesome-free@6.2.0/css/all.min.css&quot;/&gt;\n",
       "    &lt;link rel=&quot;stylesheet&quot; href=&quot;https://cdnjs.cloudflare.com/ajax/libs/Leaflet.awesome-markers/2.0.2/leaflet.awesome-markers.css&quot;/&gt;\n",
       "    &lt;link rel=&quot;stylesheet&quot; href=&quot;https://cdn.jsdelivr.net/gh/python-visualization/folium/folium/templates/leaflet.awesome.rotate.min.css&quot;/&gt;\n",
       "    \n",
       "            &lt;meta name=&quot;viewport&quot; content=&quot;width=device-width,\n",
       "                initial-scale=1.0, maximum-scale=1.0, user-scalable=no&quot; /&gt;\n",
       "            &lt;style&gt;\n",
       "                #map_634f50bf9cbf40ac05dd270a8b410745 {\n",
       "                    position: relative;\n",
       "                    width: 100.0%;\n",
       "                    height: 100.0%;\n",
       "                    left: 0.0%;\n",
       "                    top: 0.0%;\n",
       "                }\n",
       "                .leaflet-container { font-size: 1rem; }\n",
       "            &lt;/style&gt;\n",
       "        \n",
       "    &lt;script src=&quot;https://cdn.jsdelivr.net/gh/python-visualization/folium@main/folium/templates/leaflet_heat.min.js&quot;&gt;&lt;/script&gt;\n",
       "&lt;/head&gt;\n",
       "&lt;body&gt;\n",
       "    \n",
       "    \n",
       "            &lt;div class=&quot;folium-map&quot; id=&quot;map_634f50bf9cbf40ac05dd270a8b410745&quot; &gt;&lt;/div&gt;\n",
       "        \n",
       "&lt;/body&gt;\n",
       "&lt;script&gt;\n",
       "    \n",
       "    \n",
       "            var map_634f50bf9cbf40ac05dd270a8b410745 = L.map(\n",
       "                &quot;map_634f50bf9cbf40ac05dd270a8b410745&quot;,\n",
       "                {\n",
       "                    center: [30.3753, 69.3451],\n",
       "                    crs: L.CRS.EPSG3857,\n",
       "                    zoom: 6,\n",
       "                    zoomControl: true,\n",
       "                    preferCanvas: false,\n",
       "                }\n",
       "            );\n",
       "\n",
       "            \n",
       "\n",
       "        \n",
       "    \n",
       "            var tile_layer_fa32da8ba874225009377162034a772e = L.tileLayer(\n",
       "                &quot;https://tile.openstreetmap.org/{z}/{x}/{y}.png&quot;,\n",
       "                {&quot;attribution&quot;: &quot;\\u0026copy; \\u003ca href=\\&quot;https://www.openstreetmap.org/copyright\\&quot;\\u003eOpenStreetMap\\u003c/a\\u003e contributors&quot;, &quot;detectRetina&quot;: false, &quot;maxNativeZoom&quot;: 19, &quot;maxZoom&quot;: 19, &quot;minZoom&quot;: 0, &quot;noWrap&quot;: false, &quot;opacity&quot;: 1, &quot;subdomains&quot;: &quot;abc&quot;, &quot;tms&quot;: false}\n",
       "            );\n",
       "        \n",
       "    \n",
       "            tile_layer_fa32da8ba874225009377162034a772e.addTo(map_634f50bf9cbf40ac05dd270a8b410745);\n",
       "        \n",
       "    \n",
       "            var heat_map_ca33776609014eec70b6a7447998bcf6 = L.heatLayer(\n",
       "                [[24.8546842, 67.0207055, 200], [31.5656822, 74.3141829, 121], [33.6938118, 73.0651511, 53], [34.0123846, 71.5787458, 5], [31.4220558, 73.0923253, 5], [33.5914237, 73.0535122, 4], [34.0155606, 71.981283, 3], [32.5686782, 74.071481, 3], [25.3868287, 68.3714971, 2], [30.197838, 71.4719683, 2], [32.4935378, 74.5411575, 2], [33.7380117, 72.7980732, 2], [32.1525312, 74.1933745, 1], [30.1957677, 67.0172447, 1], [32.08535155, 72.67917434961666, 1]],\n",
       "                {&quot;blur&quot;: 15, &quot;maxZoom&quot;: 18, &quot;minOpacity&quot;: 0.5, &quot;radius&quot;: 15}\n",
       "            );\n",
       "        \n",
       "    \n",
       "            heat_map_ca33776609014eec70b6a7447998bcf6.addTo(map_634f50bf9cbf40ac05dd270a8b410745);\n",
       "        \n",
       "&lt;/script&gt;\n",
       "&lt;/html&gt;\" style=\"position:absolute;width:100%;height:100%;left:0;top:0;border:none !important;\" allowfullscreen webkitallowfullscreen mozallowfullscreen></iframe></div></div>"
      ],
      "text/plain": [
       "<folium.folium.Map at 0x24b20908af0>"
      ]
     },
     "execution_count": 259,
     "metadata": {},
     "output_type": "execute_result"
    }
   ],
   "source": [
    "import folium\n",
    "from folium.plugins import HeatMap\n",
    "import pandas as pd\n",
    "\n",
    "# Group startups by city and count the number of startups in each city\n",
    "startup_counts = Startups['City'].value_counts()\n",
    "\n",
    "# Create a DataFrame with city and corresponding startup count\n",
    "city_counts_df = pd.DataFrame({'City': startup_counts.index, 'Count': startup_counts.values})\n",
    "\n",
    "# Get the latitude and longitude of each city\n",
    "from geopy.geocoders import Nominatim\n",
    "\n",
    "geolocator = Nominatim(user_agent=\"startup_heatmap\")\n",
    "city_counts_df['location'] = city_counts_df['City'].apply(lambda x: geolocator.geocode(x + \", Pakistan\") if geolocator.geocode(x + \", Pakistan\") else None)\n",
    "city_counts_df = city_counts_df.dropna()\n",
    "\n",
    "# Create a Folium map centered around Pakistan\n",
    "map_pakistan = folium.Map(location=[30.3753, 69.3451], zoom_start=6)\n",
    "\n",
    "# Create a HeatMap layer\n",
    "heat_data = [[row['location'].latitude, row['location'].longitude, row['Count']] for index, row in city_counts_df.iterrows()]\n",
    "HeatMap(heat_data, radius=15).add_to(map_pakistan)\n",
    "\n",
    "# Display the map\n",
    "map_pakistan\n"
   ]
  },
  {
   "cell_type": "code",
   "execution_count": 266,
   "metadata": {},
   "outputs": [
    {
     "data": {
      "text/html": [
       "<div style=\"width:100%;\"><div style=\"position:relative;width:100%;height:0;padding-bottom:60%;\"><span style=\"color:#565656\">Make this Notebook Trusted to load map: File -> Trust Notebook</span><iframe srcdoc=\"&lt;!DOCTYPE html&gt;\n",
       "&lt;html&gt;\n",
       "&lt;head&gt;\n",
       "    \n",
       "    &lt;meta http-equiv=&quot;content-type&quot; content=&quot;text/html; charset=UTF-8&quot; /&gt;\n",
       "    \n",
       "        &lt;script&gt;\n",
       "            L_NO_TOUCH = false;\n",
       "            L_DISABLE_3D = false;\n",
       "        &lt;/script&gt;\n",
       "    \n",
       "    &lt;style&gt;html, body {width: 100%;height: 100%;margin: 0;padding: 0;}&lt;/style&gt;\n",
       "    &lt;style&gt;#map {position:absolute;top:0;bottom:0;right:0;left:0;}&lt;/style&gt;\n",
       "    &lt;script src=&quot;https://cdn.jsdelivr.net/npm/leaflet@1.9.3/dist/leaflet.js&quot;&gt;&lt;/script&gt;\n",
       "    &lt;script src=&quot;https://code.jquery.com/jquery-3.7.1.min.js&quot;&gt;&lt;/script&gt;\n",
       "    &lt;script src=&quot;https://cdn.jsdelivr.net/npm/bootstrap@5.2.2/dist/js/bootstrap.bundle.min.js&quot;&gt;&lt;/script&gt;\n",
       "    &lt;script src=&quot;https://cdnjs.cloudflare.com/ajax/libs/Leaflet.awesome-markers/2.0.2/leaflet.awesome-markers.js&quot;&gt;&lt;/script&gt;\n",
       "    &lt;link rel=&quot;stylesheet&quot; href=&quot;https://cdn.jsdelivr.net/npm/leaflet@1.9.3/dist/leaflet.css&quot;/&gt;\n",
       "    &lt;link rel=&quot;stylesheet&quot; href=&quot;https://cdn.jsdelivr.net/npm/bootstrap@5.2.2/dist/css/bootstrap.min.css&quot;/&gt;\n",
       "    &lt;link rel=&quot;stylesheet&quot; href=&quot;https://netdna.bootstrapcdn.com/bootstrap/3.0.0/css/bootstrap.min.css&quot;/&gt;\n",
       "    &lt;link rel=&quot;stylesheet&quot; href=&quot;https://cdn.jsdelivr.net/npm/@fortawesome/fontawesome-free@6.2.0/css/all.min.css&quot;/&gt;\n",
       "    &lt;link rel=&quot;stylesheet&quot; href=&quot;https://cdnjs.cloudflare.com/ajax/libs/Leaflet.awesome-markers/2.0.2/leaflet.awesome-markers.css&quot;/&gt;\n",
       "    &lt;link rel=&quot;stylesheet&quot; href=&quot;https://cdn.jsdelivr.net/gh/python-visualization/folium/folium/templates/leaflet.awesome.rotate.min.css&quot;/&gt;\n",
       "    \n",
       "            &lt;meta name=&quot;viewport&quot; content=&quot;width=device-width,\n",
       "                initial-scale=1.0, maximum-scale=1.0, user-scalable=no&quot; /&gt;\n",
       "            &lt;style&gt;\n",
       "                #map_a03b327328f5b96fe81640e0ad514bbf {\n",
       "                    position: relative;\n",
       "                    width: 100.0%;\n",
       "                    height: 100.0%;\n",
       "                    left: 0.0%;\n",
       "                    top: 0.0%;\n",
       "                }\n",
       "                .leaflet-container { font-size: 1rem; }\n",
       "            &lt;/style&gt;\n",
       "        \n",
       "    &lt;script src=&quot;https://cdnjs.cloudflare.com/ajax/libs/leaflet.markercluster/1.1.0/leaflet.markercluster.js&quot;&gt;&lt;/script&gt;\n",
       "    &lt;link rel=&quot;stylesheet&quot; href=&quot;https://cdnjs.cloudflare.com/ajax/libs/leaflet.markercluster/1.1.0/MarkerCluster.css&quot;/&gt;\n",
       "    &lt;link rel=&quot;stylesheet&quot; href=&quot;https://cdnjs.cloudflare.com/ajax/libs/leaflet.markercluster/1.1.0/MarkerCluster.Default.css&quot;/&gt;\n",
       "&lt;/head&gt;\n",
       "&lt;body&gt;\n",
       "    \n",
       "    \n",
       "            &lt;div class=&quot;folium-map&quot; id=&quot;map_a03b327328f5b96fe81640e0ad514bbf&quot; &gt;&lt;/div&gt;\n",
       "        \n",
       "&lt;/body&gt;\n",
       "&lt;script&gt;\n",
       "    \n",
       "    \n",
       "            var map_a03b327328f5b96fe81640e0ad514bbf = L.map(\n",
       "                &quot;map_a03b327328f5b96fe81640e0ad514bbf&quot;,\n",
       "                {\n",
       "                    center: [30.3753, 69.3451],\n",
       "                    crs: L.CRS.EPSG3857,\n",
       "                    zoom: 6,\n",
       "                    zoomControl: true,\n",
       "                    preferCanvas: false,\n",
       "                }\n",
       "            );\n",
       "\n",
       "            \n",
       "\n",
       "        \n",
       "    \n",
       "            var tile_layer_50c15c8ff31d27324666ccfed0028fb9 = L.tileLayer(\n",
       "                &quot;https://tile.openstreetmap.org/{z}/{x}/{y}.png&quot;,\n",
       "                {&quot;attribution&quot;: &quot;\\u0026copy; \\u003ca href=\\&quot;https://www.openstreetmap.org/copyright\\&quot;\\u003eOpenStreetMap\\u003c/a\\u003e contributors&quot;, &quot;detectRetina&quot;: false, &quot;maxNativeZoom&quot;: 19, &quot;maxZoom&quot;: 19, &quot;minZoom&quot;: 0, &quot;noWrap&quot;: false, &quot;opacity&quot;: 1, &quot;subdomains&quot;: &quot;abc&quot;, &quot;tms&quot;: false}\n",
       "            );\n",
       "        \n",
       "    \n",
       "            tile_layer_50c15c8ff31d27324666ccfed0028fb9.addTo(map_a03b327328f5b96fe81640e0ad514bbf);\n",
       "        \n",
       "    \n",
       "            var marker_cluster_39e88fca8b028605965d8e6a4dc788fd = L.markerClusterGroup(\n",
       "                {}\n",
       "            );\n",
       "        \n",
       "    \n",
       "            var marker_f4190e02dee339a1eeec2d3e1c919c00 = L.marker(\n",
       "                [24.8546842, 67.0207055],\n",
       "                {}\n",
       "            ).addTo(marker_cluster_39e88fca8b028605965d8e6a4dc788fd);\n",
       "        \n",
       "    \n",
       "        var popup_7051daa8f91594d6ca42d35dec3db9d1 = L.popup({&quot;maxWidth&quot;: &quot;100%&quot;});\n",
       "\n",
       "        \n",
       "            \n",
       "                var html_dc6869d9d7259c1200b349ba7305073a = $(`&lt;div id=&quot;html_dc6869d9d7259c1200b349ba7305073a&quot; style=&quot;width: 100.0%; height: 100.0%;&quot;&gt;Karachi: 200 startups&lt;/div&gt;`)[0];\n",
       "                popup_7051daa8f91594d6ca42d35dec3db9d1.setContent(html_dc6869d9d7259c1200b349ba7305073a);\n",
       "            \n",
       "        \n",
       "\n",
       "        marker_f4190e02dee339a1eeec2d3e1c919c00.bindPopup(popup_7051daa8f91594d6ca42d35dec3db9d1)\n",
       "        ;\n",
       "\n",
       "        \n",
       "    \n",
       "    \n",
       "            var marker_7d64138025a4ac8553645fb847a0ae0e = L.marker(\n",
       "                [31.5656822, 74.3141829],\n",
       "                {}\n",
       "            ).addTo(marker_cluster_39e88fca8b028605965d8e6a4dc788fd);\n",
       "        \n",
       "    \n",
       "        var popup_63bb514b621b5bcc06f2d3fa38710e09 = L.popup({&quot;maxWidth&quot;: &quot;100%&quot;});\n",
       "\n",
       "        \n",
       "            \n",
       "                var html_880039836e6e2c8ded7ba2a604e45df7 = $(`&lt;div id=&quot;html_880039836e6e2c8ded7ba2a604e45df7&quot; style=&quot;width: 100.0%; height: 100.0%;&quot;&gt;Lahore: 121 startups&lt;/div&gt;`)[0];\n",
       "                popup_63bb514b621b5bcc06f2d3fa38710e09.setContent(html_880039836e6e2c8ded7ba2a604e45df7);\n",
       "            \n",
       "        \n",
       "\n",
       "        marker_7d64138025a4ac8553645fb847a0ae0e.bindPopup(popup_63bb514b621b5bcc06f2d3fa38710e09)\n",
       "        ;\n",
       "\n",
       "        \n",
       "    \n",
       "    \n",
       "            var marker_9867dd48d435909dbbdf57b075d0de46 = L.marker(\n",
       "                [33.6938118, 73.0651511],\n",
       "                {}\n",
       "            ).addTo(marker_cluster_39e88fca8b028605965d8e6a4dc788fd);\n",
       "        \n",
       "    \n",
       "        var popup_2e0452d1960c47b78e2eb7c9346502c7 = L.popup({&quot;maxWidth&quot;: &quot;100%&quot;});\n",
       "\n",
       "        \n",
       "            \n",
       "                var html_0e1d5a276cdbe019ac4b79a2ae549ae7 = $(`&lt;div id=&quot;html_0e1d5a276cdbe019ac4b79a2ae549ae7&quot; style=&quot;width: 100.0%; height: 100.0%;&quot;&gt;Islamabad: 53 startups&lt;/div&gt;`)[0];\n",
       "                popup_2e0452d1960c47b78e2eb7c9346502c7.setContent(html_0e1d5a276cdbe019ac4b79a2ae549ae7);\n",
       "            \n",
       "        \n",
       "\n",
       "        marker_9867dd48d435909dbbdf57b075d0de46.bindPopup(popup_2e0452d1960c47b78e2eb7c9346502c7)\n",
       "        ;\n",
       "\n",
       "        \n",
       "    \n",
       "    \n",
       "            var marker_1a34eb152091f3f739ac0d5559617dc2 = L.marker(\n",
       "                [34.0123846, 71.5787458],\n",
       "                {}\n",
       "            ).addTo(marker_cluster_39e88fca8b028605965d8e6a4dc788fd);\n",
       "        \n",
       "    \n",
       "        var popup_178d0ce7e782cb19e4a2e4ee754329ee = L.popup({&quot;maxWidth&quot;: &quot;100%&quot;});\n",
       "\n",
       "        \n",
       "            \n",
       "                var html_d4c9c0e1f1f63b747fe6fb8e73559e41 = $(`&lt;div id=&quot;html_d4c9c0e1f1f63b747fe6fb8e73559e41&quot; style=&quot;width: 100.0%; height: 100.0%;&quot;&gt;Peshawar: 5 startups&lt;/div&gt;`)[0];\n",
       "                popup_178d0ce7e782cb19e4a2e4ee754329ee.setContent(html_d4c9c0e1f1f63b747fe6fb8e73559e41);\n",
       "            \n",
       "        \n",
       "\n",
       "        marker_1a34eb152091f3f739ac0d5559617dc2.bindPopup(popup_178d0ce7e782cb19e4a2e4ee754329ee)\n",
       "        ;\n",
       "\n",
       "        \n",
       "    \n",
       "    \n",
       "            var marker_ca257245d2b4dc1a6a0a45ad9b29918a = L.marker(\n",
       "                [31.4220558, 73.0923253],\n",
       "                {}\n",
       "            ).addTo(marker_cluster_39e88fca8b028605965d8e6a4dc788fd);\n",
       "        \n",
       "    \n",
       "        var popup_d990c13860250f06eb1daba60e840c32 = L.popup({&quot;maxWidth&quot;: &quot;100%&quot;});\n",
       "\n",
       "        \n",
       "            \n",
       "                var html_9f5a5235db3e42fbbcb040c257f594a8 = $(`&lt;div id=&quot;html_9f5a5235db3e42fbbcb040c257f594a8&quot; style=&quot;width: 100.0%; height: 100.0%;&quot;&gt;Faisalabad: 5 startups&lt;/div&gt;`)[0];\n",
       "                popup_d990c13860250f06eb1daba60e840c32.setContent(html_9f5a5235db3e42fbbcb040c257f594a8);\n",
       "            \n",
       "        \n",
       "\n",
       "        marker_ca257245d2b4dc1a6a0a45ad9b29918a.bindPopup(popup_d990c13860250f06eb1daba60e840c32)\n",
       "        ;\n",
       "\n",
       "        \n",
       "    \n",
       "    \n",
       "            var marker_02c8247ea12454c91cd9b65640a3472d = L.marker(\n",
       "                [33.5914237, 73.0535122],\n",
       "                {}\n",
       "            ).addTo(marker_cluster_39e88fca8b028605965d8e6a4dc788fd);\n",
       "        \n",
       "    \n",
       "        var popup_184e161787e1ae4855a82b07b7d90465 = L.popup({&quot;maxWidth&quot;: &quot;100%&quot;});\n",
       "\n",
       "        \n",
       "            \n",
       "                var html_09f6a05c6b0444db9a5c256376ada06a = $(`&lt;div id=&quot;html_09f6a05c6b0444db9a5c256376ada06a&quot; style=&quot;width: 100.0%; height: 100.0%;&quot;&gt;Rawalpindi: 4 startups&lt;/div&gt;`)[0];\n",
       "                popup_184e161787e1ae4855a82b07b7d90465.setContent(html_09f6a05c6b0444db9a5c256376ada06a);\n",
       "            \n",
       "        \n",
       "\n",
       "        marker_02c8247ea12454c91cd9b65640a3472d.bindPopup(popup_184e161787e1ae4855a82b07b7d90465)\n",
       "        ;\n",
       "\n",
       "        \n",
       "    \n",
       "    \n",
       "            var marker_f8833d05fb27f074eb36302e512d8b79 = L.marker(\n",
       "                [34.0155606, 71.981283],\n",
       "                {}\n",
       "            ).addTo(marker_cluster_39e88fca8b028605965d8e6a4dc788fd);\n",
       "        \n",
       "    \n",
       "        var popup_e21f076f110548cd0b42c2c4ea999aee = L.popup({&quot;maxWidth&quot;: &quot;100%&quot;});\n",
       "\n",
       "        \n",
       "            \n",
       "                var html_831abcc412b0cb6810952b55df4e2a1c = $(`&lt;div id=&quot;html_831abcc412b0cb6810952b55df4e2a1c&quot; style=&quot;width: 100.0%; height: 100.0%;&quot;&gt;Nowshera: 3 startups&lt;/div&gt;`)[0];\n",
       "                popup_e21f076f110548cd0b42c2c4ea999aee.setContent(html_831abcc412b0cb6810952b55df4e2a1c);\n",
       "            \n",
       "        \n",
       "\n",
       "        marker_f8833d05fb27f074eb36302e512d8b79.bindPopup(popup_e21f076f110548cd0b42c2c4ea999aee)\n",
       "        ;\n",
       "\n",
       "        \n",
       "    \n",
       "    \n",
       "            var marker_285073196ad8d70418bc675788fd1ee0 = L.marker(\n",
       "                [32.5686782, 74.071481],\n",
       "                {}\n",
       "            ).addTo(marker_cluster_39e88fca8b028605965d8e6a4dc788fd);\n",
       "        \n",
       "    \n",
       "        var popup_88718e38493e90d42a1b253a52e4cae0 = L.popup({&quot;maxWidth&quot;: &quot;100%&quot;});\n",
       "\n",
       "        \n",
       "            \n",
       "                var html_397fa8cb72224c308d81c7c6c2cdc17a = $(`&lt;div id=&quot;html_397fa8cb72224c308d81c7c6c2cdc17a&quot; style=&quot;width: 100.0%; height: 100.0%;&quot;&gt;Gujrat: 3 startups&lt;/div&gt;`)[0];\n",
       "                popup_88718e38493e90d42a1b253a52e4cae0.setContent(html_397fa8cb72224c308d81c7c6c2cdc17a);\n",
       "            \n",
       "        \n",
       "\n",
       "        marker_285073196ad8d70418bc675788fd1ee0.bindPopup(popup_88718e38493e90d42a1b253a52e4cae0)\n",
       "        ;\n",
       "\n",
       "        \n",
       "    \n",
       "    \n",
       "            var marker_f33c08048eefcf1d495404e117deb6ee = L.marker(\n",
       "                [25.3868287, 68.3714971],\n",
       "                {}\n",
       "            ).addTo(marker_cluster_39e88fca8b028605965d8e6a4dc788fd);\n",
       "        \n",
       "    \n",
       "        var popup_2a6f86b5af3f3cb442f381371e9ca9ea = L.popup({&quot;maxWidth&quot;: &quot;100%&quot;});\n",
       "\n",
       "        \n",
       "            \n",
       "                var html_4d0b8791764a7ae09f52439547be83c0 = $(`&lt;div id=&quot;html_4d0b8791764a7ae09f52439547be83c0&quot; style=&quot;width: 100.0%; height: 100.0%;&quot;&gt;Hyderabad: 2 startups&lt;/div&gt;`)[0];\n",
       "                popup_2a6f86b5af3f3cb442f381371e9ca9ea.setContent(html_4d0b8791764a7ae09f52439547be83c0);\n",
       "            \n",
       "        \n",
       "\n",
       "        marker_f33c08048eefcf1d495404e117deb6ee.bindPopup(popup_2a6f86b5af3f3cb442f381371e9ca9ea)\n",
       "        ;\n",
       "\n",
       "        \n",
       "    \n",
       "    \n",
       "            var marker_0258ab42b4604c49626aaadc639b30d8 = L.marker(\n",
       "                [30.197838, 71.4719683],\n",
       "                {}\n",
       "            ).addTo(marker_cluster_39e88fca8b028605965d8e6a4dc788fd);\n",
       "        \n",
       "    \n",
       "        var popup_257e9864d6c97b677e0c232daabda8d5 = L.popup({&quot;maxWidth&quot;: &quot;100%&quot;});\n",
       "\n",
       "        \n",
       "            \n",
       "                var html_c14fc13737de33687e26ed08e0ce4168 = $(`&lt;div id=&quot;html_c14fc13737de33687e26ed08e0ce4168&quot; style=&quot;width: 100.0%; height: 100.0%;&quot;&gt;Multan: 2 startups&lt;/div&gt;`)[0];\n",
       "                popup_257e9864d6c97b677e0c232daabda8d5.setContent(html_c14fc13737de33687e26ed08e0ce4168);\n",
       "            \n",
       "        \n",
       "\n",
       "        marker_0258ab42b4604c49626aaadc639b30d8.bindPopup(popup_257e9864d6c97b677e0c232daabda8d5)\n",
       "        ;\n",
       "\n",
       "        \n",
       "    \n",
       "    \n",
       "            var marker_8f235d31af657798d114e84ac9299f0f = L.marker(\n",
       "                [32.4935378, 74.5411575],\n",
       "                {}\n",
       "            ).addTo(marker_cluster_39e88fca8b028605965d8e6a4dc788fd);\n",
       "        \n",
       "    \n",
       "        var popup_c1c8223639a8e22025f82a0080caff7b = L.popup({&quot;maxWidth&quot;: &quot;100%&quot;});\n",
       "\n",
       "        \n",
       "            \n",
       "                var html_637fdcfe77e28e22c314c8ef8707fb27 = $(`&lt;div id=&quot;html_637fdcfe77e28e22c314c8ef8707fb27&quot; style=&quot;width: 100.0%; height: 100.0%;&quot;&gt;Sialkot: 2 startups&lt;/div&gt;`)[0];\n",
       "                popup_c1c8223639a8e22025f82a0080caff7b.setContent(html_637fdcfe77e28e22c314c8ef8707fb27);\n",
       "            \n",
       "        \n",
       "\n",
       "        marker_8f235d31af657798d114e84ac9299f0f.bindPopup(popup_c1c8223639a8e22025f82a0080caff7b)\n",
       "        ;\n",
       "\n",
       "        \n",
       "    \n",
       "    \n",
       "            var marker_1ec0cd4bc35b9c02c4062d86acf00992 = L.marker(\n",
       "                [33.7380117, 72.7980732],\n",
       "                {}\n",
       "            ).addTo(marker_cluster_39e88fca8b028605965d8e6a4dc788fd);\n",
       "        \n",
       "    \n",
       "        var popup_503e0bbbe62f757cc65a91a9cf3f67b6 = L.popup({&quot;maxWidth&quot;: &quot;100%&quot;});\n",
       "\n",
       "        \n",
       "            \n",
       "                var html_8ad94d0d4498d185de895390e827e8cb = $(`&lt;div id=&quot;html_8ad94d0d4498d185de895390e827e8cb&quot; style=&quot;width: 100.0%; height: 100.0%;&quot;&gt;Wah Cantt: 2 startups&lt;/div&gt;`)[0];\n",
       "                popup_503e0bbbe62f757cc65a91a9cf3f67b6.setContent(html_8ad94d0d4498d185de895390e827e8cb);\n",
       "            \n",
       "        \n",
       "\n",
       "        marker_1ec0cd4bc35b9c02c4062d86acf00992.bindPopup(popup_503e0bbbe62f757cc65a91a9cf3f67b6)\n",
       "        ;\n",
       "\n",
       "        \n",
       "    \n",
       "    \n",
       "            var marker_df861c5c705293c5c4fd09b750ca256a = L.marker(\n",
       "                [32.1525312, 74.1933745],\n",
       "                {}\n",
       "            ).addTo(marker_cluster_39e88fca8b028605965d8e6a4dc788fd);\n",
       "        \n",
       "    \n",
       "        var popup_36ce2e427434d6eb3a52e17fa0537cc7 = L.popup({&quot;maxWidth&quot;: &quot;100%&quot;});\n",
       "\n",
       "        \n",
       "            \n",
       "                var html_6e86457b32a83a4d1804ebecd7f1c303 = $(`&lt;div id=&quot;html_6e86457b32a83a4d1804ebecd7f1c303&quot; style=&quot;width: 100.0%; height: 100.0%;&quot;&gt;Gujranwala: 1 startups&lt;/div&gt;`)[0];\n",
       "                popup_36ce2e427434d6eb3a52e17fa0537cc7.setContent(html_6e86457b32a83a4d1804ebecd7f1c303);\n",
       "            \n",
       "        \n",
       "\n",
       "        marker_df861c5c705293c5c4fd09b750ca256a.bindPopup(popup_36ce2e427434d6eb3a52e17fa0537cc7)\n",
       "        ;\n",
       "\n",
       "        \n",
       "    \n",
       "    \n",
       "            var marker_24f6924dbcb817ef605e274268a9c287 = L.marker(\n",
       "                [30.1957677, 67.0172447],\n",
       "                {}\n",
       "            ).addTo(marker_cluster_39e88fca8b028605965d8e6a4dc788fd);\n",
       "        \n",
       "    \n",
       "        var popup_d6620bf852d411e3b5c6c5c89ccfb5c7 = L.popup({&quot;maxWidth&quot;: &quot;100%&quot;});\n",
       "\n",
       "        \n",
       "            \n",
       "                var html_b6136c8c5928d5cdfcbfe63be2276af6 = $(`&lt;div id=&quot;html_b6136c8c5928d5cdfcbfe63be2276af6&quot; style=&quot;width: 100.0%; height: 100.0%;&quot;&gt;Quetta: 1 startups&lt;/div&gt;`)[0];\n",
       "                popup_d6620bf852d411e3b5c6c5c89ccfb5c7.setContent(html_b6136c8c5928d5cdfcbfe63be2276af6);\n",
       "            \n",
       "        \n",
       "\n",
       "        marker_24f6924dbcb817ef605e274268a9c287.bindPopup(popup_d6620bf852d411e3b5c6c5c89ccfb5c7)\n",
       "        ;\n",
       "\n",
       "        \n",
       "    \n",
       "    \n",
       "            var marker_9749d9e3dcf5445a5c8447e2e3fce1cc = L.marker(\n",
       "                [32.08535155, 72.67917434961666],\n",
       "                {}\n",
       "            ).addTo(marker_cluster_39e88fca8b028605965d8e6a4dc788fd);\n",
       "        \n",
       "    \n",
       "        var popup_9ec503b037c735198b3eb58815fb0bf2 = L.popup({&quot;maxWidth&quot;: &quot;100%&quot;});\n",
       "\n",
       "        \n",
       "            \n",
       "                var html_872b00b978402d074a3a7bd9b7c9993f = $(`&lt;div id=&quot;html_872b00b978402d074a3a7bd9b7c9993f&quot; style=&quot;width: 100.0%; height: 100.0%;&quot;&gt;Sargodha: 1 startups&lt;/div&gt;`)[0];\n",
       "                popup_9ec503b037c735198b3eb58815fb0bf2.setContent(html_872b00b978402d074a3a7bd9b7c9993f);\n",
       "            \n",
       "        \n",
       "\n",
       "        marker_9749d9e3dcf5445a5c8447e2e3fce1cc.bindPopup(popup_9ec503b037c735198b3eb58815fb0bf2)\n",
       "        ;\n",
       "\n",
       "        \n",
       "    \n",
       "    \n",
       "            marker_cluster_39e88fca8b028605965d8e6a4dc788fd.addTo(map_a03b327328f5b96fe81640e0ad514bbf);\n",
       "        \n",
       "&lt;/script&gt;\n",
       "&lt;/html&gt;\" style=\"position:absolute;width:100%;height:100%;left:0;top:0;border:none !important;\" allowfullscreen webkitallowfullscreen mozallowfullscreen></iframe></div></div>"
      ],
      "text/plain": [
       "<folium.folium.Map at 0x24b4ab3d000>"
      ]
     },
     "execution_count": 266,
     "metadata": {},
     "output_type": "execute_result"
    }
   ],
   "source": [
    "import folium\n",
    "from folium.plugins import MarkerCluster\n",
    "import pandas as pd\n",
    "\n",
    "# Group startups by city and count the number of startups in each city\n",
    "startup_counts = Startups['City'].value_counts()\n",
    "\n",
    "# Create a DataFrame with city and corresponding startup count\n",
    "city_counts_df = pd.DataFrame({'City': startup_counts.index, 'Count': startup_counts.values})\n",
    "\n",
    "# Get the latitude and longitude of each city\n",
    "from geopy.geocoders import Nominatim\n",
    "\n",
    "geolocator = Nominatim(user_agent=\"startup_heatmap\")\n",
    "city_counts_df['location'] = city_counts_df['City'].apply(lambda x: geolocator.geocode(x + \", Pakistan\") if geolocator.geocode(x + \", Pakistan\") else None)\n",
    "city_counts_df = city_counts_df.dropna()\n",
    "\n",
    "# Create a Folium map centered around Pakistan\n",
    "map_pakistan3 = folium.Map(location=[30.3753, 69.3451], zoom_start=6)\n",
    "\n",
    "# Create a MarkerCluster layer\n",
    "marker_cluster = MarkerCluster().add_to(map_pakistan3)\n",
    "\n",
    "# Add markers to the MarkerCluster layer\n",
    "for index, row in city_counts_df.iterrows():\n",
    "    folium.Marker(\n",
    "        location=[row['location'].latitude, row['location'].longitude],\n",
    "        popup=f\"{row['City']}: {row['Count']} startups\",\n",
    "        icon=None,\n",
    "    ).add_to(marker_cluster)\n",
    "\n",
    "# Display the map\n",
    "map_pakistan3\n"
   ]
  },
  {
   "cell_type": "code",
   "execution_count": 275,
   "metadata": {},
   "outputs": [
    {
     "data": {
      "text/html": [
       "<div style=\"width:100%;\"><div style=\"position:relative;width:100%;height:0;padding-bottom:60%;\"><span style=\"color:#565656\">Make this Notebook Trusted to load map: File -> Trust Notebook</span><iframe srcdoc=\"&lt;!DOCTYPE html&gt;\n",
       "&lt;html&gt;\n",
       "&lt;head&gt;\n",
       "    \n",
       "    &lt;meta http-equiv=&quot;content-type&quot; content=&quot;text/html; charset=UTF-8&quot; /&gt;\n",
       "    \n",
       "        &lt;script&gt;\n",
       "            L_NO_TOUCH = false;\n",
       "            L_DISABLE_3D = false;\n",
       "        &lt;/script&gt;\n",
       "    \n",
       "    &lt;style&gt;html, body {width: 100%;height: 100%;margin: 0;padding: 0;}&lt;/style&gt;\n",
       "    &lt;style&gt;#map {position:absolute;top:0;bottom:0;right:0;left:0;}&lt;/style&gt;\n",
       "    &lt;script src=&quot;https://cdn.jsdelivr.net/npm/leaflet@1.9.3/dist/leaflet.js&quot;&gt;&lt;/script&gt;\n",
       "    &lt;script src=&quot;https://code.jquery.com/jquery-3.7.1.min.js&quot;&gt;&lt;/script&gt;\n",
       "    &lt;script src=&quot;https://cdn.jsdelivr.net/npm/bootstrap@5.2.2/dist/js/bootstrap.bundle.min.js&quot;&gt;&lt;/script&gt;\n",
       "    &lt;script src=&quot;https://cdnjs.cloudflare.com/ajax/libs/Leaflet.awesome-markers/2.0.2/leaflet.awesome-markers.js&quot;&gt;&lt;/script&gt;\n",
       "    &lt;link rel=&quot;stylesheet&quot; href=&quot;https://cdn.jsdelivr.net/npm/leaflet@1.9.3/dist/leaflet.css&quot;/&gt;\n",
       "    &lt;link rel=&quot;stylesheet&quot; href=&quot;https://cdn.jsdelivr.net/npm/bootstrap@5.2.2/dist/css/bootstrap.min.css&quot;/&gt;\n",
       "    &lt;link rel=&quot;stylesheet&quot; href=&quot;https://netdna.bootstrapcdn.com/bootstrap/3.0.0/css/bootstrap.min.css&quot;/&gt;\n",
       "    &lt;link rel=&quot;stylesheet&quot; href=&quot;https://cdn.jsdelivr.net/npm/@fortawesome/fontawesome-free@6.2.0/css/all.min.css&quot;/&gt;\n",
       "    &lt;link rel=&quot;stylesheet&quot; href=&quot;https://cdnjs.cloudflare.com/ajax/libs/Leaflet.awesome-markers/2.0.2/leaflet.awesome-markers.css&quot;/&gt;\n",
       "    &lt;link rel=&quot;stylesheet&quot; href=&quot;https://cdn.jsdelivr.net/gh/python-visualization/folium/folium/templates/leaflet.awesome.rotate.min.css&quot;/&gt;\n",
       "    \n",
       "            &lt;meta name=&quot;viewport&quot; content=&quot;width=device-width,\n",
       "                initial-scale=1.0, maximum-scale=1.0, user-scalable=no&quot; /&gt;\n",
       "            &lt;style&gt;\n",
       "                #map_04813d3d754f5c7ae57db6e3b4ee627f {\n",
       "                    position: relative;\n",
       "                    width: 100.0%;\n",
       "                    height: 100.0%;\n",
       "                    left: 0.0%;\n",
       "                    top: 0.0%;\n",
       "                }\n",
       "                .leaflet-container { font-size: 1rem; }\n",
       "            &lt;/style&gt;\n",
       "        \n",
       "&lt;/head&gt;\n",
       "&lt;body&gt;\n",
       "    \n",
       "    \n",
       "            &lt;div class=&quot;folium-map&quot; id=&quot;map_04813d3d754f5c7ae57db6e3b4ee627f&quot; &gt;&lt;/div&gt;\n",
       "        \n",
       "&lt;/body&gt;\n",
       "&lt;script&gt;\n",
       "    \n",
       "    \n",
       "            var map_04813d3d754f5c7ae57db6e3b4ee627f = L.map(\n",
       "                &quot;map_04813d3d754f5c7ae57db6e3b4ee627f&quot;,\n",
       "                {\n",
       "                    center: [30.3753, 69.3451],\n",
       "                    crs: L.CRS.EPSG3857,\n",
       "                    zoom: 6,\n",
       "                    zoomControl: true,\n",
       "                    preferCanvas: false,\n",
       "                }\n",
       "            );\n",
       "\n",
       "            \n",
       "\n",
       "        \n",
       "    \n",
       "            var tile_layer_ec9d5f2c2707c3951b68f7c7ca1c366c = L.tileLayer(\n",
       "                &quot;https://tile.openstreetmap.org/{z}/{x}/{y}.png&quot;,\n",
       "                {&quot;attribution&quot;: &quot;\\u0026copy; \\u003ca href=\\&quot;https://www.openstreetmap.org/copyright\\&quot;\\u003eOpenStreetMap\\u003c/a\\u003e contributors&quot;, &quot;detectRetina&quot;: false, &quot;maxNativeZoom&quot;: 19, &quot;maxZoom&quot;: 19, &quot;minZoom&quot;: 0, &quot;noWrap&quot;: false, &quot;opacity&quot;: 1, &quot;subdomains&quot;: &quot;abc&quot;, &quot;tms&quot;: false}\n",
       "            );\n",
       "        \n",
       "    \n",
       "            tile_layer_ec9d5f2c2707c3951b68f7c7ca1c366c.addTo(map_04813d3d754f5c7ae57db6e3b4ee627f);\n",
       "        \n",
       "    \n",
       "            var choropleth_f5ad421a01a9298f6d883eb54d4a9104 = L.featureGroup(\n",
       "                {}\n",
       "            );\n",
       "        \n",
       "    \n",
       "        function geo_json_9cd534a637f305e22874f59613099287_styler(feature) {\n",
       "            switch(feature.properties.place_id) {\n",
       "                default:\n",
       "                    return {&quot;color&quot;: &quot;black&quot;, &quot;fillColor&quot;: &quot;blue&quot;, &quot;fillOpacity&quot;: 0.7, &quot;opacity&quot;: 0.2, &quot;weight&quot;: 1};\n",
       "            }\n",
       "        }\n",
       "\n",
       "        function geo_json_9cd534a637f305e22874f59613099287_onEachFeature(feature, layer) {\n",
       "            layer.on({\n",
       "            });\n",
       "        };\n",
       "        var geo_json_9cd534a637f305e22874f59613099287 = L.geoJson(null, {\n",
       "                onEachFeature: geo_json_9cd534a637f305e22874f59613099287_onEachFeature,\n",
       "            \n",
       "                style: geo_json_9cd534a637f305e22874f59613099287_styler,\n",
       "        });\n",
       "\n",
       "        function geo_json_9cd534a637f305e22874f59613099287_add (data) {\n",
       "            geo_json_9cd534a637f305e22874f59613099287\n",
       "                .addData(data);\n",
       "        }\n",
       "            geo_json_9cd534a637f305e22874f59613099287_add({&quot;features&quot;: [{&quot;bbox&quot;: [66.2862312, 24.4273517, 67.5827753, 25.676796], &quot;geometry&quot;: {&quot;coordinates&quot;: [67.0207055, 24.8546842], &quot;type&quot;: &quot;Point&quot;}, &quot;properties&quot;: {&quot;addresstype&quot;: &quot;city&quot;, &quot;category&quot;: &quot;boundary&quot;, &quot;display_name&quot;: &quot;\\u06a9\\u0631\\u0627\\u0686\\u06cc \\u0688\\u0648\\u06cc\\u0698\\u0646, \\u0633\\u0646\\u062f\\u06be, \\u067e\\u0627\\u06a9\\u0633\\u062a\\u0627\\u0646&quot;, &quot;importance&quot;: 0.50001, &quot;name&quot;: &quot;\\u06a9\\u0631\\u0627\\u0686\\u06cc \\u0688\\u0648\\u06cc\\u0698\\u0646&quot;, &quot;osm_id&quot;: 6080948, &quot;osm_type&quot;: &quot;relation&quot;, &quot;place_id&quot;: 378707431, &quot;place_rank&quot;: 10, &quot;type&quot;: &quot;administrative&quot;}, &quot;type&quot;: &quot;Feature&quot;}], &quot;licence&quot;: &quot;Data \\u00a9 OpenStreetMap contributors, ODbL 1.0. http://osm.org/copyright&quot;, &quot;type&quot;: &quot;FeatureCollection&quot;});\n",
       "\n",
       "        \n",
       "    \n",
       "            geo_json_9cd534a637f305e22874f59613099287.addTo(choropleth_f5ad421a01a9298f6d883eb54d4a9104);\n",
       "        \n",
       "    \n",
       "            choropleth_f5ad421a01a9298f6d883eb54d4a9104.addTo(map_04813d3d754f5c7ae57db6e3b4ee627f);\n",
       "        \n",
       "    \n",
       "            var choropleth_05efe1cc2e6c32895acab9ca39dd9949 = L.featureGroup(\n",
       "                {}\n",
       "            );\n",
       "        \n",
       "    \n",
       "        function geo_json_0f7689020660c11ddefc65f5c8177682_styler(feature) {\n",
       "            switch(feature.properties.place_id) {\n",
       "                default:\n",
       "                    return {&quot;color&quot;: &quot;black&quot;, &quot;fillColor&quot;: &quot;blue&quot;, &quot;fillOpacity&quot;: 0.7, &quot;opacity&quot;: 0.2, &quot;weight&quot;: 1};\n",
       "            }\n",
       "        }\n",
       "\n",
       "        function geo_json_0f7689020660c11ddefc65f5c8177682_onEachFeature(feature, layer) {\n",
       "            layer.on({\n",
       "            });\n",
       "        };\n",
       "        var geo_json_0f7689020660c11ddefc65f5c8177682 = L.geoJson(null, {\n",
       "                onEachFeature: geo_json_0f7689020660c11ddefc65f5c8177682_onEachFeature,\n",
       "            \n",
       "                style: geo_json_0f7689020660c11ddefc65f5c8177682_styler,\n",
       "        });\n",
       "\n",
       "        function geo_json_0f7689020660c11ddefc65f5c8177682_add (data) {\n",
       "            geo_json_0f7689020660c11ddefc65f5c8177682\n",
       "                .addData(data);\n",
       "        }\n",
       "            geo_json_0f7689020660c11ddefc65f5c8177682_add({&quot;features&quot;: [{&quot;bbox&quot;: [72.9051511, 33.5338118, 73.2251511, 33.8538118], &quot;geometry&quot;: {&quot;coordinates&quot;: [73.0651511, 33.6938118], &quot;type&quot;: &quot;Point&quot;}, &quot;properties&quot;: {&quot;addresstype&quot;: &quot;city&quot;, &quot;category&quot;: &quot;place&quot;, &quot;display_name&quot;: &quot;\\u0627\\u0633\\u0644\\u0627\\u0645 \\u0622\\u0628\\u0627\\u062f, \\u0632\\u0648\\u0646 1, \\u0648\\u0641\\u0627\\u0642\\u06cc \\u062f\\u0627\\u0631\\u0627\\u0644\\u062d\\u06a9\\u0648\\u0645\\u062a \\u0627\\u0633\\u0644\\u0627\\u0645 \\u0622\\u0628\\u0627\\u062f, 44000, \\u067e\\u0627\\u06a9\\u0633\\u062a\\u0627\\u0646&quot;, &quot;importance&quot;: 0.5841564917637788, &quot;name&quot;: &quot;\\u0627\\u0633\\u0644\\u0627\\u0645 \\u0622\\u0628\\u0627\\u062f&quot;, &quot;osm_id&quot;: 316440978, &quot;osm_type&quot;: &quot;node&quot;, &quot;place_id&quot;: 221993668, &quot;place_rank&quot;: 15, &quot;type&quot;: &quot;city&quot;}, &quot;type&quot;: &quot;Feature&quot;}, {&quot;bbox&quot;: [67.770917, 27.5448445, 67.810917, 27.5848445], &quot;geometry&quot;: {&quot;coordinates&quot;: [67.790917, 27.5648445], &quot;type&quot;: &quot;Point&quot;}, &quot;properties&quot;: {&quot;addresstype&quot;: &quot;hamlet&quot;, &quot;category&quot;: &quot;place&quot;, &quot;display_name&quot;: &quot;Islamabad, Goth Bagh, \\u062a\\u0639\\u0644\\u0642\\u06c1 \\u0642\\u0645\\u0628\\u0631, \\u0636\\u0644\\u0639 \\u0642\\u0645\\u0628\\u0631-\\u0634\\u06c1\\u062f\\u0627\\u062f\\u06a9\\u0648\\u0679, \\u0644\\u0627\\u0691\\u06a9\\u0627\\u0646\\u06c1 \\u0688\\u0648\\u06cc\\u0698\\u0646, \\u0633\\u0646\\u062f\\u06be, \\u067e\\u0627\\u06a9\\u0633\\u062a\\u0627\\u0646&quot;, &quot;importance&quot;: 0.25000999999999995, &quot;name&quot;: &quot;Islamabad&quot;, &quot;osm_id&quot;: 11276331449, &quot;osm_type&quot;: &quot;node&quot;, &quot;place_id&quot;: 370978923, &quot;place_rank&quot;: 20, &quot;type&quot;: &quot;hamlet&quot;}, &quot;type&quot;: &quot;Feature&quot;}, {&quot;bbox&quot;: [74.3984511, 31.6012337, 74.4046637, 31.6096427], &quot;geometry&quot;: {&quot;coordinates&quot;: [74.40148684774945, 31.60499265], &quot;type&quot;: &quot;Point&quot;}, &quot;properties&quot;: {&quot;addresstype&quot;: &quot;neighbourhood&quot;, &quot;category&quot;: &quot;place&quot;, &quot;display_name&quot;: &quot;Islamabad, \\u0645\\u062d\\u0645\\u0648\\u062f \\u0628\\u064f\\u0648\\u0679\\u06cc, \\u062a\\u062d\\u0635\\u06cc\\u0644 \\u0634\\u0627\\u0644\\u06cc\\u0645\\u0627\\u0631, \\u0636\\u0644\\u0639 \\u0644\\u0627\\u06c1\\u0648\\u0631, \\u0644\\u0627\\u06c1\\u0648\\u0631 \\u0688\\u0648\\u06cc\\u0698\\u0646, \\u067e\\u0646\\u062c\\u0627\\u0628, \\u067e\\u0627\\u06a9\\u0633\\u062a\\u0627\\u0646&quot;, &quot;importance&quot;: 0.25000999999999995, &quot;name&quot;: &quot;Islamabad&quot;, &quot;osm_id&quot;: 607878798, &quot;osm_type&quot;: &quot;way&quot;, &quot;place_id&quot;: 242777317, &quot;place_rank&quot;: 20, &quot;type&quot;: &quot;neighbourhood&quot;}, &quot;type&quot;: &quot;Feature&quot;}, {&quot;bbox&quot;: [68.3714206, 25.3750478, 68.3914206, 25.3950478], &quot;geometry&quot;: {&quot;coordinates&quot;: [68.3814206, 25.3850478], &quot;type&quot;: &quot;Point&quot;}, &quot;properties&quot;: {&quot;addresstype&quot;: &quot;neighbourhood&quot;, &quot;category&quot;: &quot;place&quot;, &quot;display_name&quot;: &quot;Islamabad, Gulshan-e-Hali, \\u0644\\u0637\\u06cc\\u0641 \\u0622\\u0628\\u0627\\u062f, \\u062a\\u0639\\u0644\\u0642\\u06c1 \\u062d\\u06cc\\u062f\\u0631\\u0622\\u0628\\u0627\\u062f \\u0634\\u06c1\\u0631, \\u0636\\u0644\\u0639 \\u062d\\u06cc\\u062f\\u0631\\u0622\\u0628\\u0627\\u062f, \\u062d\\u06cc\\u062f\\u0631 \\u0622\\u0628\\u0627\\u062f \\u0688\\u0648\\u06cc\\u0698\\u0646, \\u0633\\u0646\\u062f\\u06be, 91000, \\u067e\\u0627\\u06a9\\u0633\\u062a\\u0627\\u0646&quot;, &quot;importance&quot;: 0.25000999999999995, &quot;name&quot;: &quot;Islamabad&quot;, &quot;osm_id&quot;: 5283908619, &quot;osm_type&quot;: &quot;node&quot;, &quot;place_id&quot;: 244656225, &quot;place_rank&quot;: 20, &quot;type&quot;: &quot;neighbourhood&quot;}, &quot;type&quot;: &quot;Feature&quot;}, {&quot;bbox&quot;: [73.0636533, 33.6071036, 73.0836533, 33.6271036], &quot;geometry&quot;: {&quot;coordinates&quot;: [73.0736533, 33.6171036], &quot;type&quot;: &quot;Point&quot;}, &quot;properties&quot;: {&quot;addresstype&quot;: &quot;neighbourhood&quot;, &quot;category&quot;: &quot;place&quot;, &quot;display_name&quot;: &quot;Islamabad, Dhok Khabba, \\u0686\\u0627\\u06c1 \\u0633\\u0644\\u0637\\u0627\\u0646, \\u062a\\u062d\\u0635\\u06cc\\u0644 \\u0631\\u0627\\u0648\\u0644\\u067e\\u0646\\u0688\\u06cc \\u0634\\u06c1\\u0631, \\u0631\\u0627\\u0648\\u0644\\u067e\\u0646\\u0688\\u06cc \\u0688\\u0648\\u06cc\\u0698\\u0646, \\u067e\\u0646\\u062c\\u0627\\u0628, 46000, \\u067e\\u0627\\u06a9\\u0633\\u062a\\u0627\\u0646&quot;, &quot;importance&quot;: 0.1333433333333333, &quot;name&quot;: &quot;Islamabad&quot;, &quot;osm_id&quot;: 7805754772, &quot;osm_type&quot;: &quot;node&quot;, &quot;place_id&quot;: 221212073, &quot;place_rank&quot;: 20, &quot;type&quot;: &quot;neighbourhood&quot;}, &quot;type&quot;: &quot;Feature&quot;}, {&quot;bbox&quot;: [73.9652458, 32.3569915, 74.0052458, 32.3969915], &quot;geometry&quot;: {&quot;coordinates&quot;: [73.9852458, 32.3769915], &quot;type&quot;: &quot;Point&quot;}, &quot;properties&quot;: {&quot;addresstype&quot;: &quot;village&quot;, &quot;category&quot;: &quot;place&quot;, &quot;display_name&quot;: &quot;\\u0627\\u0633\\u0644\\u0627\\u0645 \\u0622\\u0628\\u0627\\u062f, \\u062a\\u062d\\u0635\\u06cc\\u0644 \\u0639\\u0644\\u06cc \\u067e\\u0648\\u0631 \\u0686\\u06be\\u0679\\u06c1, \\u0636\\u0644\\u0639 \\u0648\\u0632\\u06cc\\u0631 \\u0622\\u0628\\u0627\\u062f, \\u06af\\u062c\\u0631\\u0627\\u062a \\u0688\\u0648\\u06cc\\u0698\\u0646, \\u067e\\u0646\\u062c\\u0627\\u0628, \\u067e\\u0627\\u06a9\\u0633\\u062a\\u0627\\u0646&quot;, &quot;importance&quot;: 0.27501, &quot;name&quot;: &quot;\\u0627\\u0633\\u0644\\u0627\\u0645 \\u0622\\u0628\\u0627\\u062f&quot;, &quot;osm_id&quot;: 9249023044, &quot;osm_type&quot;: &quot;node&quot;, &quot;place_id&quot;: 221603530, &quot;place_rank&quot;: 19, &quot;type&quot;: &quot;village&quot;}, &quot;type&quot;: &quot;Feature&quot;}, {&quot;bbox&quot;: [74.3615802, 31.8455452, 74.4015802, 31.8855452], &quot;geometry&quot;: {&quot;coordinates&quot;: [74.3815802, 31.8655452], &quot;type&quot;: &quot;Point&quot;}, &quot;properties&quot;: {&quot;addresstype&quot;: &quot;village&quot;, &quot;category&quot;: &quot;place&quot;, &quot;display_name&quot;: &quot;\\u0627\\u0633\\u0644\\u0627\\u0645 \\u0622\\u0628\\u0627\\u062f, \\u062a\\u062d\\u0635\\u06cc\\u0644 \\u0645\\u0631\\u06cc\\u062f\\u06a9\\u06d2, \\u0636\\u0644\\u0639 \\u0634\\u06cc\\u062e\\u0648\\u067e\\u0648\\u0631\\u06c1, \\u0644\\u0627\\u06c1\\u0648\\u0631 \\u0688\\u0648\\u06cc\\u0698\\u0646, \\u067e\\u0646\\u062c\\u0627\\u0628, \\u067e\\u0627\\u06a9\\u0633\\u062a\\u0627\\u0646&quot;, &quot;importance&quot;: 0.27501, &quot;name&quot;: &quot;\\u0627\\u0633\\u0644\\u0627\\u0645 \\u0622\\u0628\\u0627\\u062f&quot;, &quot;osm_id&quot;: 9397506484, &quot;osm_type&quot;: &quot;node&quot;, &quot;place_id&quot;: 244204224, &quot;place_rank&quot;: 19, &quot;type&quot;: &quot;village&quot;}, &quot;type&quot;: &quot;Feature&quot;}, {&quot;bbox&quot;: [74.3357929, 32.2681336, 74.3757929, 32.3081336], &quot;geometry&quot;: {&quot;coordinates&quot;: [74.3557929, 32.2881336], &quot;type&quot;: &quot;Point&quot;}, &quot;properties&quot;: {&quot;addresstype&quot;: &quot;hamlet&quot;, &quot;category&quot;: &quot;place&quot;, &quot;display_name&quot;: &quot;\\u0627\\u0633\\u0644\\u0627\\u0645 \\u0622\\u0628\\u0627\\u062f, \\u0631\\u0627\\u062c\\u06c1 \\u06af\\u06be\\u0645\\u0646\\u0627\\u06ba, \\u062a\\u062d\\u0635\\u06cc\\u0644 \\u0688\\u0633\\u06a9\\u06c1, \\u0636\\u0644\\u0639 \\u0633\\u06cc\\u0627\\u0644\\u06a9\\u0648\\u0679, \\u06af\\u0648\\u062c\\u0631\\u0627\\u0646\\u0648\\u0627\\u0644\\u06c1 \\u0688\\u0648\\u06cc\\u0698\\u0646, \\u067e\\u0646\\u062c\\u0627\\u0628, 51010, \\u067e\\u0627\\u06a9\\u0633\\u062a\\u0627\\u0646&quot;, &quot;importance&quot;: 0.25000999999999995, &quot;name&quot;: &quot;\\u0627\\u0633\\u0644\\u0627\\u0645 \\u0622\\u0628\\u0627\\u062f&quot;, &quot;osm_id&quot;: 9249113302, &quot;osm_type&quot;: &quot;node&quot;, &quot;place_id&quot;: 221463957, &quot;place_rank&quot;: 20, &quot;type&quot;: &quot;hamlet&quot;}, &quot;type&quot;: &quot;Feature&quot;}], &quot;licence&quot;: &quot;Data \\u00a9 OpenStreetMap contributors, ODbL 1.0. http://osm.org/copyright&quot;, &quot;type&quot;: &quot;FeatureCollection&quot;});\n",
       "\n",
       "        \n",
       "    \n",
       "            geo_json_0f7689020660c11ddefc65f5c8177682.addTo(choropleth_05efe1cc2e6c32895acab9ca39dd9949);\n",
       "        \n",
       "    \n",
       "            choropleth_05efe1cc2e6c32895acab9ca39dd9949.addTo(map_04813d3d754f5c7ae57db6e3b4ee627f);\n",
       "        \n",
       "    \n",
       "            var choropleth_3ae78b5d818b005fe364c842b3966169 = L.featureGroup(\n",
       "                {}\n",
       "            );\n",
       "        \n",
       "    \n",
       "        function geo_json_c15c5dab336a6c9866a918f879494bf8_styler(feature) {\n",
       "            switch(feature.properties.place_id) {\n",
       "                default:\n",
       "                    return {&quot;color&quot;: &quot;black&quot;, &quot;fillColor&quot;: &quot;blue&quot;, &quot;fillOpacity&quot;: 0.7, &quot;opacity&quot;: 0.2, &quot;weight&quot;: 1};\n",
       "            }\n",
       "        }\n",
       "\n",
       "        function geo_json_c15c5dab336a6c9866a918f879494bf8_onEachFeature(feature, layer) {\n",
       "            layer.on({\n",
       "            });\n",
       "        };\n",
       "        var geo_json_c15c5dab336a6c9866a918f879494bf8 = L.geoJson(null, {\n",
       "                onEachFeature: geo_json_c15c5dab336a6c9866a918f879494bf8_onEachFeature,\n",
       "            \n",
       "                style: geo_json_c15c5dab336a6c9866a918f879494bf8_styler,\n",
       "        });\n",
       "\n",
       "        function geo_json_c15c5dab336a6c9866a918f879494bf8_add (data) {\n",
       "            geo_json_c15c5dab336a6c9866a918f879494bf8\n",
       "                .addData(data);\n",
       "        }\n",
       "            geo_json_c15c5dab336a6c9866a918f879494bf8_add({&quot;features&quot;: [{&quot;bbox&quot;: [74.1541829, 31.4056822, 74.4741829, 31.7256822], &quot;geometry&quot;: {&quot;coordinates&quot;: [74.3141829, 31.5656822], &quot;type&quot;: &quot;Point&quot;}, &quot;properties&quot;: {&quot;addresstype&quot;: &quot;city&quot;, &quot;category&quot;: &quot;place&quot;, &quot;display_name&quot;: &quot;\\u0644\\u0627\\u06c1\\u0648\\u0631, \\u0636\\u0644\\u0639 \\u0644\\u0627\\u06c1\\u0648\\u0631, \\u0644\\u0627\\u06c1\\u0648\\u0631 \\u0688\\u0648\\u06cc\\u0698\\u0646, \\u067e\\u0646\\u062c\\u0627\\u0628, 54500, \\u067e\\u0627\\u06a9\\u0633\\u062a\\u0627\\u0646&quot;, &quot;importance&quot;: 0.6036041069355744, &quot;name&quot;: &quot;\\u0644\\u0627\\u06c1\\u0648\\u0631&quot;, &quot;osm_id&quot;: 1886594378, &quot;osm_type&quot;: &quot;node&quot;, &quot;place_id&quot;: 243284101, &quot;place_rank&quot;: 16, &quot;type&quot;: &quot;city&quot;}, &quot;type&quot;: &quot;Feature&quot;}], &quot;licence&quot;: &quot;Data \\u00a9 OpenStreetMap contributors, ODbL 1.0. http://osm.org/copyright&quot;, &quot;type&quot;: &quot;FeatureCollection&quot;});\n",
       "\n",
       "        \n",
       "    \n",
       "            geo_json_c15c5dab336a6c9866a918f879494bf8.addTo(choropleth_3ae78b5d818b005fe364c842b3966169);\n",
       "        \n",
       "    \n",
       "            choropleth_3ae78b5d818b005fe364c842b3966169.addTo(map_04813d3d754f5c7ae57db6e3b4ee627f);\n",
       "        \n",
       "    \n",
       "            var choropleth_64a5255cb8e4c91e3a7d3ccdb8598fc8 = L.featureGroup(\n",
       "                {}\n",
       "            );\n",
       "        \n",
       "    \n",
       "        function geo_json_895e6532a2a15384fc129fe39f4129d8_styler(feature) {\n",
       "            switch(feature.properties.place_id) {\n",
       "                default:\n",
       "                    return {&quot;color&quot;: &quot;black&quot;, &quot;fillColor&quot;: &quot;blue&quot;, &quot;fillOpacity&quot;: 0.7, &quot;opacity&quot;: 0.2, &quot;weight&quot;: 1};\n",
       "            }\n",
       "        }\n",
       "\n",
       "        function geo_json_895e6532a2a15384fc129fe39f4129d8_onEachFeature(feature, layer) {\n",
       "            layer.on({\n",
       "            });\n",
       "        };\n",
       "        var geo_json_895e6532a2a15384fc129fe39f4129d8 = L.geoJson(null, {\n",
       "                onEachFeature: geo_json_895e6532a2a15384fc129fe39f4129d8_onEachFeature,\n",
       "            \n",
       "                style: geo_json_895e6532a2a15384fc129fe39f4129d8_styler,\n",
       "        });\n",
       "\n",
       "        function geo_json_895e6532a2a15384fc129fe39f4129d8_add (data) {\n",
       "            geo_json_895e6532a2a15384fc129fe39f4129d8\n",
       "                .addData(data);\n",
       "        }\n",
       "            geo_json_895e6532a2a15384fc129fe39f4129d8_add({&quot;features&quot;: [{&quot;bbox&quot;: [71.821283, 33.8555606, 72.141283, 34.1755606], &quot;geometry&quot;: {&quot;coordinates&quot;: [71.981283, 34.0155606], &quot;type&quot;: &quot;Point&quot;}, &quot;properties&quot;: {&quot;addresstype&quot;: &quot;city&quot;, &quot;category&quot;: &quot;place&quot;, &quot;display_name&quot;: &quot;\\u0646\\u0648\\u0634\\u06c1\\u0631\\u06c1, \\u062a\\u062d\\u0635\\u06cc\\u0644 \\u0646\\u0648\\u0634\\u06c1\\u0631\\u06c1, \\u0636\\u0644\\u0639 \\u0646\\u0648\\u0634\\u06c1\\u0631\\u06c1, \\u067e\\u0634\\u0627\\u0648\\u0631 \\u0688\\u0648\\u06cc\\u0698\\u0646, \\u062e\\u06cc\\u0628\\u0631 \\u067e\\u062e\\u062a\\u0648\\u0646\\u062e\\u0648\\u0627, \\u067e\\u0627\\u06a9\\u0633\\u062a\\u0627\\u0646&quot;, &quot;importance&quot;: 0.3935348512699776, &quot;name&quot;: &quot;\\u0646\\u0648\\u0634\\u06c1\\u0631\\u06c1&quot;, &quot;osm_id&quot;: 90536341, &quot;osm_type&quot;: &quot;node&quot;, &quot;place_id&quot;: 220197078, &quot;place_rank&quot;: 16, &quot;type&quot;: &quot;city&quot;}, &quot;type&quot;: &quot;Feature&quot;}, {&quot;bbox&quot;: [71.8284312, 33.8367206, 72.1319871, 34.1365353], &quot;geometry&quot;: {&quot;coordinates&quot;: [71.95013344293969, 33.987536500000004], &quot;type&quot;: &quot;Point&quot;}, &quot;properties&quot;: {&quot;addresstype&quot;: &quot;municipality&quot;, &quot;category&quot;: &quot;boundary&quot;, &quot;display_name&quot;: &quot;\\u062a\\u062d\\u0635\\u06cc\\u0644 \\u0646\\u0648\\u0634\\u06c1\\u0631\\u06c1, \\u0636\\u0644\\u0639 \\u0646\\u0648\\u0634\\u06c1\\u0631\\u06c1, \\u067e\\u0634\\u0627\\u0648\\u0631 \\u0688\\u0648\\u06cc\\u0698\\u0646, \\u062e\\u06cc\\u0628\\u0631 \\u067e\\u062e\\u062a\\u0648\\u0646\\u062e\\u0648\\u0627, 24100, \\u067e\\u0627\\u06a9\\u0633\\u062a\\u0627\\u0646&quot;, &quot;importance&quot;: 0.40001, &quot;name&quot;: &quot;\\u062a\\u062d\\u0635\\u06cc\\u0644 \\u0646\\u0648\\u0634\\u06c1\\u0631\\u06c1&quot;, &quot;osm_id&quot;: 16498225, &quot;osm_type&quot;: &quot;relation&quot;, &quot;place_id&quot;: 370425661, &quot;place_rank&quot;: 14, &quot;type&quot;: &quot;administrative&quot;}, &quot;type&quot;: &quot;Feature&quot;}], &quot;licence&quot;: &quot;Data \\u00a9 OpenStreetMap contributors, ODbL 1.0. http://osm.org/copyright&quot;, &quot;type&quot;: &quot;FeatureCollection&quot;});\n",
       "\n",
       "        \n",
       "    \n",
       "            geo_json_895e6532a2a15384fc129fe39f4129d8.addTo(choropleth_64a5255cb8e4c91e3a7d3ccdb8598fc8);\n",
       "        \n",
       "    \n",
       "            choropleth_64a5255cb8e4c91e3a7d3ccdb8598fc8.addTo(map_04813d3d754f5c7ae57db6e3b4ee627f);\n",
       "        \n",
       "    \n",
       "            var choropleth_19ed76624ffdecf9137bcd50345e1bfe = L.featureGroup(\n",
       "                {}\n",
       "            );\n",
       "        \n",
       "    \n",
       "        function geo_json_15b0e3570cbb6707ff408a78b34b51c4_styler(feature) {\n",
       "            switch(feature.properties.place_id) {\n",
       "                default:\n",
       "                    return {&quot;color&quot;: &quot;black&quot;, &quot;fillColor&quot;: &quot;blue&quot;, &quot;fillOpacity&quot;: 0.7, &quot;opacity&quot;: 0.2, &quot;weight&quot;: 1};\n",
       "            }\n",
       "        }\n",
       "\n",
       "        function geo_json_15b0e3570cbb6707ff408a78b34b51c4_onEachFeature(feature, layer) {\n",
       "            layer.on({\n",
       "            });\n",
       "        };\n",
       "        var geo_json_15b0e3570cbb6707ff408a78b34b51c4 = L.geoJson(null, {\n",
       "                onEachFeature: geo_json_15b0e3570cbb6707ff408a78b34b51c4_onEachFeature,\n",
       "            \n",
       "                style: geo_json_15b0e3570cbb6707ff408a78b34b51c4_styler,\n",
       "        });\n",
       "\n",
       "        function geo_json_15b0e3570cbb6707ff408a78b34b51c4_add (data) {\n",
       "            geo_json_15b0e3570cbb6707ff408a78b34b51c4\n",
       "                .addData(data);\n",
       "        }\n",
       "            geo_json_15b0e3570cbb6707ff408a78b34b51c4_add({&quot;features&quot;: [{&quot;bbox&quot;: [71.3688356, 33.9154461, 71.6262872, 34.077447], &quot;geometry&quot;: {&quot;coordinates&quot;: [71.5787458, 34.0123846], &quot;type&quot;: &quot;Point&quot;}, &quot;properties&quot;: {&quot;addresstype&quot;: &quot;city&quot;, &quot;category&quot;: &quot;boundary&quot;, &quot;display_name&quot;: &quot;\\u062a\\u062d\\u0635\\u06cc\\u0644 \\u067e\\u0634\\u0627\\u0648\\u0631 \\u0634\\u06c1\\u0631, \\u0636\\u0644\\u0639 \\u067e\\u0634\\u0627\\u0648\\u0631\\u200e, \\u067e\\u0634\\u0627\\u0648\\u0631 \\u0688\\u0648\\u06cc\\u0698\\u0646, \\u062e\\u06cc\\u0628\\u0631 \\u067e\\u062e\\u062a\\u0648\\u0646\\u062e\\u0648\\u0627, \\u067e\\u0627\\u06a9\\u0633\\u062a\\u0627\\u0646&quot;, &quot;importance&quot;: 0.5501545056281637, &quot;name&quot;: &quot;\\u062a\\u062d\\u0635\\u06cc\\u0644 \\u067e\\u0634\\u0627\\u0648\\u0631 \\u0634\\u06c1\\u0631&quot;, &quot;osm_id&quot;: 16487008, &quot;osm_type&quot;: &quot;relation&quot;, &quot;place_id&quot;: 370268176, &quot;place_rank&quot;: 14, &quot;type&quot;: &quot;administrative&quot;}, &quot;type&quot;: &quot;Feature&quot;}], &quot;licence&quot;: &quot;Data \\u00a9 OpenStreetMap contributors, ODbL 1.0. http://osm.org/copyright&quot;, &quot;type&quot;: &quot;FeatureCollection&quot;});\n",
       "\n",
       "        \n",
       "    \n",
       "            geo_json_15b0e3570cbb6707ff408a78b34b51c4.addTo(choropleth_19ed76624ffdecf9137bcd50345e1bfe);\n",
       "        \n",
       "    \n",
       "            choropleth_19ed76624ffdecf9137bcd50345e1bfe.addTo(map_04813d3d754f5c7ae57db6e3b4ee627f);\n",
       "        \n",
       "    \n",
       "            var choropleth_48d4d2b5a3406c97434319b1b5137656 = L.featureGroup(\n",
       "                {}\n",
       "            );\n",
       "        \n",
       "    \n",
       "        function geo_json_3148e6c604bd5fc8a30d39d6b21f0c0f_styler(feature) {\n",
       "            switch(feature.properties.place_id) {\n",
       "                default:\n",
       "                    return {&quot;color&quot;: &quot;black&quot;, &quot;fillColor&quot;: &quot;blue&quot;, &quot;fillOpacity&quot;: 0.7, &quot;opacity&quot;: 0.2, &quot;weight&quot;: 1};\n",
       "            }\n",
       "        }\n",
       "\n",
       "        function geo_json_3148e6c604bd5fc8a30d39d6b21f0c0f_onEachFeature(feature, layer) {\n",
       "            layer.on({\n",
       "            });\n",
       "        };\n",
       "        var geo_json_3148e6c604bd5fc8a30d39d6b21f0c0f = L.geoJson(null, {\n",
       "                onEachFeature: geo_json_3148e6c604bd5fc8a30d39d6b21f0c0f_onEachFeature,\n",
       "            \n",
       "                style: geo_json_3148e6c604bd5fc8a30d39d6b21f0c0f_styler,\n",
       "        });\n",
       "\n",
       "        function geo_json_3148e6c604bd5fc8a30d39d6b21f0c0f_add (data) {\n",
       "            geo_json_3148e6c604bd5fc8a30d39d6b21f0c0f\n",
       "                .addData(data);\n",
       "        }\n",
       "            geo_json_3148e6c604bd5fc8a30d39d6b21f0c0f_add({&quot;features&quot;: [{&quot;bbox&quot;: [72.99379, 31.335641, 73.193035, 31.526443], &quot;geometry&quot;: {&quot;coordinates&quot;: [73.0923253, 31.4220558], &quot;type&quot;: &quot;Point&quot;}, &quot;properties&quot;: {&quot;addresstype&quot;: &quot;subdistrict&quot;, &quot;category&quot;: &quot;boundary&quot;, &quot;display_name&quot;: &quot;\\u062a\\u062d\\u0635\\u06cc\\u0644 \\u0641\\u06cc\\u0635\\u0644 \\u0622\\u0628\\u0627\\u062f \\u0634\\u06c1\\u0631, \\u0636\\u0644\\u0639 \\u0641\\u06cc\\u0635\\u0644 \\u0622\\u0628\\u0627\\u062f, \\u067e\\u0646\\u062c\\u0627\\u0628, \\u067e\\u0627\\u06a9\\u0633\\u062a\\u0627\\u0646&quot;, &quot;importance&quot;: 0.49408524358740485, &quot;name&quot;: &quot;\\u062a\\u062d\\u0635\\u06cc\\u0644 \\u0641\\u06cc\\u0635\\u0644 \\u0622\\u0628\\u0627\\u062f \\u0634\\u06c1\\u0631&quot;, &quot;osm_id&quot;: 16108315, &quot;osm_type&quot;: &quot;relation&quot;, &quot;place_id&quot;: 367902622, &quot;place_rank&quot;: 14, &quot;type&quot;: &quot;administrative&quot;}, &quot;type&quot;: &quot;Feature&quot;}, {&quot;bbox&quot;: [73.0433978, 31.4073923, 73.0672961, 31.4175684], &quot;geometry&quot;: {&quot;coordinates&quot;: [73.05495959089825, 31.41232645], &quot;type&quot;: &quot;Point&quot;}, &quot;properties&quot;: {&quot;addresstype&quot;: &quot;town&quot;, &quot;category&quot;: &quot;place&quot;, &quot;display_name&quot;: &quot;\\u0641\\u06cc\\u0635\\u0644 \\u0622\\u0628\\u0627\\u062f, \\u0636\\u0644\\u0639 \\u0641\\u06cc\\u0635\\u0644 \\u0622\\u0628\\u0627\\u062f, \\u0641\\u06cc\\u0635\\u0644 \\u0622\\u0628\\u0627\\u062f \\u0688\\u0648\\u06cc\\u0698\\u0646, \\u067e\\u0646\\u062c\\u0627\\u0628, \\u067e\\u0627\\u06a9\\u0633\\u062a\\u0627\\u0646&quot;, &quot;importance&quot;: 0.30000999999999994, &quot;name&quot;: &quot;\\u0641\\u06cc\\u0635\\u0644 \\u0622\\u0628\\u0627\\u062f&quot;, &quot;osm_id&quot;: 287657857, &quot;osm_type&quot;: &quot;way&quot;, &quot;place_id&quot;: 242869946, &quot;place_rank&quot;: 18, &quot;type&quot;: &quot;town&quot;}, &quot;type&quot;: &quot;Feature&quot;}], &quot;licence&quot;: &quot;Data \\u00a9 OpenStreetMap contributors, ODbL 1.0. http://osm.org/copyright&quot;, &quot;type&quot;: &quot;FeatureCollection&quot;});\n",
       "\n",
       "        \n",
       "    \n",
       "            geo_json_3148e6c604bd5fc8a30d39d6b21f0c0f.addTo(choropleth_48d4d2b5a3406c97434319b1b5137656);\n",
       "        \n",
       "    \n",
       "            choropleth_48d4d2b5a3406c97434319b1b5137656.addTo(map_04813d3d754f5c7ae57db6e3b4ee627f);\n",
       "        \n",
       "    \n",
       "            var choropleth_9e43ebd8b34ee5e15655b8800091cc1a = L.featureGroup(\n",
       "                {}\n",
       "            );\n",
       "        \n",
       "    \n",
       "        function geo_json_a8c0d540eed7d14e4abf61103db47ac0_styler(feature) {\n",
       "            switch(feature.properties.place_id) {\n",
       "                default:\n",
       "                    return {&quot;color&quot;: &quot;black&quot;, &quot;fillColor&quot;: &quot;blue&quot;, &quot;fillOpacity&quot;: 0.7, &quot;opacity&quot;: 0.2, &quot;weight&quot;: 1};\n",
       "            }\n",
       "        }\n",
       "\n",
       "        function geo_json_a8c0d540eed7d14e4abf61103db47ac0_onEachFeature(feature, layer) {\n",
       "            layer.on({\n",
       "            });\n",
       "        };\n",
       "        var geo_json_a8c0d540eed7d14e4abf61103db47ac0 = L.geoJson(null, {\n",
       "                onEachFeature: geo_json_a8c0d540eed7d14e4abf61103db47ac0_onEachFeature,\n",
       "            \n",
       "                style: geo_json_a8c0d540eed7d14e4abf61103db47ac0_styler,\n",
       "        });\n",
       "\n",
       "        function geo_json_a8c0d540eed7d14e4abf61103db47ac0_add (data) {\n",
       "            geo_json_a8c0d540eed7d14e4abf61103db47ac0\n",
       "                .addData(data);\n",
       "        }\n",
       "            geo_json_a8c0d540eed7d14e4abf61103db47ac0_add({&quot;features&quot;: [{&quot;bbox&quot;: [74.1266029, 32.0298111, 74.2812075, 32.2445605], &quot;geometry&quot;: {&quot;coordinates&quot;: [74.1933745, 32.1525312], &quot;type&quot;: &quot;Point&quot;}, &quot;properties&quot;: {&quot;addresstype&quot;: &quot;subdistrict&quot;, &quot;category&quot;: &quot;boundary&quot;, &quot;display_name&quot;: &quot;\\u062a\\u062d\\u0635\\u06cc\\u0644 \\u06af\\u0648\\u062c\\u0631\\u0627\\u0646\\u0648\\u0627\\u0644\\u06c1 \\u0634\\u06c1\\u0631, \\u0636\\u0644\\u0639 \\u06af\\u0648\\u062c\\u0631\\u0627\\u0646\\u0648\\u0627\\u0644\\u06c1, \\u06af\\u0648\\u062c\\u0631\\u0627\\u0646\\u0648\\u0627\\u0644\\u06c1 \\u0688\\u0648\\u06cc\\u0698\\u0646, \\u067e\\u0646\\u062c\\u0627\\u0628, \\u067e\\u0627\\u06a9\\u0633\\u062a\\u0627\\u0646&quot;, &quot;importance&quot;: 0.46335633412572613, &quot;name&quot;: &quot;\\u062a\\u062d\\u0635\\u06cc\\u0644 \\u06af\\u0648\\u062c\\u0631\\u0627\\u0646\\u0648\\u0627\\u0644\\u06c1 \\u0634\\u06c1\\u0631&quot;, &quot;osm_id&quot;: 16108369, &quot;osm_type&quot;: &quot;relation&quot;, &quot;place_id&quot;: 367904499, &quot;place_rank&quot;: 14, &quot;type&quot;: &quot;administrative&quot;}, &quot;type&quot;: &quot;Feature&quot;}, {&quot;bbox&quot;: [74.5264404, 32.4068459, 74.5664404, 32.4468459], &quot;geometry&quot;: {&quot;coordinates&quot;: [74.5464404, 32.4268459], &quot;type&quot;: &quot;Point&quot;}, &quot;properties&quot;: {&quot;addresstype&quot;: &quot;village&quot;, &quot;category&quot;: &quot;place&quot;, &quot;display_name&quot;: &quot;\\u06af\\u0648\\u062c\\u0631\\u0627\\u0646\\u0648\\u0627\\u0644\\u06c1, \\u062a\\u062d\\u0635\\u06cc\\u0644 \\u0633\\u06cc\\u0627\\u0644\\u06a9\\u0648\\u0679, \\u0636\\u0644\\u0639 \\u0633\\u06cc\\u0627\\u0644\\u06a9\\u0648\\u0679, \\u06af\\u0648\\u062c\\u0631\\u0627\\u0646\\u0648\\u0627\\u0644\\u06c1 \\u0688\\u0648\\u06cc\\u0698\\u0646, \\u067e\\u0646\\u062c\\u0627\\u0628, 51310, \\u067e\\u0627\\u06a9\\u0633\\u062a\\u0627\\u0646&quot;, &quot;importance&quot;: 0.27501, &quot;name&quot;: &quot;\\u06af\\u0648\\u062c\\u0631\\u0627\\u0646\\u0648\\u0627\\u0644\\u06c1&quot;, &quot;osm_id&quot;: 8878100768, &quot;osm_type&quot;: &quot;node&quot;, &quot;place_id&quot;: 220423274, &quot;place_rank&quot;: 19, &quot;type&quot;: &quot;village&quot;}, &quot;type&quot;: &quot;Feature&quot;}], &quot;licence&quot;: &quot;Data \\u00a9 OpenStreetMap contributors, ODbL 1.0. http://osm.org/copyright&quot;, &quot;type&quot;: &quot;FeatureCollection&quot;});\n",
       "\n",
       "        \n",
       "    \n",
       "            geo_json_a8c0d540eed7d14e4abf61103db47ac0.addTo(choropleth_9e43ebd8b34ee5e15655b8800091cc1a);\n",
       "        \n",
       "    \n",
       "            choropleth_9e43ebd8b34ee5e15655b8800091cc1a.addTo(map_04813d3d754f5c7ae57db6e3b4ee627f);\n",
       "        \n",
       "    \n",
       "            var choropleth_d21a1cbf3fc38a524606b73eef2a431a = L.featureGroup(\n",
       "                {}\n",
       "            );\n",
       "        \n",
       "    \n",
       "        function geo_json_c0870a8d2feafa1694c4b03918ff1099_styler(feature) {\n",
       "            switch(feature.properties.place_id) {\n",
       "                default:\n",
       "                    return {&quot;color&quot;: &quot;black&quot;, &quot;fillColor&quot;: &quot;blue&quot;, &quot;fillOpacity&quot;: 0.7, &quot;opacity&quot;: 0.2, &quot;weight&quot;: 1};\n",
       "            }\n",
       "        }\n",
       "\n",
       "        function geo_json_c0870a8d2feafa1694c4b03918ff1099_onEachFeature(feature, layer) {\n",
       "            layer.on({\n",
       "            });\n",
       "        };\n",
       "        var geo_json_c0870a8d2feafa1694c4b03918ff1099 = L.geoJson(null, {\n",
       "                onEachFeature: geo_json_c0870a8d2feafa1694c4b03918ff1099_onEachFeature,\n",
       "            \n",
       "                style: geo_json_c0870a8d2feafa1694c4b03918ff1099_styler,\n",
       "        });\n",
       "\n",
       "        function geo_json_c0870a8d2feafa1694c4b03918ff1099_add (data) {\n",
       "            geo_json_c0870a8d2feafa1694c4b03918ff1099\n",
       "                .addData(data);\n",
       "        }\n",
       "            geo_json_c0870a8d2feafa1694c4b03918ff1099_add({&quot;features&quot;: [{&quot;bbox&quot;: [74.0353632, 32.4925875, 74.1403448, 32.6557799], &quot;geometry&quot;: {&quot;coordinates&quot;: [74.071481, 32.5686782], &quot;type&quot;: &quot;Point&quot;}, &quot;properties&quot;: {&quot;addresstype&quot;: &quot;city&quot;, &quot;category&quot;: &quot;place&quot;, &quot;display_name&quot;: &quot;\\u06af\\u062c\\u0631\\u0627\\u062a, \\u062a\\u062d\\u0635\\u06cc\\u0644 \\u06af\\u062c\\u0631\\u0627\\u062a, \\u0636\\u0644\\u0639 \\u06af\\u062c\\u0631\\u0627\\u062a, \\u06af\\u062c\\u0631\\u0627\\u062a \\u0688\\u0648\\u06cc\\u0698\\u0646, \\u067e\\u0646\\u062c\\u0627\\u0628, \\u067e\\u0627\\u06a9\\u0633\\u062a\\u0627\\u0646&quot;, &quot;importance&quot;: 0.4181423672099549, &quot;name&quot;: &quot;\\u06af\\u062c\\u0631\\u0627\\u062a&quot;, &quot;osm_id&quot;: 452820167, &quot;osm_type&quot;: &quot;way&quot;, &quot;place_id&quot;: 219811784, &quot;place_rank&quot;: 16, &quot;type&quot;: &quot;city&quot;}, &quot;type&quot;: &quot;Feature&quot;}, {&quot;bbox&quot;: [75.2339088, 32.277226, 75.2739088, 32.317226], &quot;geometry&quot;: {&quot;coordinates&quot;: [75.2539088, 32.297226], &quot;type&quot;: &quot;Point&quot;}, &quot;properties&quot;: {&quot;addresstype&quot;: &quot;village&quot;, &quot;category&quot;: &quot;place&quot;, &quot;display_name&quot;: &quot;\\u06af\\u062c\\u0631\\u0627\\u062a, \\u062a\\u062d\\u0635\\u06cc\\u0644 \\u0634\\u06a9\\u0631\\u06af\\u0691\\u06be, \\u0636\\u0644\\u0639 \\u0646\\u0627\\u0631\\u0648\\u0648\\u0627\\u0644, \\u06af\\u0648\\u062c\\u0631\\u0627\\u0646\\u0648\\u0627\\u0644\\u06c1 \\u0688\\u0648\\u06cc\\u0698\\u0646, \\u067e\\u0646\\u062c\\u0627\\u0628, \\u067e\\u0627\\u06a9\\u0633\\u062a\\u0627\\u0646&quot;, &quot;importance&quot;: 0.27501, &quot;name&quot;: &quot;\\u06af\\u062c\\u0631\\u0627\\u062a&quot;, &quot;osm_id&quot;: 8920768346, &quot;osm_type&quot;: &quot;node&quot;, &quot;place_id&quot;: 220994747, &quot;place_rank&quot;: 19, &quot;type&quot;: &quot;village&quot;}, &quot;type&quot;: &quot;Feature&quot;}], &quot;licence&quot;: &quot;Data \\u00a9 OpenStreetMap contributors, ODbL 1.0. http://osm.org/copyright&quot;, &quot;type&quot;: &quot;FeatureCollection&quot;});\n",
       "\n",
       "        \n",
       "    \n",
       "            geo_json_c0870a8d2feafa1694c4b03918ff1099.addTo(choropleth_d21a1cbf3fc38a524606b73eef2a431a);\n",
       "        \n",
       "    \n",
       "            choropleth_d21a1cbf3fc38a524606b73eef2a431a.addTo(map_04813d3d754f5c7ae57db6e3b4ee627f);\n",
       "        \n",
       "    \n",
       "            var choropleth_1ad29632b1d910ffc5b5d1ff594d3963 = L.featureGroup(\n",
       "                {}\n",
       "            );\n",
       "        \n",
       "    \n",
       "        function geo_json_485a5904e0939530c17a8729594d1610_styler(feature) {\n",
       "            switch(feature.properties.place_id) {\n",
       "                default:\n",
       "                    return {&quot;color&quot;: &quot;black&quot;, &quot;fillColor&quot;: &quot;blue&quot;, &quot;fillOpacity&quot;: 0.7, &quot;opacity&quot;: 0.2, &quot;weight&quot;: 1};\n",
       "            }\n",
       "        }\n",
       "\n",
       "        function geo_json_485a5904e0939530c17a8729594d1610_onEachFeature(feature, layer) {\n",
       "            layer.on({\n",
       "            });\n",
       "        };\n",
       "        var geo_json_485a5904e0939530c17a8729594d1610 = L.geoJson(null, {\n",
       "                onEachFeature: geo_json_485a5904e0939530c17a8729594d1610_onEachFeature,\n",
       "            \n",
       "                style: geo_json_485a5904e0939530c17a8729594d1610_styler,\n",
       "        });\n",
       "\n",
       "        function geo_json_485a5904e0939530c17a8729594d1610_add (data) {\n",
       "            geo_json_485a5904e0939530c17a8729594d1610\n",
       "                .addData(data);\n",
       "        }\n",
       "            geo_json_485a5904e0939530c17a8729594d1610_add({&quot;features&quot;: [{&quot;bbox&quot;: [68.3305109, 25.3607042, 68.4277109, 25.4411614], &quot;geometry&quot;: {&quot;coordinates&quot;: [68.3714971, 25.3868287], &quot;type&quot;: &quot;Point&quot;}, &quot;properties&quot;: {&quot;addresstype&quot;: &quot;city&quot;, &quot;category&quot;: &quot;boundary&quot;, &quot;display_name&quot;: &quot;\\u062a\\u0639\\u0644\\u0642\\u06c1 \\u062d\\u06cc\\u062f\\u0631\\u0622\\u0628\\u0627\\u062f \\u0634\\u06c1\\u0631, \\u0636\\u0644\\u0639 \\u062d\\u06cc\\u062f\\u0631\\u0622\\u0628\\u0627\\u062f, \\u062d\\u06cc\\u062f\\u0631 \\u0622\\u0628\\u0627\\u062f \\u0688\\u0648\\u06cc\\u0698\\u0646, \\u0633\\u0646\\u062f\\u06be, 91000, \\u067e\\u0627\\u06a9\\u0633\\u062a\\u0627\\u0646&quot;, &quot;importance&quot;: 0.4632558191819374, &quot;name&quot;: &quot;\\u062a\\u0639\\u0644\\u0642\\u06c1 \\u062d\\u06cc\\u062f\\u0631\\u0622\\u0628\\u0627\\u062f \\u0634\\u06c1\\u0631&quot;, &quot;osm_id&quot;: 16362308, &quot;osm_type&quot;: &quot;relation&quot;, &quot;place_id&quot;: 368346593, &quot;place_rank&quot;: 14, &quot;type&quot;: &quot;administrative&quot;}, &quot;type&quot;: &quot;Feature&quot;}, {&quot;bbox&quot;: [68.3103163, 25.3434571, 68.4200933, 25.4711398], &quot;geometry&quot;: {&quot;coordinates&quot;: [68.36134563257718, 25.4075358], &quot;type&quot;: &quot;Point&quot;}, &quot;properties&quot;: {&quot;addresstype&quot;: &quot;city&quot;, &quot;category&quot;: &quot;place&quot;, &quot;display_name&quot;: &quot;\\u062d\\u06cc\\u062f\\u0631\\u0622\\u0628\\u0627\\u062f, \\u0636\\u0644\\u0639 \\u062d\\u06cc\\u062f\\u0631\\u0622\\u0628\\u0627\\u062f, \\u062d\\u06cc\\u062f\\u0631 \\u0622\\u0628\\u0627\\u062f \\u0688\\u0648\\u06cc\\u0698\\u0646, \\u0633\\u0646\\u062f\\u06be, \\u067e\\u0627\\u06a9\\u0633\\u062a\\u0627\\u0646&quot;, &quot;importance&quot;: 0.4632558191819374, &quot;name&quot;: &quot;\\u062d\\u06cc\\u062f\\u0631\\u0622\\u0628\\u0627\\u062f&quot;, &quot;osm_id&quot;: 14480894, &quot;osm_type&quot;: &quot;relation&quot;, &quot;place_id&quot;: 244120425, &quot;place_rank&quot;: 16, &quot;type&quot;: &quot;city&quot;}, &quot;type&quot;: &quot;Feature&quot;}], &quot;licence&quot;: &quot;Data \\u00a9 OpenStreetMap contributors, ODbL 1.0. http://osm.org/copyright&quot;, &quot;type&quot;: &quot;FeatureCollection&quot;});\n",
       "\n",
       "        \n",
       "    \n",
       "            geo_json_485a5904e0939530c17a8729594d1610.addTo(choropleth_1ad29632b1d910ffc5b5d1ff594d3963);\n",
       "        \n",
       "    \n",
       "            choropleth_1ad29632b1d910ffc5b5d1ff594d3963.addTo(map_04813d3d754f5c7ae57db6e3b4ee627f);\n",
       "        \n",
       "    \n",
       "            var choropleth_01f3b2900eabff008452cc9b1b2640d0 = L.featureGroup(\n",
       "                {}\n",
       "            );\n",
       "        \n",
       "    \n",
       "        function geo_json_f407cf518379bf13e9d31769de99f7b1_styler(feature) {\n",
       "            switch(feature.properties.place_id) {\n",
       "                default:\n",
       "                    return {&quot;color&quot;: &quot;black&quot;, &quot;fillColor&quot;: &quot;blue&quot;, &quot;fillOpacity&quot;: 0.7, &quot;opacity&quot;: 0.2, &quot;weight&quot;: 1};\n",
       "            }\n",
       "        }\n",
       "\n",
       "        function geo_json_f407cf518379bf13e9d31769de99f7b1_onEachFeature(feature, layer) {\n",
       "            layer.on({\n",
       "            });\n",
       "        };\n",
       "        var geo_json_f407cf518379bf13e9d31769de99f7b1 = L.geoJson(null, {\n",
       "                onEachFeature: geo_json_f407cf518379bf13e9d31769de99f7b1_onEachFeature,\n",
       "            \n",
       "                style: geo_json_f407cf518379bf13e9d31769de99f7b1_styler,\n",
       "        });\n",
       "\n",
       "        function geo_json_f407cf518379bf13e9d31769de99f7b1_add (data) {\n",
       "            geo_json_f407cf518379bf13e9d31769de99f7b1\n",
       "                .addData(data);\n",
       "        }\n",
       "            geo_json_f407cf518379bf13e9d31769de99f7b1_add({&quot;features&quot;: [{&quot;bbox&quot;: [71.3119683, 30.037838, 71.6319683, 30.357838], &quot;geometry&quot;: {&quot;coordinates&quot;: [71.4719683, 30.197838], &quot;type&quot;: &quot;Point&quot;}, &quot;properties&quot;: {&quot;addresstype&quot;: &quot;city&quot;, &quot;category&quot;: &quot;place&quot;, &quot;display_name&quot;: &quot;\\u0645\\u0644\\u062a\\u0627\\u0646, \\u062a\\u062d\\u0635\\u06cc\\u0644 \\u0645\\u0644\\u062a\\u0627\\u0646 \\u0634\\u06c1\\u0631, \\u0636\\u0644\\u0639 \\u0645\\u0644\\u062a\\u0627\\u0646, \\u0645\\u0644\\u062a\\u0627\\u0646 \\u0688\\u0648\\u06cc\\u0698\\u0646, \\u067e\\u0646\\u062c\\u0627\\u0628, 66000, \\u067e\\u0627\\u06a9\\u0633\\u062a\\u0627\\u0646&quot;, &quot;importance&quot;: 0.5145112285124082, &quot;name&quot;: &quot;\\u0645\\u0644\\u062a\\u0627\\u0646&quot;, &quot;osm_id&quot;: 307617596, &quot;osm_type&quot;: &quot;node&quot;, &quot;place_id&quot;: 243243246, &quot;place_rank&quot;: 16, &quot;type&quot;: &quot;city&quot;}, &quot;type&quot;: &quot;Feature&quot;}], &quot;licence&quot;: &quot;Data \\u00a9 OpenStreetMap contributors, ODbL 1.0. http://osm.org/copyright&quot;, &quot;type&quot;: &quot;FeatureCollection&quot;});\n",
       "\n",
       "        \n",
       "    \n",
       "            geo_json_f407cf518379bf13e9d31769de99f7b1.addTo(choropleth_01f3b2900eabff008452cc9b1b2640d0);\n",
       "        \n",
       "    \n",
       "            choropleth_01f3b2900eabff008452cc9b1b2640d0.addTo(map_04813d3d754f5c7ae57db6e3b4ee627f);\n",
       "        \n",
       "    \n",
       "            var choropleth_54e5675bd5a2b8f30dbbdfc184d5ca8a = L.featureGroup(\n",
       "                {}\n",
       "            );\n",
       "        \n",
       "    \n",
       "        function geo_json_c6aa8ab4602b56fe70fedc10047997b8_styler(feature) {\n",
       "            switch(feature.properties.place_id) {\n",
       "                default:\n",
       "                    return {&quot;color&quot;: &quot;black&quot;, &quot;fillColor&quot;: &quot;blue&quot;, &quot;fillOpacity&quot;: 0.7, &quot;opacity&quot;: 0.2, &quot;weight&quot;: 1};\n",
       "            }\n",
       "        }\n",
       "\n",
       "        function geo_json_c6aa8ab4602b56fe70fedc10047997b8_onEachFeature(feature, layer) {\n",
       "            layer.on({\n",
       "            });\n",
       "        };\n",
       "        var geo_json_c6aa8ab4602b56fe70fedc10047997b8 = L.geoJson(null, {\n",
       "                onEachFeature: geo_json_c6aa8ab4602b56fe70fedc10047997b8_onEachFeature,\n",
       "            \n",
       "                style: geo_json_c6aa8ab4602b56fe70fedc10047997b8_styler,\n",
       "        });\n",
       "\n",
       "        function geo_json_c6aa8ab4602b56fe70fedc10047997b8_add (data) {\n",
       "            geo_json_c6aa8ab4602b56fe70fedc10047997b8\n",
       "                .addData(data);\n",
       "        }\n",
       "            geo_json_c6aa8ab4602b56fe70fedc10047997b8_add({&quot;features&quot;: [{&quot;bbox&quot;: [66.8273053, 30.0080352, 67.2434482, 30.2534296], &quot;geometry&quot;: {&quot;coordinates&quot;: [67.0172447, 30.1957677], &quot;type&quot;: &quot;Point&quot;}, &quot;properties&quot;: {&quot;addresstype&quot;: &quot;city&quot;, &quot;category&quot;: &quot;boundary&quot;, &quot;display_name&quot;: &quot;\\u062a\\u062d\\u0635\\u06cc\\u0644 \\u06a9\\u0648\\u0626\\u0679\\u06c1 \\u0634\\u06c1\\u0631, \\u0636\\u0644\\u0639 \\u06a9\\u0648\\u0626\\u0679\\u06c1, \\u06a9\\u0648\\u0626\\u0679\\u06c1 \\u0688\\u0648\\u06cc\\u0698\\u0646, \\u0628\\u0644\\u0648\\u0686\\u0633\\u062a\\u0627\\u0646, \\u067e\\u0627\\u06a9\\u0633\\u062a\\u0627\\u0646&quot;, &quot;importance&quot;: 0.5142918698775764, &quot;name&quot;: &quot;\\u062a\\u062d\\u0635\\u06cc\\u0644 \\u06a9\\u0648\\u0626\\u0679\\u06c1 \\u0634\\u06c1\\u0631&quot;, &quot;osm_id&quot;: 16636824, &quot;osm_type&quot;: &quot;relation&quot;, &quot;place_id&quot;: 372332660, &quot;place_rank&quot;: 14, &quot;type&quot;: &quot;administrative&quot;}, &quot;type&quot;: &quot;Feature&quot;}], &quot;licence&quot;: &quot;Data \\u00a9 OpenStreetMap contributors, ODbL 1.0. http://osm.org/copyright&quot;, &quot;type&quot;: &quot;FeatureCollection&quot;});\n",
       "\n",
       "        \n",
       "    \n",
       "            geo_json_c6aa8ab4602b56fe70fedc10047997b8.addTo(choropleth_54e5675bd5a2b8f30dbbdfc184d5ca8a);\n",
       "        \n",
       "    \n",
       "            choropleth_54e5675bd5a2b8f30dbbdfc184d5ca8a.addTo(map_04813d3d754f5c7ae57db6e3b4ee627f);\n",
       "        \n",
       "    \n",
       "            var choropleth_5bf2b294e539c2244cf1cc2661470ae4 = L.featureGroup(\n",
       "                {}\n",
       "            );\n",
       "        \n",
       "    \n",
       "        function geo_json_5c43a548501397ec6f6151944c2a3d13_styler(feature) {\n",
       "            switch(feature.properties.place_id) {\n",
       "                default:\n",
       "                    return {&quot;color&quot;: &quot;black&quot;, &quot;fillColor&quot;: &quot;blue&quot;, &quot;fillOpacity&quot;: 0.7, &quot;opacity&quot;: 0.2, &quot;weight&quot;: 1};\n",
       "            }\n",
       "        }\n",
       "\n",
       "        function geo_json_5c43a548501397ec6f6151944c2a3d13_onEachFeature(feature, layer) {\n",
       "            layer.on({\n",
       "            });\n",
       "        };\n",
       "        var geo_json_5c43a548501397ec6f6151944c2a3d13 = L.geoJson(null, {\n",
       "                onEachFeature: geo_json_5c43a548501397ec6f6151944c2a3d13_onEachFeature,\n",
       "            \n",
       "                style: geo_json_5c43a548501397ec6f6151944c2a3d13_styler,\n",
       "        });\n",
       "\n",
       "        function geo_json_5c43a548501397ec6f6151944c2a3d13_add (data) {\n",
       "            geo_json_5c43a548501397ec6f6151944c2a3d13\n",
       "                .addData(data);\n",
       "        }\n",
       "            geo_json_5c43a548501397ec6f6151944c2a3d13_add({&quot;features&quot;: [{&quot;bbox&quot;: [72.9140747, 33.4273253, 73.1838357, 33.6646317], &quot;geometry&quot;: {&quot;coordinates&quot;: [73.02145076180204, 33.546312400000005], &quot;type&quot;: &quot;Point&quot;}, &quot;properties&quot;: {&quot;addresstype&quot;: &quot;protected_area&quot;, &quot;category&quot;: &quot;boundary&quot;, &quot;display_name&quot;: &quot;\\u0631\\u0627\\u0648\\u0644\\u067e\\u0646\\u0688\\u06cc, \\u0631\\u0627\\u0648\\u0644\\u067e\\u0646\\u0688\\u06cc \\u0688\\u0648\\u06cc\\u0698\\u0646, \\u067e\\u0646\\u062c\\u0627\\u0628, \\u067e\\u0627\\u06a9\\u0633\\u062a\\u0627\\u0646&quot;, &quot;importance&quot;: 0.06667666666666666, &quot;name&quot;: &quot;\\u0631\\u0627\\u0648\\u0644\\u067e\\u0646\\u0688\\u06cc&quot;, &quot;osm_id&quot;: 8295216, &quot;osm_type&quot;: &quot;relation&quot;, &quot;place_id&quot;: 221994052, &quot;place_rank&quot;: 25, &quot;type&quot;: &quot;protected_area&quot;}, &quot;type&quot;: &quot;Feature&quot;}, {&quot;bbox&quot;: [73.0303657, 33.6011845, 73.0387257, 33.6084845], &quot;geometry&quot;: {&quot;coordinates&quot;: [73.03464099828489, 33.60502525], &quot;type&quot;: &quot;Point&quot;}, &quot;properties&quot;: {&quot;addresstype&quot;: &quot;park&quot;, &quot;category&quot;: &quot;leisure&quot;, &quot;display_name&quot;: &quot;Rawalpindi Race Course, \\u0648\\u06cc\\u0633\\u0679\\u0631\\u06cc\\u062c, \\u062a\\u062d\\u0635\\u06cc\\u0644 \\u0631\\u0627\\u0648\\u0644\\u067e\\u0646\\u0688\\u06cc \\u0686\\u06be\\u0627\\u0624\\u0646\\u06cc, \\u0631\\u0627\\u0648\\u0644\\u067e\\u0646\\u0688\\u06cc \\u0688\\u0648\\u06cc\\u0698\\u0646, \\u067e\\u0646\\u062c\\u0627\\u0628, \\u067e\\u0627\\u06a9\\u0633\\u062a\\u0627\\u0646&quot;, &quot;importance&quot;: 0.08000999999999997, &quot;name&quot;: &quot;Rawalpindi Race Course&quot;, &quot;osm_id&quot;: 13049975, &quot;osm_type&quot;: &quot;way&quot;, &quot;place_id&quot;: 220549834, &quot;place_rank&quot;: 24, &quot;type&quot;: &quot;park&quot;}, &quot;type&quot;: &quot;Feature&quot;}, {&quot;bbox&quot;: [72.99995, 33.166617, 73.00005, 33.166717], &quot;geometry&quot;: {&quot;coordinates&quot;: [73.0, 33.166667], &quot;type&quot;: &quot;Point&quot;}, &quot;properties&quot;: {&quot;addresstype&quot;: &quot;historical_division&quot;, &quot;category&quot;: &quot;place&quot;, &quot;display_name&quot;: &quot;R\\u0101walpindi Division, \\u062a\\u062d\\u0635\\u06cc\\u0644 \\u06af\\u0648\\u062c\\u0631 \\u062e\\u0627\\u0646, \\u0631\\u0627\\u0648\\u0644\\u067e\\u0646\\u0688\\u06cc \\u0688\\u0648\\u06cc\\u0698\\u0646, \\u067e\\u0646\\u062c\\u0627\\u0628, \\u067e\\u0627\\u06a9\\u0633\\u062a\\u0627\\u0646&quot;, &quot;importance&quot;: 0.10667666666666664, &quot;name&quot;: &quot;R\\u0101walpindi Division&quot;, &quot;osm_id&quot;: 316440993, &quot;osm_type&quot;: &quot;node&quot;, &quot;place_id&quot;: 220225880, &quot;place_rank&quot;: 22, &quot;type&quot;: &quot;historical_division&quot;}, &quot;type&quot;: &quot;Feature&quot;}, {&quot;bbox&quot;: [72.6312375, 33.157155, 73.309712, 33.6231429], &quot;geometry&quot;: {&quot;coordinates&quot;: [72.96071956811485, 33.3901519], &quot;type&quot;: &quot;Point&quot;}, &quot;properties&quot;: {&quot;addresstype&quot;: &quot;municipality&quot;, &quot;category&quot;: &quot;boundary&quot;, &quot;display_name&quot;: &quot;\\u062a\\u062d\\u0635\\u06cc\\u0644 \\u0631\\u0627\\u0648\\u0644\\u067e\\u0646\\u0688\\u06cc \\u0635\\u062f\\u0631, \\u0631\\u0627\\u0648\\u0644\\u067e\\u0646\\u0688\\u06cc \\u0688\\u0648\\u06cc\\u0698\\u0646, \\u067e\\u0646\\u062c\\u0627\\u0628, \\u067e\\u0627\\u06a9\\u0633\\u062a\\u0627\\u0646&quot;, &quot;importance&quot;: 0.2133433333333333, &quot;name&quot;: &quot;\\u062a\\u062d\\u0635\\u06cc\\u0644 \\u0631\\u0627\\u0648\\u0644\\u067e\\u0646\\u0688\\u06cc \\u0635\\u062f\\u0631&quot;, &quot;osm_id&quot;: 8160842, &quot;osm_type&quot;: &quot;relation&quot;, &quot;place_id&quot;: 367973675, &quot;place_rank&quot;: 14, &quot;type&quot;: &quot;administrative&quot;}, &quot;type&quot;: &quot;Feature&quot;}, {&quot;bbox&quot;: [72.9140747, 33.4273253, 73.1838357, 33.6284097], &quot;geometry&quot;: {&quot;coordinates&quot;: [73.0479912, 33.5882421], &quot;type&quot;: &quot;Point&quot;}, &quot;properties&quot;: {&quot;addresstype&quot;: &quot;town&quot;, &quot;category&quot;: &quot;boundary&quot;, &quot;display_name&quot;: &quot;\\u062a\\u062d\\u0635\\u06cc\\u0644 \\u0631\\u0627\\u0648\\u0644\\u067e\\u0646\\u0688\\u06cc \\u0686\\u06be\\u0627\\u0624\\u0646\\u06cc, \\u0631\\u0627\\u0648\\u0644\\u067e\\u0646\\u0688\\u06cc \\u0688\\u0648\\u06cc\\u0698\\u0646, \\u067e\\u0646\\u062c\\u0627\\u0628, \\u067e\\u0627\\u06a9\\u0633\\u062a\\u0627\\u0646&quot;, &quot;importance&quot;: 0.2133433333333333, &quot;name&quot;: &quot;\\u062a\\u062d\\u0635\\u06cc\\u0644 \\u0631\\u0627\\u0648\\u0644\\u067e\\u0646\\u0688\\u06cc \\u0686\\u06be\\u0627\\u0624\\u0646\\u06cc&quot;, &quot;osm_id&quot;: 8295062, &quot;osm_type&quot;: &quot;relation&quot;, &quot;place_id&quot;: 220966210, &quot;place_rank&quot;: 14, &quot;type&quot;: &quot;administrative&quot;}, &quot;type&quot;: &quot;Feature&quot;}, {&quot;bbox&quot;: [73.0447349, 33.5824218, 73.054013, 33.5904368], &quot;geometry&quot;: {&quot;coordinates&quot;: [73.0493735567963, 33.58642735], &quot;type&quot;: &quot;Point&quot;}, &quot;properties&quot;: {&quot;addresstype&quot;: &quot;military&quot;, &quot;category&quot;: &quot;landuse&quot;, &quot;display_name&quot;: &quot;\\u062c\\u0646\\u0631\\u0644 \\u06c1\\u06cc\\u0688 \\u06a9\\u0648\\u0627\\u0631\\u0679\\u0631 \\u0631\\u0627\\u0648\\u0644\\u067e\\u0646\\u0688\\u06cc, \\u06a9\\u0627\\u0645\\u0631\\u0627\\u0646 \\u0686\\u0648\\u06a9, \\u0635\\u062f\\u0631, \\u062a\\u062d\\u0635\\u06cc\\u0644 \\u0631\\u0627\\u0648\\u0644\\u067e\\u0646\\u0688\\u06cc \\u0686\\u06be\\u0627\\u0624\\u0646\\u06cc, \\u0631\\u0627\\u0648\\u0644\\u067e\\u0646\\u0688\\u06cc \\u0688\\u0648\\u06cc\\u0698\\u0646, \\u067e\\u0646\\u062c\\u0627\\u0628, \\u067e\\u0627\\u06a9\\u0633\\u062a\\u0627\\u0646&quot;, &quot;importance&quot;: 0.10667666666666664, &quot;name&quot;: &quot;\\u062c\\u0646\\u0631\\u0644 \\u06c1\\u06cc\\u0688 \\u06a9\\u0648\\u0627\\u0631\\u0679\\u0631 \\u0631\\u0627\\u0648\\u0644\\u067e\\u0646\\u0688\\u06cc&quot;, &quot;osm_id&quot;: 739621408, &quot;osm_type&quot;: &quot;way&quot;, &quot;place_id&quot;: 220757066, &quot;place_rank&quot;: 22, &quot;type&quot;: &quot;military&quot;}, &quot;type&quot;: &quot;Feature&quot;}, {&quot;bbox&quot;: [73.0151009, 33.5981662, 73.1289586, 33.6646317], &quot;geometry&quot;: {&quot;coordinates&quot;: [73.06752822055776, 33.63108965], &quot;type&quot;: &quot;Point&quot;}, &quot;properties&quot;: {&quot;addresstype&quot;: &quot;municipality&quot;, &quot;category&quot;: &quot;boundary&quot;, &quot;display_name&quot;: &quot;\\u062a\\u062d\\u0635\\u06cc\\u0644 \\u0631\\u0627\\u0648\\u0644\\u067e\\u0646\\u0688\\u06cc \\u0634\\u06c1\\u0631, \\u0631\\u0627\\u0648\\u0644\\u067e\\u0646\\u0688\\u06cc \\u0688\\u0648\\u06cc\\u0698\\u0646, \\u067e\\u0646\\u062c\\u0627\\u0628, \\u067e\\u0627\\u06a9\\u0633\\u062a\\u0627\\u0646&quot;, &quot;importance&quot;: 0.08544064771236405, &quot;name&quot;: &quot;\\u062a\\u062d\\u0635\\u06cc\\u0644 \\u0631\\u0627\\u0648\\u0644\\u067e\\u0646\\u0688\\u06cc \\u0634\\u06c1\\u0631&quot;, &quot;osm_id&quot;: 8159645, &quot;osm_type&quot;: &quot;relation&quot;, &quot;place_id&quot;: 367973673, &quot;place_rank&quot;: 14, &quot;type&quot;: &quot;administrative&quot;}, &quot;type&quot;: &quot;Feature&quot;}], &quot;licence&quot;: &quot;Data \\u00a9 OpenStreetMap contributors, ODbL 1.0. http://osm.org/copyright&quot;, &quot;type&quot;: &quot;FeatureCollection&quot;});\n",
       "\n",
       "        \n",
       "    \n",
       "            geo_json_5c43a548501397ec6f6151944c2a3d13.addTo(choropleth_5bf2b294e539c2244cf1cc2661470ae4);\n",
       "        \n",
       "    \n",
       "            choropleth_5bf2b294e539c2244cf1cc2661470ae4.addTo(map_04813d3d754f5c7ae57db6e3b4ee627f);\n",
       "        \n",
       "    \n",
       "            var choropleth_ea3614bf01640ddd00c589678b5aad39 = L.featureGroup(\n",
       "                {}\n",
       "            );\n",
       "        \n",
       "    \n",
       "        function geo_json_af7842cdb28d1b4a2e717d08757c0c96_styler(feature) {\n",
       "            switch(feature.properties.place_id) {\n",
       "                default:\n",
       "                    return {&quot;color&quot;: &quot;black&quot;, &quot;fillColor&quot;: &quot;blue&quot;, &quot;fillOpacity&quot;: 0.7, &quot;opacity&quot;: 0.2, &quot;weight&quot;: 1};\n",
       "            }\n",
       "        }\n",
       "\n",
       "        function geo_json_af7842cdb28d1b4a2e717d08757c0c96_onEachFeature(feature, layer) {\n",
       "            layer.on({\n",
       "            });\n",
       "        };\n",
       "        var geo_json_af7842cdb28d1b4a2e717d08757c0c96 = L.geoJson(null, {\n",
       "                onEachFeature: geo_json_af7842cdb28d1b4a2e717d08757c0c96_onEachFeature,\n",
       "            \n",
       "                style: geo_json_af7842cdb28d1b4a2e717d08757c0c96_styler,\n",
       "        });\n",
       "\n",
       "        function geo_json_af7842cdb28d1b4a2e717d08757c0c96_add (data) {\n",
       "            geo_json_af7842cdb28d1b4a2e717d08757c0c96\n",
       "                .addData(data);\n",
       "        }\n",
       "            geo_json_af7842cdb28d1b4a2e717d08757c0c96_add({&quot;features&quot;: [{&quot;bbox&quot;: [72.6395417, 32.0448809, 72.7442851, 32.1261879], &quot;geometry&quot;: {&quot;coordinates&quot;: [72.67917434961666, 32.08535155], &quot;type&quot;: &quot;Point&quot;}, &quot;properties&quot;: {&quot;addresstype&quot;: &quot;city&quot;, &quot;category&quot;: &quot;boundary&quot;, &quot;display_name&quot;: &quot;Sargodha, \\u062a\\u062d\\u0635\\u06cc\\u0644 \\u0633\\u0631\\u06af\\u0648\\u062f\\u06be\\u0627, \\u0636\\u0644\\u0639 \\u0633\\u0631\\u06af\\u0648\\u062f\\u06be\\u0627, \\u067e\\u0646\\u062c\\u0627\\u0628, \\u067e\\u0627\\u06a9\\u0633\\u062a\\u0627\\u0646&quot;, &quot;importance&quot;: 0.35000999999999993, &quot;name&quot;: &quot;Sargodha&quot;, &quot;osm_id&quot;: 1138025958, &quot;osm_type&quot;: &quot;way&quot;, &quot;place_id&quot;: 220566830, &quot;place_rank&quot;: 16, &quot;type&quot;: &quot;administrative&quot;}, &quot;type&quot;: &quot;Feature&quot;}, {&quot;bbox&quot;: [72.5176943, 31.9289657, 72.8376943, 32.2489657], &quot;geometry&quot;: {&quot;coordinates&quot;: [72.6776943, 32.0889657], &quot;type&quot;: &quot;Point&quot;}, &quot;properties&quot;: {&quot;addresstype&quot;: &quot;city&quot;, &quot;category&quot;: &quot;place&quot;, &quot;display_name&quot;: &quot;\\u0633\\u0631\\u06af\\u0648\\u062f\\u06be\\u0627, \\u062a\\u062d\\u0635\\u06cc\\u0644 \\u0633\\u0631\\u06af\\u0648\\u062f\\u06be\\u0627, \\u0636\\u0644\\u0639 \\u0633\\u0631\\u06af\\u0648\\u062f\\u06be\\u0627, \\u067e\\u0646\\u062c\\u0627\\u0628, 40100, \\u067e\\u0627\\u06a9\\u0633\\u062a\\u0627\\u0646&quot;, &quot;importance&quot;: 0.44210101824834047, &quot;name&quot;: &quot;\\u0633\\u0631\\u06af\\u0648\\u062f\\u06be\\u0627&quot;, &quot;osm_id&quot;: 244030016, &quot;osm_type&quot;: &quot;node&quot;, &quot;place_id&quot;: 220771826, &quot;place_rank&quot;: 16, &quot;type&quot;: &quot;city&quot;}, &quot;type&quot;: &quot;Feature&quot;}], &quot;licence&quot;: &quot;Data \\u00a9 OpenStreetMap contributors, ODbL 1.0. http://osm.org/copyright&quot;, &quot;type&quot;: &quot;FeatureCollection&quot;});\n",
       "\n",
       "        \n",
       "    \n",
       "            geo_json_af7842cdb28d1b4a2e717d08757c0c96.addTo(choropleth_ea3614bf01640ddd00c589678b5aad39);\n",
       "        \n",
       "    \n",
       "            choropleth_ea3614bf01640ddd00c589678b5aad39.addTo(map_04813d3d754f5c7ae57db6e3b4ee627f);\n",
       "        \n",
       "    \n",
       "            var choropleth_af457e12e1805612bd36fcc9b752544a = L.featureGroup(\n",
       "                {}\n",
       "            );\n",
       "        \n",
       "    \n",
       "        function geo_json_01e3da632a735bec52b6618a2519f0e5_styler(feature) {\n",
       "            switch(feature.properties.place_id) {\n",
       "                default:\n",
       "                    return {&quot;color&quot;: &quot;black&quot;, &quot;fillColor&quot;: &quot;blue&quot;, &quot;fillOpacity&quot;: 0.7, &quot;opacity&quot;: 0.2, &quot;weight&quot;: 1};\n",
       "            }\n",
       "        }\n",
       "\n",
       "        function geo_json_01e3da632a735bec52b6618a2519f0e5_onEachFeature(feature, layer) {\n",
       "            layer.on({\n",
       "            });\n",
       "        };\n",
       "        var geo_json_01e3da632a735bec52b6618a2519f0e5 = L.geoJson(null, {\n",
       "                onEachFeature: geo_json_01e3da632a735bec52b6618a2519f0e5_onEachFeature,\n",
       "            \n",
       "                style: geo_json_01e3da632a735bec52b6618a2519f0e5_styler,\n",
       "        });\n",
       "\n",
       "        function geo_json_01e3da632a735bec52b6618a2519f0e5_add (data) {\n",
       "            geo_json_01e3da632a735bec52b6618a2519f0e5\n",
       "                .addData(data);\n",
       "        }\n",
       "            geo_json_01e3da632a735bec52b6618a2519f0e5_add({&quot;features&quot;: [{&quot;bbox&quot;: [74.3811575, 32.3335378, 74.7011575, 32.6535378], &quot;geometry&quot;: {&quot;coordinates&quot;: [74.5411575, 32.4935378], &quot;type&quot;: &quot;Point&quot;}, &quot;properties&quot;: {&quot;addresstype&quot;: &quot;city&quot;, &quot;category&quot;: &quot;place&quot;, &quot;display_name&quot;: &quot;\\u0633\\u06cc\\u0627\\u0644\\u06a9\\u0648\\u0679, \\u062a\\u062d\\u0635\\u06cc\\u0644 \\u0633\\u06cc\\u0627\\u0644\\u06a9\\u0648\\u0679, \\u0636\\u0644\\u0639 \\u0633\\u06cc\\u0627\\u0644\\u06a9\\u0648\\u0679, \\u06af\\u0648\\u062c\\u0631\\u0627\\u0646\\u0648\\u0627\\u0644\\u06c1 \\u0688\\u0648\\u06cc\\u0698\\u0646, \\u067e\\u0646\\u062c\\u0627\\u0628, 51430, \\u067e\\u0627\\u06a9\\u0633\\u062a\\u0627\\u0646&quot;, &quot;importance&quot;: 0.4710861911257393, &quot;name&quot;: &quot;\\u0633\\u06cc\\u0627\\u0644\\u06a9\\u0648\\u0679&quot;, &quot;osm_id&quot;: 2408222266, &quot;osm_type&quot;: &quot;node&quot;, &quot;place_id&quot;: 221273233, &quot;place_rank&quot;: 16, &quot;type&quot;: &quot;city&quot;}, &quot;type&quot;: &quot;Feature&quot;}], &quot;licence&quot;: &quot;Data \\u00a9 OpenStreetMap contributors, ODbL 1.0. http://osm.org/copyright&quot;, &quot;type&quot;: &quot;FeatureCollection&quot;});\n",
       "\n",
       "        \n",
       "    \n",
       "            geo_json_01e3da632a735bec52b6618a2519f0e5.addTo(choropleth_af457e12e1805612bd36fcc9b752544a);\n",
       "        \n",
       "    \n",
       "            choropleth_af457e12e1805612bd36fcc9b752544a.addTo(map_04813d3d754f5c7ae57db6e3b4ee627f);\n",
       "        \n",
       "    \n",
       "            var choropleth_2e64312140dd01ee3c7c6a22c249bf17 = L.featureGroup(\n",
       "                {}\n",
       "            );\n",
       "        \n",
       "    \n",
       "        function geo_json_254139acbc5b252764a2186145e66330_styler(feature) {\n",
       "            switch(feature.id) {\n",
       "                default:\n",
       "                    return ;\n",
       "            }\n",
       "        }\n",
       "\n",
       "        function geo_json_254139acbc5b252764a2186145e66330_onEachFeature(feature, layer) {\n",
       "            layer.on({\n",
       "            });\n",
       "        };\n",
       "        var geo_json_254139acbc5b252764a2186145e66330 = L.geoJson(null, {\n",
       "                onEachFeature: geo_json_254139acbc5b252764a2186145e66330_onEachFeature,\n",
       "            \n",
       "                style: geo_json_254139acbc5b252764a2186145e66330_styler,\n",
       "        });\n",
       "\n",
       "        function geo_json_254139acbc5b252764a2186145e66330_add (data) {\n",
       "            geo_json_254139acbc5b252764a2186145e66330\n",
       "                .addData(data);\n",
       "        }\n",
       "            geo_json_254139acbc5b252764a2186145e66330_add({&quot;features&quot;: [], &quot;licence&quot;: &quot;Data \\u00a9 OpenStreetMap contributors, ODbL 1.0. http://osm.org/copyright&quot;, &quot;type&quot;: &quot;FeatureCollection&quot;});\n",
       "\n",
       "        \n",
       "    \n",
       "            geo_json_254139acbc5b252764a2186145e66330.addTo(choropleth_2e64312140dd01ee3c7c6a22c249bf17);\n",
       "        \n",
       "    \n",
       "            choropleth_2e64312140dd01ee3c7c6a22c249bf17.addTo(map_04813d3d754f5c7ae57db6e3b4ee627f);\n",
       "        \n",
       "    \n",
       "            var choropleth_aad267cf2484d5789d110b3970252104 = L.featureGroup(\n",
       "                {}\n",
       "            );\n",
       "        \n",
       "    \n",
       "        function geo_json_01f7e0ac64cdcda746040d5947db7106_styler(feature) {\n",
       "            switch(feature.id) {\n",
       "                default:\n",
       "                    return ;\n",
       "            }\n",
       "        }\n",
       "\n",
       "        function geo_json_01f7e0ac64cdcda746040d5947db7106_onEachFeature(feature, layer) {\n",
       "            layer.on({\n",
       "            });\n",
       "        };\n",
       "        var geo_json_01f7e0ac64cdcda746040d5947db7106 = L.geoJson(null, {\n",
       "                onEachFeature: geo_json_01f7e0ac64cdcda746040d5947db7106_onEachFeature,\n",
       "            \n",
       "                style: geo_json_01f7e0ac64cdcda746040d5947db7106_styler,\n",
       "        });\n",
       "\n",
       "        function geo_json_01f7e0ac64cdcda746040d5947db7106_add (data) {\n",
       "            geo_json_01f7e0ac64cdcda746040d5947db7106\n",
       "                .addData(data);\n",
       "        }\n",
       "            geo_json_01f7e0ac64cdcda746040d5947db7106_add({&quot;features&quot;: [], &quot;licence&quot;: &quot;Data \\u00a9 OpenStreetMap contributors, ODbL 1.0. http://osm.org/copyright&quot;, &quot;type&quot;: &quot;FeatureCollection&quot;});\n",
       "\n",
       "        \n",
       "    \n",
       "            geo_json_01f7e0ac64cdcda746040d5947db7106.addTo(choropleth_aad267cf2484d5789d110b3970252104);\n",
       "        \n",
       "    \n",
       "            choropleth_aad267cf2484d5789d110b3970252104.addTo(map_04813d3d754f5c7ae57db6e3b4ee627f);\n",
       "        \n",
       "    \n",
       "            tile_layer_ec9d5f2c2707c3951b68f7c7ca1c366c.addTo(map_04813d3d754f5c7ae57db6e3b4ee627f);\n",
       "        \n",
       "    \n",
       "            geo_json_9cd534a637f305e22874f59613099287.addTo(choropleth_f5ad421a01a9298f6d883eb54d4a9104);\n",
       "        \n",
       "    \n",
       "            choropleth_f5ad421a01a9298f6d883eb54d4a9104.addTo(map_04813d3d754f5c7ae57db6e3b4ee627f);\n",
       "        \n",
       "    \n",
       "            geo_json_0f7689020660c11ddefc65f5c8177682.addTo(choropleth_05efe1cc2e6c32895acab9ca39dd9949);\n",
       "        \n",
       "    \n",
       "            choropleth_05efe1cc2e6c32895acab9ca39dd9949.addTo(map_04813d3d754f5c7ae57db6e3b4ee627f);\n",
       "        \n",
       "    \n",
       "            geo_json_c15c5dab336a6c9866a918f879494bf8.addTo(choropleth_3ae78b5d818b005fe364c842b3966169);\n",
       "        \n",
       "    \n",
       "            choropleth_3ae78b5d818b005fe364c842b3966169.addTo(map_04813d3d754f5c7ae57db6e3b4ee627f);\n",
       "        \n",
       "    \n",
       "            geo_json_895e6532a2a15384fc129fe39f4129d8.addTo(choropleth_64a5255cb8e4c91e3a7d3ccdb8598fc8);\n",
       "        \n",
       "    \n",
       "            choropleth_64a5255cb8e4c91e3a7d3ccdb8598fc8.addTo(map_04813d3d754f5c7ae57db6e3b4ee627f);\n",
       "        \n",
       "    \n",
       "            geo_json_15b0e3570cbb6707ff408a78b34b51c4.addTo(choropleth_19ed76624ffdecf9137bcd50345e1bfe);\n",
       "        \n",
       "    \n",
       "            choropleth_19ed76624ffdecf9137bcd50345e1bfe.addTo(map_04813d3d754f5c7ae57db6e3b4ee627f);\n",
       "        \n",
       "    \n",
       "            geo_json_3148e6c604bd5fc8a30d39d6b21f0c0f.addTo(choropleth_48d4d2b5a3406c97434319b1b5137656);\n",
       "        \n",
       "    \n",
       "            choropleth_48d4d2b5a3406c97434319b1b5137656.addTo(map_04813d3d754f5c7ae57db6e3b4ee627f);\n",
       "        \n",
       "    \n",
       "            geo_json_a8c0d540eed7d14e4abf61103db47ac0.addTo(choropleth_9e43ebd8b34ee5e15655b8800091cc1a);\n",
       "        \n",
       "    \n",
       "            choropleth_9e43ebd8b34ee5e15655b8800091cc1a.addTo(map_04813d3d754f5c7ae57db6e3b4ee627f);\n",
       "        \n",
       "    \n",
       "            geo_json_c0870a8d2feafa1694c4b03918ff1099.addTo(choropleth_d21a1cbf3fc38a524606b73eef2a431a);\n",
       "        \n",
       "    \n",
       "            choropleth_d21a1cbf3fc38a524606b73eef2a431a.addTo(map_04813d3d754f5c7ae57db6e3b4ee627f);\n",
       "        \n",
       "    \n",
       "            geo_json_485a5904e0939530c17a8729594d1610.addTo(choropleth_1ad29632b1d910ffc5b5d1ff594d3963);\n",
       "        \n",
       "    \n",
       "            choropleth_1ad29632b1d910ffc5b5d1ff594d3963.addTo(map_04813d3d754f5c7ae57db6e3b4ee627f);\n",
       "        \n",
       "    \n",
       "            geo_json_f407cf518379bf13e9d31769de99f7b1.addTo(choropleth_01f3b2900eabff008452cc9b1b2640d0);\n",
       "        \n",
       "    \n",
       "            choropleth_01f3b2900eabff008452cc9b1b2640d0.addTo(map_04813d3d754f5c7ae57db6e3b4ee627f);\n",
       "        \n",
       "    \n",
       "            geo_json_c6aa8ab4602b56fe70fedc10047997b8.addTo(choropleth_54e5675bd5a2b8f30dbbdfc184d5ca8a);\n",
       "        \n",
       "    \n",
       "            choropleth_54e5675bd5a2b8f30dbbdfc184d5ca8a.addTo(map_04813d3d754f5c7ae57db6e3b4ee627f);\n",
       "        \n",
       "    \n",
       "            geo_json_5c43a548501397ec6f6151944c2a3d13.addTo(choropleth_5bf2b294e539c2244cf1cc2661470ae4);\n",
       "        \n",
       "    \n",
       "            choropleth_5bf2b294e539c2244cf1cc2661470ae4.addTo(map_04813d3d754f5c7ae57db6e3b4ee627f);\n",
       "        \n",
       "    \n",
       "            geo_json_af7842cdb28d1b4a2e717d08757c0c96.addTo(choropleth_ea3614bf01640ddd00c589678b5aad39);\n",
       "        \n",
       "    \n",
       "            choropleth_ea3614bf01640ddd00c589678b5aad39.addTo(map_04813d3d754f5c7ae57db6e3b4ee627f);\n",
       "        \n",
       "    \n",
       "            geo_json_01e3da632a735bec52b6618a2519f0e5.addTo(choropleth_af457e12e1805612bd36fcc9b752544a);\n",
       "        \n",
       "    \n",
       "            choropleth_af457e12e1805612bd36fcc9b752544a.addTo(map_04813d3d754f5c7ae57db6e3b4ee627f);\n",
       "        \n",
       "    \n",
       "            geo_json_254139acbc5b252764a2186145e66330.addTo(choropleth_2e64312140dd01ee3c7c6a22c249bf17);\n",
       "        \n",
       "    \n",
       "            choropleth_2e64312140dd01ee3c7c6a22c249bf17.addTo(map_04813d3d754f5c7ae57db6e3b4ee627f);\n",
       "        \n",
       "    \n",
       "            geo_json_01f7e0ac64cdcda746040d5947db7106.addTo(choropleth_aad267cf2484d5789d110b3970252104);\n",
       "        \n",
       "    \n",
       "            choropleth_aad267cf2484d5789d110b3970252104.addTo(map_04813d3d754f5c7ae57db6e3b4ee627f);\n",
       "        \n",
       "&lt;/script&gt;\n",
       "&lt;/html&gt;\" style=\"position:absolute;width:100%;height:100%;left:0;top:0;border:none !important;\" allowfullscreen webkitallowfullscreen mozallowfullscreen></iframe></div></div>"
      ],
      "text/plain": [
       "<folium.folium.Map at 0x24b49fb8dc0>"
      ]
     },
     "execution_count": 275,
     "metadata": {},
     "output_type": "execute_result"
    }
   ],
   "source": [
    "import folium\n",
    "import json\n",
    "import requests\n",
    "import os\n",
    "\n",
    "# Function to fetch GeoJSON data for a city\n",
    "def get_geojson(city_name):\n",
    "    url = f\"https://nominatim.openstreetmap.org/search?city={city_name}&country=Pakistan&format=geojson\"\n",
    "    response = requests.get(url)\n",
    "    if response.status_code == 200:\n",
    "        return response.json()\n",
    "    else:\n",
    "        print(f\"Failed to fetch GeoJSON for {city_name}\")\n",
    "        return None\n",
    "\n",
    "# Fetch unique city names from the 'City' column\n",
    "city_names = Startups[\"City\"].unique()\n",
    "\n",
    "# Create a directory to save GeoJSON files\n",
    "geojson_dir = \"geojson_files\"\n",
    "os.makedirs(geojson_dir, exist_ok=True)\n",
    "\n",
    "# Iterate over the city names and fetch/save their GeoJSON boundaries\n",
    "city_geojson_map = {}\n",
    "for city_name in city_names:\n",
    "    geojson_data = get_geojson(city_name)\n",
    "    if geojson_data:\n",
    "        city_geojson_map[city_name] = geojson_data\n",
    "        # Save GeoJSON data to a file\n",
    "        with open(f\"{geojson_dir}/{city_name}.geojson\", \"w\", encoding=\"utf-8\") as f:\n",
    "            json.dump(geojson_data, f)\n",
    "\n",
    "# Create a Folium map centered around Pakistan\n",
    "map_pakistan1 = folium.Map(location=[30.3753, 69.3451], zoom_start=6)\n",
    "\n",
    "# Iterate over city names and add Choropleth layer to the map\n",
    "for city_name, geojson_data in city_geojson_map.items():\n",
    "    folium.Choropleth(\n",
    "        geo_data=geojson_data,\n",
    "        fill_opacity=0.7,\n",
    "        line_opacity=0.2,\n",
    "        name=city_name,\n",
    "    ).add_to(map_pakistan1)\n",
    "\n",
    "# Save the map as an HTML file\n",
    "map_pakistan1.save(\"startup_counts_map.html\")\n",
    "\n",
    "# Display the map\n",
    "map_pakistan1\n"
   ]
  },
  {
   "cell_type": "code",
   "execution_count": 272,
   "metadata": {},
   "outputs": [
    {
     "name": "stderr",
     "output_type": "stream",
     "text": [
      "C:\\Users\\NimZee\\AppData\\Local\\Temp\\ipykernel_21236\\2012555394.py:9: FutureWarning:\n",
      "\n",
      "\n",
      "\n",
      "Passing `palette` without assigning `hue` is deprecated and will be removed in v0.14.0. Assign the `x` variable to `hue` and set `legend=False` for the same effect.\n",
      "\n",
      "\n"
     ]
    },
    {
     "data": {
      "image/png": "[encoded data removed]",
      "text/plain": [
       "<Figure size 1200x600 with 1 Axes>"
      ]
     },
     "metadata": {},
     "output_type": "display_data"
    }
   ],
   "source": [
    "import seaborn as sns\n",
    "import matplotlib.pyplot as plt\n",
    "\n",
    "# Sort the DataFrame by startup count in descending order\n",
    "city_counts_df_sorted = city_counts_df.sort_values(by='Count', ascending=False)\n",
    "\n",
    "# Create the bar plot using Seaborn\n",
    "plt.figure(figsize=(12, 6))\n",
    "sns.barplot(x='City', y='Count', data=city_counts_df_sorted, palette='viridis')\n",
    "plt.xlabel('City')\n",
    "plt.ylabel('Number of Startups')\n",
    "plt.title('City-wise Startups')\n",
    "plt.xticks(rotation=90)\n",
    "plt.tight_layout()\n",
    "plt.show()\n"
   ]
  },
  {
   "cell_type": "code",
   "execution_count": 274,
   "metadata": {},
   "outputs": [
    {
     "data": {
      "application/vnd.plotly.v1+json": {
       "config": {
        "plotlyServerURL": "https://plot.ly"
       },
       "data": [
        {
         "alignmentgroup": "True",
         "hovertemplate": "City=%{x}<br>Number of Startups=%{y}<extra></extra>",
         "legendgroup": "Karachi",
         "marker": {
          "color": "#636efa",
          "pattern": {
           "shape": ""
          }
         },
         "name": "Karachi",
         "offsetgroup": "Karachi",
         "orientation": "v",
         "showlegend": true,
         "textposition": "auto",
         "type": "bar",
         "x": [
          "Karachi"
         ],
         "xaxis": "x",
         "y": [
          200
         ],
         "yaxis": "y"
        },
        {
         "alignmentgroup": "True",
         "hovertemplate": "City=%{x}<br>Number of Startups=%{y}<extra></extra>",
         "legendgroup": "Lahore",
         "marker": {
          "color": "#EF553B",
          "pattern": {
           "shape": ""
          }
         },
         "name": "Lahore",
         "offsetgroup": "Lahore",
         "orientation": "v",
         "showlegend": true,
         "textposition": "auto",
         "type": "bar",
         "x": [
          "Lahore"
         ],
         "xaxis": "x",
         "y": [
          121
         ],
         "yaxis": "y"
        },
        {
         "alignmentgroup": "True",
         "hovertemplate": "City=%{x}<br>Number of Startups=%{y}<extra></extra>",
         "legendgroup": "Islamabad",
         "marker": {
          "color": "#00cc96",
          "pattern": {
           "shape": ""
          }
         },
         "name": "Islamabad",
         "offsetgroup": "Islamabad",
         "orientation": "v",
         "showlegend": true,
         "textposition": "auto",
         "type": "bar",
         "x": [
          "Islamabad"
         ],
         "xaxis": "x",
         "y": [
          53
         ],
         "yaxis": "y"
        },
        {
         "alignmentgroup": "True",
         "hovertemplate": "City=%{x}<br>Number of Startups=%{y}<extra></extra>",
         "legendgroup": "Peshawar",
         "marker": {
          "color": "#ab63fa",
          "pattern": {
           "shape": ""
          }
         },
         "name": "Peshawar",
         "offsetgroup": "Peshawar",
         "orientation": "v",
         "showlegend": true,
         "textposition": "auto",
         "type": "bar",
         "x": [
          "Peshawar"
         ],
         "xaxis": "x",
         "y": [
          5
         ],
         "yaxis": "y"
        },
        {
         "alignmentgroup": "True",
         "hovertemplate": "City=%{x}<br>Number of Startups=%{y}<extra></extra>",
         "legendgroup": "Faisalabad",
         "marker": {
          "color": "#FFA15A",
          "pattern": {
           "shape": ""
          }
         },
         "name": "Faisalabad",
         "offsetgroup": "Faisalabad",
         "orientation": "v",
         "showlegend": true,
         "textposition": "auto",
         "type": "bar",
         "x": [
          "Faisalabad"
         ],
         "xaxis": "x",
         "y": [
          5
         ],
         "yaxis": "y"
        },
        {
         "alignmentgroup": "True",
         "hovertemplate": "City=%{x}<br>Number of Startups=%{y}<extra></extra>",
         "legendgroup": "Rawalpindi",
         "marker": {
          "color": "#19d3f3",
          "pattern": {
           "shape": ""
          }
         },
         "name": "Rawalpindi",
         "offsetgroup": "Rawalpindi",
         "orientation": "v",
         "showlegend": true,
         "textposition": "auto",
         "type": "bar",
         "x": [
          "Rawalpindi"
         ],
         "xaxis": "x",
         "y": [
          4
         ],
         "yaxis": "y"
        },
        {
         "alignmentgroup": "True",
         "hovertemplate": "City=%{x}<br>Number of Startups=%{y}<extra></extra>",
         "legendgroup": "Nowshera",
         "marker": {
          "color": "#FF6692",
          "pattern": {
           "shape": ""
          }
         },
         "name": "Nowshera",
         "offsetgroup": "Nowshera",
         "orientation": "v",
         "showlegend": true,
         "textposition": "auto",
         "type": "bar",
         "x": [
          "Nowshera"
         ],
         "xaxis": "x",
         "y": [
          3
         ],
         "yaxis": "y"
        },
        {
         "alignmentgroup": "True",
         "hovertemplate": "City=%{x}<br>Number of Startups=%{y}<extra></extra>",
         "legendgroup": "Gujrat",
         "marker": {
          "color": "#B6E880",
          "pattern": {
           "shape": ""
          }
         },
         "name": "Gujrat",
         "offsetgroup": "Gujrat",
         "orientation": "v",
         "showlegend": true,
         "textposition": "auto",
         "type": "bar",
         "x": [
          "Gujrat"
         ],
         "xaxis": "x",
         "y": [
          3
         ],
         "yaxis": "y"
        },
        {
         "alignmentgroup": "True",
         "hovertemplate": "City=%{x}<br>Number of Startups=%{y}<extra></extra>",
         "legendgroup": "Hyderabad",
         "marker": {
          "color": "#FF97FF",
          "pattern": {
           "shape": ""
          }
         },
         "name": "Hyderabad",
         "offsetgroup": "Hyderabad",
         "orientation": "v",
         "showlegend": true,
         "textposition": "auto",
         "type": "bar",
         "x": [
          "Hyderabad"
         ],
         "xaxis": "x",
         "y": [
          2
         ],
         "yaxis": "y"
        },
        {
         "alignmentgroup": "True",
         "hovertemplate": "City=%{x}<br>Number of Startups=%{y}<extra></extra>",
         "legendgroup": "Multan",
         "marker": {
          "color": "#FECB52",
          "pattern": {
           "shape": ""
          }
         },
         "name": "Multan",
         "offsetgroup": "Multan",
         "orientation": "v",
         "showlegend": true,
         "textposition": "auto",
         "type": "bar",
         "x": [
          "Multan"
         ],
         "xaxis": "x",
         "y": [
          2
         ],
         "yaxis": "y"
        },
        {
         "alignmentgroup": "True",
         "hovertemplate": "City=%{x}<br>Number of Startups=%{y}<extra></extra>",
         "legendgroup": "Sialkot",
         "marker": {
          "color": "#636efa",
          "pattern": {
           "shape": ""
          }
         },
         "name": "Sialkot",
         "offsetgroup": "Sialkot",
         "orientation": "v",
         "showlegend": true,
         "textposition": "auto",
         "type": "bar",
         "x": [
          "Sialkot"
         ],
         "xaxis": "x",
         "y": [
          2
         ],
         "yaxis": "y"
        },
        {
         "alignmentgroup": "True",
         "hovertemplate": "City=%{x}<br>Number of Startups=%{y}<extra></extra>",
         "legendgroup": "Wah Cantt",
         "marker": {
          "color": "#EF553B",
          "pattern": {
           "shape": ""
          }
         },
         "name": "Wah Cantt",
         "offsetgroup": "Wah Cantt",
         "orientation": "v",
         "showlegend": true,
         "textposition": "auto",
         "type": "bar",
         "x": [
          "Wah Cantt"
         ],
         "xaxis": "x",
         "y": [
          2
         ],
         "yaxis": "y"
        },
        {
         "alignmentgroup": "True",
         "hovertemplate": "City=%{x}<br>Number of Startups=%{y}<extra></extra>",
         "legendgroup": "Gujranwala",
         "marker": {
          "color": "#00cc96",
          "pattern": {
           "shape": ""
          }
         },
         "name": "Gujranwala",
         "offsetgroup": "Gujranwala",
         "orientation": "v",
         "showlegend": true,
         "textposition": "auto",
         "type": "bar",
         "x": [
          "Gujranwala"
         ],
         "xaxis": "x",
         "y": [
          1
         ],
         "yaxis": "y"
        },
        {
         "alignmentgroup": "True",
         "hovertemplate": "City=%{x}<br>Number of Startups=%{y}<extra></extra>",
         "legendgroup": "Quetta",
         "marker": {
          "color": "#ab63fa",
          "pattern": {
           "shape": ""
          }
         },
         "name": "Quetta",
         "offsetgroup": "Quetta",
         "orientation": "v",
         "showlegend": true,
         "textposition": "auto",
         "type": "bar",
         "x": [
          "Quetta"
         ],
         "xaxis": "x",
         "y": [
          1
         ],
         "yaxis": "y"
        },
        {
         "alignmentgroup": "True",
         "hovertemplate": "City=%{x}<br>Number of Startups=%{y}<extra></extra>",
         "legendgroup": "Sargodha",
         "marker": {
          "color": "#FFA15A",
          "pattern": {
           "shape": ""
          }
         },
         "name": "Sargodha",
         "offsetgroup": "Sargodha",
         "orientation": "v",
         "showlegend": true,
         "textposition": "auto",
         "type": "bar",
         "x": [
          "Sargodha"
         ],
         "xaxis": "x",
         "y": [
          1
         ],
         "yaxis": "y"
        }
       ],
       "layout": {
        "barmode": "relative",
        "legend": {
         "title": {
          "text": "City"
         },
         "tracegroupgap": 0
        },
        "template": {
         "data": {
          "bar": [
           {
            "error_x": {
             "color": "#2a3f5f"
            },
            "error_y": {
             "color": "#2a3f5f"
            },
            "marker": {
             "line": {
              "color": "#E5ECF6",
              "width": 0.5
             },
             "pattern": {
              "fillmode": "overlay",
              "size": 10,
              "solidity": 0.2
             }
            },
            "type": "bar"
           }
          ],
          "barpolar": [
           {
            "marker": {
             "line": {
              "color": "#E5ECF6",
              "width": 0.5
             },
             "pattern": {
              "fillmode": "overlay",
              "size": 10,
              "solidity": 0.2
             }
            },
            "type": "barpolar"
           }
          ],
          "carpet": [
           {
            "aaxis": {
             "endlinecolor": "#2a3f5f",
             "gridcolor": "white",
             "linecolor": "white",
             "minorgridcolor": "white",
             "startlinecolor": "#2a3f5f"
            },
            "baxis": {
             "endlinecolor": "#2a3f5f",
             "gridcolor": "white",
             "linecolor": "white",
             "minorgridcolor": "white",
             "startlinecolor": "#2a3f5f"
            },
            "type": "carpet"
           }
          ],
          "choropleth": [
           {
            "colorbar": {
             "outlinewidth": 0,
             "ticks": ""
            },
            "type": "choropleth"
           }
          ],
          "contour": [
           {
            "colorbar": {
             "outlinewidth": 0,
             "ticks": ""
            },
            "colorscale": [
             [
              0,
              "#0d0887"
             ],
             [
              0.1111111111111111,
              "#46039f"
             ],
             [
              0.2222222222222222,
              "#7201a8"
             ],
             [
              0.3333333333333333,
              "#9c179e"
             ],
             [
              0.4444444444444444,
              "#bd3786"
             ],
             [
              0.5555555555555556,
              "#d8576b"
             ],
             [
              0.6666666666666666,
              "#ed7953"
             ],
             [
              0.7777777777777778,
              "#fb9f3a"
             ],
             [
              0.8888888888888888,
              "#fdca26"
             ],
             [
              1,
              "#f0f921"
             ]
            ],
            "type": "contour"
           }
          ],
          "contourcarpet": [
           {
            "colorbar": {
             "outlinewidth": 0,
             "ticks": ""
            },
            "type": "contourcarpet"
           }
          ],
          "heatmap": [
           {
            "colorbar": {
             "outlinewidth": 0,
             "ticks": ""
            },
            "colorscale": [
             [
              0,
              "#0d0887"
             ],
             [
              0.1111111111111111,
              "#46039f"
             ],
             [
              0.2222222222222222,
              "#7201a8"
             ],
             [
              0.3333333333333333,
              "#9c179e"
             ],
             [
              0.4444444444444444,
              "#bd3786"
             ],
             [
              0.5555555555555556,
              "#d8576b"
             ],
             [
              0.6666666666666666,
              "#ed7953"
             ],
             [
              0.7777777777777778,
              "#fb9f3a"
             ],
             [
              0.8888888888888888,
              "#fdca26"
             ],
             [
              1,
              "#f0f921"
             ]
            ],
            "type": "heatmap"
           }
          ],
          "heatmapgl": [
           {
            "colorbar": {
             "outlinewidth": 0,
             "ticks": ""
            },
            "colorscale": [
             [
              0,
              "#0d0887"
             ],
             [
              0.1111111111111111,
              "#46039f"
             ],
             [
              0.2222222222222222,
              "#7201a8"
             ],
             [
              0.3333333333333333,
              "#9c179e"
             ],
             [
              0.4444444444444444,
              "#bd3786"
             ],
             [
              0.5555555555555556,
              "#d8576b"
             ],
             [
              0.6666666666666666,
              "#ed7953"
             ],
             [
              0.7777777777777778,
              "#fb9f3a"
             ],
             [
              0.8888888888888888,
              "#fdca26"
             ],
             [
              1,
              "#f0f921"
             ]
            ],
            "type": "heatmapgl"
           }
          ],
          "histogram": [
           {
            "marker": {
             "pattern": {
              "fillmode": "overlay",
              "size": 10,
              "solidity": 0.2
             }
            },
            "type": "histogram"
           }
          ],
          "histogram2d": [
           {
            "colorbar": {
             "outlinewidth": 0,
             "ticks": ""
            },
            "colorscale": [
             [
              0,
              "#0d0887"
             ],
             [
              0.1111111111111111,
              "#46039f"
             ],
             [
              0.2222222222222222,
              "#7201a8"
             ],
             [
              0.3333333333333333,
              "#9c179e"
             ],
             [
              0.4444444444444444,
              "#bd3786"
             ],
             [
              0.5555555555555556,
              "#d8576b"
             ],
             [
              0.6666666666666666,
              "#ed7953"
             ],
             [
              0.7777777777777778,
              "#fb9f3a"
             ],
             [
              0.8888888888888888,
              "#fdca26"
             ],
             [
              1,
              "#f0f921"
             ]
            ],
            "type": "histogram2d"
           }
          ],
          "histogram2dcontour": [
           {
            "colorbar": {
             "outlinewidth": 0,
             "ticks": ""
            },
            "colorscale": [
             [
              0,
              "#0d0887"
             ],
             [
              0.1111111111111111,
              "#46039f"
             ],
             [
              0.2222222222222222,
              "#7201a8"
             ],
             [
              0.3333333333333333,
              "#9c179e"
             ],
             [
              0.4444444444444444,
              "#bd3786"
             ],
             [
              0.5555555555555556,
              "#d8576b"
             ],
             [
              0.6666666666666666,
              "#ed7953"
             ],
             [
              0.7777777777777778,
              "#fb9f3a"
             ],
             [
              0.8888888888888888,
              "#fdca26"
             ],
             [
              1,
              "#f0f921"
             ]
            ],
            "type": "histogram2dcontour"
           }
          ],
          "mesh3d": [
           {
            "colorbar": {
             "outlinewidth": 0,
             "ticks": ""
            },
            "type": "mesh3d"
           }
          ],
          "parcoords": [
           {
            "line": {
             "colorbar": {
              "outlinewidth": 0,
              "ticks": ""
             }
            },
            "type": "parcoords"
           }
          ],
          "pie": [
           {
            "automargin": true,
            "type": "pie"
           }
          ],
          "scatter": [
           {
            "fillpattern": {
             "fillmode": "overlay",
             "size": 10,
             "solidity": 0.2
            },
            "type": "scatter"
           }
          ],
          "scatter3d": [
           {
            "line": {
             "colorbar": {
              "outlinewidth": 0,
              "ticks": ""
             }
            },
            "marker": {
             "colorbar": {
              "outlinewidth": 0,
              "ticks": ""
             }
            },
            "type": "scatter3d"
           }
          ],
          "scattercarpet": [
           {
            "marker": {
             "colorbar": {
              "outlinewidth": 0,
              "ticks": ""
             }
            },
            "type": "scattercarpet"
           }
          ],
          "scattergeo": [
           {
            "marker": {
             "colorbar": {
              "outlinewidth": 0,
              "ticks": ""
             }
            },
            "type": "scattergeo"
           }
          ],
          "scattergl": [
           {
            "marker": {
             "colorbar": {
              "outlinewidth": 0,
              "ticks": ""
             }
            },
            "type": "scattergl"
           }
          ],
          "scattermapbox": [
           {
            "marker": {
             "colorbar": {
              "outlinewidth": 0,
              "ticks": ""
             }
            },
            "type": "scattermapbox"
           }
          ],
          "scatterpolar": [
           {
            "marker": {
             "colorbar": {
              "outlinewidth": 0,
              "ticks": ""
             }
            },
            "type": "scatterpolar"
           }
          ],
          "scatterpolargl": [
           {
            "marker": {
             "colorbar": {
              "outlinewidth": 0,
              "ticks": ""
             }
            },
            "type": "scatterpolargl"
           }
          ],
          "scatterternary": [
           {
            "marker": {
             "colorbar": {
              "outlinewidth": 0,
              "ticks": ""
             }
            },
            "type": "scatterternary"
           }
          ],
          "surface": [
           {
            "colorbar": {
             "outlinewidth": 0,
             "ticks": ""
            },
            "colorscale": [
             [
              0,
              "#0d0887"
             ],
             [
              0.1111111111111111,
              "#46039f"
             ],
             [
              0.2222222222222222,
              "#7201a8"
             ],
             [
              0.3333333333333333,
              "#9c179e"
             ],
             [
              0.4444444444444444,
              "#bd3786"
             ],
             [
              0.5555555555555556,
              "#d8576b"
             ],
             [
              0.6666666666666666,
              "#ed7953"
             ],
             [
              0.7777777777777778,
              "#fb9f3a"
             ],
             [
              0.8888888888888888,
              "#fdca26"
             ],
             [
              1,
              "#f0f921"
             ]
            ],
            "type": "surface"
           }
          ],
          "table": [
           {
            "cells": {
             "fill": {
              "color": "#EBF0F8"
             },
             "line": {
              "color": "white"
             }
            },
            "header": {
             "fill": {
              "color": "#C8D4E3"
             },
             "line": {
              "color": "white"
             }
            },
            "type": "table"
           }
          ]
         },
         "layout": {
          "annotationdefaults": {
           "arrowcolor": "#2a3f5f",
           "arrowhead": 0,
           "arrowwidth": 1
          },
          "autotypenumbers": "strict",
          "coloraxis": {
           "colorbar": {
            "outlinewidth": 0,
            "ticks": ""
           }
          },
          "colorscale": {
           "diverging": [
            [
             0,
             "#8e0152"
            ],
            [
             0.1,
             "#c51b7d"
            ],
            [
             0.2,
             "#de77ae"
            ],
            [
             0.3,
             "#f1b6da"
            ],
            [
             0.4,
             "#fde0ef"
            ],
            [
             0.5,
             "#f7f7f7"
            ],
            [
             0.6,
             "#e6f5d0"
            ],
            [
             0.7,
             "#b8e186"
            ],
            [
             0.8,
             "#7fbc41"
            ],
            [
             0.9,
             "#4d9221"
            ],
            [
             1,
             "#276419"
            ]
           ],
           "sequential": [
            [
             0,
             "#0d0887"
            ],
            [
             0.1111111111111111,
             "#46039f"
            ],
            [
             0.2222222222222222,
             "#7201a8"
            ],
            [
             0.3333333333333333,
             "#9c179e"
            ],
            [
             0.4444444444444444,
             "#bd3786"
            ],
            [
             0.5555555555555556,
             "#d8576b"
            ],
            [
             0.6666666666666666,
             "#ed7953"
            ],
            [
             0.7777777777777778,
             "#fb9f3a"
            ],
            [
             0.8888888888888888,
             "#fdca26"
            ],
            [
             1,
             "#f0f921"
            ]
           ],
           "sequentialminus": [
            [
             0,
             "#0d0887"
            ],
            [
             0.1111111111111111,
             "#46039f"
            ],
            [
             0.2222222222222222,
             "#7201a8"
            ],
            [
             0.3333333333333333,
             "#9c179e"
            ],
            [
             0.4444444444444444,
             "#bd3786"
            ],
            [
             0.5555555555555556,
             "#d8576b"
            ],
            [
             0.6666666666666666,
             "#ed7953"
            ],
            [
             0.7777777777777778,
             "#fb9f3a"
            ],
            [
             0.8888888888888888,
             "#fdca26"
            ],
            [
             1,
             "#f0f921"
            ]
           ]
          },
          "colorway": [
           "#636efa",
           "#EF553B",
           "#00cc96",
           "#ab63fa",
           "#FFA15A",
           "#19d3f3",
           "#FF6692",
           "#B6E880",
           "#FF97FF",
           "#FECB52"
          ],
          "font": {
           "color": "#2a3f5f"
          },
          "geo": {
           "bgcolor": "white",
           "lakecolor": "white",
           "landcolor": "#E5ECF6",
           "showlakes": true,
           "showland": true,
           "subunitcolor": "white"
          },
          "hoverlabel": {
           "align": "left"
          },
          "hovermode": "closest",
          "mapbox": {
           "style": "light"
          },
          "paper_bgcolor": "white",
          "plot_bgcolor": "#E5ECF6",
          "polar": {
           "angularaxis": {
            "gridcolor": "white",
            "linecolor": "white",
            "ticks": ""
           },
           "bgcolor": "#E5ECF6",
           "radialaxis": {
            "gridcolor": "white",
            "linecolor": "white",
            "ticks": ""
           }
          },
          "scene": {
           "xaxis": {
            "backgroundcolor": "#E5ECF6",
            "gridcolor": "white",
            "gridwidth": 2,
            "linecolor": "white",
            "showbackground": true,
            "ticks": "",
            "zerolinecolor": "white"
           },
           "yaxis": {
            "backgroundcolor": "#E5ECF6",
            "gridcolor": "white",
            "gridwidth": 2,
            "linecolor": "white",
            "showbackground": true,
            "ticks": "",
            "zerolinecolor": "white"
           },
           "zaxis": {
            "backgroundcolor": "#E5ECF6",
            "gridcolor": "white",
            "gridwidth": 2,
            "linecolor": "white",
            "showbackground": true,
            "ticks": "",
            "zerolinecolor": "white"
           }
          },
          "shapedefaults": {
           "line": {
            "color": "#2a3f5f"
           }
          },
          "ternary": {
           "aaxis": {
            "gridcolor": "white",
            "linecolor": "white",
            "ticks": ""
           },
           "baxis": {
            "gridcolor": "white",
            "linecolor": "white",
            "ticks": ""
           },
           "bgcolor": "#E5ECF6",
           "caxis": {
            "gridcolor": "white",
            "linecolor": "white",
            "ticks": ""
           }
          },
          "title": {
           "x": 0.05
          },
          "xaxis": {
           "automargin": true,
           "gridcolor": "white",
           "linecolor": "white",
           "ticks": "",
           "title": {
            "standoff": 15
           },
           "zerolinecolor": "white",
           "zerolinewidth": 2
          },
          "yaxis": {
           "automargin": true,
           "gridcolor": "white",
           "linecolor": "white",
           "ticks": "",
           "title": {
            "standoff": 15
           },
           "zerolinecolor": "white",
           "zerolinewidth": 2
          }
         }
        },
        "title": {
         "text": "City-wise Startups"
        },
        "xaxis": {
         "anchor": "y",
         "categoryarray": [
          "Karachi",
          "Lahore",
          "Islamabad",
          "Peshawar",
          "Faisalabad",
          "Rawalpindi",
          "Nowshera",
          "Gujrat",
          "Hyderabad",
          "Multan",
          "Sialkot",
          "Wah Cantt",
          "Gujranwala",
          "Quetta",
          "Sargodha"
         ],
         "categoryorder": "total descending",
         "domain": [
          0,
          1
         ],
         "title": {
          "text": "City"
         }
        },
        "yaxis": {
         "anchor": "x",
         "domain": [
          0,
          1
         ],
         "title": {
          "text": "Number of Startups"
         }
        }
       }
      }
     },
     "metadata": {},
     "output_type": "display_data"
    }
   ],
   "source": [
    "# Sort the DataFrame by startup count in descending order\n",
    "city_counts_df_sorted = city_counts_df.sort_values(by='Count', ascending=False)\n",
    "\n",
    "# Create the bar plot using Plotly\n",
    "fig = px.bar(city_counts_df_sorted, x='City', y='Count', title='City-wise Startups', labels={'Count': 'Number of Startups', 'City': 'City'}, color='City')\n",
    "fig.update_layout(xaxis={'categoryorder':'total descending'}, xaxis_title='City', yaxis_title='Number of Startups')\n",
    "fig.show()"
   ]
  },
  {
   "cell_type": "code",
   "execution_count": 276,
   "metadata": {},
   "outputs": [
    {
     "data": {
      "text/plain": [
       "Index(['Name', 'Location', 'Tagline', 'Category', 'Website', 'Founded',\n",
       "       'Description', 'Country', 'City', 'Founded Year', 'Latitude',\n",
       "       'Longitude'],\n",
       "      dtype='object')"
      ]
     },
     "execution_count": 276,
     "metadata": {},
     "output_type": "execute_result"
    }
   ],
   "source": [
    "Startups.columns"
   ]
  },
  {
   "cell_type": "code",
   "execution_count": 277,
   "metadata": {},
   "outputs": [
    {
     "data": {
      "application/vnd.plotly.v1+json": {
       "config": {
        "plotlyServerURL": "https://plot.ly"
       },
       "data": [
        {
         "alignmentgroup": "True",
         "hovertemplate": "Founded Year=%{x}<br>Number of Startups=%{y}<extra></extra>",
         "legendgroup": "2016",
         "marker": {
          "color": "#636efa",
          "pattern": {
           "shape": ""
          }
         },
         "name": "2016",
         "offsetgroup": "2016",
         "orientation": "v",
         "showlegend": true,
         "textposition": "auto",
         "type": "bar",
         "x": [
          "2016"
         ],
         "xaxis": "x",
         "y": [
          103
         ],
         "yaxis": "y"
        },
        {
         "alignmentgroup": "True",
         "hovertemplate": "Founded Year=%{x}<br>Number of Startups=%{y}<extra></extra>",
         "legendgroup": "2015",
         "marker": {
          "color": "#EF553B",
          "pattern": {
           "shape": ""
          }
         },
         "name": "2015",
         "offsetgroup": "2015",
         "orientation": "v",
         "showlegend": true,
         "textposition": "auto",
         "type": "bar",
         "x": [
          "2015"
         ],
         "xaxis": "x",
         "y": [
          88
         ],
         "yaxis": "y"
        },
        {
         "alignmentgroup": "True",
         "hovertemplate": "Founded Year=%{x}<br>Number of Startups=%{y}<extra></extra>",
         "legendgroup": "Not Provided",
         "marker": {
          "color": "#00cc96",
          "pattern": {
           "shape": ""
          }
         },
         "name": "Not Provided",
         "offsetgroup": "Not Provided",
         "orientation": "v",
         "showlegend": true,
         "textposition": "auto",
         "type": "bar",
         "x": [
          "Not Provided"
         ],
         "xaxis": "x",
         "y": [
          74
         ],
         "yaxis": "y"
        },
        {
         "alignmentgroup": "True",
         "hovertemplate": "Founded Year=%{x}<br>Number of Startups=%{y}<extra></extra>",
         "legendgroup": "2017",
         "marker": {
          "color": "#ab63fa",
          "pattern": {
           "shape": ""
          }
         },
         "name": "2017",
         "offsetgroup": "2017",
         "orientation": "v",
         "showlegend": true,
         "textposition": "auto",
         "type": "bar",
         "x": [
          "2017"
         ],
         "xaxis": "x",
         "y": [
          45
         ],
         "yaxis": "y"
        },
        {
         "alignmentgroup": "True",
         "hovertemplate": "Founded Year=%{x}<br>Number of Startups=%{y}<extra></extra>",
         "legendgroup": "2014",
         "marker": {
          "color": "#FFA15A",
          "pattern": {
           "shape": ""
          }
         },
         "name": "2014",
         "offsetgroup": "2014",
         "orientation": "v",
         "showlegend": true,
         "textposition": "auto",
         "type": "bar",
         "x": [
          "2014"
         ],
         "xaxis": "x",
         "y": [
          44
         ],
         "yaxis": "y"
        },
        {
         "alignmentgroup": "True",
         "hovertemplate": "Founded Year=%{x}<br>Number of Startups=%{y}<extra></extra>",
         "legendgroup": "2013",
         "marker": {
          "color": "#19d3f3",
          "pattern": {
           "shape": ""
          }
         },
         "name": "2013",
         "offsetgroup": "2013",
         "orientation": "v",
         "showlegend": true,
         "textposition": "auto",
         "type": "bar",
         "x": [
          "2013"
         ],
         "xaxis": "x",
         "y": [
          16
         ],
         "yaxis": "y"
        },
        {
         "alignmentgroup": "True",
         "hovertemplate": "Founded Year=%{x}<br>Number of Startups=%{y}<extra></extra>",
         "legendgroup": "2012",
         "marker": {
          "color": "#FF6692",
          "pattern": {
           "shape": ""
          }
         },
         "name": "2012",
         "offsetgroup": "2012",
         "orientation": "v",
         "showlegend": true,
         "textposition": "auto",
         "type": "bar",
         "x": [
          "2012"
         ],
         "xaxis": "x",
         "y": [
          11
         ],
         "yaxis": "y"
        },
        {
         "alignmentgroup": "True",
         "hovertemplate": "Founded Year=%{x}<br>Number of Startups=%{y}<extra></extra>",
         "legendgroup": "2018",
         "marker": {
          "color": "#B6E880",
          "pattern": {
           "shape": ""
          }
         },
         "name": "2018",
         "offsetgroup": "2018",
         "orientation": "v",
         "showlegend": true,
         "textposition": "auto",
         "type": "bar",
         "x": [
          "2018"
         ],
         "xaxis": "x",
         "y": [
          7
         ],
         "yaxis": "y"
        },
        {
         "alignmentgroup": "True",
         "hovertemplate": "Founded Year=%{x}<br>Number of Startups=%{y}<extra></extra>",
         "legendgroup": "2010",
         "marker": {
          "color": "#FF97FF",
          "pattern": {
           "shape": ""
          }
         },
         "name": "2010",
         "offsetgroup": "2010",
         "orientation": "v",
         "showlegend": true,
         "textposition": "auto",
         "type": "bar",
         "x": [
          "2010"
         ],
         "xaxis": "x",
         "y": [
          7
         ],
         "yaxis": "y"
        },
        {
         "alignmentgroup": "True",
         "hovertemplate": "Founded Year=%{x}<br>Number of Startups=%{y}<extra></extra>",
         "legendgroup": "2011",
         "marker": {
          "color": "#FECB52",
          "pattern": {
           "shape": ""
          }
         },
         "name": "2011",
         "offsetgroup": "2011",
         "orientation": "v",
         "showlegend": true,
         "textposition": "auto",
         "type": "bar",
         "x": [
          "2011"
         ],
         "xaxis": "x",
         "y": [
          6
         ],
         "yaxis": "y"
        },
        {
         "alignmentgroup": "True",
         "hovertemplate": "Founded Year=%{x}<br>Number of Startups=%{y}<extra></extra>",
         "legendgroup": "2008",
         "marker": {
          "color": "#636efa",
          "pattern": {
           "shape": ""
          }
         },
         "name": "2008",
         "offsetgroup": "2008",
         "orientation": "v",
         "showlegend": true,
         "textposition": "auto",
         "type": "bar",
         "x": [
          "2008"
         ],
         "xaxis": "x",
         "y": [
          4
         ],
         "yaxis": "y"
        },
        {
         "alignmentgroup": "True",
         "hovertemplate": "Founded Year=%{x}<br>Number of Startups=%{y}<extra></extra>",
         "legendgroup": "2005",
         "marker": {
          "color": "#EF553B",
          "pattern": {
           "shape": ""
          }
         },
         "name": "2005",
         "offsetgroup": "2005",
         "orientation": "v",
         "showlegend": true,
         "textposition": "auto",
         "type": "bar",
         "x": [
          "2005"
         ],
         "xaxis": "x",
         "y": [
          4
         ],
         "yaxis": "y"
        },
        {
         "alignmentgroup": "True",
         "hovertemplate": "Founded Year=%{x}<br>Number of Startups=%{y}<extra></extra>",
         "legendgroup": "2006",
         "marker": {
          "color": "#00cc96",
          "pattern": {
           "shape": ""
          }
         },
         "name": "2006",
         "offsetgroup": "2006",
         "orientation": "v",
         "showlegend": true,
         "textposition": "auto",
         "type": "bar",
         "x": [
          "2006"
         ],
         "xaxis": "x",
         "y": [
          3
         ],
         "yaxis": "y"
        },
        {
         "alignmentgroup": "True",
         "hovertemplate": "Founded Year=%{x}<br>Number of Startups=%{y}<extra></extra>",
         "legendgroup": "2004",
         "marker": {
          "color": "#ab63fa",
          "pattern": {
           "shape": ""
          }
         },
         "name": "2004",
         "offsetgroup": "2004",
         "orientation": "v",
         "showlegend": true,
         "textposition": "auto",
         "type": "bar",
         "x": [
          "2004"
         ],
         "xaxis": "x",
         "y": [
          3
         ],
         "yaxis": "y"
        },
        {
         "alignmentgroup": "True",
         "hovertemplate": "Founded Year=%{x}<br>Number of Startups=%{y}<extra></extra>",
         "legendgroup": "2009",
         "marker": {
          "color": "#FFA15A",
          "pattern": {
           "shape": ""
          }
         },
         "name": "2009",
         "offsetgroup": "2009",
         "orientation": "v",
         "showlegend": true,
         "textposition": "auto",
         "type": "bar",
         "x": [
          "2009"
         ],
         "xaxis": "x",
         "y": [
          2
         ],
         "yaxis": "y"
        },
        {
         "alignmentgroup": "True",
         "hovertemplate": "Founded Year=%{x}<br>Number of Startups=%{y}<extra></extra>",
         "legendgroup": "2000",
         "marker": {
          "color": "#19d3f3",
          "pattern": {
           "shape": ""
          }
         },
         "name": "2000",
         "offsetgroup": "2000",
         "orientation": "v",
         "showlegend": true,
         "textposition": "auto",
         "type": "bar",
         "x": [
          "2000"
         ],
         "xaxis": "x",
         "y": [
          2
         ],
         "yaxis": "y"
        },
        {
         "alignmentgroup": "True",
         "hovertemplate": "Founded Year=%{x}<br>Number of Startups=%{y}<extra></extra>",
         "legendgroup": "2002",
         "marker": {
          "color": "#FF6692",
          "pattern": {
           "shape": ""
          }
         },
         "name": "2002",
         "offsetgroup": "2002",
         "orientation": "v",
         "showlegend": true,
         "textposition": "auto",
         "type": "bar",
         "x": [
          "2002"
         ],
         "xaxis": "x",
         "y": [
          1
         ],
         "yaxis": "y"
        },
        {
         "alignmentgroup": "True",
         "hovertemplate": "Founded Year=%{x}<br>Number of Startups=%{y}<extra></extra>",
         "legendgroup": "1997",
         "marker": {
          "color": "#B6E880",
          "pattern": {
           "shape": ""
          }
         },
         "name": "1997",
         "offsetgroup": "1997",
         "orientation": "v",
         "showlegend": true,
         "textposition": "auto",
         "type": "bar",
         "x": [
          "1997"
         ],
         "xaxis": "x",
         "y": [
          1
         ],
         "yaxis": "y"
        },
        {
         "alignmentgroup": "True",
         "hovertemplate": "Founded Year=%{x}<br>Number of Startups=%{y}<extra></extra>",
         "legendgroup": "2007",
         "marker": {
          "color": "#FF97FF",
          "pattern": {
           "shape": ""
          }
         },
         "name": "2007",
         "offsetgroup": "2007",
         "orientation": "v",
         "showlegend": true,
         "textposition": "auto",
         "type": "bar",
         "x": [
          "2007"
         ],
         "xaxis": "x",
         "y": [
          1
         ],
         "yaxis": "y"
        },
        {
         "alignmentgroup": "True",
         "hovertemplate": "Founded Year=%{x}<br>Number of Startups=%{y}<extra></extra>",
         "legendgroup": "2003",
         "marker": {
          "color": "#FECB52",
          "pattern": {
           "shape": ""
          }
         },
         "name": "2003",
         "offsetgroup": "2003",
         "orientation": "v",
         "showlegend": true,
         "textposition": "auto",
         "type": "bar",
         "x": [
          "2003"
         ],
         "xaxis": "x",
         "y": [
          1
         ],
         "yaxis": "y"
        },
        {
         "alignmentgroup": "True",
         "hovertemplate": "Founded Year=%{x}<br>Number of Startups=%{y}<extra></extra>",
         "legendgroup": "1957",
         "marker": {
          "color": "#636efa",
          "pattern": {
           "shape": ""
          }
         },
         "name": "1957",
         "offsetgroup": "1957",
         "orientation": "v",
         "showlegend": true,
         "textposition": "auto",
         "type": "bar",
         "x": [
          "1957"
         ],
         "xaxis": "x",
         "y": [
          1
         ],
         "yaxis": "y"
        },
        {
         "alignmentgroup": "True",
         "hovertemplate": "Founded Year=%{x}<br>Number of Startups=%{y}<extra></extra>",
         "legendgroup": "1984",
         "marker": {
          "color": "#EF553B",
          "pattern": {
           "shape": ""
          }
         },
         "name": "1984",
         "offsetgroup": "1984",
         "orientation": "v",
         "showlegend": true,
         "textposition": "auto",
         "type": "bar",
         "x": [
          "1984"
         ],
         "xaxis": "x",
         "y": [
          1
         ],
         "yaxis": "y"
        },
        {
         "alignmentgroup": "True",
         "hovertemplate": "Founded Year=%{x}<br>Number of Startups=%{y}<extra></extra>",
         "legendgroup": "1999",
         "marker": {
          "color": "#00cc96",
          "pattern": {
           "shape": ""
          }
         },
         "name": "1999",
         "offsetgroup": "1999",
         "orientation": "v",
         "showlegend": true,
         "textposition": "auto",
         "type": "bar",
         "x": [
          "1999"
         ],
         "xaxis": "x",
         "y": [
          1
         ],
         "yaxis": "y"
        },
        {
         "alignmentgroup": "True",
         "hovertemplate": "Founded Year=%{x}<br>Number of Startups=%{y}<extra></extra>",
         "legendgroup": "2001",
         "marker": {
          "color": "#ab63fa",
          "pattern": {
           "shape": ""
          }
         },
         "name": "2001",
         "offsetgroup": "2001",
         "orientation": "v",
         "showlegend": true,
         "textposition": "auto",
         "type": "bar",
         "x": [
          "2001"
         ],
         "xaxis": "x",
         "y": [
          1
         ],
         "yaxis": "y"
        }
       ],
       "layout": {
        "barmode": "relative",
        "legend": {
         "title": {
          "text": "Founded Year"
         },
         "tracegroupgap": 0
        },
        "template": {
         "data": {
          "bar": [
           {
            "error_x": {
             "color": "#2a3f5f"
            },
            "error_y": {
             "color": "#2a3f5f"
            },
            "marker": {
             "line": {
              "color": "#E5ECF6",
              "width": 0.5
             },
             "pattern": {
              "fillmode": "overlay",
              "size": 10,
              "solidity": 0.2
             }
            },
            "type": "bar"
           }
          ],
          "barpolar": [
           {
            "marker": {
             "line": {
              "color": "#E5ECF6",
              "width": 0.5
             },
             "pattern": {
              "fillmode": "overlay",
              "size": 10,
              "solidity": 0.2
             }
            },
            "type": "barpolar"
           }
          ],
          "carpet": [
           {
            "aaxis": {
             "endlinecolor": "#2a3f5f",
             "gridcolor": "white",
             "linecolor": "white",
             "minorgridcolor": "white",
             "startlinecolor": "#2a3f5f"
            },
            "baxis": {
             "endlinecolor": "#2a3f5f",
             "gridcolor": "white",
             "linecolor": "white",
             "minorgridcolor": "white",
             "startlinecolor": "#2a3f5f"
            },
            "type": "carpet"
           }
          ],
          "choropleth": [
           {
            "colorbar": {
             "outlinewidth": 0,
             "ticks": ""
            },
            "type": "choropleth"
           }
          ],
          "contour": [
           {
            "colorbar": {
             "outlinewidth": 0,
             "ticks": ""
            },
            "colorscale": [
             [
              0,
              "#0d0887"
             ],
             [
              0.1111111111111111,
              "#46039f"
             ],
             [
              0.2222222222222222,
              "#7201a8"
             ],
             [
              0.3333333333333333,
              "#9c179e"
             ],
             [
              0.4444444444444444,
              "#bd3786"
             ],
             [
              0.5555555555555556,
              "#d8576b"
             ],
             [
              0.6666666666666666,
              "#ed7953"
             ],
             [
              0.7777777777777778,
              "#fb9f3a"
             ],
             [
              0.8888888888888888,
              "#fdca26"
             ],
             [
              1,
              "#f0f921"
             ]
            ],
            "type": "contour"
           }
          ],
          "contourcarpet": [
           {
            "colorbar": {
             "outlinewidth": 0,
             "ticks": ""
            },
            "type": "contourcarpet"
           }
          ],
          "heatmap": [
           {
            "colorbar": {
             "outlinewidth": 0,
             "ticks": ""
            },
            "colorscale": [
             [
              0,
              "#0d0887"
             ],
             [
              0.1111111111111111,
              "#46039f"
             ],
             [
              0.2222222222222222,
              "#7201a8"
             ],
             [
              0.3333333333333333,
              "#9c179e"
             ],
             [
              0.4444444444444444,
              "#bd3786"
             ],
             [
              0.5555555555555556,
              "#d8576b"
             ],
             [
              0.6666666666666666,
              "#ed7953"
             ],
             [
              0.7777777777777778,
              "#fb9f3a"
             ],
             [
              0.8888888888888888,
              "#fdca26"
             ],
             [
              1,
              "#f0f921"
             ]
            ],
            "type": "heatmap"
           }
          ],
          "heatmapgl": [
           {
            "colorbar": {
             "outlinewidth": 0,
             "ticks": ""
            },
            "colorscale": [
             [
              0,
              "#0d0887"
             ],
             [
              0.1111111111111111,
              "#46039f"
             ],
             [
              0.2222222222222222,
              "#7201a8"
             ],
             [
              0.3333333333333333,
              "#9c179e"
             ],
             [
              0.4444444444444444,
              "#bd3786"
             ],
             [
              0.5555555555555556,
              "#d8576b"
             ],
             [
              0.6666666666666666,
              "#ed7953"
             ],
             [
              0.7777777777777778,
              "#fb9f3a"
             ],
             [
              0.8888888888888888,
              "#fdca26"
             ],
             [
              1,
              "#f0f921"
             ]
            ],
            "type": "heatmapgl"
           }
          ],
          "histogram": [
           {
            "marker": {
             "pattern": {
              "fillmode": "overlay",
              "size": 10,
              "solidity": 0.2
             }
            },
            "type": "histogram"
           }
          ],
          "histogram2d": [
           {
            "colorbar": {
             "outlinewidth": 0,
             "ticks": ""
            },
            "colorscale": [
             [
              0,
              "#0d0887"
             ],
             [
              0.1111111111111111,
              "#46039f"
             ],
             [
              0.2222222222222222,
              "#7201a8"
             ],
             [
              0.3333333333333333,
              "#9c179e"
             ],
             [
              0.4444444444444444,
              "#bd3786"
             ],
             [
              0.5555555555555556,
              "#d8576b"
             ],
             [
              0.6666666666666666,
              "#ed7953"
             ],
             [
              0.7777777777777778,
              "#fb9f3a"
             ],
             [
              0.8888888888888888,
              "#fdca26"
             ],
             [
              1,
              "#f0f921"
             ]
            ],
            "type": "histogram2d"
           }
          ],
          "histogram2dcontour": [
           {
            "colorbar": {
             "outlinewidth": 0,
             "ticks": ""
            },
            "colorscale": [
             [
              0,
              "#0d0887"
             ],
             [
              0.1111111111111111,
              "#46039f"
             ],
             [
              0.2222222222222222,
              "#7201a8"
             ],
             [
              0.3333333333333333,
              "#9c179e"
             ],
             [
              0.4444444444444444,
              "#bd3786"
             ],
             [
              0.5555555555555556,
              "#d8576b"
             ],
             [
              0.6666666666666666,
              "#ed7953"
             ],
             [
              0.7777777777777778,
              "#fb9f3a"
             ],
             [
              0.8888888888888888,
              "#fdca26"
             ],
             [
              1,
              "#f0f921"
             ]
            ],
            "type": "histogram2dcontour"
           }
          ],
          "mesh3d": [
           {
            "colorbar": {
             "outlinewidth": 0,
             "ticks": ""
            },
            "type": "mesh3d"
           }
          ],
          "parcoords": [
           {
            "line": {
             "colorbar": {
              "outlinewidth": 0,
              "ticks": ""
             }
            },
            "type": "parcoords"
           }
          ],
          "pie": [
           {
            "automargin": true,
            "type": "pie"
           }
          ],
          "scatter": [
           {
            "fillpattern": {
             "fillmode": "overlay",
             "size": 10,
             "solidity": 0.2
            },
            "type": "scatter"
           }
          ],
          "scatter3d": [
           {
            "line": {
             "colorbar": {
              "outlinewidth": 0,
              "ticks": ""
             }
            },
            "marker": {
             "colorbar": {
              "outlinewidth": 0,
              "ticks": ""
             }
            },
            "type": "scatter3d"
           }
          ],
          "scattercarpet": [
           {
            "marker": {
             "colorbar": {
              "outlinewidth": 0,
              "ticks": ""
             }
            },
            "type": "scattercarpet"
           }
          ],
          "scattergeo": [
           {
            "marker": {
             "colorbar": {
              "outlinewidth": 0,
              "ticks": ""
             }
            },
            "type": "scattergeo"
           }
          ],
          "scattergl": [
           {
            "marker": {
             "colorbar": {
              "outlinewidth": 0,
              "ticks": ""
             }
            },
            "type": "scattergl"
           }
          ],
          "scattermapbox": [
           {
            "marker": {
             "colorbar": {
              "outlinewidth": 0,
              "ticks": ""
             }
            },
            "type": "scattermapbox"
           }
          ],
          "scatterpolar": [
           {
            "marker": {
             "colorbar": {
              "outlinewidth": 0,
              "ticks": ""
             }
            },
            "type": "scatterpolar"
           }
          ],
          "scatterpolargl": [
           {
            "marker": {
             "colorbar": {
              "outlinewidth": 0,
              "ticks": ""
             }
            },
            "type": "scatterpolargl"
           }
          ],
          "scatterternary": [
           {
            "marker": {
             "colorbar": {
              "outlinewidth": 0,
              "ticks": ""
             }
            },
            "type": "scatterternary"
           }
          ],
          "surface": [
           {
            "colorbar": {
             "outlinewidth": 0,
             "ticks": ""
            },
            "colorscale": [
             [
              0,
              "#0d0887"
             ],
             [
              0.1111111111111111,
              "#46039f"
             ],
             [
              0.2222222222222222,
              "#7201a8"
             ],
             [
              0.3333333333333333,
              "#9c179e"
             ],
             [
              0.4444444444444444,
              "#bd3786"
             ],
             [
              0.5555555555555556,
              "#d8576b"
             ],
             [
              0.6666666666666666,
              "#ed7953"
             ],
             [
              0.7777777777777778,
              "#fb9f3a"
             ],
             [
              0.8888888888888888,
              "#fdca26"
             ],
             [
              1,
              "#f0f921"
             ]
            ],
            "type": "surface"
           }
          ],
          "table": [
           {
            "cells": {
             "fill": {
              "color": "#EBF0F8"
             },
             "line": {
              "color": "white"
             }
            },
            "header": {
             "fill": {
              "color": "#C8D4E3"
             },
             "line": {
              "color": "white"
             }
            },
            "type": "table"
           }
          ]
         },
         "layout": {
          "annotationdefaults": {
           "arrowcolor": "#2a3f5f",
           "arrowhead": 0,
           "arrowwidth": 1
          },
          "autotypenumbers": "strict",
          "coloraxis": {
           "colorbar": {
            "outlinewidth": 0,
            "ticks": ""
           }
          },
          "colorscale": {
           "diverging": [
            [
             0,
             "#8e0152"
            ],
            [
             0.1,
             "#c51b7d"
            ],
            [
             0.2,
             "#de77ae"
            ],
            [
             0.3,
             "#f1b6da"
            ],
            [
             0.4,
             "#fde0ef"
            ],
            [
             0.5,
             "#f7f7f7"
            ],
            [
             0.6,
             "#e6f5d0"
            ],
            [
             0.7,
             "#b8e186"
            ],
            [
             0.8,
             "#7fbc41"
            ],
            [
             0.9,
             "#4d9221"
            ],
            [
             1,
             "#276419"
            ]
           ],
           "sequential": [
            [
             0,
             "#0d0887"
            ],
            [
             0.1111111111111111,
             "#46039f"
            ],
            [
             0.2222222222222222,
             "#7201a8"
            ],
            [
             0.3333333333333333,
             "#9c179e"
            ],
            [
             0.4444444444444444,
             "#bd3786"
            ],
            [
             0.5555555555555556,
             "#d8576b"
            ],
            [
             0.6666666666666666,
             "#ed7953"
            ],
            [
             0.7777777777777778,
             "#fb9f3a"
            ],
            [
             0.8888888888888888,
             "#fdca26"
            ],
            [
             1,
             "#f0f921"
            ]
           ],
           "sequentialminus": [
            [
             0,
             "#0d0887"
            ],
            [
             0.1111111111111111,
             "#46039f"
            ],
            [
             0.2222222222222222,
             "#7201a8"
            ],
            [
             0.3333333333333333,
             "#9c179e"
            ],
            [
             0.4444444444444444,
             "#bd3786"
            ],
            [
             0.5555555555555556,
             "#d8576b"
            ],
            [
             0.6666666666666666,
             "#ed7953"
            ],
            [
             0.7777777777777778,
             "#fb9f3a"
            ],
            [
             0.8888888888888888,
             "#fdca26"
            ],
            [
             1,
             "#f0f921"
            ]
           ]
          },
          "colorway": [
           "#636efa",
           "#EF553B",
           "#00cc96",
           "#ab63fa",
           "#FFA15A",
           "#19d3f3",
           "#FF6692",
           "#B6E880",
           "#FF97FF",
           "#FECB52"
          ],
          "font": {
           "color": "#2a3f5f"
          },
          "geo": {
           "bgcolor": "white",
           "lakecolor": "white",
           "landcolor": "#E5ECF6",
           "showlakes": true,
           "showland": true,
           "subunitcolor": "white"
          },
          "hoverlabel": {
           "align": "left"
          },
          "hovermode": "closest",
          "mapbox": {
           "style": "light"
          },
          "paper_bgcolor": "white",
          "plot_bgcolor": "#E5ECF6",
          "polar": {
           "angularaxis": {
            "gridcolor": "white",
            "linecolor": "white",
            "ticks": ""
           },
           "bgcolor": "#E5ECF6",
           "radialaxis": {
            "gridcolor": "white",
            "linecolor": "white",
            "ticks": ""
           }
          },
          "scene": {
           "xaxis": {
            "backgroundcolor": "#E5ECF6",
            "gridcolor": "white",
            "gridwidth": 2,
            "linecolor": "white",
            "showbackground": true,
            "ticks": "",
            "zerolinecolor": "white"
           },
           "yaxis": {
            "backgroundcolor": "#E5ECF6",
            "gridcolor": "white",
            "gridwidth": 2,
            "linecolor": "white",
            "showbackground": true,
            "ticks": "",
            "zerolinecolor": "white"
           },
           "zaxis": {
            "backgroundcolor": "#E5ECF6",
            "gridcolor": "white",
            "gridwidth": 2,
            "linecolor": "white",
            "showbackground": true,
            "ticks": "",
            "zerolinecolor": "white"
           }
          },
          "shapedefaults": {
           "line": {
            "color": "#2a3f5f"
           }
          },
          "ternary": {
           "aaxis": {
            "gridcolor": "white",
            "linecolor": "white",
            "ticks": ""
           },
           "baxis": {
            "gridcolor": "white",
            "linecolor": "white",
            "ticks": ""
           },
           "bgcolor": "#E5ECF6",
           "caxis": {
            "gridcolor": "white",
            "linecolor": "white",
            "ticks": ""
           }
          },
          "title": {
           "x": 0.05
          },
          "xaxis": {
           "automargin": true,
           "gridcolor": "white",
           "linecolor": "white",
           "ticks": "",
           "title": {
            "standoff": 15
           },
           "zerolinecolor": "white",
           "zerolinewidth": 2
          },
          "yaxis": {
           "automargin": true,
           "gridcolor": "white",
           "linecolor": "white",
           "ticks": "",
           "title": {
            "standoff": 15
           },
           "zerolinecolor": "white",
           "zerolinewidth": 2
          }
         }
        },
        "title": {
         "text": "Number of Startups by Founded Year"
        },
        "xaxis": {
         "anchor": "y",
         "categoryarray": [
          "2016",
          "2015",
          "Not Provided",
          "2017",
          "2014",
          "2013",
          "2012",
          "2018",
          "2010",
          "2011",
          "2008",
          "2005",
          "2006",
          "2004",
          "2009",
          "2000",
          "2002",
          "1997",
          "2007",
          "2003",
          "1957",
          "1984",
          "1999",
          "2001"
         ],
         "categoryorder": "array",
         "domain": [
          0,
          1
         ],
         "title": {
          "text": "Founded Year"
         }
        },
        "yaxis": {
         "anchor": "x",
         "domain": [
          0,
          1
         ],
         "title": {
          "text": "Number of Startups"
         }
        }
       }
      }
     },
     "metadata": {},
     "output_type": "display_data"
    }
   ],
   "source": [
    "import plotly.express as px\n",
    "\n",
    "# Group startups by founded year and count the number of startups in each year\n",
    "startup_year_counts = Startups['Founded Year'].value_counts().reset_index()\n",
    "startup_year_counts.columns = ['Founded Year', 'Count']\n",
    "\n",
    "# Create the Plotly graph\n",
    "fig = px.bar(startup_year_counts, x='Founded Year', y='Count', title='Number of Startups by Founded Year', \n",
    "            labels={'Count': 'Number of Startups', 'Founded Year': 'Founded Year'}, \n",
    "            color='Founded Year', color_continuous_scale=px.colors.sequential.Viridis)\n",
    "\n",
    "# Show the graph\n",
    "fig.show()\n"
   ]
  },
  {
   "cell_type": "code",
   "execution_count": 287,
   "metadata": {},
   "outputs": [
    {
     "name": "stderr",
     "output_type": "stream",
     "text": [
      "C:\\Users\\NimZee\\AppData\\Local\\Temp\\ipykernel_21236\\625640280.py:5: SettingWithCopyWarning:\n",
      "\n",
      "\n",
      "A value is trying to be set on a copy of a slice from a DataFrame.\n",
      "Try using .loc[row_indexer,col_indexer] = value instead\n",
      "\n",
      "See the caveats in the documentation: https://pandas.pydata.org/pandas-docs/stable/user_guide/indexing.html#returning-a-view-versus-a-copy\n",
      "\n"
     ]
    },
    {
     "data": {
      "application/vnd.plotly.v1+json": {
       "config": {
        "plotlyServerURL": "https://plot.ly"
       },
       "data": [
        {
         "hovertemplate": "Founded Year=%{marker.color}<br>Number of Startups=%{marker.size}<extra></extra>",
         "legendgroup": "",
         "marker": {
          "color": [
           2016,
           2015,
           2017,
           2014,
           2013,
           2012,
           2018,
           2010,
           2011,
           2008,
           2005,
           2006,
           2004,
           2009,
           2000,
           2002,
           1997,
           2007,
           2003,
           1957,
           1984,
           1999,
           2001
          ],
          "coloraxis": "coloraxis",
          "size": [
           103,
           88,
           45,
           44,
           16,
           11,
           7,
           7,
           6,
           4,
           4,
           3,
           3,
           2,
           2,
           1,
           1,
           1,
           1,
           1,
           1,
           1,
           1
          ],
          "sizemode": "area",
          "sizeref": 0.2575,
          "symbol": "circle"
         },
         "mode": "markers",
         "name": "",
         "orientation": "v",
         "showlegend": false,
         "type": "scatter",
         "x": [
          2016,
          2015,
          2017,
          2014,
          2013,
          2012,
          2018,
          2010,
          2011,
          2008,
          2005,
          2006,
          2004,
          2009,
          2000,
          2002,
          1997,
          2007,
          2003,
          1957,
          1984,
          1999,
          2001
         ],
         "xaxis": "x",
         "y": [
          103,
          88,
          45,
          44,
          16,
          11,
          7,
          7,
          6,
          4,
          4,
          3,
          3,
          2,
          2,
          1,
          1,
          1,
          1,
          1,
          1,
          1,
          1
         ],
         "yaxis": "y"
        }
       ],
       "layout": {
        "coloraxis": {
         "colorbar": {
          "title": {
           "text": "Founded Year"
          }
         },
         "colorscale": [
          [
           0,
           "#440154"
          ],
          [
           0.1111111111111111,
           "#482878"
          ],
          [
           0.2222222222222222,
           "#3e4989"
          ],
          [
           0.3333333333333333,
           "#31688e"
          ],
          [
           0.4444444444444444,
           "#26828e"
          ],
          [
           0.5555555555555556,
           "#1f9e89"
          ],
          [
           0.6666666666666666,
           "#35b779"
          ],
          [
           0.7777777777777778,
           "#6ece58"
          ],
          [
           0.8888888888888888,
           "#b5de2b"
          ],
          [
           1,
           "#fde725"
          ]
         ]
        },
        "legend": {
         "itemsizing": "constant",
         "tracegroupgap": 0
        },
        "template": {
         "data": {
          "bar": [
           {
            "error_x": {
             "color": "#2a3f5f"
            },
            "error_y": {
             "color": "#2a3f5f"
            },
            "marker": {
             "line": {
              "color": "#E5ECF6",
              "width": 0.5
             },
             "pattern": {
              "fillmode": "overlay",
              "size": 10,
              "solidity": 0.2
             }
            },
            "type": "bar"
           }
          ],
          "barpolar": [
           {
            "marker": {
             "line": {
              "color": "#E5ECF6",
              "width": 0.5
             },
             "pattern": {
              "fillmode": "overlay",
              "size": 10,
              "solidity": 0.2
             }
            },
            "type": "barpolar"
           }
          ],
          "carpet": [
           {
            "aaxis": {
             "endlinecolor": "#2a3f5f",
             "gridcolor": "white",
             "linecolor": "white",
             "minorgridcolor": "white",
             "startlinecolor": "#2a3f5f"
            },
            "baxis": {
             "endlinecolor": "#2a3f5f",
             "gridcolor": "white",
             "linecolor": "white",
             "minorgridcolor": "white",
             "startlinecolor": "#2a3f5f"
            },
            "type": "carpet"
           }
          ],
          "choropleth": [
           {
            "colorbar": {
             "outlinewidth": 0,
             "ticks": ""
            },
            "type": "choropleth"
           }
          ],
          "contour": [
           {
            "colorbar": {
             "outlinewidth": 0,
             "ticks": ""
            },
            "colorscale": [
             [
              0,
              "#0d0887"
             ],
             [
              0.1111111111111111,
              "#46039f"
             ],
             [
              0.2222222222222222,
              "#7201a8"
             ],
             [
              0.3333333333333333,
              "#9c179e"
             ],
             [
              0.4444444444444444,
              "#bd3786"
             ],
             [
              0.5555555555555556,
              "#d8576b"
             ],
             [
              0.6666666666666666,
              "#ed7953"
             ],
             [
              0.7777777777777778,
              "#fb9f3a"
             ],
             [
              0.8888888888888888,
              "#fdca26"
             ],
             [
              1,
              "#f0f921"
             ]
            ],
            "type": "contour"
           }
          ],
          "contourcarpet": [
           {
            "colorbar": {
             "outlinewidth": 0,
             "ticks": ""
            },
            "type": "contourcarpet"
           }
          ],
          "heatmap": [
           {
            "colorbar": {
             "outlinewidth": 0,
             "ticks": ""
            },
            "colorscale": [
             [
              0,
              "#0d0887"
             ],
             [
              0.1111111111111111,
              "#46039f"
             ],
             [
              0.2222222222222222,
              "#7201a8"
             ],
             [
              0.3333333333333333,
              "#9c179e"
             ],
             [
              0.4444444444444444,
              "#bd3786"
             ],
             [
              0.5555555555555556,
              "#d8576b"
             ],
             [
              0.6666666666666666,
              "#ed7953"
             ],
             [
              0.7777777777777778,
              "#fb9f3a"
             ],
             [
              0.8888888888888888,
              "#fdca26"
             ],
             [
              1,
              "#f0f921"
             ]
            ],
            "type": "heatmap"
           }
          ],
          "heatmapgl": [
           {
            "colorbar": {
             "outlinewidth": 0,
             "ticks": ""
            },
            "colorscale": [
             [
              0,
              "#0d0887"
             ],
             [
              0.1111111111111111,
              "#46039f"
             ],
             [
              0.2222222222222222,
              "#7201a8"
             ],
             [
              0.3333333333333333,
              "#9c179e"
             ],
             [
              0.4444444444444444,
              "#bd3786"
             ],
             [
              0.5555555555555556,
              "#d8576b"
             ],
             [
              0.6666666666666666,
              "#ed7953"
             ],
             [
              0.7777777777777778,
              "#fb9f3a"
             ],
             [
              0.8888888888888888,
              "#fdca26"
             ],
             [
              1,
              "#f0f921"
             ]
            ],
            "type": "heatmapgl"
           }
          ],
          "histogram": [
           {
            "marker": {
             "pattern": {
              "fillmode": "overlay",
              "size": 10,
              "solidity": 0.2
             }
            },
            "type": "histogram"
           }
          ],
          "histogram2d": [
           {
            "colorbar": {
             "outlinewidth": 0,
             "ticks": ""
            },
            "colorscale": [
             [
              0,
              "#0d0887"
             ],
             [
              0.1111111111111111,
              "#46039f"
             ],
             [
              0.2222222222222222,
              "#7201a8"
             ],
             [
              0.3333333333333333,
              "#9c179e"
             ],
             [
              0.4444444444444444,
              "#bd3786"
             ],
             [
              0.5555555555555556,
              "#d8576b"
             ],
             [
              0.6666666666666666,
              "#ed7953"
             ],
             [
              0.7777777777777778,
              "#fb9f3a"
             ],
             [
              0.8888888888888888,
              "#fdca26"
             ],
             [
              1,
              "#f0f921"
             ]
            ],
            "type": "histogram2d"
           }
          ],
          "histogram2dcontour": [
           {
            "colorbar": {
             "outlinewidth": 0,
             "ticks": ""
            },
            "colorscale": [
             [
              0,
              "#0d0887"
             ],
             [
              0.1111111111111111,
              "#46039f"
             ],
             [
              0.2222222222222222,
              "#7201a8"
             ],
             [
              0.3333333333333333,
              "#9c179e"
             ],
             [
              0.4444444444444444,
              "#bd3786"
             ],
             [
              0.5555555555555556,
              "#d8576b"
             ],
             [
              0.6666666666666666,
              "#ed7953"
             ],
             [
              0.7777777777777778,
              "#fb9f3a"
             ],
             [
              0.8888888888888888,
              "#fdca26"
             ],
             [
              1,
              "#f0f921"
             ]
            ],
            "type": "histogram2dcontour"
           }
          ],
          "mesh3d": [
           {
            "colorbar": {
             "outlinewidth": 0,
             "ticks": ""
            },
            "type": "mesh3d"
           }
          ],
          "parcoords": [
           {
            "line": {
             "colorbar": {
              "outlinewidth": 0,
              "ticks": ""
             }
            },
            "type": "parcoords"
           }
          ],
          "pie": [
           {
            "automargin": true,
            "type": "pie"
           }
          ],
          "scatter": [
           {
            "fillpattern": {
             "fillmode": "overlay",
             "size": 10,
             "solidity": 0.2
            },
            "type": "scatter"
           }
          ],
          "scatter3d": [
           {
            "line": {
             "colorbar": {
              "outlinewidth": 0,
              "ticks": ""
             }
            },
            "marker": {
             "colorbar": {
              "outlinewidth": 0,
              "ticks": ""
             }
            },
            "type": "scatter3d"
           }
          ],
          "scattercarpet": [
           {
            "marker": {
             "colorbar": {
              "outlinewidth": 0,
              "ticks": ""
             }
            },
            "type": "scattercarpet"
           }
          ],
          "scattergeo": [
           {
            "marker": {
             "colorbar": {
              "outlinewidth": 0,
              "ticks": ""
             }
            },
            "type": "scattergeo"
           }
          ],
          "scattergl": [
           {
            "marker": {
             "colorbar": {
              "outlinewidth": 0,
              "ticks": ""
             }
            },
            "type": "scattergl"
           }
          ],
          "scattermapbox": [
           {
            "marker": {
             "colorbar": {
              "outlinewidth": 0,
              "ticks": ""
             }
            },
            "type": "scattermapbox"
           }
          ],
          "scatterpolar": [
           {
            "marker": {
             "colorbar": {
              "outlinewidth": 0,
              "ticks": ""
             }
            },
            "type": "scatterpolar"
           }
          ],
          "scatterpolargl": [
           {
            "marker": {
             "colorbar": {
              "outlinewidth": 0,
              "ticks": ""
             }
            },
            "type": "scatterpolargl"
           }
          ],
          "scatterternary": [
           {
            "marker": {
             "colorbar": {
              "outlinewidth": 0,
              "ticks": ""
             }
            },
            "type": "scatterternary"
           }
          ],
          "surface": [
           {
            "colorbar": {
             "outlinewidth": 0,
             "ticks": ""
            },
            "colorscale": [
             [
              0,
              "#0d0887"
             ],
             [
              0.1111111111111111,
              "#46039f"
             ],
             [
              0.2222222222222222,
              "#7201a8"
             ],
             [
              0.3333333333333333,
              "#9c179e"
             ],
             [
              0.4444444444444444,
              "#bd3786"
             ],
             [
              0.5555555555555556,
              "#d8576b"
             ],
             [
              0.6666666666666666,
              "#ed7953"
             ],
             [
              0.7777777777777778,
              "#fb9f3a"
             ],
             [
              0.8888888888888888,
              "#fdca26"
             ],
             [
              1,
              "#f0f921"
             ]
            ],
            "type": "surface"
           }
          ],
          "table": [
           {
            "cells": {
             "fill": {
              "color": "#EBF0F8"
             },
             "line": {
              "color": "white"
             }
            },
            "header": {
             "fill": {
              "color": "#C8D4E3"
             },
             "line": {
              "color": "white"
             }
            },
            "type": "table"
           }
          ]
         },
         "layout": {
          "annotationdefaults": {
           "arrowcolor": "#2a3f5f",
           "arrowhead": 0,
           "arrowwidth": 1
          },
          "autotypenumbers": "strict",
          "coloraxis": {
           "colorbar": {
            "outlinewidth": 0,
            "ticks": ""
           }
          },
          "colorscale": {
           "diverging": [
            [
             0,
             "#8e0152"
            ],
            [
             0.1,
             "#c51b7d"
            ],
            [
             0.2,
             "#de77ae"
            ],
            [
             0.3,
             "#f1b6da"
            ],
            [
             0.4,
             "#fde0ef"
            ],
            [
             0.5,
             "#f7f7f7"
            ],
            [
             0.6,
             "#e6f5d0"
            ],
            [
             0.7,
             "#b8e186"
            ],
            [
             0.8,
             "#7fbc41"
            ],
            [
             0.9,
             "#4d9221"
            ],
            [
             1,
             "#276419"
            ]
           ],
           "sequential": [
            [
             0,
             "#0d0887"
            ],
            [
             0.1111111111111111,
             "#46039f"
            ],
            [
             0.2222222222222222,
             "#7201a8"
            ],
            [
             0.3333333333333333,
             "#9c179e"
            ],
            [
             0.4444444444444444,
             "#bd3786"
            ],
            [
             0.5555555555555556,
             "#d8576b"
            ],
            [
             0.6666666666666666,
             "#ed7953"
            ],
            [
             0.7777777777777778,
             "#fb9f3a"
            ],
            [
             0.8888888888888888,
             "#fdca26"
            ],
            [
             1,
             "#f0f921"
            ]
           ],
           "sequentialminus": [
            [
             0,
             "#0d0887"
            ],
            [
             0.1111111111111111,
             "#46039f"
            ],
            [
             0.2222222222222222,
             "#7201a8"
            ],
            [
             0.3333333333333333,
             "#9c179e"
            ],
            [
             0.4444444444444444,
             "#bd3786"
            ],
            [
             0.5555555555555556,
             "#d8576b"
            ],
            [
             0.6666666666666666,
             "#ed7953"
            ],
            [
             0.7777777777777778,
             "#fb9f3a"
            ],
            [
             0.8888888888888888,
             "#fdca26"
            ],
            [
             1,
             "#f0f921"
            ]
           ]
          },
          "colorway": [
           "#636efa",
           "#EF553B",
           "#00cc96",
           "#ab63fa",
           "#FFA15A",
           "#19d3f3",
           "#FF6692",
           "#B6E880",
           "#FF97FF",
           "#FECB52"
          ],
          "font": {
           "color": "#2a3f5f"
          },
          "geo": {
           "bgcolor": "white",
           "lakecolor": "white",
           "landcolor": "#E5ECF6",
           "showlakes": true,
           "showland": true,
           "subunitcolor": "white"
          },
          "hoverlabel": {
           "align": "left"
          },
          "hovermode": "closest",
          "mapbox": {
           "style": "light"
          },
          "paper_bgcolor": "white",
          "plot_bgcolor": "#E5ECF6",
          "polar": {
           "angularaxis": {
            "gridcolor": "white",
            "linecolor": "white",
            "ticks": ""
           },
           "bgcolor": "#E5ECF6",
           "radialaxis": {
            "gridcolor": "white",
            "linecolor": "white",
            "ticks": ""
           }
          },
          "scene": {
           "xaxis": {
            "backgroundcolor": "#E5ECF6",
            "gridcolor": "white",
            "gridwidth": 2,
            "linecolor": "white",
            "showbackground": true,
            "ticks": "",
            "zerolinecolor": "white"
           },
           "yaxis": {
            "backgroundcolor": "#E5ECF6",
            "gridcolor": "white",
            "gridwidth": 2,
            "linecolor": "white",
            "showbackground": true,
            "ticks": "",
            "zerolinecolor": "white"
           },
           "zaxis": {
            "backgroundcolor": "#E5ECF6",
            "gridcolor": "white",
            "gridwidth": 2,
            "linecolor": "white",
            "showbackground": true,
            "ticks": "",
            "zerolinecolor": "white"
           }
          },
          "shapedefaults": {
           "line": {
            "color": "#2a3f5f"
           }
          },
          "ternary": {
           "aaxis": {
            "gridcolor": "white",
            "linecolor": "white",
            "ticks": ""
           },
           "baxis": {
            "gridcolor": "white",
            "linecolor": "white",
            "ticks": ""
           },
           "bgcolor": "#E5ECF6",
           "caxis": {
            "gridcolor": "white",
            "linecolor": "white",
            "ticks": ""
           }
          },
          "title": {
           "x": 0.05
          },
          "xaxis": {
           "automargin": true,
           "gridcolor": "white",
           "linecolor": "white",
           "ticks": "",
           "title": {
            "standoff": 15
           },
           "zerolinecolor": "white",
           "zerolinewidth": 2
          },
          "yaxis": {
           "automargin": true,
           "gridcolor": "white",
           "linecolor": "white",
           "ticks": "",
           "title": {
            "standoff": 15
           },
           "zerolinecolor": "white",
           "zerolinewidth": 2
          }
         }
        },
        "title": {
         "text": "Number of Startups by Founded Year"
        },
        "xaxis": {
         "anchor": "y",
         "domain": [
          0,
          1
         ],
         "title": {
          "text": "Founded Year"
         }
        },
        "yaxis": {
         "anchor": "x",
         "domain": [
          0,
          1
         ],
         "title": {
          "text": "Number of Startups"
         }
        }
       }
      }
     },
     "metadata": {},
     "output_type": "display_data"
    }
   ],
   "source": [
    "# Filter out rows with 'Not Provided' in the 'Founded_Year' column\n",
    "filtered_startups = Startups[Startups['Founded Year'] != 'Not Provided']\n",
    "\n",
    "# Convert 'Founded_Year' column to numeric (assuming it's a numerical column)\n",
    "filtered_startups['Founded Year'] = pd.to_numeric(filtered_startups['Founded Year'], errors='coerce')\n",
    "\n",
    "# Drop rows with NaN values in 'Founded_Year' column\n",
    "filtered_startups = filtered_startups.dropna(subset=['Founded Year'])\n",
    "\n",
    "# Group startups by founded year and count the number of startups in each year\n",
    "startup_year_counts = filtered_startups['Founded Year'].value_counts().reset_index()\n",
    "startup_year_counts.columns = ['Founded Year', 'Count']\n",
    "\n",
    "# Create the Plotly bubble plot\n",
    "fig = px.scatter(startup_year_counts, x='Founded Year', y='Count', size='Count', \n",
    "                title='Number of Startups by Founded Year', \n",
    "                labels={'Count': 'Number of Startups', 'Founded Year': 'Founded Year'},\n",
    "                color='Founded Year', color_continuous_scale=px.colors.sequential.Viridis)\n",
    "\n",
    "# Show the bubble plot\n",
    "fig.show()\n"
   ]
  },
  {
   "cell_type": "code",
   "execution_count": 291,
   "metadata": {},
   "outputs": [
    {
     "name": "stderr",
     "output_type": "stream",
     "text": [
      "C:\\Users\\NimZee\\AppData\\Local\\Temp\\ipykernel_21236\\2287344049.py:7: SettingWithCopyWarning:\n",
      "\n",
      "\n",
      "A value is trying to be set on a copy of a slice from a DataFrame.\n",
      "Try using .loc[row_indexer,col_indexer] = value instead\n",
      "\n",
      "See the caveats in the documentation: https://pandas.pydata.org/pandas-docs/stable/user_guide/indexing.html#returning-a-view-versus-a-copy\n",
      "\n"
     ]
    },
    {
     "data": {
      "application/vnd.plotly.v1+json": {
       "config": {
        "plotlyServerURL": "https://plot.ly"
       },
       "data": [
        {
         "hovertemplate": "Founded Year=%{marker.color}<br>Number of Startups=%{marker.size}<extra></extra>",
         "legendgroup": "",
         "marker": {
          "color": [
           1957,
           1984,
           1997,
           1999,
           2000,
           2001,
           2002,
           2003,
           2004,
           2005,
           2006,
           2007,
           2008,
           2009,
           2010,
           2011,
           2012,
           2013,
           2014,
           2015,
           2016,
           2017,
           2018
          ],
          "coloraxis": "coloraxis",
          "size": [
           1,
           1,
           1,
           1,
           2,
           1,
           1,
           1,
           3,
           4,
           3,
           1,
           4,
           2,
           7,
           6,
           11,
           16,
           44,
           88,
           103,
           45,
           7
          ],
          "sizemode": "area",
          "sizeref": 0.2575,
          "symbol": "circle"
         },
         "mode": "markers",
         "name": "",
         "orientation": "v",
         "showlegend": false,
         "type": "scatter",
         "x": [
          1957,
          1984,
          1997,
          1999,
          2000,
          2001,
          2002,
          2003,
          2004,
          2005,
          2006,
          2007,
          2008,
          2009,
          2010,
          2011,
          2012,
          2013,
          2014,
          2015,
          2016,
          2017,
          2018
         ],
         "xaxis": "x",
         "y": [
          1,
          1,
          1,
          1,
          2,
          1,
          1,
          1,
          3,
          4,
          3,
          1,
          4,
          2,
          7,
          6,
          11,
          16,
          44,
          88,
          103,
          45,
          7
         ],
         "yaxis": "y"
        }
       ],
       "layout": {
        "coloraxis": {
         "colorbar": {
          "title": {
           "text": "Founded Year"
          }
         },
         "colorscale": [
          [
           0,
           "#440154"
          ],
          [
           0.1111111111111111,
           "#482878"
          ],
          [
           0.2222222222222222,
           "#3e4989"
          ],
          [
           0.3333333333333333,
           "#31688e"
          ],
          [
           0.4444444444444444,
           "#26828e"
          ],
          [
           0.5555555555555556,
           "#1f9e89"
          ],
          [
           0.6666666666666666,
           "#35b779"
          ],
          [
           0.7777777777777778,
           "#6ece58"
          ],
          [
           0.8888888888888888,
           "#b5de2b"
          ],
          [
           1,
           "#fde725"
          ]
         ]
        },
        "legend": {
         "itemsizing": "constant",
         "tracegroupgap": 0
        },
        "template": {
         "data": {
          "bar": [
           {
            "error_x": {
             "color": "#2a3f5f"
            },
            "error_y": {
             "color": "#2a3f5f"
            },
            "marker": {
             "line": {
              "color": "#E5ECF6",
              "width": 0.5
             },
             "pattern": {
              "fillmode": "overlay",
              "size": 10,
              "solidity": 0.2
             }
            },
            "type": "bar"
           }
          ],
          "barpolar": [
           {
            "marker": {
             "line": {
              "color": "#E5ECF6",
              "width": 0.5
             },
             "pattern": {
              "fillmode": "overlay",
              "size": 10,
              "solidity": 0.2
             }
            },
            "type": "barpolar"
           }
          ],
          "carpet": [
           {
            "aaxis": {
             "endlinecolor": "#2a3f5f",
             "gridcolor": "white",
             "linecolor": "white",
             "minorgridcolor": "white",
             "startlinecolor": "#2a3f5f"
            },
            "baxis": {
             "endlinecolor": "#2a3f5f",
             "gridcolor": "white",
             "linecolor": "white",
             "minorgridcolor": "white",
             "startlinecolor": "#2a3f5f"
            },
            "type": "carpet"
           }
          ],
          "choropleth": [
           {
            "colorbar": {
             "outlinewidth": 0,
             "ticks": ""
            },
            "type": "choropleth"
           }
          ],
          "contour": [
           {
            "colorbar": {
             "outlinewidth": 0,
             "ticks": ""
            },
            "colorscale": [
             [
              0,
              "#0d0887"
             ],
             [
              0.1111111111111111,
              "#46039f"
             ],
             [
              0.2222222222222222,
              "#7201a8"
             ],
             [
              0.3333333333333333,
              "#9c179e"
             ],
             [
              0.4444444444444444,
              "#bd3786"
             ],
             [
              0.5555555555555556,
              "#d8576b"
             ],
             [
              0.6666666666666666,
              "#ed7953"
             ],
             [
              0.7777777777777778,
              "#fb9f3a"
             ],
             [
              0.8888888888888888,
              "#fdca26"
             ],
             [
              1,
              "#f0f921"
             ]
            ],
            "type": "contour"
           }
          ],
          "contourcarpet": [
           {
            "colorbar": {
             "outlinewidth": 0,
             "ticks": ""
            },
            "type": "contourcarpet"
           }
          ],
          "heatmap": [
           {
            "colorbar": {
             "outlinewidth": 0,
             "ticks": ""
            },
            "colorscale": [
             [
              0,
              "#0d0887"
             ],
             [
              0.1111111111111111,
              "#46039f"
             ],
             [
              0.2222222222222222,
              "#7201a8"
             ],
             [
              0.3333333333333333,
              "#9c179e"
             ],
             [
              0.4444444444444444,
              "#bd3786"
             ],
             [
              0.5555555555555556,
              "#d8576b"
             ],
             [
              0.6666666666666666,
              "#ed7953"
             ],
             [
              0.7777777777777778,
              "#fb9f3a"
             ],
             [
              0.8888888888888888,
              "#fdca26"
             ],
             [
              1,
              "#f0f921"
             ]
            ],
            "type": "heatmap"
           }
          ],
          "heatmapgl": [
           {
            "colorbar": {
             "outlinewidth": 0,
             "ticks": ""
            },
            "colorscale": [
             [
              0,
              "#0d0887"
             ],
             [
              0.1111111111111111,
              "#46039f"
             ],
             [
              0.2222222222222222,
              "#7201a8"
             ],
             [
              0.3333333333333333,
              "#9c179e"
             ],
             [
              0.4444444444444444,
              "#bd3786"
             ],
             [
              0.5555555555555556,
              "#d8576b"
             ],
             [
              0.6666666666666666,
              "#ed7953"
             ],
             [
              0.7777777777777778,
              "#fb9f3a"
             ],
             [
              0.8888888888888888,
              "#fdca26"
             ],
             [
              1,
              "#f0f921"
             ]
            ],
            "type": "heatmapgl"
           }
          ],
          "histogram": [
           {
            "marker": {
             "pattern": {
              "fillmode": "overlay",
              "size": 10,
              "solidity": 0.2
             }
            },
            "type": "histogram"
           }
          ],
          "histogram2d": [
           {
            "colorbar": {
             "outlinewidth": 0,
             "ticks": ""
            },
            "colorscale": [
             [
              0,
              "#0d0887"
             ],
             [
              0.1111111111111111,
              "#46039f"
             ],
             [
              0.2222222222222222,
              "#7201a8"
             ],
             [
              0.3333333333333333,
              "#9c179e"
             ],
             [
              0.4444444444444444,
              "#bd3786"
             ],
             [
              0.5555555555555556,
              "#d8576b"
             ],
             [
              0.6666666666666666,
              "#ed7953"
             ],
             [
              0.7777777777777778,
              "#fb9f3a"
             ],
             [
              0.8888888888888888,
              "#fdca26"
             ],
             [
              1,
              "#f0f921"
             ]
            ],
            "type": "histogram2d"
           }
          ],
          "histogram2dcontour": [
           {
            "colorbar": {
             "outlinewidth": 0,
             "ticks": ""
            },
            "colorscale": [
             [
              0,
              "#0d0887"
             ],
             [
              0.1111111111111111,
              "#46039f"
             ],
             [
              0.2222222222222222,
              "#7201a8"
             ],
             [
              0.3333333333333333,
              "#9c179e"
             ],
             [
              0.4444444444444444,
              "#bd3786"
             ],
             [
              0.5555555555555556,
              "#d8576b"
             ],
             [
              0.6666666666666666,
              "#ed7953"
             ],
             [
              0.7777777777777778,
              "#fb9f3a"
             ],
             [
              0.8888888888888888,
              "#fdca26"
             ],
             [
              1,
              "#f0f921"
             ]
            ],
            "type": "histogram2dcontour"
           }
          ],
          "mesh3d": [
           {
            "colorbar": {
             "outlinewidth": 0,
             "ticks": ""
            },
            "type": "mesh3d"
           }
          ],
          "parcoords": [
           {
            "line": {
             "colorbar": {
              "outlinewidth": 0,
              "ticks": ""
             }
            },
            "type": "parcoords"
           }
          ],
          "pie": [
           {
            "automargin": true,
            "type": "pie"
           }
          ],
          "scatter": [
           {
            "fillpattern": {
             "fillmode": "overlay",
             "size": 10,
             "solidity": 0.2
            },
            "type": "scatter"
           }
          ],
          "scatter3d": [
           {
            "line": {
             "colorbar": {
              "outlinewidth": 0,
              "ticks": ""
             }
            },
            "marker": {
             "colorbar": {
              "outlinewidth": 0,
              "ticks": ""
             }
            },
            "type": "scatter3d"
           }
          ],
          "scattercarpet": [
           {
            "marker": {
             "colorbar": {
              "outlinewidth": 0,
              "ticks": ""
             }
            },
            "type": "scattercarpet"
           }
          ],
          "scattergeo": [
           {
            "marker": {
             "colorbar": {
              "outlinewidth": 0,
              "ticks": ""
             }
            },
            "type": "scattergeo"
           }
          ],
          "scattergl": [
           {
            "marker": {
             "colorbar": {
              "outlinewidth": 0,
              "ticks": ""
             }
            },
            "type": "scattergl"
           }
          ],
          "scattermapbox": [
           {
            "marker": {
             "colorbar": {
              "outlinewidth": 0,
              "ticks": ""
             }
            },
            "type": "scattermapbox"
           }
          ],
          "scatterpolar": [
           {
            "marker": {
             "colorbar": {
              "outlinewidth": 0,
              "ticks": ""
             }
            },
            "type": "scatterpolar"
           }
          ],
          "scatterpolargl": [
           {
            "marker": {
             "colorbar": {
              "outlinewidth": 0,
              "ticks": ""
             }
            },
            "type": "scatterpolargl"
           }
          ],
          "scatterternary": [
           {
            "marker": {
             "colorbar": {
              "outlinewidth": 0,
              "ticks": ""
             }
            },
            "type": "scatterternary"
           }
          ],
          "surface": [
           {
            "colorbar": {
             "outlinewidth": 0,
             "ticks": ""
            },
            "colorscale": [
             [
              0,
              "#0d0887"
             ],
             [
              0.1111111111111111,
              "#46039f"
             ],
             [
              0.2222222222222222,
              "#7201a8"
             ],
             [
              0.3333333333333333,
              "#9c179e"
             ],
             [
              0.4444444444444444,
              "#bd3786"
             ],
             [
              0.5555555555555556,
              "#d8576b"
             ],
             [
              0.6666666666666666,
              "#ed7953"
             ],
             [
              0.7777777777777778,
              "#fb9f3a"
             ],
             [
              0.8888888888888888,
              "#fdca26"
             ],
             [
              1,
              "#f0f921"
             ]
            ],
            "type": "surface"
           }
          ],
          "table": [
           {
            "cells": {
             "fill": {
              "color": "#EBF0F8"
             },
             "line": {
              "color": "white"
             }
            },
            "header": {
             "fill": {
              "color": "#C8D4E3"
             },
             "line": {
              "color": "white"
             }
            },
            "type": "table"
           }
          ]
         },
         "layout": {
          "annotationdefaults": {
           "arrowcolor": "#2a3f5f",
           "arrowhead": 0,
           "arrowwidth": 1
          },
          "autotypenumbers": "strict",
          "coloraxis": {
           "colorbar": {
            "outlinewidth": 0,
            "ticks": ""
           }
          },
          "colorscale": {
           "diverging": [
            [
             0,
             "#8e0152"
            ],
            [
             0.1,
             "#c51b7d"
            ],
            [
             0.2,
             "#de77ae"
            ],
            [
             0.3,
             "#f1b6da"
            ],
            [
             0.4,
             "#fde0ef"
            ],
            [
             0.5,
             "#f7f7f7"
            ],
            [
             0.6,
             "#e6f5d0"
            ],
            [
             0.7,
             "#b8e186"
            ],
            [
             0.8,
             "#7fbc41"
            ],
            [
             0.9,
             "#4d9221"
            ],
            [
             1,
             "#276419"
            ]
           ],
           "sequential": [
            [
             0,
             "#0d0887"
            ],
            [
             0.1111111111111111,
             "#46039f"
            ],
            [
             0.2222222222222222,
             "#7201a8"
            ],
            [
             0.3333333333333333,
             "#9c179e"
            ],
            [
             0.4444444444444444,
             "#bd3786"
            ],
            [
             0.5555555555555556,
             "#d8576b"
            ],
            [
             0.6666666666666666,
             "#ed7953"
            ],
            [
             0.7777777777777778,
             "#fb9f3a"
            ],
            [
             0.8888888888888888,
             "#fdca26"
            ],
            [
             1,
             "#f0f921"
            ]
           ],
           "sequentialminus": [
            [
             0,
             "#0d0887"
            ],
            [
             0.1111111111111111,
             "#46039f"
            ],
            [
             0.2222222222222222,
             "#7201a8"
            ],
            [
             0.3333333333333333,
             "#9c179e"
            ],
            [
             0.4444444444444444,
             "#bd3786"
            ],
            [
             0.5555555555555556,
             "#d8576b"
            ],
            [
             0.6666666666666666,
             "#ed7953"
            ],
            [
             0.7777777777777778,
             "#fb9f3a"
            ],
            [
             0.8888888888888888,
             "#fdca26"
            ],
            [
             1,
             "#f0f921"
            ]
           ]
          },
          "colorway": [
           "#636efa",
           "#EF553B",
           "#00cc96",
           "#ab63fa",
           "#FFA15A",
           "#19d3f3",
           "#FF6692",
           "#B6E880",
           "#FF97FF",
           "#FECB52"
          ],
          "font": {
           "color": "#2a3f5f"
          },
          "geo": {
           "bgcolor": "white",
           "lakecolor": "white",
           "landcolor": "#E5ECF6",
           "showlakes": true,
           "showland": true,
           "subunitcolor": "white"
          },
          "hoverlabel": {
           "align": "left"
          },
          "hovermode": "closest",
          "mapbox": {
           "style": "light"
          },
          "paper_bgcolor": "white",
          "plot_bgcolor": "#E5ECF6",
          "polar": {
           "angularaxis": {
            "gridcolor": "white",
            "linecolor": "white",
            "ticks": ""
           },
           "bgcolor": "#E5ECF6",
           "radialaxis": {
            "gridcolor": "white",
            "linecolor": "white",
            "ticks": ""
           }
          },
          "scene": {
           "xaxis": {
            "backgroundcolor": "#E5ECF6",
            "gridcolor": "white",
            "gridwidth": 2,
            "linecolor": "white",
            "showbackground": true,
            "ticks": "",
            "zerolinecolor": "white"
           },
           "yaxis": {
            "backgroundcolor": "#E5ECF6",
            "gridcolor": "white",
            "gridwidth": 2,
            "linecolor": "white",
            "showbackground": true,
            "ticks": "",
            "zerolinecolor": "white"
           },
           "zaxis": {
            "backgroundcolor": "#E5ECF6",
            "gridcolor": "white",
            "gridwidth": 2,
            "linecolor": "white",
            "showbackground": true,
            "ticks": "",
            "zerolinecolor": "white"
           }
          },
          "shapedefaults": {
           "line": {
            "color": "#2a3f5f"
           }
          },
          "ternary": {
           "aaxis": {
            "gridcolor": "white",
            "linecolor": "white",
            "ticks": ""
           },
           "baxis": {
            "gridcolor": "white",
            "linecolor": "white",
            "ticks": ""
           },
           "bgcolor": "#E5ECF6",
           "caxis": {
            "gridcolor": "white",
            "linecolor": "white",
            "ticks": ""
           }
          },
          "title": {
           "x": 0.05
          },
          "xaxis": {
           "automargin": true,
           "gridcolor": "white",
           "linecolor": "white",
           "ticks": "",
           "title": {
            "standoff": 15
           },
           "zerolinecolor": "white",
           "zerolinewidth": 2
          },
          "yaxis": {
           "automargin": true,
           "gridcolor": "white",
           "linecolor": "white",
           "ticks": "",
           "title": {
            "standoff": 15
           },
           "zerolinecolor": "white",
           "zerolinewidth": 2
          }
         }
        },
        "title": {
         "text": "Number of Startups by Founded Year"
        },
        "xaxis": {
         "anchor": "y",
         "domain": [
          0,
          1
         ],
         "title": {
          "text": "Founded Year"
         }
        },
        "yaxis": {
         "anchor": "x",
         "domain": [
          0,
          1
         ],
         "title": {
          "text": "Number of Startups"
         }
        }
       }
      }
     },
     "metadata": {},
     "output_type": "display_data"
    }
   ],
   "source": [
    "import plotly.express as px\n",
    "\n",
    "# Filter out rows with 'Not Provided' in the 'Founded_Year' column\n",
    "filtered_startups = Startups[Startups['Founded Year'] != 'Not Provided']\n",
    "\n",
    "# Convert 'Founded_Year' column to numeric (assuming it's a numerical column)\n",
    "filtered_startups['Founded Year'] = pd.to_numeric(filtered_startups['Founded Year'], errors='coerce')\n",
    "\n",
    "# Drop rows with NaN values in 'Founded_Year' column\n",
    "filtered_startups = filtered_startups.dropna(subset=['Founded Year'])\n",
    "\n",
    "# Group startups by founded year and count the number of startups in each year\n",
    "startup_year_counts = filtered_startups['Founded Year'].value_counts().reset_index()\n",
    "startup_year_counts.columns = ['Founded Year', 'Count']\n",
    "\n",
    "# Sort startup_year_counts DataFrame by 'Founded_Year' column in ascending order\n",
    "startup_year_counts = startup_year_counts.sort_values(by='Founded Year', ascending=True)\n",
    "\n",
    "# Create the Plotly bubble plot\n",
    "fig = px.scatter(startup_year_counts, x='Founded Year', y='Count', size='Count', \n",
    "                 title='Number of Startups by Founded Year', \n",
    "                 labels={'Count': 'Number of Startups', 'Founded Year': 'Founded Year'},\n",
    "                 color='Founded Year', color_continuous_scale=px.colors.sequential.Viridis)\n",
    "\n",
    "# Show the bubble plot\n",
    "fig.show()\n"
   ]
  },
  {
   "cell_type": "code",
   "execution_count": 293,
   "metadata": {},
   "outputs": [
    {
     "name": "stderr",
     "output_type": "stream",
     "text": [
      "C:\\Users\\NimZee\\AppData\\Local\\Temp\\ipykernel_21236\\2223788024.py:8: SettingWithCopyWarning:\n",
      "\n",
      "\n",
      "A value is trying to be set on a copy of a slice from a DataFrame.\n",
      "Try using .loc[row_indexer,col_indexer] = value instead\n",
      "\n",
      "See the caveats in the documentation: https://pandas.pydata.org/pandas-docs/stable/user_guide/indexing.html#returning-a-view-versus-a-copy\n",
      "\n"
     ]
    },
    {
     "ename": "ValueError",
     "evalue": "Value of 'color' is not the name of a column in 'data_frame'. Expected one of ['Founded Year', 'Count'] but received: Category",
     "output_type": "error",
     "traceback": [
      "\u001b[1;31m---------------------------------------------------------------------------\u001b[0m",
      "\u001b[1;31mValueError\u001b[0m                                Traceback (most recent call last)",
      "Cell \u001b[1;32mIn[293], line 21\u001b[0m\n\u001b[0;32m     18\u001b[0m startup_year_counts \u001b[38;5;241m=\u001b[39m startup_year_counts\u001b[38;5;241m.\u001b[39msort_values(by\u001b[38;5;241m=\u001b[39m\u001b[38;5;124m'\u001b[39m\u001b[38;5;124mFounded Year\u001b[39m\u001b[38;5;124m'\u001b[39m, ascending\u001b[38;5;241m=\u001b[39m\u001b[38;5;28;01mTrue\u001b[39;00m)\n\u001b[0;32m     20\u001b[0m \u001b[38;5;66;03m# Create the Plotly bubble plot\u001b[39;00m\n\u001b[1;32m---> 21\u001b[0m fig \u001b[38;5;241m=\u001b[39m \u001b[43mpx\u001b[49m\u001b[38;5;241;43m.\u001b[39;49m\u001b[43mscatter\u001b[49m\u001b[43m(\u001b[49m\u001b[43mstartup_year_counts\u001b[49m\u001b[43m,\u001b[49m\u001b[43m \u001b[49m\u001b[43mx\u001b[49m\u001b[38;5;241;43m=\u001b[39;49m\u001b[38;5;124;43m'\u001b[39;49m\u001b[38;5;124;43mFounded Year\u001b[39;49m\u001b[38;5;124;43m'\u001b[39;49m\u001b[43m,\u001b[49m\u001b[43m \u001b[49m\u001b[43my\u001b[49m\u001b[38;5;241;43m=\u001b[39;49m\u001b[38;5;124;43m'\u001b[39;49m\u001b[38;5;124;43mCount\u001b[39;49m\u001b[38;5;124;43m'\u001b[39;49m\u001b[43m,\u001b[49m\u001b[43m \u001b[49m\u001b[43msize\u001b[49m\u001b[38;5;241;43m=\u001b[39;49m\u001b[38;5;124;43m'\u001b[39;49m\u001b[38;5;124;43mCount\u001b[39;49m\u001b[38;5;124;43m'\u001b[39;49m\u001b[43m,\u001b[49m\u001b[43m \u001b[49m\n\u001b[0;32m     22\u001b[0m \u001b[43m                 \u001b[49m\u001b[43mtitle\u001b[49m\u001b[38;5;241;43m=\u001b[39;49m\u001b[38;5;124;43m'\u001b[39;49m\u001b[38;5;124;43mNumber of Startups by Founded Year\u001b[39;49m\u001b[38;5;124;43m'\u001b[39;49m\u001b[43m,\u001b[49m\u001b[43m \u001b[49m\n\u001b[0;32m     23\u001b[0m \u001b[43m                 \u001b[49m\u001b[43mlabels\u001b[49m\u001b[38;5;241;43m=\u001b[39;49m\u001b[43m{\u001b[49m\u001b[38;5;124;43m'\u001b[39;49m\u001b[38;5;124;43mCount\u001b[39;49m\u001b[38;5;124;43m'\u001b[39;49m\u001b[43m:\u001b[49m\u001b[43m \u001b[49m\u001b[38;5;124;43m'\u001b[39;49m\u001b[38;5;124;43mNumber of Startups\u001b[39;49m\u001b[38;5;124;43m'\u001b[39;49m\u001b[43m,\u001b[49m\u001b[43m \u001b[49m\u001b[38;5;124;43m'\u001b[39;49m\u001b[38;5;124;43mFounded Year\u001b[39;49m\u001b[38;5;124;43m'\u001b[39;49m\u001b[43m:\u001b[49m\u001b[43m \u001b[49m\u001b[38;5;124;43m'\u001b[39;49m\u001b[38;5;124;43mFounded Year\u001b[39;49m\u001b[38;5;124;43m'\u001b[39;49m\u001b[43m}\u001b[49m\u001b[43m,\u001b[49m\n\u001b[0;32m     24\u001b[0m \u001b[43m                 \u001b[49m\u001b[43mcolor\u001b[49m\u001b[38;5;241;43m=\u001b[39;49m\u001b[38;5;124;43m'\u001b[39;49m\u001b[38;5;124;43mCategory\u001b[39;49m\u001b[38;5;124;43m'\u001b[39;49m\u001b[43m,\u001b[49m\u001b[43m \u001b[49m\u001b[43mcolor_continuous_scale\u001b[49m\u001b[38;5;241;43m=\u001b[39;49m\u001b[43mpx\u001b[49m\u001b[38;5;241;43m.\u001b[39;49m\u001b[43mcolors\u001b[49m\u001b[38;5;241;43m.\u001b[39;49m\u001b[43msequential\u001b[49m\u001b[38;5;241;43m.\u001b[39;49m\u001b[43mViridis\u001b[49m\u001b[43m)\u001b[49m\n\u001b[0;32m     26\u001b[0m \u001b[38;5;66;03m# Add a range slider for selecting the range of years\u001b[39;00m\n\u001b[0;32m     27\u001b[0m fig\u001b[38;5;241m.\u001b[39mupdate_layout(\n\u001b[0;32m     28\u001b[0m     xaxis\u001b[38;5;241m=\u001b[39m\u001b[38;5;28mdict\u001b[39m(\n\u001b[0;32m     29\u001b[0m         rangeslider\u001b[38;5;241m=\u001b[39m\u001b[38;5;28mdict\u001b[39m(\n\u001b[1;32m   (...)\u001b[0m\n\u001b[0;32m     33\u001b[0m     )\n\u001b[0;32m     34\u001b[0m )\n",
      "File \u001b[1;32m~\\AppData\\Local\\Packages\\PythonSoftwareFoundation.Python.3.10_qbz5n2kfra8p0\\LocalCache\\local-packages\\Python310\\site-packages\\plotly\\express\\_chart_types.py:66\u001b[0m, in \u001b[0;36mscatter\u001b[1;34m(data_frame, x, y, color, symbol, size, hover_name, hover_data, custom_data, text, facet_row, facet_col, facet_col_wrap, facet_row_spacing, facet_col_spacing, error_x, error_x_minus, error_y, error_y_minus, animation_frame, animation_group, category_orders, labels, orientation, color_discrete_sequence, color_discrete_map, color_continuous_scale, range_color, color_continuous_midpoint, symbol_sequence, symbol_map, opacity, size_max, marginal_x, marginal_y, trendline, trendline_options, trendline_color_override, trendline_scope, log_x, log_y, range_x, range_y, render_mode, title, template, width, height)\u001b[0m\n\u001b[0;32m     12\u001b[0m \u001b[38;5;28;01mdef\u001b[39;00m \u001b[38;5;21mscatter\u001b[39m(\n\u001b[0;32m     13\u001b[0m     data_frame\u001b[38;5;241m=\u001b[39m\u001b[38;5;28;01mNone\u001b[39;00m,\n\u001b[0;32m     14\u001b[0m     x\u001b[38;5;241m=\u001b[39m\u001b[38;5;28;01mNone\u001b[39;00m,\n\u001b[1;32m   (...)\u001b[0m\n\u001b[0;32m     60\u001b[0m     height\u001b[38;5;241m=\u001b[39m\u001b[38;5;28;01mNone\u001b[39;00m,\n\u001b[0;32m     61\u001b[0m ) \u001b[38;5;241m-\u001b[39m\u001b[38;5;241m>\u001b[39m go\u001b[38;5;241m.\u001b[39mFigure:\n\u001b[0;32m     62\u001b[0m \u001b[38;5;250m    \u001b[39m\u001b[38;5;124;03m\"\"\"\u001b[39;00m\n\u001b[0;32m     63\u001b[0m \u001b[38;5;124;03m    In a scatter plot, each row of `data_frame` is represented by a symbol\u001b[39;00m\n\u001b[0;32m     64\u001b[0m \u001b[38;5;124;03m    mark in 2D space.\u001b[39;00m\n\u001b[0;32m     65\u001b[0m \u001b[38;5;124;03m    \"\"\"\u001b[39;00m\n\u001b[1;32m---> 66\u001b[0m     \u001b[38;5;28;01mreturn\u001b[39;00m \u001b[43mmake_figure\u001b[49m\u001b[43m(\u001b[49m\u001b[43margs\u001b[49m\u001b[38;5;241;43m=\u001b[39;49m\u001b[38;5;28;43mlocals\u001b[39;49m\u001b[43m(\u001b[49m\u001b[43m)\u001b[49m\u001b[43m,\u001b[49m\u001b[43m \u001b[49m\u001b[43mconstructor\u001b[49m\u001b[38;5;241;43m=\u001b[39;49m\u001b[43mgo\u001b[49m\u001b[38;5;241;43m.\u001b[39;49m\u001b[43mScatter\u001b[49m\u001b[43m)\u001b[49m\n",
      "File \u001b[1;32m~\\AppData\\Local\\Packages\\PythonSoftwareFoundation.Python.3.10_qbz5n2kfra8p0\\LocalCache\\local-packages\\Python310\\site-packages\\plotly\\express\\_core.py:2076\u001b[0m, in \u001b[0;36mmake_figure\u001b[1;34m(args, constructor, trace_patch, layout_patch)\u001b[0m\n\u001b[0;32m   2073\u001b[0m layout_patch \u001b[38;5;241m=\u001b[39m layout_patch \u001b[38;5;129;01mor\u001b[39;00m {}\n\u001b[0;32m   2074\u001b[0m apply_default_cascade(args)\n\u001b[1;32m-> 2076\u001b[0m args \u001b[38;5;241m=\u001b[39m \u001b[43mbuild_dataframe\u001b[49m\u001b[43m(\u001b[49m\u001b[43margs\u001b[49m\u001b[43m,\u001b[49m\u001b[43m \u001b[49m\u001b[43mconstructor\u001b[49m\u001b[43m)\u001b[49m\n\u001b[0;32m   2077\u001b[0m \u001b[38;5;28;01mif\u001b[39;00m constructor \u001b[38;5;129;01min\u001b[39;00m [go\u001b[38;5;241m.\u001b[39mTreemap, go\u001b[38;5;241m.\u001b[39mSunburst, go\u001b[38;5;241m.\u001b[39mIcicle] \u001b[38;5;129;01mand\u001b[39;00m args[\u001b[38;5;124m\"\u001b[39m\u001b[38;5;124mpath\u001b[39m\u001b[38;5;124m\"\u001b[39m] \u001b[38;5;129;01mis\u001b[39;00m \u001b[38;5;129;01mnot\u001b[39;00m \u001b[38;5;28;01mNone\u001b[39;00m:\n\u001b[0;32m   2078\u001b[0m     args \u001b[38;5;241m=\u001b[39m process_dataframe_hierarchy(args)\n",
      "File \u001b[1;32m~\\AppData\\Local\\Packages\\PythonSoftwareFoundation.Python.3.10_qbz5n2kfra8p0\\LocalCache\\local-packages\\Python310\\site-packages\\plotly\\express\\_core.py:1485\u001b[0m, in \u001b[0;36mbuild_dataframe\u001b[1;34m(args, constructor)\u001b[0m\n\u001b[0;32m   1482\u001b[0m     args[\u001b[38;5;124m\"\u001b[39m\u001b[38;5;124mcolor\u001b[39m\u001b[38;5;124m\"\u001b[39m] \u001b[38;5;241m=\u001b[39m \u001b[38;5;28;01mNone\u001b[39;00m\n\u001b[0;32m   1483\u001b[0m \u001b[38;5;66;03m# now that things have been prepped, we do the systematic rewriting of `args`\u001b[39;00m\n\u001b[1;32m-> 1485\u001b[0m df_output, wide_id_vars \u001b[38;5;241m=\u001b[39m \u001b[43mprocess_args_into_dataframe\u001b[49m\u001b[43m(\u001b[49m\n\u001b[0;32m   1486\u001b[0m \u001b[43m    \u001b[49m\u001b[43margs\u001b[49m\u001b[43m,\u001b[49m\u001b[43m \u001b[49m\u001b[43mwide_mode\u001b[49m\u001b[43m,\u001b[49m\u001b[43m \u001b[49m\u001b[43mvar_name\u001b[49m\u001b[43m,\u001b[49m\u001b[43m \u001b[49m\u001b[43mvalue_name\u001b[49m\n\u001b[0;32m   1487\u001b[0m \u001b[43m\u001b[49m\u001b[43m)\u001b[49m\n\u001b[0;32m   1489\u001b[0m \u001b[38;5;66;03m# now that `df_output` exists and `args` contains only references, we complete\u001b[39;00m\n\u001b[0;32m   1490\u001b[0m \u001b[38;5;66;03m# the special-case and wide-mode handling by further rewriting args and/or mutating\u001b[39;00m\n\u001b[0;32m   1491\u001b[0m \u001b[38;5;66;03m# df_output\u001b[39;00m\n\u001b[0;32m   1493\u001b[0m count_name \u001b[38;5;241m=\u001b[39m _escape_col_name(df_output, \u001b[38;5;124m\"\u001b[39m\u001b[38;5;124mcount\u001b[39m\u001b[38;5;124m\"\u001b[39m, [var_name, value_name])\n",
      "File \u001b[1;32m~\\AppData\\Local\\Packages\\PythonSoftwareFoundation.Python.3.10_qbz5n2kfra8p0\\LocalCache\\local-packages\\Python310\\site-packages\\plotly\\express\\_core.py:1210\u001b[0m, in \u001b[0;36mprocess_args_into_dataframe\u001b[1;34m(args, wide_mode, var_name, value_name)\u001b[0m\n\u001b[0;32m   1208\u001b[0m         \u001b[38;5;28;01mif\u001b[39;00m argument \u001b[38;5;241m==\u001b[39m \u001b[38;5;124m\"\u001b[39m\u001b[38;5;124mindex\u001b[39m\u001b[38;5;124m\"\u001b[39m:\n\u001b[0;32m   1209\u001b[0m             err_msg \u001b[38;5;241m+\u001b[39m\u001b[38;5;241m=\u001b[39m \u001b[38;5;124m\"\u001b[39m\u001b[38;5;130;01m\\n\u001b[39;00m\u001b[38;5;124m To use the index, pass it in directly as `df.index`.\u001b[39m\u001b[38;5;124m\"\u001b[39m\n\u001b[1;32m-> 1210\u001b[0m         \u001b[38;5;28;01mraise\u001b[39;00m \u001b[38;5;167;01mValueError\u001b[39;00m(err_msg)\n\u001b[0;32m   1211\u001b[0m \u001b[38;5;28;01melif\u001b[39;00m length \u001b[38;5;129;01mand\u001b[39;00m \u001b[38;5;28mlen\u001b[39m(df_input[argument]) \u001b[38;5;241m!=\u001b[39m length:\n\u001b[0;32m   1212\u001b[0m     \u001b[38;5;28;01mraise\u001b[39;00m \u001b[38;5;167;01mValueError\u001b[39;00m(\n\u001b[0;32m   1213\u001b[0m         \u001b[38;5;124m\"\u001b[39m\u001b[38;5;124mAll arguments should have the same length. \u001b[39m\u001b[38;5;124m\"\u001b[39m\n\u001b[0;32m   1214\u001b[0m         \u001b[38;5;124m\"\u001b[39m\u001b[38;5;124mThe length of column argument `df[\u001b[39m\u001b[38;5;132;01m%s\u001b[39;00m\u001b[38;5;124m]` is \u001b[39m\u001b[38;5;132;01m%d\u001b[39;00m\u001b[38;5;124m, whereas the \u001b[39m\u001b[38;5;124m\"\u001b[39m\n\u001b[1;32m   (...)\u001b[0m\n\u001b[0;32m   1221\u001b[0m         )\n\u001b[0;32m   1222\u001b[0m     )\n",
      "\u001b[1;31mValueError\u001b[0m: Value of 'color' is not the name of a column in 'data_frame'. Expected one of ['Founded Year', 'Count'] but received: Category"
     ]
    }
   ],
   "source": [
    "import plotly.express as px\n",
    "import pandas as pd\n",
    "\n",
    "# Filter out rows with 'Not Provided' in the 'Founded Year' column\n",
    "filtered_startups = Startups[Startups['Founded Year'] != 'Not Provided']\n",
    "\n",
    "# Convert 'Founded Year' column to numeric (assuming it's a numerical column)\n",
    "filtered_startups['Founded Year'] = pd.to_numeric(filtered_startups['Founded Year'], errors='coerce')\n",
    "\n",
    "# Drop rows with NaN values in 'Founded Year' column\n",
    "filtered_startups = filtered_startups.dropna(subset=['Founded Year'])\n",
    "\n",
    "# Group startups by founded year and count the number of startups in each year\n",
    "startup_year_counts = filtered_startups['Founded Year'].value_counts().reset_index()\n",
    "startup_year_counts.columns = ['Founded Year', 'Count']\n",
    "\n",
    "# Sort startup_year_counts DataFrame by 'Founded Year' column in ascending order\n",
    "startup_year_counts = startup_year_counts.sort_values(by='Founded Year', ascending=True)\n",
    "\n",
    "# Create the Plotly bubble plot\n",
    "fig = px.scatter(startup_year_counts, x='Founded Year', y='Count', size='Count', \n",
    "                 title='Number of Startups by Founded Year', \n",
    "                 labels={'Count': 'Number of Startups', 'Founded Year': 'Founded Year'},\n",
    "                 color='Founded Year', color_continuous_scale=px.colors.sequential.Viridis)\n",
    "\n",
    "# Add a range slider for selecting the range of years\n",
    "fig.update_layout(\n",
    "    xaxis=dict(\n",
    "        rangeslider=dict(\n",
    "            visible=True\n",
    "        ),\n",
    "        type='linear'  # Set the type of x-axis to linear\n",
    "    )\n",
    ")\n",
    "\n",
    "# Show the bubble plot\n",
    "fig.show()\n"
   ]
  },
  {
   "cell_type": "code",
   "execution_count": null,
   "metadata": {},
   "outputs": [],
   "source": []
  }
 ],
 "metadata": {
  "kernelspec": {
   "display_name": "Python 3",
   "language": "python",
   "name": "python3"
  },
  "language_info": {
   "codemirror_mode": {
    "name": "ipython",
    "version": 3
   },
   "file_extension": ".py",
   "mimetype": "text/x-python",
   "name": "python",
   "nbconvert_exporter": "python",
   "pygments_lexer": "ipython3",
   "version": "3.10.11"
  }
 },
 "nbformat": 4,
 "nbformat_minor": 2
}
